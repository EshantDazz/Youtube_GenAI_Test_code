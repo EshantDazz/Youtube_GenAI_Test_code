{
 "cells": [
  {
   "cell_type": "code",
   "execution_count": 1,
   "metadata": {},
   "outputs": [
    {
     "data": {
      "text/plain": [
       "True"
      ]
     },
     "execution_count": 1,
     "metadata": {},
     "output_type": "execute_result"
    }
   ],
   "source": [
    "from dotenv import load_dotenv\n",
    "load_dotenv('/Users/eshantdas/Desktop/YOutube_scripts/myenv/.env')"
   ]
  },
  {
   "cell_type": "code",
   "execution_count": 33,
   "metadata": {},
   "outputs": [],
   "source": [
    "\n",
    "from langchain_groq import ChatGroq\n",
    "from langchain_core.output_parsers import StrOutputParser\n",
    "from langchain_core.prompts import PromptTemplate\n",
    "\n",
    "model=ChatGroq( model=\"llama-3.1-8b-instant\")"
   ]
  },
  {
   "cell_type": "code",
   "execution_count": 34,
   "metadata": {},
   "outputs": [
    {
     "name": "stdout",
     "output_type": "stream",
     "text": [
      "The country is India.\n"
     ]
    }
   ],
   "source": [
    "from operator import itemgetter\n",
    "\n",
    "from langchain_core.output_parsers import StrOutputParser\n",
    "from langchain_core.prompts import ChatPromptTemplate\n",
    "\n",
    "\n",
    "prompt1 = ChatPromptTemplate.from_template(\"what is the city {person} is from?\")\n",
    "prompt2 = ChatPromptTemplate.from_template(\n",
    "    \"what country is the city {city} in? respond in {language}\"\n",
    ")\n",
    "\n",
    "\n",
    "chain1 = prompt1 | model | StrOutputParser()\n",
    "\n",
    "chain2 = (\n",
    "    {\"city\": chain1, \"language\": itemgetter(\"language\")}\n",
    "    | prompt2\n",
    "    | model\n",
    "    | StrOutputParser()\n",
    ")\n",
    "\n",
    "a=chain2.invoke({\"person\": \"Rohit Sharma\", \"language\": \"English\"})\n",
    "print(a)"
   ]
  },
  {
   "cell_type": "code",
   "execution_count": null,
   "metadata": {},
   "outputs": [],
   "source": []
  },
  {
   "cell_type": "code",
   "execution_count": 35,
   "metadata": {},
   "outputs": [],
   "source": [
    "from langchain_core.runnables import RunnablePassthrough"
   ]
  },
  {
   "cell_type": "code",
   "execution_count": 36,
   "metadata": {},
   "outputs": [],
   "source": [
    "planner = (\n",
    "    ChatPromptTemplate.from_template(\"Generate an argument about: {input}\")\n",
    "    | model\n",
    "    | StrOutputParser()\n",
    "    | {\"base_response\": RunnablePassthrough()}\n",
    ")"
   ]
  },
  {
   "cell_type": "code",
   "execution_count": 37,
   "metadata": {},
   "outputs": [
    {
     "data": {
      "text/plain": [
       "{'base_response': 'Here\\'s a potential argument about cricket:\\n\\n**Argument:** \"Cricket is a more complex and nuanced sport than baseball, and its unique rules and strategies make it a more engaging and challenging game to play and watch.\"\\n\\n**Counterargument:** \"Baseball is a more straightforward and accessible sport, with a simpler set of rules and a more intuitive gameplay experience. Its slower pace and emphasis on individual skill make it a more enjoyable and relatable game for fans.\"\\n\\n**Argument in favor of cricket:**\\n\\nCricket is a game of strategy and skill, requiring a deep understanding of the game\\'s intricacies and nuances. The rules of cricket are complex and multifaceted, with a wide range of possibilities and outcomes that can arise from a single play. The game requires a high level of physical fitness, hand-eye coordination, and mental toughness, making it a true test of athleticism and character.\\n\\nIn contrast, baseball is a more straightforward game with a simpler set of rules. While it does require a high level of skill and physical fitness, the gameplay experience is more predictable and less nuanced. The emphasis on individual skill in baseball can make the game feel more like a series of individual performances rather than a cohesive team effort.\\n\\n**Counterargument:**\\n\\nWhile it\\'s true that cricket has a more complex set of rules, this complexity can also be a barrier to entry for new fans. The game\\'s nuances and intricacies can be overwhelming for those who are not familiar with the sport, making it difficult for them to follow and appreciate the game. In contrast, baseball\\'s simpler rules and more intuitive gameplay experience make it easier for new fans to jump in and start enjoying the game.\\n\\nFurthermore, the slower pace of cricket can be a major turn-off for fans who prefer a more fast-paced and action-packed experience. While the game\\'s strategic elements can be engaging and challenging, they can also make the game feel slow and plodding at times. In contrast, baseball\\'s faster pace and emphasis on individual skill make it a more exciting and thrilling game to watch.\\n\\n**Rebuttal:**\\n\\nWhile it\\'s true that cricket\\'s complexity can be a barrier to entry for new fans, this is also a major part of the game\\'s appeal. Cricket\\'s nuances and intricacies are a key part of its charm, and fans who take the time to learn and appreciate the game\\'s complexities are rewarded with a deeper understanding and appreciation of the sport.\\n\\nFurthermore, the slower pace of cricket is not necessarily a drawback. In fact, it allows fans to appreciate the nuances of the game and the individual skills of the players. The game\\'s strategic elements are a major part of its appeal, and the slower pace allows fans to appreciate the thoughtful decision-making and clever tactics that are employed by coaches and players.\\n\\nIn contrast, baseball\\'s faster pace can make the game feel more like a series of individual highlights rather than a cohesive team effort. While the game\\'s individual skill elements are certainly exciting, they can also make the game feel less nuanced and less strategic than cricket.\\n\\n**Conclusion:**\\n\\nIn conclusion, cricket is a more complex and nuanced sport than baseball, with a unique set of rules and strategies that make it a more engaging and challenging game to play and watch. While baseball\\'s simplicity and individual skill elements are certainly appealing, they cannot match the depth and complexity of cricket. Cricket is a game that rewards fans who take the time to learn and appreciate its nuances, and its rich history, cultural significance, and global popularity make it a truly unique and beloved sport.'}"
      ]
     },
     "execution_count": 37,
     "metadata": {},
     "output_type": "execute_result"
    }
   ],
   "source": [
    "a=planner.invoke({\"input\":\"cricket\"})\n",
    "a"
   ]
  },
  {
   "cell_type": "code",
   "execution_count": 38,
   "metadata": {},
   "outputs": [],
   "source": [
    "from langchain_core.prompts import ChatPromptTemplate"
   ]
  },
  {
   "cell_type": "code",
   "execution_count": 39,
   "metadata": {},
   "outputs": [],
   "source": [
    "planner = (\n",
    "    ChatPromptTemplate.from_template(\"Generate an argument about: {input}\")\n",
    "    | model\n",
    "    | StrOutputParser()\n",
    "    | {\"base_response\": RunnablePassthrough()}\n",
    ")\n",
    "\n",
    "arguments_for = (\n",
    "    ChatPromptTemplate.from_template(\n",
    "        \"List the pros or positive aspects of {base_response}\"\n",
    "    )\n",
    "    | model\n",
    "    | StrOutputParser()\n",
    ")\n",
    "arguments_against = (\n",
    "    ChatPromptTemplate.from_template(\n",
    "        \"List the cons or negative aspects of {base_response}\"\n",
    "    )\n",
    "    | model\n",
    "    | StrOutputParser()\n",
    ")\n",
    "\n",
    "final_responder = (\n",
    "    ChatPromptTemplate.from_messages(\n",
    "        [\n",
    "            (\"ai\", \"{original_response}\"),\n",
    "            (\"human\", \"Pros:\\n{results_1}\\n\\nCons:\\n{results_2}\"),\n",
    "            (\"system\", \"Generate a final response given the critique\"),\n",
    "        ]\n",
    "    )\n",
    "    | model\n",
    "    | StrOutputParser()\n",
    ")\n",
    "\n",
    "\n",
    "chain = (\n",
    "    planner\n",
    "    | {\n",
    "        \"results_1\": arguments_for,\n",
    "        \"results_2\": arguments_against,\n",
    "        \"original_response\": itemgetter(\"base_response\"),\n",
    "    }\n",
    "    | final_responder\n",
    ")"
   ]
  },
  {
   "cell_type": "code",
   "execution_count": 41,
   "metadata": {},
   "outputs": [
    {
     "data": {
      "text/plain": [
       "\"Based on the pros and cons you've listed, here's a potential final response:\\n\\n**In conclusion:**\\n\\nWhile the traditional format of Test cricket has a rich history and tradition, it is clear that the game needs to evolve to remain relevant in modern sports culture. The pros of changing the traditional format, such as reducing player burnout and injuries, increasing competitive balance, and improving skill and strategy, far outweigh the cons. The condensed format would also increase attendance and viewership, provide more opportunities for innovation, and better align the game with modern sports culture.\\n\\n**Addressing the counterarguments:**\\n\\nSome may argue that the traditional format is a part of the game's identity and culture, but this is precisely why the game needs to adapt to changing times. Cricket has always been a game that adapts to new circumstances, and the traditional format is no exception. The game's history and tradition can be preserved while still allowing for modernization and innovation.\\n\\n**Moving forward:**\\n\\nThe International Cricket Council (ICC) and the cricket boards should work together to develop a more modern, condensed format for Test cricket. This could involve experimenting with new rules, formats, and technologies to create a more exciting and competitive game. By doing so, cricket can remain a relevant and popular sport for generations to come.\\n\\n**Final thoughts:**\\n\\nThe traditional format of Test cricket is no longer sustainable in today's fast-paced sports world. The pros of changing the format far outweigh the cons, and it is time for the game to evolve. By doing so, cricket can remain a beloved and exciting sport for fans around the world.\""
      ]
     },
     "execution_count": 41,
     "metadata": {},
     "output_type": "execute_result"
    }
   ],
   "source": [
    "await chain.ainvoke({\"input\": \"cricket\"})"
   ]
  },
  {
   "cell_type": "code",
   "execution_count": null,
   "metadata": {},
   "outputs": [],
   "source": []
  }
 ],
 "metadata": {
  "kernelspec": {
   "display_name": "myenv",
   "language": "python",
   "name": "python3"
  },
  "language_info": {
   "codemirror_mode": {
    "name": "ipython",
    "version": 3
   },
   "file_extension": ".py",
   "mimetype": "text/x-python",
   "name": "python",
   "nbconvert_exporter": "python",
   "pygments_lexer": "ipython3",
   "version": "3.10.8"
  }
 },
 "nbformat": 4,
 "nbformat_minor": 2
}
