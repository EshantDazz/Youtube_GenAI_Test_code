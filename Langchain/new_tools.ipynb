{
 "cells": [
  {
   "cell_type": "code",
   "execution_count": 11,
   "metadata": {},
   "outputs": [],
   "source": [
    "from langchain_community.tools import DuckDuckGoSearchRun\n",
    "search = DuckDuckGoSearchRun()"
   ]
  },
  {
   "cell_type": "code",
   "execution_count": 12,
   "metadata": {},
   "outputs": [
    {
     "data": {
      "text/plain": [
       "DuckDuckGoSearchRun()"
      ]
     },
     "execution_count": 12,
     "metadata": {},
     "output_type": "execute_result"
    }
   ],
   "source": [
    "search"
   ]
  },
  {
   "cell_type": "code",
   "execution_count": 13,
   "metadata": {},
   "outputs": [],
   "source": [
    "\n",
    "from langchain.agents import load_tools, initialize_agent\n",
    "from langchain.agents import AgentType\n",
    "from operator import itemgetter\n",
    "from dotenv import load_dotenv\n",
    "load_dotenv('/Users/eshantdas/Desktop/YOutube_scripts/myenv/.env')\n",
    "from langchain_core.output_parsers import StrOutputParser\n",
    "from langchain_core.prompts import ChatPromptTemplate\n",
    "from langchain_groq import ChatGroq\n",
    "\n",
    "model = ChatGroq(\n",
    "    temperature=0,\n",
    "    model=\"llama3-70b-8192\",\n",
    ")"
   ]
  },
  {
   "cell_type": "code",
   "execution_count": 14,
   "metadata": {},
   "outputs": [],
   "source": [
    "from langchain_community.tools import YouTubeSearchTool\n",
    "youtube = YouTubeSearchTool()\n"
   ]
  },
  {
   "cell_type": "code",
   "execution_count": 15,
   "metadata": {},
   "outputs": [
    {
     "data": {
      "text/plain": [
       "YouTubeSearchTool()"
      ]
     },
     "execution_count": 15,
     "metadata": {},
     "output_type": "execute_result"
    }
   ],
   "source": [
    "youtube"
   ]
  },
  {
   "cell_type": "code",
   "execution_count": 16,
   "metadata": {},
   "outputs": [
    {
     "name": "stdout",
     "output_type": "stream",
     "text": [
      "================================\u001b[1m System Message \u001b[0m================================\n",
      "\n",
      "You are a helpful assistant\n",
      "\n",
      "=============================\u001b[1m Messages Placeholder \u001b[0m=============================\n",
      "\n",
      "\u001b[33;1m\u001b[1;3m{chat_history}\u001b[0m\n",
      "\n",
      "================================\u001b[1m Human Message \u001b[0m=================================\n",
      "\n",
      "\u001b[33;1m\u001b[1;3m{input}\u001b[0m\n",
      "\n",
      "=============================\u001b[1m Messages Placeholder \u001b[0m=============================\n",
      "\n",
      "\u001b[33;1m\u001b[1;3m{agent_scratchpad}\u001b[0m\n"
     ]
    }
   ],
   "source": [
    "from langchain import hub\n",
    "from langchain.agents import AgentExecutor, create_tool_calling_agent\n",
    "\n",
    "prompt = hub.pull(\"hwchase17/openai-tools-agent\")\n",
    "prompt.pretty_print()"
   ]
  },
  {
   "cell_type": "code",
   "execution_count": 17,
   "metadata": {},
   "outputs": [],
   "source": [
    "tools=[search,youtube]"
   ]
  },
  {
   "cell_type": "code",
   "execution_count": 21,
   "metadata": {},
   "outputs": [
    {
     "data": {
      "text/plain": [
       "\"Learn what data science is, how it is used in various industries, and what skills and credentials you need to work in this field. Explore data science applications, salary, certifications, and tools with Coursera. Data science is a multidisciplinary field of study that applies techniques and tools to draw meaningful information and actionable insights out of noisy data. Involving subjects like mathematics, statistics, computer science and artificial intelligence, data science is used across a variety of industries for smarter planning and decision making. Keep in mind that everyone's journey is different. The step-by-step below follows the career path of someone wanting to earn a degree, build a portfolio, apply for an entry-level role, and work up to the data scientist title. 1. Obtain the necessary education. Fifty-one percent of data scientists have a bachelor's degree, 34 percent have a ... This data science career roadmap provides a structured path to master the critical concepts and skills needed for success. Remember, data science is dynamic, so staying current with trends and technologies is key. Gaining real-world experience through projects and internships can boost your skills and credibility as a data scientist. Data scientists then communicate their insights to other teams and management. This often requires data visualization and presentation skills. When you become a data scientist, you will probably: Identify opportunities where data can be used to solve problems. Source data that can be valuable in solving the problem.\""
      ]
     },
     "execution_count": 21,
     "metadata": {},
     "output_type": "execute_result"
    }
   ],
   "source": [
    "search.run(\"Data Scoence\")"
   ]
  },
  {
   "cell_type": "code",
   "execution_count": 22,
   "metadata": {},
   "outputs": [
    {
     "data": {
      "text/plain": [
       "\"['https://www.youtube.com/watch?v=swCPic00c30&pp=ygUKS3Jpc2ggTmFpaw%3D%3D', 'https://www.youtube.com/watch?v=JxgmHe2NyeY&pp=ygUKS3Jpc2ggTmFpaw%3D%3D']\""
      ]
     },
     "execution_count": 22,
     "metadata": {},
     "output_type": "execute_result"
    }
   ],
   "source": [
    "youtube.run(\"Krish Naik\")"
   ]
  },
  {
   "cell_type": "code",
   "execution_count": 26,
   "metadata": {},
   "outputs": [],
   "source": [
    "from langchain_core.messages import HumanMessage"
   ]
  },
  {
   "cell_type": "code",
   "execution_count": 24,
   "metadata": {},
   "outputs": [],
   "source": [
    "## Testing phase\n",
    "\n",
    "model_with_tools = model.bind_tools(tools)"
   ]
  },
  {
   "cell_type": "code",
   "execution_count": 29,
   "metadata": {},
   "outputs": [],
   "source": [
    "from langgraph.prebuilt import create_react_agent\n",
    "\n",
    "agent_executor = create_react_agent(model, tools)"
   ]
  },
  {
   "cell_type": "code",
   "execution_count": 30,
   "metadata": {},
   "outputs": [
    {
     "data": {
      "text/plain": [
       "[HumanMessage(content='Krish Naik youtube Channel', id='9d0c5485-180b-44a5-a5e3-ded98c0ce80c'),\n",
       " AIMessage(content='', additional_kwargs={'tool_calls': [{'id': 'call_5wa7', 'function': {'arguments': '{\"query\":\"Krish Naik\"}', 'name': 'youtube_search'}, 'type': 'function'}]}, response_metadata={'token_usage': {'completion_tokens': 46, 'prompt_tokens': 1080, 'total_tokens': 1126, 'completion_time': 0.143388367, 'prompt_time': 0.188843725, 'queue_time': None, 'total_time': 0.332232092}, 'model_name': 'llama3-70b-8192', 'system_fingerprint': 'fp_87cbfbbc4d', 'finish_reason': 'tool_calls', 'logprobs': None}, id='run-8d73702d-01dc-40a5-b23c-cc53c62bb689-0', tool_calls=[{'name': 'youtube_search', 'args': {'query': 'Krish Naik'}, 'id': 'call_5wa7', 'type': 'tool_call'}], usage_metadata={'input_tokens': 1080, 'output_tokens': 46, 'total_tokens': 1126}),\n",
       " ToolMessage(content=\"['https://www.youtube.com/watch?v=swCPic00c30&pp=ygUKS3Jpc2ggTmFpaw%3D%3D', 'https://www.youtube.com/watch?v=JxgmHe2NyeY&pp=ygUKS3Jpc2ggTmFpaw%3D%3D']\", name='youtube_search', id='2dd08b81-a515-4998-a135-963e7687f7bd', tool_call_id='call_5wa7'),\n",
       " AIMessage(content=\"Here are the YouTube video links associated with Krish Naik's channel: https://www.youtube.com/watch?v=swCPic00c30&pp=ygUKS3Jpc2ggTmFpaw%3D%3D and https://www.youtube.com/watch?v=JxgmHe2NyeY&pp=ygUKS3Jpc2ggTmFpaw%3D%3D\", response_metadata={'token_usage': {'completion_tokens': 90, 'prompt_tokens': 1225, 'total_tokens': 1315, 'completion_time': 0.285399097, 'prompt_time': 0.149165265, 'queue_time': None, 'total_time': 0.434564362}, 'model_name': 'llama3-70b-8192', 'system_fingerprint': 'fp_87cbfbbc4d', 'finish_reason': 'stop', 'logprobs': None}, id='run-1f774b04-e658-4a37-bf40-bb787986509c-0', usage_metadata={'input_tokens': 1225, 'output_tokens': 90, 'total_tokens': 1315})]"
      ]
     },
     "execution_count": 30,
     "metadata": {},
     "output_type": "execute_result"
    }
   ],
   "source": [
    "response = agent_executor.invoke({\"messages\": [HumanMessage(content=\"Krish Naik youtube Channel\")]})\n",
    "\n",
    "response[\"messages\"]"
   ]
  },
  {
   "cell_type": "code",
   "execution_count": 33,
   "metadata": {},
   "outputs": [],
   "source": [
    "response = agent_executor.invoke({\"messages\": [HumanMessage(content=\"Tell me about Rohit Sharma\")]})\n",
    "\n",
    "answer=response[\"messages\"]"
   ]
  },
  {
   "cell_type": "code",
   "execution_count": 35,
   "metadata": {},
   "outputs": [
    {
     "data": {
      "text/plain": [
       "[HumanMessage(content='Tell me about Rohit Sharma', id='b6ee074f-8158-422a-b06f-c3cb901cca05'),\n",
       " AIMessage(content='', additional_kwargs={'tool_calls': [{'id': 'call_s0qh', 'function': {'arguments': '{\"query\":\"Rohit Sharma\"}', 'name': 'duckduckgo_search'}, 'type': 'function'}]}, response_metadata={'token_usage': {'completion_tokens': 48, 'prompt_tokens': 1080, 'total_tokens': 1128, 'completion_time': 0.15171703, 'prompt_time': 0.113380142, 'queue_time': None, 'total_time': 0.265097172}, 'model_name': 'llama3-70b-8192', 'system_fingerprint': 'fp_c1a4bcec29', 'finish_reason': 'tool_calls', 'logprobs': None}, id='run-2f673709-c242-4d30-b44a-6e1a61cb2fd2-0', tool_calls=[{'name': 'duckduckgo_search', 'args': {'query': 'Rohit Sharma'}, 'id': 'call_s0qh', 'type': 'tool_call'}], usage_metadata={'input_tokens': 1080, 'output_tokens': 48, 'total_tokens': 1128}),\n",
       " ToolMessage(content='Rohit Sharma\\'s stint as India\\'s T20I skipper was a memorable one. He overtook Dhoni as the most successful T20I captain with 49 wins in 62 matches. Dhoni had 41 victories from 72 games. Shastri places the two on equal footing, calling Rohit \\'one of the best captains ever alongside Dhoni\\' with both showing great tactical acumen in white ... India captain Rohit Sharma made a remarkable return to ODI cricket after eight months as he scored a brilliant half century during the second ODI against Sri Lanka on Friday, August 2. The opening batter got his innings off to remarkable start as he smashed a massive six on just the second ball he faced against Asitha Fernando. Rohit Gurunath Sharma is an Indian international cricketer and the current captain of the Indian cricket team in the Test and One-Day International (ODI) formats. He was the captain of India\\'s Twenty20 International team until he announced his retirement on June 29, 2024, after leading the Indian side to its T20I World Cup victory. Sharma also captained the Mumbai Indians, a franchise team ... India captain Rohit Sharma believes that the 231-run target set by Sri Lanka in the first ODI at the R Premadasa Stadium was \"gettable\". After restricting Sri Lanka on 230/8, it turned out to be a ... Rohit Sharma made history by scoring his fifth T20I hundred and leading India to a Super Over win over Afghanistan. He also hit sixes in both the Super Overs and became the first batter to score five T20I hundreds.', name='duckduckgo_search', id='298a1f2c-3ee3-41f9-a120-23a73b6db20a', tool_call_id='call_s0qh'),\n",
       " AIMessage(content=\"Rohit Sharma is an Indian international cricketer and the current captain of the Indian cricket team in the Test and One-Day International (ODI) formats. He has had a successful stint as India's T20I skipper, becoming the most successful T20I captain with 49 wins in 62 matches. He is known for his tactical acumen and has led India to several victories, including a T20I World Cup victory. Rohit Sharma is also a skilled batsman, having scored five T20I hundreds and making history by hitting sixes in both the Super Overs in a match against Afghanistan.\", response_metadata={'token_usage': {'completion_tokens': 126, 'prompt_tokens': 1482, 'total_tokens': 1608, 'completion_time': 0.386818439, 'prompt_time': 0.109520626, 'queue_time': None, 'total_time': 0.496339065}, 'model_name': 'llama3-70b-8192', 'system_fingerprint': 'fp_2f30b0b571', 'finish_reason': 'stop', 'logprobs': None}, id='run-e9ecd2ef-e8cd-4db7-949e-dd36b694b527-0', usage_metadata={'input_tokens': 1482, 'output_tokens': 126, 'total_tokens': 1608})]"
      ]
     },
     "execution_count": 35,
     "metadata": {},
     "output_type": "execute_result"
    }
   ],
   "source": [
    "answer"
   ]
  },
  {
   "cell_type": "code",
   "execution_count": 37,
   "metadata": {},
   "outputs": [
    {
     "data": {
      "text/plain": [
       "\"Rohit Sharma is an Indian international cricketer and the current captain of the Indian cricket team in the Test and One-Day International (ODI) formats. He has had a successful stint as India's T20I skipper, becoming the most successful T20I captain with 49 wins in 62 matches. He is known for his tactical acumen and has led India to several victories, including a T20I World Cup victory. Rohit Sharma is also a skilled batsman, having scored five T20I hundreds and making history by hitting sixes in both the Super Overs in a match against Afghanistan.\""
      ]
     },
     "execution_count": 37,
     "metadata": {},
     "output_type": "execute_result"
    }
   ],
   "source": [
    "answer[3].content"
   ]
  },
  {
   "cell_type": "code",
   "execution_count": 18,
   "metadata": {},
   "outputs": [],
   "source": [
    "# Construct the tool calling agent\n",
    "agent = create_tool_calling_agent(model, tools, prompt)\n",
    "# Create an agent executor by passing in the agent and tools\n",
    "agent_executor = AgentExecutor(agent=agent, tools=tools, verbose=True,return_intermediate_steps=True,handle_parsing_errors=True)\n"
   ]
  },
  {
   "cell_type": "code",
   "execution_count": 23,
   "metadata": {},
   "outputs": [
    {
     "name": "stdout",
     "output_type": "stream",
     "text": [
      "\n",
      "\n",
      "\u001b[1m> Entering new AgentExecutor chain...\u001b[0m\n",
      "\u001b[32;1m\u001b[1;3m\n",
      "Invoking: `duckduckgo_search` with `{'query': 'Krish naik'}`\n",
      "\n",
      "\n",
      "\u001b[0m\u001b[36;1m\u001b[1;3mGenerative AI Roadmap : https://github.com/krishnaik06/Roadmap-To-Learn-Generative-AI-In-2024/tree/main-----... Complete Python Guide: https://github.com/krishnaik06/The-Grand-Complete-Data-Science-Materials/tree/main-----... Share your videos with friends, family, and the world Krish naik teaches surface level stuff. I didn't know him. He is a copy paste person, doesn't know the tech behind , only trying to make videos. I've been watching his videos for a while now and being a beginner, I assumed he was pretty good. However, I've seen a few people criticise him for…. Krish Naik's Post Krish Naik Youtuber (960K+ Subscribers) 12h Edited Report this post Yesterday 7th June 2024 was my last working day in iNeuron.ai.Spent around 4 years in the company and built ...\u001b[0m\u001b[32;1m\u001b[1;3m\n",
      "Invoking: `youtube_search` with `{'query': 'Krish Naik'}`\n",
      "\n",
      "\n",
      "\u001b[0m\u001b[33;1m\u001b[1;3m['https://www.youtube.com/watch?v=swCPic00c30&pp=ygUKS3Jpc2ggTmFpaw%3D%3D', 'https://www.youtube.com/watch?v=JxgmHe2NyeY&pp=ygUKS3Jpc2ggTmFpaw%3D%3D']\u001b[0m"
     ]
    },
    {
     "ename": "TypeError",
     "evalue": "Object of type CallbackManagerForToolRun is not JSON serializable",
     "output_type": "error",
     "traceback": [
      "\u001b[0;31m---------------------------------------------------------------------------\u001b[0m",
      "\u001b[0;31mTypeError\u001b[0m                                 Traceback (most recent call last)",
      "Cell \u001b[0;32mIn[23], line 1\u001b[0m\n\u001b[0;32m----> 1\u001b[0m a\u001b[38;5;241m=\u001b[39m\u001b[43magent_executor\u001b[49m\u001b[38;5;241;43m.\u001b[39;49m\u001b[43minvoke\u001b[49m\u001b[43m(\u001b[49m\n\u001b[1;32m      2\u001b[0m \u001b[43m    \u001b[49m\u001b[43m{\u001b[49m\n\u001b[1;32m      3\u001b[0m \u001b[43m        \u001b[49m\u001b[38;5;124;43m\"\u001b[39;49m\u001b[38;5;124;43minput\u001b[39;49m\u001b[38;5;124;43m\"\u001b[39;49m\u001b[43m:\u001b[49m\u001b[43m \u001b[49m\u001b[38;5;124;43m\"\u001b[39;49m\u001b[38;5;124;43mKrish naik\u001b[39;49m\u001b[38;5;124;43m\"\u001b[39;49m\n\u001b[1;32m      4\u001b[0m \u001b[43m    \u001b[49m\u001b[43m}\u001b[49m\n\u001b[1;32m      5\u001b[0m \u001b[43m)\u001b[49m\n",
      "File \u001b[0;32m~/Desktop/YOutube_scripts/myenv/lib/python3.10/site-packages/langchain/chains/base.py:166\u001b[0m, in \u001b[0;36mChain.invoke\u001b[0;34m(self, input, config, **kwargs)\u001b[0m\n\u001b[1;32m    164\u001b[0m \u001b[38;5;28;01mexcept\u001b[39;00m \u001b[38;5;167;01mBaseException\u001b[39;00m \u001b[38;5;28;01mas\u001b[39;00m e:\n\u001b[1;32m    165\u001b[0m     run_manager\u001b[38;5;241m.\u001b[39mon_chain_error(e)\n\u001b[0;32m--> 166\u001b[0m     \u001b[38;5;28;01mraise\u001b[39;00m e\n\u001b[1;32m    167\u001b[0m run_manager\u001b[38;5;241m.\u001b[39mon_chain_end(outputs)\n\u001b[1;32m    169\u001b[0m \u001b[38;5;28;01mif\u001b[39;00m include_run_info:\n",
      "File \u001b[0;32m~/Desktop/YOutube_scripts/myenv/lib/python3.10/site-packages/langchain/chains/base.py:156\u001b[0m, in \u001b[0;36mChain.invoke\u001b[0;34m(self, input, config, **kwargs)\u001b[0m\n\u001b[1;32m    153\u001b[0m \u001b[38;5;28;01mtry\u001b[39;00m:\n\u001b[1;32m    154\u001b[0m     \u001b[38;5;28mself\u001b[39m\u001b[38;5;241m.\u001b[39m_validate_inputs(inputs)\n\u001b[1;32m    155\u001b[0m     outputs \u001b[38;5;241m=\u001b[39m (\n\u001b[0;32m--> 156\u001b[0m         \u001b[38;5;28;43mself\u001b[39;49m\u001b[38;5;241;43m.\u001b[39;49m\u001b[43m_call\u001b[49m\u001b[43m(\u001b[49m\u001b[43minputs\u001b[49m\u001b[43m,\u001b[49m\u001b[43m \u001b[49m\u001b[43mrun_manager\u001b[49m\u001b[38;5;241;43m=\u001b[39;49m\u001b[43mrun_manager\u001b[49m\u001b[43m)\u001b[49m\n\u001b[1;32m    157\u001b[0m         \u001b[38;5;28;01mif\u001b[39;00m new_arg_supported\n\u001b[1;32m    158\u001b[0m         \u001b[38;5;28;01melse\u001b[39;00m \u001b[38;5;28mself\u001b[39m\u001b[38;5;241m.\u001b[39m_call(inputs)\n\u001b[1;32m    159\u001b[0m     )\n\u001b[1;32m    161\u001b[0m     final_outputs: Dict[\u001b[38;5;28mstr\u001b[39m, Any] \u001b[38;5;241m=\u001b[39m \u001b[38;5;28mself\u001b[39m\u001b[38;5;241m.\u001b[39mprep_outputs(\n\u001b[1;32m    162\u001b[0m         inputs, outputs, return_only_outputs\n\u001b[1;32m    163\u001b[0m     )\n\u001b[1;32m    164\u001b[0m \u001b[38;5;28;01mexcept\u001b[39;00m \u001b[38;5;167;01mBaseException\u001b[39;00m \u001b[38;5;28;01mas\u001b[39;00m e:\n",
      "File \u001b[0;32m~/Desktop/YOutube_scripts/myenv/lib/python3.10/site-packages/langchain/agents/agent.py:1612\u001b[0m, in \u001b[0;36mAgentExecutor._call\u001b[0;34m(self, inputs, run_manager)\u001b[0m\n\u001b[1;32m   1610\u001b[0m \u001b[38;5;66;03m# We now enter the agent loop (until it returns something).\u001b[39;00m\n\u001b[1;32m   1611\u001b[0m \u001b[38;5;28;01mwhile\u001b[39;00m \u001b[38;5;28mself\u001b[39m\u001b[38;5;241m.\u001b[39m_should_continue(iterations, time_elapsed):\n\u001b[0;32m-> 1612\u001b[0m     next_step_output \u001b[38;5;241m=\u001b[39m \u001b[38;5;28;43mself\u001b[39;49m\u001b[38;5;241;43m.\u001b[39;49m\u001b[43m_take_next_step\u001b[49m\u001b[43m(\u001b[49m\n\u001b[1;32m   1613\u001b[0m \u001b[43m        \u001b[49m\u001b[43mname_to_tool_map\u001b[49m\u001b[43m,\u001b[49m\n\u001b[1;32m   1614\u001b[0m \u001b[43m        \u001b[49m\u001b[43mcolor_mapping\u001b[49m\u001b[43m,\u001b[49m\n\u001b[1;32m   1615\u001b[0m \u001b[43m        \u001b[49m\u001b[43minputs\u001b[49m\u001b[43m,\u001b[49m\n\u001b[1;32m   1616\u001b[0m \u001b[43m        \u001b[49m\u001b[43mintermediate_steps\u001b[49m\u001b[43m,\u001b[49m\n\u001b[1;32m   1617\u001b[0m \u001b[43m        \u001b[49m\u001b[43mrun_manager\u001b[49m\u001b[38;5;241;43m=\u001b[39;49m\u001b[43mrun_manager\u001b[49m\u001b[43m,\u001b[49m\n\u001b[1;32m   1618\u001b[0m \u001b[43m    \u001b[49m\u001b[43m)\u001b[49m\n\u001b[1;32m   1619\u001b[0m     \u001b[38;5;28;01mif\u001b[39;00m \u001b[38;5;28misinstance\u001b[39m(next_step_output, AgentFinish):\n\u001b[1;32m   1620\u001b[0m         \u001b[38;5;28;01mreturn\u001b[39;00m \u001b[38;5;28mself\u001b[39m\u001b[38;5;241m.\u001b[39m_return(\n\u001b[1;32m   1621\u001b[0m             next_step_output, intermediate_steps, run_manager\u001b[38;5;241m=\u001b[39mrun_manager\n\u001b[1;32m   1622\u001b[0m         )\n",
      "File \u001b[0;32m~/Desktop/YOutube_scripts/myenv/lib/python3.10/site-packages/langchain/agents/agent.py:1318\u001b[0m, in \u001b[0;36mAgentExecutor._take_next_step\u001b[0;34m(self, name_to_tool_map, color_mapping, inputs, intermediate_steps, run_manager)\u001b[0m\n\u001b[1;32m   1309\u001b[0m \u001b[38;5;28;01mdef\u001b[39;00m \u001b[38;5;21m_take_next_step\u001b[39m(\n\u001b[1;32m   1310\u001b[0m     \u001b[38;5;28mself\u001b[39m,\n\u001b[1;32m   1311\u001b[0m     name_to_tool_map: Dict[\u001b[38;5;28mstr\u001b[39m, BaseTool],\n\u001b[0;32m   (...)\u001b[0m\n\u001b[1;32m   1315\u001b[0m     run_manager: Optional[CallbackManagerForChainRun] \u001b[38;5;241m=\u001b[39m \u001b[38;5;28;01mNone\u001b[39;00m,\n\u001b[1;32m   1316\u001b[0m ) \u001b[38;5;241m-\u001b[39m\u001b[38;5;241m>\u001b[39m Union[AgentFinish, List[Tuple[AgentAction, \u001b[38;5;28mstr\u001b[39m]]]:\n\u001b[1;32m   1317\u001b[0m     \u001b[38;5;28;01mreturn\u001b[39;00m \u001b[38;5;28mself\u001b[39m\u001b[38;5;241m.\u001b[39m_consume_next_step(\n\u001b[0;32m-> 1318\u001b[0m         [\n\u001b[1;32m   1319\u001b[0m             a\n\u001b[1;32m   1320\u001b[0m             \u001b[38;5;28;01mfor\u001b[39;00m a \u001b[38;5;129;01min\u001b[39;00m \u001b[38;5;28mself\u001b[39m\u001b[38;5;241m.\u001b[39m_iter_next_step(\n\u001b[1;32m   1321\u001b[0m                 name_to_tool_map,\n\u001b[1;32m   1322\u001b[0m                 color_mapping,\n\u001b[1;32m   1323\u001b[0m                 inputs,\n\u001b[1;32m   1324\u001b[0m                 intermediate_steps,\n\u001b[1;32m   1325\u001b[0m                 run_manager,\n\u001b[1;32m   1326\u001b[0m             )\n\u001b[1;32m   1327\u001b[0m         ]\n\u001b[1;32m   1328\u001b[0m     )\n",
      "File \u001b[0;32m~/Desktop/YOutube_scripts/myenv/lib/python3.10/site-packages/langchain/agents/agent.py:1318\u001b[0m, in \u001b[0;36m<listcomp>\u001b[0;34m(.0)\u001b[0m\n\u001b[1;32m   1309\u001b[0m \u001b[38;5;28;01mdef\u001b[39;00m \u001b[38;5;21m_take_next_step\u001b[39m(\n\u001b[1;32m   1310\u001b[0m     \u001b[38;5;28mself\u001b[39m,\n\u001b[1;32m   1311\u001b[0m     name_to_tool_map: Dict[\u001b[38;5;28mstr\u001b[39m, BaseTool],\n\u001b[0;32m   (...)\u001b[0m\n\u001b[1;32m   1315\u001b[0m     run_manager: Optional[CallbackManagerForChainRun] \u001b[38;5;241m=\u001b[39m \u001b[38;5;28;01mNone\u001b[39;00m,\n\u001b[1;32m   1316\u001b[0m ) \u001b[38;5;241m-\u001b[39m\u001b[38;5;241m>\u001b[39m Union[AgentFinish, List[Tuple[AgentAction, \u001b[38;5;28mstr\u001b[39m]]]:\n\u001b[1;32m   1317\u001b[0m     \u001b[38;5;28;01mreturn\u001b[39;00m \u001b[38;5;28mself\u001b[39m\u001b[38;5;241m.\u001b[39m_consume_next_step(\n\u001b[0;32m-> 1318\u001b[0m         [\n\u001b[1;32m   1319\u001b[0m             a\n\u001b[1;32m   1320\u001b[0m             \u001b[38;5;28;01mfor\u001b[39;00m a \u001b[38;5;129;01min\u001b[39;00m \u001b[38;5;28mself\u001b[39m\u001b[38;5;241m.\u001b[39m_iter_next_step(\n\u001b[1;32m   1321\u001b[0m                 name_to_tool_map,\n\u001b[1;32m   1322\u001b[0m                 color_mapping,\n\u001b[1;32m   1323\u001b[0m                 inputs,\n\u001b[1;32m   1324\u001b[0m                 intermediate_steps,\n\u001b[1;32m   1325\u001b[0m                 run_manager,\n\u001b[1;32m   1326\u001b[0m             )\n\u001b[1;32m   1327\u001b[0m         ]\n\u001b[1;32m   1328\u001b[0m     )\n",
      "File \u001b[0;32m~/Desktop/YOutube_scripts/myenv/lib/python3.10/site-packages/langchain/agents/agent.py:1346\u001b[0m, in \u001b[0;36mAgentExecutor._iter_next_step\u001b[0;34m(self, name_to_tool_map, color_mapping, inputs, intermediate_steps, run_manager)\u001b[0m\n\u001b[1;32m   1343\u001b[0m     intermediate_steps \u001b[38;5;241m=\u001b[39m \u001b[38;5;28mself\u001b[39m\u001b[38;5;241m.\u001b[39m_prepare_intermediate_steps(intermediate_steps)\n\u001b[1;32m   1345\u001b[0m     \u001b[38;5;66;03m# Call the LLM to see what to do.\u001b[39;00m\n\u001b[0;32m-> 1346\u001b[0m     output \u001b[38;5;241m=\u001b[39m \u001b[38;5;28;43mself\u001b[39;49m\u001b[38;5;241;43m.\u001b[39;49m\u001b[43magent\u001b[49m\u001b[38;5;241;43m.\u001b[39;49m\u001b[43mplan\u001b[49m\u001b[43m(\u001b[49m\n\u001b[1;32m   1347\u001b[0m \u001b[43m        \u001b[49m\u001b[43mintermediate_steps\u001b[49m\u001b[43m,\u001b[49m\n\u001b[1;32m   1348\u001b[0m \u001b[43m        \u001b[49m\u001b[43mcallbacks\u001b[49m\u001b[38;5;241;43m=\u001b[39;49m\u001b[43mrun_manager\u001b[49m\u001b[38;5;241;43m.\u001b[39;49m\u001b[43mget_child\u001b[49m\u001b[43m(\u001b[49m\u001b[43m)\u001b[49m\u001b[43m \u001b[49m\u001b[38;5;28;43;01mif\u001b[39;49;00m\u001b[43m \u001b[49m\u001b[43mrun_manager\u001b[49m\u001b[43m \u001b[49m\u001b[38;5;28;43;01melse\u001b[39;49;00m\u001b[43m \u001b[49m\u001b[38;5;28;43;01mNone\u001b[39;49;00m\u001b[43m,\u001b[49m\n\u001b[1;32m   1349\u001b[0m \u001b[43m        \u001b[49m\u001b[38;5;241;43m*\u001b[39;49m\u001b[38;5;241;43m*\u001b[39;49m\u001b[43minputs\u001b[49m\u001b[43m,\u001b[49m\n\u001b[1;32m   1350\u001b[0m \u001b[43m    \u001b[49m\u001b[43m)\u001b[49m\n\u001b[1;32m   1351\u001b[0m \u001b[38;5;28;01mexcept\u001b[39;00m OutputParserException \u001b[38;5;28;01mas\u001b[39;00m e:\n\u001b[1;32m   1352\u001b[0m     \u001b[38;5;28;01mif\u001b[39;00m \u001b[38;5;28misinstance\u001b[39m(\u001b[38;5;28mself\u001b[39m\u001b[38;5;241m.\u001b[39mhandle_parsing_errors, \u001b[38;5;28mbool\u001b[39m):\n",
      "File \u001b[0;32m~/Desktop/YOutube_scripts/myenv/lib/python3.10/site-packages/langchain/agents/agent.py:580\u001b[0m, in \u001b[0;36mRunnableMultiActionAgent.plan\u001b[0;34m(self, intermediate_steps, callbacks, **kwargs)\u001b[0m\n\u001b[1;32m    572\u001b[0m final_output: Any \u001b[38;5;241m=\u001b[39m \u001b[38;5;28;01mNone\u001b[39;00m\n\u001b[1;32m    573\u001b[0m \u001b[38;5;28;01mif\u001b[39;00m \u001b[38;5;28mself\u001b[39m\u001b[38;5;241m.\u001b[39mstream_runnable:\n\u001b[1;32m    574\u001b[0m     \u001b[38;5;66;03m# Use streaming to make sure that the underlying LLM is invoked in a\u001b[39;00m\n\u001b[1;32m    575\u001b[0m     \u001b[38;5;66;03m# streaming\u001b[39;00m\n\u001b[0;32m   (...)\u001b[0m\n\u001b[1;32m    578\u001b[0m     \u001b[38;5;66;03m# Because the response from the plan is not a generator, we need to\u001b[39;00m\n\u001b[1;32m    579\u001b[0m     \u001b[38;5;66;03m# accumulate the output into final output and return that.\u001b[39;00m\n\u001b[0;32m--> 580\u001b[0m     \u001b[38;5;28;01mfor\u001b[39;00m chunk \u001b[38;5;129;01min\u001b[39;00m \u001b[38;5;28mself\u001b[39m\u001b[38;5;241m.\u001b[39mrunnable\u001b[38;5;241m.\u001b[39mstream(inputs, config\u001b[38;5;241m=\u001b[39m{\u001b[38;5;124m\"\u001b[39m\u001b[38;5;124mcallbacks\u001b[39m\u001b[38;5;124m\"\u001b[39m: callbacks}):\n\u001b[1;32m    581\u001b[0m         \u001b[38;5;28;01mif\u001b[39;00m final_output \u001b[38;5;129;01mis\u001b[39;00m \u001b[38;5;28;01mNone\u001b[39;00m:\n\u001b[1;32m    582\u001b[0m             final_output \u001b[38;5;241m=\u001b[39m chunk\n",
      "File \u001b[0;32m~/Desktop/YOutube_scripts/myenv/lib/python3.10/site-packages/langchain_core/runnables/base.py:3253\u001b[0m, in \u001b[0;36mRunnableSequence.stream\u001b[0;34m(self, input, config, **kwargs)\u001b[0m\n\u001b[1;32m   3247\u001b[0m \u001b[38;5;28;01mdef\u001b[39;00m \u001b[38;5;21mstream\u001b[39m(\n\u001b[1;32m   3248\u001b[0m     \u001b[38;5;28mself\u001b[39m,\n\u001b[1;32m   3249\u001b[0m     \u001b[38;5;28minput\u001b[39m: Input,\n\u001b[1;32m   3250\u001b[0m     config: Optional[RunnableConfig] \u001b[38;5;241m=\u001b[39m \u001b[38;5;28;01mNone\u001b[39;00m,\n\u001b[1;32m   3251\u001b[0m     \u001b[38;5;241m*\u001b[39m\u001b[38;5;241m*\u001b[39mkwargs: Optional[Any],\n\u001b[1;32m   3252\u001b[0m ) \u001b[38;5;241m-\u001b[39m\u001b[38;5;241m>\u001b[39m Iterator[Output]:\n\u001b[0;32m-> 3253\u001b[0m     \u001b[38;5;28;01myield from\u001b[39;00m \u001b[38;5;28mself\u001b[39m\u001b[38;5;241m.\u001b[39mtransform(\u001b[38;5;28miter\u001b[39m([\u001b[38;5;28minput\u001b[39m]), config, \u001b[38;5;241m*\u001b[39m\u001b[38;5;241m*\u001b[39mkwargs)\n",
      "File \u001b[0;32m~/Desktop/YOutube_scripts/myenv/lib/python3.10/site-packages/langchain_core/runnables/base.py:3240\u001b[0m, in \u001b[0;36mRunnableSequence.transform\u001b[0;34m(self, input, config, **kwargs)\u001b[0m\n\u001b[1;32m   3234\u001b[0m \u001b[38;5;28;01mdef\u001b[39;00m \u001b[38;5;21mtransform\u001b[39m(\n\u001b[1;32m   3235\u001b[0m     \u001b[38;5;28mself\u001b[39m,\n\u001b[1;32m   3236\u001b[0m     \u001b[38;5;28minput\u001b[39m: Iterator[Input],\n\u001b[1;32m   3237\u001b[0m     config: Optional[RunnableConfig] \u001b[38;5;241m=\u001b[39m \u001b[38;5;28;01mNone\u001b[39;00m,\n\u001b[1;32m   3238\u001b[0m     \u001b[38;5;241m*\u001b[39m\u001b[38;5;241m*\u001b[39mkwargs: Optional[Any],\n\u001b[1;32m   3239\u001b[0m ) \u001b[38;5;241m-\u001b[39m\u001b[38;5;241m>\u001b[39m Iterator[Output]:\n\u001b[0;32m-> 3240\u001b[0m     \u001b[38;5;28;01myield from\u001b[39;00m \u001b[38;5;28mself\u001b[39m\u001b[38;5;241m.\u001b[39m_transform_stream_with_config(\n\u001b[1;32m   3241\u001b[0m         \u001b[38;5;28minput\u001b[39m,\n\u001b[1;32m   3242\u001b[0m         \u001b[38;5;28mself\u001b[39m\u001b[38;5;241m.\u001b[39m_transform,\n\u001b[1;32m   3243\u001b[0m         patch_config(config, run_name\u001b[38;5;241m=\u001b[39m(config \u001b[38;5;129;01mor\u001b[39;00m {})\u001b[38;5;241m.\u001b[39mget(\u001b[38;5;124m\"\u001b[39m\u001b[38;5;124mrun_name\u001b[39m\u001b[38;5;124m\"\u001b[39m) \u001b[38;5;129;01mor\u001b[39;00m \u001b[38;5;28mself\u001b[39m\u001b[38;5;241m.\u001b[39mname),\n\u001b[1;32m   3244\u001b[0m         \u001b[38;5;241m*\u001b[39m\u001b[38;5;241m*\u001b[39mkwargs,\n\u001b[1;32m   3245\u001b[0m     )\n",
      "File \u001b[0;32m~/Desktop/YOutube_scripts/myenv/lib/python3.10/site-packages/langchain_core/runnables/base.py:2053\u001b[0m, in \u001b[0;36mRunnable._transform_stream_with_config\u001b[0;34m(self, input, transformer, config, run_type, **kwargs)\u001b[0m\n\u001b[1;32m   2051\u001b[0m \u001b[38;5;28;01mtry\u001b[39;00m:\n\u001b[1;32m   2052\u001b[0m     \u001b[38;5;28;01mwhile\u001b[39;00m \u001b[38;5;28;01mTrue\u001b[39;00m:\n\u001b[0;32m-> 2053\u001b[0m         chunk: Output \u001b[38;5;241m=\u001b[39m \u001b[43mcontext\u001b[49m\u001b[38;5;241;43m.\u001b[39;49m\u001b[43mrun\u001b[49m\u001b[43m(\u001b[49m\u001b[38;5;28;43mnext\u001b[39;49m\u001b[43m,\u001b[49m\u001b[43m \u001b[49m\u001b[43miterator\u001b[49m\u001b[43m)\u001b[49m  \u001b[38;5;66;03m# type: ignore\u001b[39;00m\n\u001b[1;32m   2054\u001b[0m         \u001b[38;5;28;01myield\u001b[39;00m chunk\n\u001b[1;32m   2055\u001b[0m         \u001b[38;5;28;01mif\u001b[39;00m final_output_supported:\n",
      "File \u001b[0;32m~/Desktop/YOutube_scripts/myenv/lib/python3.10/site-packages/langchain_core/runnables/base.py:3202\u001b[0m, in \u001b[0;36mRunnableSequence._transform\u001b[0;34m(self, input, run_manager, config, **kwargs)\u001b[0m\n\u001b[1;32m   3199\u001b[0m     \u001b[38;5;28;01melse\u001b[39;00m:\n\u001b[1;32m   3200\u001b[0m         final_pipeline \u001b[38;5;241m=\u001b[39m step\u001b[38;5;241m.\u001b[39mtransform(final_pipeline, config)\n\u001b[0;32m-> 3202\u001b[0m \u001b[38;5;28;01mfor\u001b[39;00m output \u001b[38;5;129;01min\u001b[39;00m final_pipeline:\n\u001b[1;32m   3203\u001b[0m     \u001b[38;5;28;01myield\u001b[39;00m output\n",
      "File \u001b[0;32m~/Desktop/YOutube_scripts/myenv/lib/python3.10/site-packages/langchain_core/runnables/base.py:1271\u001b[0m, in \u001b[0;36mRunnable.transform\u001b[0;34m(self, input, config, **kwargs)\u001b[0m\n\u001b[1;32m   1268\u001b[0m final: Input\n\u001b[1;32m   1269\u001b[0m got_first_val \u001b[38;5;241m=\u001b[39m \u001b[38;5;28;01mFalse\u001b[39;00m\n\u001b[0;32m-> 1271\u001b[0m \u001b[38;5;28;01mfor\u001b[39;00m ichunk \u001b[38;5;129;01min\u001b[39;00m \u001b[38;5;28minput\u001b[39m:\n\u001b[1;32m   1272\u001b[0m     \u001b[38;5;66;03m# The default implementation of transform is to buffer input and\u001b[39;00m\n\u001b[1;32m   1273\u001b[0m     \u001b[38;5;66;03m# then call stream.\u001b[39;00m\n\u001b[1;32m   1274\u001b[0m     \u001b[38;5;66;03m# It'll attempt to gather all input into a single chunk using\u001b[39;00m\n\u001b[1;32m   1275\u001b[0m     \u001b[38;5;66;03m# the `+` operator.\u001b[39;00m\n\u001b[1;32m   1276\u001b[0m     \u001b[38;5;66;03m# If the input is not addable, then we'll assume that we can\u001b[39;00m\n\u001b[1;32m   1277\u001b[0m     \u001b[38;5;66;03m# only operate on the last chunk,\u001b[39;00m\n\u001b[1;32m   1278\u001b[0m     \u001b[38;5;66;03m# and we'll iterate until we get to the last chunk.\u001b[39;00m\n\u001b[1;32m   1279\u001b[0m     \u001b[38;5;28;01mif\u001b[39;00m \u001b[38;5;129;01mnot\u001b[39;00m got_first_val:\n\u001b[1;32m   1280\u001b[0m         final \u001b[38;5;241m=\u001b[39m ichunk\n",
      "File \u001b[0;32m~/Desktop/YOutube_scripts/myenv/lib/python3.10/site-packages/langchain_core/runnables/base.py:5267\u001b[0m, in \u001b[0;36mRunnableBindingBase.transform\u001b[0;34m(self, input, config, **kwargs)\u001b[0m\n\u001b[1;32m   5261\u001b[0m \u001b[38;5;28;01mdef\u001b[39;00m \u001b[38;5;21mtransform\u001b[39m(\n\u001b[1;32m   5262\u001b[0m     \u001b[38;5;28mself\u001b[39m,\n\u001b[1;32m   5263\u001b[0m     \u001b[38;5;28minput\u001b[39m: Iterator[Input],\n\u001b[1;32m   5264\u001b[0m     config: Optional[RunnableConfig] \u001b[38;5;241m=\u001b[39m \u001b[38;5;28;01mNone\u001b[39;00m,\n\u001b[1;32m   5265\u001b[0m     \u001b[38;5;241m*\u001b[39m\u001b[38;5;241m*\u001b[39mkwargs: Any,\n\u001b[1;32m   5266\u001b[0m ) \u001b[38;5;241m-\u001b[39m\u001b[38;5;241m>\u001b[39m Iterator[Output]:\n\u001b[0;32m-> 5267\u001b[0m     \u001b[38;5;28;01myield from\u001b[39;00m \u001b[38;5;28mself\u001b[39m\u001b[38;5;241m.\u001b[39mbound\u001b[38;5;241m.\u001b[39mtransform(\n\u001b[1;32m   5268\u001b[0m         \u001b[38;5;28minput\u001b[39m,\n\u001b[1;32m   5269\u001b[0m         \u001b[38;5;28mself\u001b[39m\u001b[38;5;241m.\u001b[39m_merge_configs(config),\n\u001b[1;32m   5270\u001b[0m         \u001b[38;5;241m*\u001b[39m\u001b[38;5;241m*\u001b[39m{\u001b[38;5;241m*\u001b[39m\u001b[38;5;241m*\u001b[39m\u001b[38;5;28mself\u001b[39m\u001b[38;5;241m.\u001b[39mkwargs, \u001b[38;5;241m*\u001b[39m\u001b[38;5;241m*\u001b[39mkwargs},\n\u001b[1;32m   5271\u001b[0m     )\n",
      "File \u001b[0;32m~/Desktop/YOutube_scripts/myenv/lib/python3.10/site-packages/langchain_core/runnables/base.py:1289\u001b[0m, in \u001b[0;36mRunnable.transform\u001b[0;34m(self, input, config, **kwargs)\u001b[0m\n\u001b[1;32m   1286\u001b[0m             final \u001b[38;5;241m=\u001b[39m ichunk\n\u001b[1;32m   1288\u001b[0m \u001b[38;5;28;01mif\u001b[39;00m got_first_val:\n\u001b[0;32m-> 1289\u001b[0m     \u001b[38;5;28;01myield from\u001b[39;00m \u001b[38;5;28mself\u001b[39m\u001b[38;5;241m.\u001b[39mstream(final, config, \u001b[38;5;241m*\u001b[39m\u001b[38;5;241m*\u001b[39mkwargs)\n",
      "File \u001b[0;32m~/Desktop/YOutube_scripts/myenv/lib/python3.10/site-packages/langchain_core/language_models/chat_models.py:373\u001b[0m, in \u001b[0;36mBaseChatModel.stream\u001b[0;34m(self, input, config, stop, **kwargs)\u001b[0m\n\u001b[1;32m    366\u001b[0m \u001b[38;5;28;01mexcept\u001b[39;00m \u001b[38;5;167;01mBaseException\u001b[39;00m \u001b[38;5;28;01mas\u001b[39;00m e:\n\u001b[1;32m    367\u001b[0m     run_manager\u001b[38;5;241m.\u001b[39mon_llm_error(\n\u001b[1;32m    368\u001b[0m         e,\n\u001b[1;32m    369\u001b[0m         response\u001b[38;5;241m=\u001b[39mLLMResult(\n\u001b[1;32m    370\u001b[0m             generations\u001b[38;5;241m=\u001b[39m[[generation]] \u001b[38;5;28;01mif\u001b[39;00m generation \u001b[38;5;28;01melse\u001b[39;00m []\n\u001b[1;32m    371\u001b[0m         ),\n\u001b[1;32m    372\u001b[0m     )\n\u001b[0;32m--> 373\u001b[0m     \u001b[38;5;28;01mraise\u001b[39;00m e\n\u001b[1;32m    374\u001b[0m \u001b[38;5;28;01melse\u001b[39;00m:\n\u001b[1;32m    375\u001b[0m     run_manager\u001b[38;5;241m.\u001b[39mon_llm_end(LLMResult(generations\u001b[38;5;241m=\u001b[39m[[generation]]))\n",
      "File \u001b[0;32m~/Desktop/YOutube_scripts/myenv/lib/python3.10/site-packages/langchain_core/language_models/chat_models.py:353\u001b[0m, in \u001b[0;36mBaseChatModel.stream\u001b[0;34m(self, input, config, stop, **kwargs)\u001b[0m\n\u001b[1;32m    350\u001b[0m     \u001b[38;5;28mself\u001b[39m\u001b[38;5;241m.\u001b[39mrate_limiter\u001b[38;5;241m.\u001b[39macquire(blocking\u001b[38;5;241m=\u001b[39m\u001b[38;5;28;01mTrue\u001b[39;00m)\n\u001b[1;32m    352\u001b[0m \u001b[38;5;28;01mtry\u001b[39;00m:\n\u001b[0;32m--> 353\u001b[0m     \u001b[38;5;28;01mfor\u001b[39;00m chunk \u001b[38;5;129;01min\u001b[39;00m \u001b[38;5;28mself\u001b[39m\u001b[38;5;241m.\u001b[39m_stream(messages, stop\u001b[38;5;241m=\u001b[39mstop, \u001b[38;5;241m*\u001b[39m\u001b[38;5;241m*\u001b[39mkwargs):\n\u001b[1;32m    354\u001b[0m         \u001b[38;5;28;01mif\u001b[39;00m chunk\u001b[38;5;241m.\u001b[39mmessage\u001b[38;5;241m.\u001b[39mid \u001b[38;5;129;01mis\u001b[39;00m \u001b[38;5;28;01mNone\u001b[39;00m:\n\u001b[1;32m    355\u001b[0m             chunk\u001b[38;5;241m.\u001b[39mmessage\u001b[38;5;241m.\u001b[39mid \u001b[38;5;241m=\u001b[39m \u001b[38;5;124mf\u001b[39m\u001b[38;5;124m\"\u001b[39m\u001b[38;5;124mrun-\u001b[39m\u001b[38;5;132;01m{\u001b[39;00mrun_manager\u001b[38;5;241m.\u001b[39mrun_id\u001b[38;5;132;01m}\u001b[39;00m\u001b[38;5;124m\"\u001b[39m\n",
      "File \u001b[0;32m~/Desktop/YOutube_scripts/myenv/lib/python3.10/site-packages/langchain_groq/chat_models.py:503\u001b[0m, in \u001b[0;36mChatGroq._stream\u001b[0;34m(self, messages, stop, run_manager, **kwargs)\u001b[0m\n\u001b[1;32m    496\u001b[0m \u001b[38;5;28;01mdef\u001b[39;00m \u001b[38;5;21m_stream\u001b[39m(\n\u001b[1;32m    497\u001b[0m     \u001b[38;5;28mself\u001b[39m,\n\u001b[1;32m    498\u001b[0m     messages: List[BaseMessage],\n\u001b[0;32m   (...)\u001b[0m\n\u001b[1;32m    501\u001b[0m     \u001b[38;5;241m*\u001b[39m\u001b[38;5;241m*\u001b[39mkwargs: Any,\n\u001b[1;32m    502\u001b[0m ) \u001b[38;5;241m-\u001b[39m\u001b[38;5;241m>\u001b[39m Iterator[ChatGenerationChunk]:\n\u001b[0;32m--> 503\u001b[0m     message_dicts, params \u001b[38;5;241m=\u001b[39m \u001b[38;5;28;43mself\u001b[39;49m\u001b[38;5;241;43m.\u001b[39;49m\u001b[43m_create_message_dicts\u001b[49m\u001b[43m(\u001b[49m\u001b[43mmessages\u001b[49m\u001b[43m,\u001b[49m\u001b[43m \u001b[49m\u001b[43mstop\u001b[49m\u001b[43m)\u001b[49m\n\u001b[1;32m    505\u001b[0m     \u001b[38;5;66;03m# groq api does not support streaming with tools yet\u001b[39;00m\n\u001b[1;32m    506\u001b[0m     \u001b[38;5;28;01mif\u001b[39;00m \u001b[38;5;124m\"\u001b[39m\u001b[38;5;124mtools\u001b[39m\u001b[38;5;124m\"\u001b[39m \u001b[38;5;129;01min\u001b[39;00m kwargs:\n",
      "File \u001b[0;32m~/Desktop/YOutube_scripts/myenv/lib/python3.10/site-packages/langchain_groq/chat_models.py:700\u001b[0m, in \u001b[0;36mChatGroq._create_message_dicts\u001b[0;34m(self, messages, stop)\u001b[0m\n\u001b[1;32m    698\u001b[0m \u001b[38;5;28;01mif\u001b[39;00m stop \u001b[38;5;129;01mis\u001b[39;00m \u001b[38;5;129;01mnot\u001b[39;00m \u001b[38;5;28;01mNone\u001b[39;00m:\n\u001b[1;32m    699\u001b[0m     params[\u001b[38;5;124m\"\u001b[39m\u001b[38;5;124mstop\u001b[39m\u001b[38;5;124m\"\u001b[39m] \u001b[38;5;241m=\u001b[39m stop\n\u001b[0;32m--> 700\u001b[0m message_dicts \u001b[38;5;241m=\u001b[39m [_convert_message_to_dict(m) \u001b[38;5;28;01mfor\u001b[39;00m m \u001b[38;5;129;01min\u001b[39;00m messages]\n\u001b[1;32m    701\u001b[0m \u001b[38;5;28;01mreturn\u001b[39;00m message_dicts, params\n",
      "File \u001b[0;32m~/Desktop/YOutube_scripts/myenv/lib/python3.10/site-packages/langchain_groq/chat_models.py:700\u001b[0m, in \u001b[0;36m<listcomp>\u001b[0;34m(.0)\u001b[0m\n\u001b[1;32m    698\u001b[0m \u001b[38;5;28;01mif\u001b[39;00m stop \u001b[38;5;129;01mis\u001b[39;00m \u001b[38;5;129;01mnot\u001b[39;00m \u001b[38;5;28;01mNone\u001b[39;00m:\n\u001b[1;32m    699\u001b[0m     params[\u001b[38;5;124m\"\u001b[39m\u001b[38;5;124mstop\u001b[39m\u001b[38;5;124m\"\u001b[39m] \u001b[38;5;241m=\u001b[39m stop\n\u001b[0;32m--> 700\u001b[0m message_dicts \u001b[38;5;241m=\u001b[39m [\u001b[43m_convert_message_to_dict\u001b[49m\u001b[43m(\u001b[49m\u001b[43mm\u001b[49m\u001b[43m)\u001b[49m \u001b[38;5;28;01mfor\u001b[39;00m m \u001b[38;5;129;01min\u001b[39;00m messages]\n\u001b[1;32m    701\u001b[0m \u001b[38;5;28;01mreturn\u001b[39;00m message_dicts, params\n",
      "File \u001b[0;32m~/Desktop/YOutube_scripts/myenv/lib/python3.10/site-packages/langchain_groq/chat_models.py:1086\u001b[0m, in \u001b[0;36m_convert_message_to_dict\u001b[0;34m(message)\u001b[0m\n\u001b[1;32m   1084\u001b[0m         message_dict[\u001b[38;5;124m\"\u001b[39m\u001b[38;5;124mcontent\u001b[39m\u001b[38;5;124m\"\u001b[39m] \u001b[38;5;241m=\u001b[39m \u001b[38;5;28;01mNone\u001b[39;00m\n\u001b[1;32m   1085\u001b[0m \u001b[38;5;28;01mif\u001b[39;00m message\u001b[38;5;241m.\u001b[39mtool_calls \u001b[38;5;129;01mor\u001b[39;00m message\u001b[38;5;241m.\u001b[39minvalid_tool_calls:\n\u001b[0;32m-> 1086\u001b[0m     message_dict[\u001b[38;5;124m\"\u001b[39m\u001b[38;5;124mtool_calls\u001b[39m\u001b[38;5;124m\"\u001b[39m] \u001b[38;5;241m=\u001b[39m [\n\u001b[1;32m   1087\u001b[0m         _lc_tool_call_to_groq_tool_call(tc) \u001b[38;5;28;01mfor\u001b[39;00m tc \u001b[38;5;129;01min\u001b[39;00m message\u001b[38;5;241m.\u001b[39mtool_calls\n\u001b[1;32m   1088\u001b[0m     ] \u001b[38;5;241m+\u001b[39m [\n\u001b[1;32m   1089\u001b[0m         _lc_invalid_tool_call_to_groq_tool_call(tc)\n\u001b[1;32m   1090\u001b[0m         \u001b[38;5;28;01mfor\u001b[39;00m tc \u001b[38;5;129;01min\u001b[39;00m message\u001b[38;5;241m.\u001b[39minvalid_tool_calls\n\u001b[1;32m   1091\u001b[0m     ]\n\u001b[1;32m   1092\u001b[0m \u001b[38;5;28;01melif\u001b[39;00m \u001b[38;5;124m\"\u001b[39m\u001b[38;5;124mtool_calls\u001b[39m\u001b[38;5;124m\"\u001b[39m \u001b[38;5;129;01min\u001b[39;00m message\u001b[38;5;241m.\u001b[39madditional_kwargs:\n\u001b[1;32m   1093\u001b[0m     message_dict[\u001b[38;5;124m\"\u001b[39m\u001b[38;5;124mtool_calls\u001b[39m\u001b[38;5;124m\"\u001b[39m] \u001b[38;5;241m=\u001b[39m message\u001b[38;5;241m.\u001b[39madditional_kwargs[\u001b[38;5;124m\"\u001b[39m\u001b[38;5;124mtool_calls\u001b[39m\u001b[38;5;124m\"\u001b[39m]\n",
      "File \u001b[0;32m~/Desktop/YOutube_scripts/myenv/lib/python3.10/site-packages/langchain_groq/chat_models.py:1087\u001b[0m, in \u001b[0;36m<listcomp>\u001b[0;34m(.0)\u001b[0m\n\u001b[1;32m   1084\u001b[0m         message_dict[\u001b[38;5;124m\"\u001b[39m\u001b[38;5;124mcontent\u001b[39m\u001b[38;5;124m\"\u001b[39m] \u001b[38;5;241m=\u001b[39m \u001b[38;5;28;01mNone\u001b[39;00m\n\u001b[1;32m   1085\u001b[0m \u001b[38;5;28;01mif\u001b[39;00m message\u001b[38;5;241m.\u001b[39mtool_calls \u001b[38;5;129;01mor\u001b[39;00m message\u001b[38;5;241m.\u001b[39minvalid_tool_calls:\n\u001b[1;32m   1086\u001b[0m     message_dict[\u001b[38;5;124m\"\u001b[39m\u001b[38;5;124mtool_calls\u001b[39m\u001b[38;5;124m\"\u001b[39m] \u001b[38;5;241m=\u001b[39m [\n\u001b[0;32m-> 1087\u001b[0m         \u001b[43m_lc_tool_call_to_groq_tool_call\u001b[49m\u001b[43m(\u001b[49m\u001b[43mtc\u001b[49m\u001b[43m)\u001b[49m \u001b[38;5;28;01mfor\u001b[39;00m tc \u001b[38;5;129;01min\u001b[39;00m message\u001b[38;5;241m.\u001b[39mtool_calls\n\u001b[1;32m   1088\u001b[0m     ] \u001b[38;5;241m+\u001b[39m [\n\u001b[1;32m   1089\u001b[0m         _lc_invalid_tool_call_to_groq_tool_call(tc)\n\u001b[1;32m   1090\u001b[0m         \u001b[38;5;28;01mfor\u001b[39;00m tc \u001b[38;5;129;01min\u001b[39;00m message\u001b[38;5;241m.\u001b[39minvalid_tool_calls\n\u001b[1;32m   1091\u001b[0m     ]\n\u001b[1;32m   1092\u001b[0m \u001b[38;5;28;01melif\u001b[39;00m \u001b[38;5;124m\"\u001b[39m\u001b[38;5;124mtool_calls\u001b[39m\u001b[38;5;124m\"\u001b[39m \u001b[38;5;129;01min\u001b[39;00m message\u001b[38;5;241m.\u001b[39madditional_kwargs:\n\u001b[1;32m   1093\u001b[0m     message_dict[\u001b[38;5;124m\"\u001b[39m\u001b[38;5;124mtool_calls\u001b[39m\u001b[38;5;124m\"\u001b[39m] \u001b[38;5;241m=\u001b[39m message\u001b[38;5;241m.\u001b[39madditional_kwargs[\u001b[38;5;124m\"\u001b[39m\u001b[38;5;124mtool_calls\u001b[39m\u001b[38;5;124m\"\u001b[39m]\n",
      "File \u001b[0;32m~/Desktop/YOutube_scripts/myenv/lib/python3.10/site-packages/langchain_groq/chat_models.py:1223\u001b[0m, in \u001b[0;36m_lc_tool_call_to_groq_tool_call\u001b[0;34m(tool_call)\u001b[0m\n\u001b[1;32m   1217\u001b[0m \u001b[38;5;28;01mdef\u001b[39;00m \u001b[38;5;21m_lc_tool_call_to_groq_tool_call\u001b[39m(tool_call: ToolCall) \u001b[38;5;241m-\u001b[39m\u001b[38;5;241m>\u001b[39m \u001b[38;5;28mdict\u001b[39m:\n\u001b[1;32m   1218\u001b[0m     \u001b[38;5;28;01mreturn\u001b[39;00m {\n\u001b[1;32m   1219\u001b[0m         \u001b[38;5;124m\"\u001b[39m\u001b[38;5;124mtype\u001b[39m\u001b[38;5;124m\"\u001b[39m: \u001b[38;5;124m\"\u001b[39m\u001b[38;5;124mfunction\u001b[39m\u001b[38;5;124m\"\u001b[39m,\n\u001b[1;32m   1220\u001b[0m         \u001b[38;5;124m\"\u001b[39m\u001b[38;5;124mid\u001b[39m\u001b[38;5;124m\"\u001b[39m: tool_call[\u001b[38;5;124m\"\u001b[39m\u001b[38;5;124mid\u001b[39m\u001b[38;5;124m\"\u001b[39m],\n\u001b[1;32m   1221\u001b[0m         \u001b[38;5;124m\"\u001b[39m\u001b[38;5;124mfunction\u001b[39m\u001b[38;5;124m\"\u001b[39m: {\n\u001b[1;32m   1222\u001b[0m             \u001b[38;5;124m\"\u001b[39m\u001b[38;5;124mname\u001b[39m\u001b[38;5;124m\"\u001b[39m: tool_call[\u001b[38;5;124m\"\u001b[39m\u001b[38;5;124mname\u001b[39m\u001b[38;5;124m\"\u001b[39m],\n\u001b[0;32m-> 1223\u001b[0m             \u001b[38;5;124m\"\u001b[39m\u001b[38;5;124marguments\u001b[39m\u001b[38;5;124m\"\u001b[39m: \u001b[43mjson\u001b[49m\u001b[38;5;241;43m.\u001b[39;49m\u001b[43mdumps\u001b[49m\u001b[43m(\u001b[49m\u001b[43mtool_call\u001b[49m\u001b[43m[\u001b[49m\u001b[38;5;124;43m\"\u001b[39;49m\u001b[38;5;124;43margs\u001b[39;49m\u001b[38;5;124;43m\"\u001b[39;49m\u001b[43m]\u001b[49m\u001b[43m)\u001b[49m,\n\u001b[1;32m   1224\u001b[0m         },\n\u001b[1;32m   1225\u001b[0m     }\n",
      "File \u001b[0;32m/Library/Frameworks/Python.framework/Versions/3.10/lib/python3.10/json/__init__.py:231\u001b[0m, in \u001b[0;36mdumps\u001b[0;34m(obj, skipkeys, ensure_ascii, check_circular, allow_nan, cls, indent, separators, default, sort_keys, **kw)\u001b[0m\n\u001b[1;32m    226\u001b[0m \u001b[38;5;66;03m# cached encoder\u001b[39;00m\n\u001b[1;32m    227\u001b[0m \u001b[38;5;28;01mif\u001b[39;00m (\u001b[38;5;129;01mnot\u001b[39;00m skipkeys \u001b[38;5;129;01mand\u001b[39;00m ensure_ascii \u001b[38;5;129;01mand\u001b[39;00m\n\u001b[1;32m    228\u001b[0m     check_circular \u001b[38;5;129;01mand\u001b[39;00m allow_nan \u001b[38;5;129;01mand\u001b[39;00m\n\u001b[1;32m    229\u001b[0m     \u001b[38;5;28mcls\u001b[39m \u001b[38;5;129;01mis\u001b[39;00m \u001b[38;5;28;01mNone\u001b[39;00m \u001b[38;5;129;01mand\u001b[39;00m indent \u001b[38;5;129;01mis\u001b[39;00m \u001b[38;5;28;01mNone\u001b[39;00m \u001b[38;5;129;01mand\u001b[39;00m separators \u001b[38;5;129;01mis\u001b[39;00m \u001b[38;5;28;01mNone\u001b[39;00m \u001b[38;5;129;01mand\u001b[39;00m\n\u001b[1;32m    230\u001b[0m     default \u001b[38;5;129;01mis\u001b[39;00m \u001b[38;5;28;01mNone\u001b[39;00m \u001b[38;5;129;01mand\u001b[39;00m \u001b[38;5;129;01mnot\u001b[39;00m sort_keys \u001b[38;5;129;01mand\u001b[39;00m \u001b[38;5;129;01mnot\u001b[39;00m kw):\n\u001b[0;32m--> 231\u001b[0m     \u001b[38;5;28;01mreturn\u001b[39;00m \u001b[43m_default_encoder\u001b[49m\u001b[38;5;241;43m.\u001b[39;49m\u001b[43mencode\u001b[49m\u001b[43m(\u001b[49m\u001b[43mobj\u001b[49m\u001b[43m)\u001b[49m\n\u001b[1;32m    232\u001b[0m \u001b[38;5;28;01mif\u001b[39;00m \u001b[38;5;28mcls\u001b[39m \u001b[38;5;129;01mis\u001b[39;00m \u001b[38;5;28;01mNone\u001b[39;00m:\n\u001b[1;32m    233\u001b[0m     \u001b[38;5;28mcls\u001b[39m \u001b[38;5;241m=\u001b[39m JSONEncoder\n",
      "File \u001b[0;32m/Library/Frameworks/Python.framework/Versions/3.10/lib/python3.10/json/encoder.py:199\u001b[0m, in \u001b[0;36mJSONEncoder.encode\u001b[0;34m(self, o)\u001b[0m\n\u001b[1;32m    195\u001b[0m         \u001b[38;5;28;01mreturn\u001b[39;00m encode_basestring(o)\n\u001b[1;32m    196\u001b[0m \u001b[38;5;66;03m# This doesn't pass the iterator directly to ''.join() because the\u001b[39;00m\n\u001b[1;32m    197\u001b[0m \u001b[38;5;66;03m# exceptions aren't as detailed.  The list call should be roughly\u001b[39;00m\n\u001b[1;32m    198\u001b[0m \u001b[38;5;66;03m# equivalent to the PySequence_Fast that ''.join() would do.\u001b[39;00m\n\u001b[0;32m--> 199\u001b[0m chunks \u001b[38;5;241m=\u001b[39m \u001b[38;5;28;43mself\u001b[39;49m\u001b[38;5;241;43m.\u001b[39;49m\u001b[43miterencode\u001b[49m\u001b[43m(\u001b[49m\u001b[43mo\u001b[49m\u001b[43m,\u001b[49m\u001b[43m \u001b[49m\u001b[43m_one_shot\u001b[49m\u001b[38;5;241;43m=\u001b[39;49m\u001b[38;5;28;43;01mTrue\u001b[39;49;00m\u001b[43m)\u001b[49m\n\u001b[1;32m    200\u001b[0m \u001b[38;5;28;01mif\u001b[39;00m \u001b[38;5;129;01mnot\u001b[39;00m \u001b[38;5;28misinstance\u001b[39m(chunks, (\u001b[38;5;28mlist\u001b[39m, \u001b[38;5;28mtuple\u001b[39m)):\n\u001b[1;32m    201\u001b[0m     chunks \u001b[38;5;241m=\u001b[39m \u001b[38;5;28mlist\u001b[39m(chunks)\n",
      "File \u001b[0;32m/Library/Frameworks/Python.framework/Versions/3.10/lib/python3.10/json/encoder.py:257\u001b[0m, in \u001b[0;36mJSONEncoder.iterencode\u001b[0;34m(self, o, _one_shot)\u001b[0m\n\u001b[1;32m    252\u001b[0m \u001b[38;5;28;01melse\u001b[39;00m:\n\u001b[1;32m    253\u001b[0m     _iterencode \u001b[38;5;241m=\u001b[39m _make_iterencode(\n\u001b[1;32m    254\u001b[0m         markers, \u001b[38;5;28mself\u001b[39m\u001b[38;5;241m.\u001b[39mdefault, _encoder, \u001b[38;5;28mself\u001b[39m\u001b[38;5;241m.\u001b[39mindent, floatstr,\n\u001b[1;32m    255\u001b[0m         \u001b[38;5;28mself\u001b[39m\u001b[38;5;241m.\u001b[39mkey_separator, \u001b[38;5;28mself\u001b[39m\u001b[38;5;241m.\u001b[39mitem_separator, \u001b[38;5;28mself\u001b[39m\u001b[38;5;241m.\u001b[39msort_keys,\n\u001b[1;32m    256\u001b[0m         \u001b[38;5;28mself\u001b[39m\u001b[38;5;241m.\u001b[39mskipkeys, _one_shot)\n\u001b[0;32m--> 257\u001b[0m \u001b[38;5;28;01mreturn\u001b[39;00m \u001b[43m_iterencode\u001b[49m\u001b[43m(\u001b[49m\u001b[43mo\u001b[49m\u001b[43m,\u001b[49m\u001b[43m \u001b[49m\u001b[38;5;241;43m0\u001b[39;49m\u001b[43m)\u001b[49m\n",
      "File \u001b[0;32m/Library/Frameworks/Python.framework/Versions/3.10/lib/python3.10/json/encoder.py:179\u001b[0m, in \u001b[0;36mJSONEncoder.default\u001b[0;34m(self, o)\u001b[0m\n\u001b[1;32m    160\u001b[0m \u001b[38;5;28;01mdef\u001b[39;00m \u001b[38;5;21mdefault\u001b[39m(\u001b[38;5;28mself\u001b[39m, o):\n\u001b[1;32m    161\u001b[0m \u001b[38;5;250m    \u001b[39m\u001b[38;5;124;03m\"\"\"Implement this method in a subclass such that it returns\u001b[39;00m\n\u001b[1;32m    162\u001b[0m \u001b[38;5;124;03m    a serializable object for ``o``, or calls the base implementation\u001b[39;00m\n\u001b[1;32m    163\u001b[0m \u001b[38;5;124;03m    (to raise a ``TypeError``).\u001b[39;00m\n\u001b[0;32m   (...)\u001b[0m\n\u001b[1;32m    177\u001b[0m \n\u001b[1;32m    178\u001b[0m \u001b[38;5;124;03m    \"\"\"\u001b[39;00m\n\u001b[0;32m--> 179\u001b[0m     \u001b[38;5;28;01mraise\u001b[39;00m \u001b[38;5;167;01mTypeError\u001b[39;00m(\u001b[38;5;124mf\u001b[39m\u001b[38;5;124m'\u001b[39m\u001b[38;5;124mObject of type \u001b[39m\u001b[38;5;132;01m{\u001b[39;00mo\u001b[38;5;241m.\u001b[39m\u001b[38;5;18m__class__\u001b[39m\u001b[38;5;241m.\u001b[39m\u001b[38;5;18m__name__\u001b[39m\u001b[38;5;132;01m}\u001b[39;00m\u001b[38;5;124m \u001b[39m\u001b[38;5;124m'\u001b[39m\n\u001b[1;32m    180\u001b[0m                     \u001b[38;5;124mf\u001b[39m\u001b[38;5;124m'\u001b[39m\u001b[38;5;124mis not JSON serializable\u001b[39m\u001b[38;5;124m'\u001b[39m)\n",
      "\u001b[0;31mTypeError\u001b[0m: Object of type CallbackManagerForToolRun is not JSON serializable"
     ]
    }
   ],
   "source": [
    "a=agent_executor.invoke(\n",
    "    {\n",
    "        \"input\": \"Krish naik\"\n",
    "    }\n",
    ")"
   ]
  },
  {
   "cell_type": "code",
   "execution_count": null,
   "metadata": {},
   "outputs": [
    {
     "data": {
      "text/plain": [
       "{'input': 'Do you know about Krish naik youtube channel',\n",
       " 'output': \"It seems like the tool call yielded some YouTube video links related to Krish Naik's channel. Would you like me to provide more information about Krish Naik or his YouTube channel?\",\n",
       " 'intermediate_steps': [(ToolAgentAction(tool='youtube_search', tool_input='Krish Naik', log='\\nInvoking: `youtube_search` with `Krish Naik`\\n\\n\\n', message_log=[AIMessageChunk(content='', additional_kwargs={'tool_calls': [{'id': 'call_5vxd', 'function': {'arguments': '{\"__arg1\":\"Krish Naik\"}', 'name': 'youtube_search'}, 'type': 'function'}]}, response_metadata={'finish_reason': 'tool_calls', 'logprobs': None}, id='run-4e9811e2-6d18-4a54-9ff7-c9bcb13736ca', tool_calls=[{'name': 'youtube_search', 'args': {'__arg1': 'Krish Naik'}, 'id': 'call_5vxd', 'type': 'tool_call'}], usage_metadata={'input_tokens': 1103, 'output_tokens': 48, 'total_tokens': 1151}, tool_call_chunks=[{'name': 'youtube_search', 'args': '{\"__arg1\":\"Krish Naik\"}', 'id': 'call_5vxd', 'index': None, 'type': 'tool_call_chunk'}])], tool_call_id='call_5vxd'),\n",
       "   \"['https://www.youtube.com/watch?v=HEHUpBO8UVc&pp=ygUKS3Jpc2ggTmFpaw%3D%3D', 'https://www.youtube.com/watch?v=3SRh2nzN2DM&pp=ygUKS3Jpc2ggTmFpaw%3D%3D']\")]}"
      ]
     },
     "execution_count": 67,
     "metadata": {},
     "output_type": "execute_result"
    }
   ],
   "source": [
    "a"
   ]
  },
  {
   "cell_type": "code",
   "execution_count": null,
   "metadata": {},
   "outputs": [
    {
     "name": "stdout",
     "output_type": "stream",
     "text": [
      "\n",
      "\n",
      "\u001b[1m> Entering new AgentExecutor chain...\u001b[0m\n",
      "\u001b[32;1m\u001b[1;3m\n",
      "Invoking: `duckduckgo_search` with `{'query': 'Krish naik'}`\n",
      "\n",
      "\n",
      "\u001b[0m\u001b[36;1m\u001b[1;3mKrish Naik is a data science educator and creator who offers free videos and materials to learn generative AI (LLM's) and other topics. Watch his roadmap, playlists, projects and live sessions on his YouTube channel. Langchain Complete Playlist: https://www.youtube.com/playlist?list=PLZoTAELRMXVORE4VF7WQ_fAl0L1Gljtar-----... Krish naik teaches surface level stuff. I didn't know him. He is a copy paste person, doesn't know the tech behind , only trying to make videos. I've been watching his videos for a while now and being a beginner, I assumed he was pretty good. However, I've seen a few people criticise him for…. Complete Python Guide: https://github.com/krishnaik06/The-Grand-Complete-Data-Science-Materials/tree/main-----... Krish C Naik is a cofounder of iNeuron and a machine learning educator and mentor. He has a YouTube channel where he explains various topics on ML, AI, and data science with real-world examples and a GitHub profile where he shares his open source projects and blog posts.\u001b[0m\u001b[32;1m\u001b[1;3m\n",
      "Invoking: `youtube_search` with `Krish Naik`\n",
      "\n",
      "\n",
      "\u001b[0m\u001b[33;1m\u001b[1;3m['https://www.youtube.com/watch?v=HEHUpBO8UVc&pp=ygUKS3Jpc2ggTmFpaw%3D%3D', 'https://www.youtube.com/watch?v=3SRh2nzN2DM&pp=ygUKS3Jpc2ggTmFpaw%3D%3D']\u001b[0m\u001b[32;1m\u001b[1;3mIt seems like the tool has provided some YouTube video links related to Krish Naik. Would you like me to provide a summary of what Krish Naik is about, based on the previous tool call results?\u001b[0m\n",
      "\n",
      "\u001b[1m> Finished chain.\u001b[0m\n"
     ]
    }
   ],
   "source": [
    "a=agent_executor.invoke(\n",
    "    {\n",
    "        \"input\": \"SEarch about Krish naik in duckduck go website\"\n",
    "    }\n",
    ")"
   ]
  },
  {
   "cell_type": "code",
   "execution_count": null,
   "metadata": {},
   "outputs": [
    {
     "data": {
      "text/plain": [
       "{'input': 'SEarch about Krish naik in duckduck go website',\n",
       " 'output': 'It seems like the tool has provided some YouTube video links related to Krish Naik. Would you like me to provide a summary of what Krish Naik is about, based on the previous tool call results?',\n",
       " 'intermediate_steps': [(ToolAgentAction(tool='duckduckgo_search', tool_input={'query': 'Krish naik'}, log=\"\\nInvoking: `duckduckgo_search` with `{'query': 'Krish naik'}`\\n\\n\\n\", message_log=[AIMessageChunk(content='', additional_kwargs={'tool_calls': [{'id': 'call_8a4h', 'function': {'arguments': '{\"query\":\"Krish naik\"}', 'name': 'duckduckgo_search'}, 'type': 'function'}]}, response_metadata={'finish_reason': 'tool_calls', 'logprobs': None}, id='run-6dcc8dae-956c-456c-a815-ee0f99d82ec8', tool_calls=[{'name': 'duckduckgo_search', 'args': {'query': 'Krish naik'}, 'id': 'call_8a4h', 'type': 'tool_call'}], usage_metadata={'input_tokens': 1105, 'output_tokens': 48, 'total_tokens': 1153}, tool_call_chunks=[{'name': 'duckduckgo_search', 'args': '{\"query\":\"Krish naik\"}', 'id': 'call_8a4h', 'index': None, 'type': 'tool_call_chunk'}])], tool_call_id='call_8a4h'),\n",
       "   \"Krish Naik is a data science educator and creator who offers free videos and materials to learn generative AI (LLM's) and other topics. Watch his roadmap, playlists, projects and live sessions on his YouTube channel. Langchain Complete Playlist: https://www.youtube.com/playlist?list=PLZoTAELRMXVORE4VF7WQ_fAl0L1Gljtar-----... Krish naik teaches surface level stuff. I didn't know him. He is a copy paste person, doesn't know the tech behind , only trying to make videos. I've been watching his videos for a while now and being a beginner, I assumed he was pretty good. However, I've seen a few people criticise him for…. Complete Python Guide: https://github.com/krishnaik06/The-Grand-Complete-Data-Science-Materials/tree/main-----... Krish C Naik is a cofounder of iNeuron and a machine learning educator and mentor. He has a YouTube channel where he explains various topics on ML, AI, and data science with real-world examples and a GitHub profile where he shares his open source projects and blog posts.\"),\n",
       "  (ToolAgentAction(tool='youtube_search', tool_input='Krish Naik', log='\\nInvoking: `youtube_search` with `Krish Naik`\\n\\n\\n', message_log=[AIMessageChunk(content='', additional_kwargs={'tool_calls': [{'id': 'call_3q99', 'function': {'arguments': '{\"__arg1\":\"Krish Naik\"}', 'name': 'youtube_search'}, 'type': 'function'}]}, response_metadata={'finish_reason': 'tool_calls', 'logprobs': None}, id='run-1713caf1-473b-47dc-89b6-51af2976713c', tool_calls=[{'name': 'youtube_search', 'args': {'__arg1': 'Krish Naik'}, 'id': 'call_3q99', 'type': 'tool_call'}], usage_metadata={'input_tokens': 1416, 'output_tokens': 38, 'total_tokens': 1454}, tool_call_chunks=[{'name': 'youtube_search', 'args': '{\"__arg1\":\"Krish Naik\"}', 'id': 'call_3q99', 'index': None, 'type': 'tool_call_chunk'}])], tool_call_id='call_3q99'),\n",
       "   \"['https://www.youtube.com/watch?v=HEHUpBO8UVc&pp=ygUKS3Jpc2ggTmFpaw%3D%3D', 'https://www.youtube.com/watch?v=3SRh2nzN2DM&pp=ygUKS3Jpc2ggTmFpaw%3D%3D']\")]}"
      ]
     },
     "execution_count": 69,
     "metadata": {},
     "output_type": "execute_result"
    }
   ],
   "source": [
    "a"
   ]
  },
  {
   "cell_type": "code",
   "execution_count": null,
   "metadata": {},
   "outputs": [],
   "source": [
    "from langchain.tools import BaseTool, StructuredTool, tool\n",
    "\n",
    "@tool\n",
    "def llm_call(query: str) -> str:\n",
    "    \"\"\"If any complicated ligical reasoning related query comes then use llm_call\"\"\"\n",
    "    prompt = ChatPromptTemplate.from_template(\"{content}\")\n",
    "    output_parser = StrOutputParser()\n",
    "\n",
    "    chain = prompt | model | output_parser\n",
    "\n",
    "    answer=chain.invoke({\"content\": query})\n",
    "    return answer\n",
    "\n",
    "tools.append(llm_call)\n",
    "    "
   ]
  },
  {
   "cell_type": "code",
   "execution_count": null,
   "metadata": {},
   "outputs": [
    {
     "data": {
      "text/plain": [
       "[DuckDuckGoSearchRun(),\n",
       " YouTubeSearchTool(),\n",
       " StructuredTool(name='llm_call', description='If any complicated ligical reasoning related query comes then use llm_call', args_schema=<class 'pydantic.v1.main.llm_callSchema'>, func=<function llm_call at 0x167056660>)]"
      ]
     },
     "execution_count": 71,
     "metadata": {},
     "output_type": "execute_result"
    }
   ],
   "source": [
    "tools"
   ]
  },
  {
   "cell_type": "code",
   "execution_count": null,
   "metadata": {},
   "outputs": [],
   "source": [
    "# Construct the tool calling agent\n",
    "agent = create_tool_calling_agent(model, tools, prompt)\n",
    "# Create an agent executor by passing in the agent and tools\n",
    "agent_executor = AgentExecutor(agent=agent, tools=tools, verbose=True,return_intermediate_steps=True,handle_parsing_errors=True)\n"
   ]
  },
  {
   "cell_type": "code",
   "execution_count": null,
   "metadata": {},
   "outputs": [
    {
     "name": "stdout",
     "output_type": "stream",
     "text": [
      "\n",
      "\n",
      "\u001b[1m> Entering new AgentExecutor chain...\u001b[0m\n",
      "\u001b[32;1m\u001b[1;3m<tool-use>{\"tool_calls\": []}</tool-use>\u001b[0m\n",
      "\n",
      "\u001b[1m> Finished chain.\u001b[0m\n"
     ]
    }
   ],
   "source": [
    "a=agent_executor.invoke(\n",
    "    {\n",
    "        \"input\": \"What is 30 + 40\"\n",
    "    }\n",
    ")"
   ]
  },
  {
   "cell_type": "code",
   "execution_count": null,
   "metadata": {},
   "outputs": [
    {
     "data": {
      "text/plain": [
       "{'input': 'What is 30 + 40',\n",
       " 'output': '<tool-use>{\"tool_calls\": []}</tool-use>',\n",
       " 'intermediate_steps': []}"
      ]
     },
     "execution_count": 74,
     "metadata": {},
     "output_type": "execute_result"
    }
   ],
   "source": [
    "a"
   ]
  },
  {
   "cell_type": "code",
   "execution_count": null,
   "metadata": {},
   "outputs": [
    {
     "name": "stdout",
     "output_type": "stream",
     "text": [
      "\n",
      "\n",
      "\u001b[1m> Entering new AgentExecutor chain...\u001b[0m\n",
      "\u001b[32;1m\u001b[1;3m\n",
      "Invoking: `youtube_search` with `Rohit Sharma`\n",
      "\n",
      "\n",
      "\u001b[0m\u001b[33;1m\u001b[1;3m['https://www.youtube.com/watch?v=TENNdaKXmP4&pp=ygUMUm9oaXQgU2hhcm1h', 'https://www.youtube.com/watch?v=S3cY5HM0d_8&pp=ygUMUm9oaXQgU2hhcm1h']\u001b[0m\u001b[32;1m\u001b[1;3mYou can watch those videos to find content about Rohit Sharma.\u001b[0m\n",
      "\n",
      "\u001b[1m> Finished chain.\u001b[0m\n"
     ]
    }
   ],
   "source": [
    "a=agent_executor.invoke(\n",
    "    {\n",
    "        \"input\": \"Tell me some youtube channels to find content about Rohit Sharma\"\n",
    "    }\n",
    ")"
   ]
  },
  {
   "cell_type": "code",
   "execution_count": null,
   "metadata": {},
   "outputs": [
    {
     "data": {
      "text/plain": [
       "{'input': 'Tell me some youtube channels to find content about Rohit Sharma',\n",
       " 'output': 'You can watch those videos to find content about Rohit Sharma.',\n",
       " 'intermediate_steps': [(ToolAgentAction(tool='youtube_search', tool_input='Rohit Sharma', log='\\nInvoking: `youtube_search` with `Rohit Sharma`\\n\\n\\n', message_log=[AIMessageChunk(content='', additional_kwargs={'tool_calls': [{'id': 'call_rh8m', 'function': {'arguments': '{\"__arg1\":\"Rohit Sharma\"}', 'name': 'youtube_search'}, 'type': 'function'}]}, response_metadata={'finish_reason': 'tool_calls', 'logprobs': None}, id='run-1907aac6-5913-4202-8a94-58a4766956e2', tool_calls=[{'name': 'youtube_search', 'args': {'__arg1': 'Rohit Sharma'}, 'id': 'call_rh8m', 'type': 'tool_call'}], usage_metadata={'input_tokens': 1210, 'output_tokens': 48, 'total_tokens': 1258}, tool_call_chunks=[{'name': 'youtube_search', 'args': '{\"__arg1\":\"Rohit Sharma\"}', 'id': 'call_rh8m', 'index': None, 'type': 'tool_call_chunk'}])], tool_call_id='call_rh8m'),\n",
       "   \"['https://www.youtube.com/watch?v=TENNdaKXmP4&pp=ygUMUm9oaXQgU2hhcm1h', 'https://www.youtube.com/watch?v=S3cY5HM0d_8&pp=ygUMUm9oaXQgU2hhcm1h']\")]}"
      ]
     },
     "execution_count": 79,
     "metadata": {},
     "output_type": "execute_result"
    }
   ],
   "source": [
    "a"
   ]
  },
  {
   "cell_type": "code",
   "execution_count": null,
   "metadata": {},
   "outputs": [],
   "source": []
  },
  {
   "cell_type": "code",
   "execution_count": null,
   "metadata": {},
   "outputs": [],
   "source": [
    "@tool\n",
    "def history_management(query: str) -> str:\n",
    "    \"\"\"This tool looks into the history and answers the question\"\"\"\n",
    "    prompt = ChatPromptTemplate.from_template(\"{content}\")\n",
    "    output_parser = StrOutputParser()\n",
    "\n",
    "    chain = prompt | model | output_parser\n",
    "\n",
    "    answer=chain.invoke({\"content\": f\"This is the query : {query}. Look into the history and give the answer\"})\n",
    "    return answer "
   ]
  },
  {
   "cell_type": "code",
   "execution_count": null,
   "metadata": {},
   "outputs": [],
   "source": [
    "tools.append(history_management)"
   ]
  },
  {
   "cell_type": "code",
   "execution_count": null,
   "metadata": {},
   "outputs": [
    {
     "data": {
      "text/plain": [
       "[DuckDuckGoSearchRun(),\n",
       " YouTubeSearchTool(),\n",
       " StructuredTool(name='llm_call', description='If any complicated ligical reasoning related query comes then use llm_call', args_schema=<class 'pydantic.v1.main.llm_callSchema'>, func=<function llm_call at 0x167056660>),\n",
       " StructuredTool(name='history_management', description='This tool looks into the history and answers the question', args_schema=<class 'pydantic.v1.main.history_managementSchema'>, func=<function history_management at 0x167056b60>)]"
      ]
     },
     "execution_count": 92,
     "metadata": {},
     "output_type": "execute_result"
    }
   ],
   "source": [
    "tools"
   ]
  },
  {
   "cell_type": "code",
   "execution_count": null,
   "metadata": {},
   "outputs": [],
   "source": [
    "from langchain.memory import ConversationBufferWindowMemory\n",
    "memory = ConversationBufferWindowMemory( k=3)"
   ]
  },
  {
   "cell_type": "code",
   "execution_count": null,
   "metadata": {},
   "outputs": [],
   "source": [
    "# Construct the tool calling agent\n",
    "agent = create_tool_calling_agent(model, tools, prompt)\n",
    "# Create an agent executor by passing in the agent and tools\n",
    "agent_executor = AgentExecutor(agent=agent, tools=tools, verbose=True,handle_parsing_errors=True,memory=memory)\n"
   ]
  },
  {
   "cell_type": "code",
   "execution_count": null,
   "metadata": {},
   "outputs": [
    {
     "name": "stdout",
     "output_type": "stream",
     "text": [
      "\n",
      "\n",
      "\u001b[1m> Entering new AgentExecutor chain...\u001b[0m\n",
      "\u001b[32;1m\u001b[1;3m\n",
      "Invoking: `history_management` with `{'query': 'My pet name is Theo'}`\n",
      "\n",
      "\n",
      "\u001b[0m\u001b[36;1m\u001b[1;3mNice to meet you, Theo!\n",
      "\n",
      "The origin and history of the name Theo are fascinating. Theo is a shortened form of Theodoros, a Greek name that means \"gift of God\" or \"divine gift.\" Theodoros is derived from the Greek words \"theos,\" meaning \"god,\" and \"doron,\" meaning \"gift.\"\n",
      "\n",
      "In ancient Greece, Theodoros was a common name, and it was often given to children born into families of high social status. The name was also associated with several notable figures in Greek mythology and history, including Theodoros of Samos, a 6th-century BC engineer and inventor.\n",
      "\n",
      "During the Middle Ages, the name Theodoros was adopted by early Christians, who saw it as a way to express their devotion to God. The name became popular in Europe during the 17th and 18th centuries, particularly in Germany and England.\n",
      "\n",
      "In modern times, the shortened form Theo has become increasingly popular as a given name. It's a trendy and stylish name that's often associated with qualities like creativity, intelligence, and charm.\n",
      "\n",
      "As a pet name, Theo is often used as a nickname for Theodoros, Theodore, or even other names that start with \"The.\" It's a cute and affectionate name that's perfect for a beloved pet.\n",
      "\n",
      "So, there you have it, Theo! Your name has a rich history and a strong meaning behind it. You must be a very special pet indeed!\u001b[0m\u001b[32;1m\u001b[1;3m\n",
      "Invoking: `llm_call` with `{'query': 'What are some interesting facts about Theo as a pet name?'}`\n",
      "\n",
      "\n",
      "\u001b[0m\u001b[38;5;200m\u001b[1;3mTheo as a pet name! Here are some interesting facts about this charming and endearing nickname:\n",
      "\n",
      "1. **Origin**: Theo is a shortened form of Theodore, which comes from the Greek name Theodoros (Θεόδωρος), meaning \"gift of God\" or \"divine gift.\"\n",
      "2. **Popularity**: Theo has become a popular given name in its own right, especially in the UK and Australia. In the US, it's often used as a nickname for Theodore, but it's gaining traction as a standalone name.\n",
      "3. **Variations**: Theo is also used as a nickname for other names starting with \"The,\" such as Theobald, Theophilus, or Theodoric.\n",
      "4. **Celebrity connections**: Theo is the nickname of several famous individuals, including Theodore Roosevelt (the 26th President of the United States), Theo Epstein (former Chicago Cubs president), and Theo James (British actor).\n",
      "5. **Cultural significance**: In literature, Theo is the nickname of Theodore Decker, the protagonist in Donna Tartt's Pulitzer Prize-winning novel \"The Goldfinch.\"\n",
      "6. **Meaningful symbolism**: As a given name or nickname, Theo is often associated with qualities like wisdom, courage, and faith, reflecting its origins in the Greek word for \"gift of God.\"\n",
      "7. **Unisex appeal**: While traditionally more common as a masculine nickname, Theo is increasingly used for girls and non-binary individuals, adding to its charm and versatility.\n",
      "8. **International flair**: Theo is a popular nickname in many languages, including French (Théo), German (Theo), and Dutch (Teo or Theo).\n",
      "9. **Nicknames within nicknames**: In some cases, Theo can be further shortened to Teo, Teddy, or even Ted, making it a nickname with multiple layers of affection.\n",
      "10. **Endearing qualities**: Theo is often seen as a warm, affectionate, and playful nickname, conveying a sense of closeness and familiarity with the person bearing the name.\n",
      "\n",
      "Overall, Theo as a pet name is a delightful and meaningful choice, rich in history, cultural significance, and emotional resonance.\u001b[0m\u001b[32;1m\u001b[1;3mNice to meet you, Theo! It seems like your name has a lot of interesting facts and meanings behind it. I'm glad I could help you learn more about your name.\u001b[0m\n",
      "\n",
      "\u001b[1m> Finished chain.\u001b[0m\n"
     ]
    }
   ],
   "source": [
    "a=agent_executor.invoke(\n",
    "    {\n",
    "        \"input\": \"My pet name is Theo\"\n",
    "    }\n",
    ")"
   ]
  },
  {
   "cell_type": "code",
   "execution_count": null,
   "metadata": {},
   "outputs": [
    {
     "data": {
      "text/plain": [
       "{'input': 'My pet name is Theo',\n",
       " 'history': '',\n",
       " 'output': \"Nice to meet you, Theo! It seems like your name has a lot of interesting facts and meanings behind it. I'm glad I could help you learn more about your name.\"}"
      ]
     },
     "execution_count": 96,
     "metadata": {},
     "output_type": "execute_result"
    }
   ],
   "source": [
    "a"
   ]
  },
  {
   "cell_type": "code",
   "execution_count": null,
   "metadata": {},
   "outputs": [
    {
     "data": {
      "text/plain": [
       "\"Nice to meet you, Theo! It seems like your name has a lot of interesting facts and meanings behind it. I'm glad I could help you learn more about your name.\""
      ]
     },
     "execution_count": 97,
     "metadata": {},
     "output_type": "execute_result"
    }
   ],
   "source": [
    "a['output']"
   ]
  },
  {
   "cell_type": "code",
   "execution_count": null,
   "metadata": {},
   "outputs": [
    {
     "name": "stdout",
     "output_type": "stream",
     "text": [
      "\n",
      "\n",
      "\u001b[1m> Entering new AgentExecutor chain...\u001b[0m\n",
      "\u001b[32;1m\u001b[1;3m\n",
      "Invoking: `llm_call` with `{'query': 'What is my pet name'}`\n",
      "\n",
      "\n",
      "\u001b[0m\u001b[38;5;200m\u001b[1;3mI'm happy to help! However, I don't have any information about you or your personal relationships, so I don't know what your pet name might be.\n",
      "\n",
      "A pet name is a special nickname that is often given to someone by a loved one, such as a partner, family member, or close friend. It's usually a term of endearment that is unique to that person and is used to express affection or closeness.\n",
      "\n",
      "If you're wondering what your pet name might be, you might consider asking the person who gave you the nickname!\u001b[0m\u001b[32;1m\u001b[1;3mI see that the tool didn't provide a direct answer. In that case, I'll respond directly without using a tool. It seems that you don't have a pet name that I'm aware of, and as the tool suggested, you might want to ask someone close to you if they have given you a special nickname.\u001b[0m\n",
      "\n",
      "\u001b[1m> Finished chain.\u001b[0m\n"
     ]
    }
   ],
   "source": [
    "a=agent_executor.invoke(\n",
    "    {\n",
    "        \"input\": \"What is my pet name\"\n",
    "    }\n",
    ")"
   ]
  },
  {
   "cell_type": "code",
   "execution_count": null,
   "metadata": {},
   "outputs": [],
   "source": []
  },
  {
   "cell_type": "code",
   "execution_count": null,
   "metadata": {},
   "outputs": [
    {
     "data": {
      "text/plain": [
       "{'input': 'What is my pet name',\n",
       " 'history': \"Human: My pet name is Theo\\nAI: Nice to meet you, Theo! It seems like your name has a lot of interesting facts and meanings behind it. I'm glad I could help you learn more about your name.\",\n",
       " 'output': \"I see that the tool didn't provide a direct answer. In that case, I'll respond directly without using a tool. It seems that you don't have a pet name that I'm aware of, and as the tool suggested, you might want to ask someone close to you if they have given you a special nickname.\"}"
      ]
     },
     "execution_count": 99,
     "metadata": {},
     "output_type": "execute_result"
    }
   ],
   "source": [
    "a"
   ]
  },
  {
   "cell_type": "code",
   "execution_count": null,
   "metadata": {},
   "outputs": [],
   "source": []
  },
  {
   "cell_type": "code",
   "execution_count": null,
   "metadata": {},
   "outputs": [],
   "source": []
  },
  {
   "cell_type": "code",
   "execution_count": null,
   "metadata": {},
   "outputs": [],
   "source": []
  },
  {
   "cell_type": "code",
   "execution_count": null,
   "metadata": {},
   "outputs": [],
   "source": []
  },
  {
   "cell_type": "code",
   "execution_count": null,
   "metadata": {},
   "outputs": [],
   "source": [
    "from langchain import hub\n",
    "from langchain.agents import AgentExecutor, create_react_agent\n",
    "from langchain.memory import ChatMessageHistory\n",
    "\n",
    "prompt = hub.pull(\"hwchase17/react\")\n",
    "\n",
    "memory = ChatMessageHistory(session_id=\"test-session\")"
   ]
  },
  {
   "cell_type": "code",
   "execution_count": null,
   "metadata": {},
   "outputs": [],
   "source": [
    "from langchain_core.runnables.history import RunnableWithMessageHistory\n",
    "\n",
    "\n",
    "llm = model\n",
    "agent = create_react_agent(llm, tools, prompt)\n",
    "agent_executor = AgentExecutor(agent=agent, tools=tools)\n",
    "\n",
    "agent_with_chat_history = RunnableWithMessageHistory(\n",
    "    agent_executor,\n",
    "    # This is needed because in most real world scenarios, a session id is needed\n",
    "    # It isn't really used here because we are using a simple in memory ChatMessageHistory\n",
    "    lambda session_id: memory,\n",
    "    input_messages_key=\"input\",\n",
    "    history_messages_key=\"chat_history\",\n",
    ")"
   ]
  },
  {
   "cell_type": "code",
   "execution_count": null,
   "metadata": {},
   "outputs": [
    {
     "data": {
      "text/plain": [
       "{'input': 'What is my pets name',\n",
       " 'chat_history': [HumanMessage(content='How many people live in canada?'),\n",
       "  AIMessage(content='As of April 1, 2024, the population of Canada is approximately 41,012,563.'),\n",
       "  HumanMessage(content='My name is Eshant?'),\n",
       "  AIMessage(content='The question \"My name is Eshant?\" is likely a playful reference to the famous movie quote from \"Taken\" and is not a serious inquiry about the person\\'s name.'),\n",
       "  HumanMessage(content='What is my name'),\n",
       "  AIMessage(content=\"I'm sorry, but I don't have enough information to determine your name.\"),\n",
       "  HumanMessage(content='My pets mame is Theo'),\n",
       "  AIMessage(content='The name \"Theo\" is of Greek origin and means \"Gift Of God\" or \"Divine Gift\".')],\n",
       " 'output': \"I'm sorry, but I don't have enough information to answer this question. Please provide more context or details about your pet, and I'll do my best to help!\"}"
      ]
     },
     "execution_count": 49,
     "metadata": {},
     "output_type": "execute_result"
    }
   ],
   "source": [
    "agent_with_chat_history.invoke(\n",
    "    {\"input\": \"What is my pets name\"},\n",
    "    config={\"configurable\": {\"session_id\": \"123\"}},\n",
    ")"
   ]
  },
  {
   "cell_type": "code",
   "execution_count": null,
   "metadata": {},
   "outputs": [],
   "source": []
  }
 ],
 "metadata": {
  "kernelspec": {
   "display_name": "myenv",
   "language": "python",
   "name": "python3"
  },
  "language_info": {
   "codemirror_mode": {
    "name": "ipython",
    "version": 3
   },
   "file_extension": ".py",
   "mimetype": "text/x-python",
   "name": "python",
   "nbconvert_exporter": "python",
   "pygments_lexer": "ipython3",
   "version": "3.10.8"
  },
  "orig_nbformat": 4
 },
 "nbformat": 4,
 "nbformat_minor": 2
}
