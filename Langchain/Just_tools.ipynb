{
 "cells": [
  {
   "cell_type": "code",
   "execution_count": null,
   "metadata": {},
   "outputs": [],
   "source": []
  },
  {
   "cell_type": "code",
   "execution_count": 1,
   "metadata": {},
   "outputs": [],
   "source": [
    "\n",
    "from langchain.agents import load_tools, initialize_agent\n",
    "from langchain.agents import AgentType\n",
    "from operator import itemgetter\n",
    "from dotenv import load_dotenv\n",
    "load_dotenv('/Users/eshantdas/Desktop/Youtube/Youtube_GenAI_Test_code/myenv/.env')\n",
    "from langchain_core.output_parsers import StrOutputParser\n",
    "from langchain_core.prompts import ChatPromptTemplate\n",
    "from langchain_groq import ChatGroq\n",
    "\n",
    "model = ChatGroq(\n",
    "    temperature=0,\n",
    "    model=\"llama3-70b-8192\",\n",
    ")"
   ]
  },
  {
   "cell_type": "code",
   "execution_count": 2,
   "metadata": {},
   "outputs": [],
   "source": [
    "\n",
    "from langchain.agents import load_tools, initialize_agent\n",
    "from langchain.agents import AgentType\n",
    "from operator import itemgetter"
   ]
  },
  {
   "cell_type": "code",
   "execution_count": 3,
   "metadata": {},
   "outputs": [],
   "source": [
    "tools = load_tools([\"llm-math\",\"wikipedia\"], llm=model)"
   ]
  },
  {
   "cell_type": "code",
   "execution_count": 4,
   "metadata": {},
   "outputs": [],
   "source": [
    "from langchain import hub\n",
    "from langchain.agents import AgentExecutor, create_tool_calling_agent"
   ]
  },
  {
   "cell_type": "code",
   "execution_count": 6,
   "metadata": {},
   "outputs": [
    {
     "name": "stdout",
     "output_type": "stream",
     "text": [
      "================================\u001b[1m System Message \u001b[0m================================\n",
      "\n",
      "You are a helpful assistant\n",
      "\n",
      "=============================\u001b[1m Messages Placeholder \u001b[0m=============================\n",
      "\n",
      "\u001b[33;1m\u001b[1;3m{chat_history}\u001b[0m\n",
      "\n",
      "================================\u001b[1m Human Message \u001b[0m=================================\n",
      "\n",
      "\u001b[33;1m\u001b[1;3m{input}\u001b[0m\n",
      "\n",
      "=============================\u001b[1m Messages Placeholder \u001b[0m=============================\n",
      "\n",
      "\u001b[33;1m\u001b[1;3m{agent_scratchpad}\u001b[0m\n"
     ]
    }
   ],
   "source": [
    "prompt = hub.pull(\"hwchase17/openai-tools-agent\")\n",
    "prompt.pretty_print()"
   ]
  },
  {
   "cell_type": "code",
   "execution_count": 7,
   "metadata": {},
   "outputs": [],
   "source": [
    "# Construct the tool calling agent\n",
    "agent = create_tool_calling_agent(model, tools, prompt)"
   ]
  },
  {
   "cell_type": "code",
   "execution_count": 8,
   "metadata": {},
   "outputs": [],
   "source": [
    "# Create an agent executor by passing in the agent and tools\n",
    "agent_executor = AgentExecutor(agent=agent, tools=tools, verbose=True,return_intermediate_steps=True,handle_parsing_errors=True)"
   ]
  },
  {
   "cell_type": "code",
   "execution_count": 9,
   "metadata": {},
   "outputs": [
    {
     "name": "stdout",
     "output_type": "stream",
     "text": [
      "\n",
      "\n",
      "\u001b[1m> Entering new AgentExecutor chain...\u001b[0m\n",
      "\u001b[32;1m\u001b[1;3m\n",
      "Invoking: `Calculator` with `(4.5*2.1)**2.2`\n",
      "\n",
      "\n",
      "\u001b[0m\u001b[36;1m\u001b[1;3mAnswer: 139.94261298333066\u001b[0m\u001b[32;1m\u001b[1;3mThe answer is 139.94261298333066.\u001b[0m\n",
      "\n",
      "\u001b[1m> Finished chain.\u001b[0m\n"
     ]
    },
    {
     "data": {
      "text/plain": [
       "{'input': 'What is (4.5*2.1)**2.2 ',\n",
       " 'output': 'The answer is 139.94261298333066.',\n",
       " 'intermediate_steps': [(ToolAgentAction(tool='Calculator', tool_input='(4.5*2.1)**2.2', log='\\nInvoking: `Calculator` with `(4.5*2.1)**2.2`\\n\\n\\n', message_log=[AIMessageChunk(content='', additional_kwargs={'tool_calls': [{'id': 'call_wjzz', 'function': {'arguments': '{\"__arg1\":\"(4.5*2.1)**2.2\"}', 'name': 'Calculator'}, 'type': 'function'}]}, response_metadata={'finish_reason': 'tool_calls', 'logprobs': None}, id='run-ccd5aa60-0fff-436a-a9dd-e8a0f2b10d64', tool_calls=[{'name': 'Calculator', 'args': {'__arg1': '(4.5*2.1)**2.2'}, 'id': 'call_wjzz', 'type': 'tool_call'}], usage_metadata={'input_tokens': 1075, 'output_tokens': 54, 'total_tokens': 1129}, tool_call_chunks=[{'name': 'Calculator', 'args': '{\"__arg1\":\"(4.5*2.1)**2.2\"}', 'id': 'call_wjzz', 'index': None, 'type': 'tool_call_chunk'}])], tool_call_id='call_wjzz'),\n",
       "   'Answer: 139.94261298333066')]}"
      ]
     },
     "execution_count": 9,
     "metadata": {},
     "output_type": "execute_result"
    }
   ],
   "source": [
    "agent_executor.invoke(\n",
    "    {\n",
    "        \"input\": \"What is (4.5*2.1)**2.2 \"\n",
    "    }\n",
    ")"
   ]
  },
  {
   "cell_type": "code",
   "execution_count": 10,
   "metadata": {},
   "outputs": [
    {
     "name": "stdout",
     "output_type": "stream",
     "text": [
      "\n",
      "\n",
      "\u001b[1m> Entering new AgentExecutor chain...\u001b[0m\n",
      "\u001b[32;1m\u001b[1;3m\n",
      "Invoking: `wikipedia` with `{'query': 'Rohit Sharma'}`\n",
      "\n",
      "\n",
      "\u001b[0m"
     ]
    },
    {
     "name": "stderr",
     "output_type": "stream",
     "text": [
      "/Users/eshantdas/Desktop/Youtube/Youtube_GenAI_Test_code/myenv/lib/python3.12/site-packages/wikipedia/wikipedia.py:389: GuessedAtParserWarning: No parser was explicitly specified, so I'm using the best available HTML parser for this system (\"html.parser\"). This usually isn't a problem, but if you run this code on another system, or in a different virtual environment, it may use a different parser and behave differently.\n",
      "\n",
      "The code that caused this warning is on line 389 of the file /Users/eshantdas/Desktop/Youtube/Youtube_GenAI_Test_code/myenv/lib/python3.12/site-packages/wikipedia/wikipedia.py. To get rid of this warning, pass the additional argument 'features=\"html.parser\"' to the BeautifulSoup constructor.\n",
      "\n",
      "  lis = BeautifulSoup(html).find_all('li')\n"
     ]
    },
    {
     "name": "stdout",
     "output_type": "stream",
     "text": [
      "\u001b[33;1m\u001b[1;3mPage: Rohit Sharma\n",
      "Summary: Rohit Gurunath Sharma (born 30 April 1987) is an Indian international cricketer who currently plays for and captains the India national cricket team in Test and One Day International (ODI) matches. Previously, he also captained the team in Twenty20 International (T20I) matches and led India's win in 2024 ICC Men's T20 World Cup, subsequent to which he retired from T20s in June, 2024. The right-handed batsman, who is considered one of the best batsmen of his generation and one of the greatest opening batters of all time, is known for his timing, elegance, six-hitting abilities and leadership skills.\n",
      "He holds several batting records which famously include most runs in T20 Internationals, most sixes in international cricket, most double centuries in ODI cricket (3), most centuries at Cricket World Cups (7) and joint most hundreds in Twenty20 Internationals (5). He is the first player to score 5 T20I centuries. He also holds the world record for the highest individual score (264) in a One Day International (ODI) match and is the only player to have scored three double-centuries in ODIs and also holds the record for scoring most hundreds (five) in a single Cricket World Cup, for which he won the ICC Men's ODI Cricketer of the Year award in 2019. He is the only player to win 50 matches as captain in T20Is.\n",
      "He plays for Mumbai Indians and Mumbai cricket team in Indian Premier League (IPL) and domestic cricket respectively. He formerly captained Mumbai Indians and the team has won 5 Indian Premier League titles in 2013, 2015, 2017, 2019 and 2020 under him, making him the most successful captain in IPL history, sharing this record with MS Dhoni. With India, Rohit Sharma was a member of the team that won the 2007 T20 World Cup, and the 2013 ICC Champions Trophy, where he played in the finals of both tournaments. He is also one of two players who have played in every edition of the T20 World Cup, from the inaugural edition in 2007 to the latest one in 2024. He is the only Indian player to win two T20 World Cups. He became the second Indian captain to win a T20 World Cup, when he led India to win the 2024 T20 World Cup.\n",
      "He has received two national honours, the Arjuna Award in 2015 and the prestigious Major Dhyan Chand Khel Ratna Award in 2020 by the Government of India. Under his captaincy, India won the 2018 Asia Cup and the 2023 Asia Cup, the seventh and eighth time the country won the title, both in ODI format as well as the 2018 Nidahas Trophy, their second overall and first in T20I format.\n",
      "Outside cricket, Sharma is an active supporter of animal welfare campaigns. He is the official Rhino Ambassador for WWF-India and is a member of People for the Ethical Treatment of Animals (PETA). He has worked with PETA in its campaign to raise awareness of the plight of homeless cats and dogs in India.\n",
      "\n",
      "\n",
      "\n",
      "Page: List of international cricket centuries by Rohit Sharma\n",
      "Summary: Rohit Sharma is an Indian cricketer who has represented the national team since 2007. He has made 48 centuries in international cricket—31 in One Day Internationals (ODI), 12 in Tests and 5 in Twenty20 Internationals (T20Is)—as of March 2024.\n",
      "Sharma made his ODI debut against Ireland in June 2007. His first century came during the 2010 Tri-nation tournament in Zimbabwe when he made 114 against the hosts. In the 2013 bilateral series against Australia at home, he made two centuries, including a double-century. The next year, he scored 264 against Sri Lanka at the Eden Gardens, Kolkata. The score remains the highest individual total by a batsman in the format as of May 2023. In January 2016, he made 171 not out against Australia; it remained the highest score by a visiting batsman against Australia until England's Jason Roy made 180 in 2018. Sharma set the record for most centuries scored in a World Cup when he scored five centuries in the 2019 World Cup. He has scored centuries against nine different opponents and has the joint second-highest numbe\u001b[0m\u001b[32;1m\u001b[1;3mRohit Sharma was born on 30 April 1987.\u001b[0m\n",
      "\n",
      "\u001b[1m> Finished chain.\u001b[0m\n"
     ]
    },
    {
     "data": {
      "text/plain": [
       "{'input': 'When was ROhit Sharma born',\n",
       " 'output': 'Rohit Sharma was born on 30 April 1987.',\n",
       " 'intermediate_steps': [(ToolAgentAction(tool='wikipedia', tool_input={'query': 'Rohit Sharma'}, log=\"\\nInvoking: `wikipedia` with `{'query': 'Rohit Sharma'}`\\n\\n\\n\", message_log=[AIMessageChunk(content='', additional_kwargs={'tool_calls': [{'id': 'call_6545', 'function': {'arguments': '{\"query\":\"Rohit Sharma\"}', 'name': 'wikipedia'}, 'type': 'function'}]}, response_metadata={'finish_reason': 'tool_calls', 'logprobs': None}, id='run-1f050615-8860-46a4-aa24-a91b5a243aca', tool_calls=[{'name': 'wikipedia', 'args': {'query': 'Rohit Sharma'}, 'id': 'call_6545', 'type': 'tool_call'}], usage_metadata={'input_tokens': 1066, 'output_tokens': 46, 'total_tokens': 1112}, tool_call_chunks=[{'name': 'wikipedia', 'args': '{\"query\":\"Rohit Sharma\"}', 'id': 'call_6545', 'index': None, 'type': 'tool_call_chunk'}])], tool_call_id='call_6545'),\n",
       "   \"Page: Rohit Sharma\\nSummary: Rohit Gurunath Sharma (born 30 April 1987) is an Indian international cricketer who currently plays for and captains the India national cricket team in Test and One Day International (ODI) matches. Previously, he also captained the team in Twenty20 International (T20I) matches and led India's win in 2024 ICC Men's T20 World Cup, subsequent to which he retired from T20s in June, 2024. The right-handed batsman, who is considered one of the best batsmen of his generation and one of the greatest opening batters of all time, is known for his timing, elegance, six-hitting abilities and leadership skills.\\nHe holds several batting records which famously include most runs in T20 Internationals, most sixes in international cricket, most double centuries in ODI cricket (3), most centuries at Cricket World Cups (7) and joint most hundreds in Twenty20 Internationals (5). He is the first player to score 5 T20I centuries. He also holds the world record for the highest individual score (264) in a One Day International (ODI) match and is the only player to have scored three double-centuries in ODIs and also holds the record for scoring most hundreds (five) in a single Cricket World Cup, for which he won the ICC Men's ODI Cricketer of the Year award in 2019. He is the only player to win 50 matches as captain in T20Is.\\nHe plays for Mumbai Indians and Mumbai cricket team in Indian Premier League (IPL) and domestic cricket respectively. He formerly captained Mumbai Indians and the team has won 5 Indian Premier League titles in 2013, 2015, 2017, 2019 and 2020 under him, making him the most successful captain in IPL history, sharing this record with MS Dhoni. With India, Rohit Sharma was a member of the team that won the 2007 T20 World Cup, and the 2013 ICC Champions Trophy, where he played in the finals of both tournaments. He is also one of two players who have played in every edition of the T20 World Cup, from the inaugural edition in 2007 to the latest one in 2024. He is the only Indian player to win two T20 World Cups. He became the second Indian captain to win a T20 World Cup, when he led India to win the 2024 T20 World Cup.\\nHe has received two national honours, the Arjuna Award in 2015 and the prestigious Major Dhyan Chand Khel Ratna Award in 2020 by the Government of India. Under his captaincy, India won the 2018 Asia Cup and the 2023 Asia Cup, the seventh and eighth time the country won the title, both in ODI format as well as the 2018 Nidahas Trophy, their second overall and first in T20I format.\\nOutside cricket, Sharma is an active supporter of animal welfare campaigns. He is the official Rhino Ambassador for WWF-India and is a member of People for the Ethical Treatment of Animals (PETA). He has worked with PETA in its campaign to raise awareness of the plight of homeless cats and dogs in India.\\n\\n\\n\\nPage: List of international cricket centuries by Rohit Sharma\\nSummary: Rohit Sharma is an Indian cricketer who has represented the national team since 2007. He has made 48 centuries in international cricket—31 in One Day Internationals (ODI), 12 in Tests and 5 in Twenty20 Internationals (T20Is)—as of March 2024.\\nSharma made his ODI debut against Ireland in June 2007. His first century came during the 2010 Tri-nation tournament in Zimbabwe when he made 114 against the hosts. In the 2013 bilateral series against Australia at home, he made two centuries, including a double-century. The next year, he scored 264 against Sri Lanka at the Eden Gardens, Kolkata. The score remains the highest individual total by a batsman in the format as of May 2023. In January 2016, he made 171 not out against Australia; it remained the highest score by a visiting batsman against Australia until England's Jason Roy made 180 in 2018. Sharma set the record for most centuries scored in a World Cup when he scored five centuries in the 2019 World Cup. He has scored centuries against nine different opponents and has the joint second-highest numbe\")]}"
      ]
     },
     "execution_count": 10,
     "metadata": {},
     "output_type": "execute_result"
    }
   ],
   "source": [
    "agent_executor.invoke(\n",
    "    {\n",
    "        \"input\": \"When was ROhit Sharma born\"\n",
    "    }\n",
    ")"
   ]
  },
  {
   "cell_type": "code",
   "execution_count": 11,
   "metadata": {},
   "outputs": [
    {
     "name": "stdout",
     "output_type": "stream",
     "text": [
      "\n",
      "\n",
      "\u001b[1m> Entering new AgentExecutor chain...\u001b[0m\n",
      "\u001b[32;1m\u001b[1;3m\n",
      "Invoking: `wikipedia` with `{'query': 'Rohit Sharma'}`\n",
      "\n",
      "\n",
      "\u001b[0m"
     ]
    },
    {
     "name": "stderr",
     "output_type": "stream",
     "text": [
      "/Users/eshantdas/Desktop/Youtube/Youtube_GenAI_Test_code/myenv/lib/python3.12/site-packages/wikipedia/wikipedia.py:389: GuessedAtParserWarning: No parser was explicitly specified, so I'm using the best available HTML parser for this system (\"html.parser\"). This usually isn't a problem, but if you run this code on another system, or in a different virtual environment, it may use a different parser and behave differently.\n",
      "\n",
      "The code that caused this warning is on line 389 of the file /Users/eshantdas/Desktop/Youtube/Youtube_GenAI_Test_code/myenv/lib/python3.12/site-packages/wikipedia/wikipedia.py. To get rid of this warning, pass the additional argument 'features=\"html.parser\"' to the BeautifulSoup constructor.\n",
      "\n",
      "  lis = BeautifulSoup(html).find_all('li')\n"
     ]
    },
    {
     "name": "stdout",
     "output_type": "stream",
     "text": [
      "\u001b[33;1m\u001b[1;3mPage: Rohit Sharma\n",
      "Summary: Rohit Gurunath Sharma (born 30 April 1987) is an Indian international cricketer who currently plays for and captains the India national cricket team in Test and One Day International (ODI) matches. Previously, he also captained the team in Twenty20 International (T20I) matches and led India's win in 2024 ICC Men's T20 World Cup, subsequent to which he retired from T20s in June, 2024. The right-handed batsman, who is considered one of the best batsmen of his generation and one of the greatest opening batters of all time, is known for his timing, elegance, six-hitting abilities and leadership skills.\n",
      "He holds several batting records which famously include most runs in T20 Internationals, most sixes in international cricket, most double centuries in ODI cricket (3), most centuries at Cricket World Cups (7) and joint most hundreds in Twenty20 Internationals (5). He is the first player to score 5 T20I centuries. He also holds the world record for the highest individual score (264) in a One Day International (ODI) match and is the only player to have scored three double-centuries in ODIs and also holds the record for scoring most hundreds (five) in a single Cricket World Cup, for which he won the ICC Men's ODI Cricketer of the Year award in 2019. He is the only player to win 50 matches as captain in T20Is.\n",
      "He plays for Mumbai Indians and Mumbai cricket team in Indian Premier League (IPL) and domestic cricket respectively. He formerly captained Mumbai Indians and the team has won 5 Indian Premier League titles in 2013, 2015, 2017, 2019 and 2020 under him, making him the most successful captain in IPL history, sharing this record with MS Dhoni. With India, Rohit Sharma was a member of the team that won the 2007 T20 World Cup, and the 2013 ICC Champions Trophy, where he played in the finals of both tournaments. He is also one of two players who have played in every edition of the T20 World Cup, from the inaugural edition in 2007 to the latest one in 2024. He is the only Indian player to win two T20 World Cups. He became the second Indian captain to win a T20 World Cup, when he led India to win the 2024 T20 World Cup.\n",
      "He has received two national honours, the Arjuna Award in 2015 and the prestigious Major Dhyan Chand Khel Ratna Award in 2020 by the Government of India. Under his captaincy, India won the 2018 Asia Cup and the 2023 Asia Cup, the seventh and eighth time the country won the title, both in ODI format as well as the 2018 Nidahas Trophy, their second overall and first in T20I format.\n",
      "Outside cricket, Sharma is an active supporter of animal welfare campaigns. He is the official Rhino Ambassador for WWF-India and is a member of People for the Ethical Treatment of Animals (PETA). He has worked with PETA in its campaign to raise awareness of the plight of homeless cats and dogs in India.\n",
      "\n",
      "\n",
      "\n",
      "Page: List of international cricket centuries by Rohit Sharma\n",
      "Summary: Rohit Sharma is an Indian cricketer who has represented the national team since 2007. He has made 48 centuries in international cricket—31 in One Day Internationals (ODI), 12 in Tests and 5 in Twenty20 Internationals (T20Is)—as of March 2024.\n",
      "Sharma made his ODI debut against Ireland in June 2007. His first century came during the 2010 Tri-nation tournament in Zimbabwe when he made 114 against the hosts. In the 2013 bilateral series against Australia at home, he made two centuries, including a double-century. The next year, he scored 264 against Sri Lanka at the Eden Gardens, Kolkata. The score remains the highest individual total by a batsman in the format as of May 2023. In January 2016, he made 171 not out against Australia; it remained the highest score by a visiting batsman against Australia until England's Jason Roy made 180 in 2018. Sharma set the record for most centuries scored in a World Cup when he scored five centuries in the 2019 World Cup. He has scored centuries against nine different opponents and has the joint second-highest numbe\u001b[0m\u001b[32;1m\u001b[1;3mRohit Sharma is an Indian international cricketer who currently captains the India national cricket team in Test and One Day International (ODI) matches. He is a right-handed batsman known for his timing, elegance, six-hitting abilities, and leadership skills. He holds several batting records, including most runs in T20 Internationals, most sixes in international cricket, and most double centuries in ODI cricket. He is the first player to score 5 T20I centuries and holds the world record for the highest individual score (264) in a One Day International (ODI) match.\u001b[0m\n",
      "\n",
      "\u001b[1m> Finished chain.\u001b[0m\n"
     ]
    }
   ],
   "source": [
    "a=agent_executor.invoke(\n",
    "    {\n",
    "        \"input\": \"Describe  Rohit Sharma\"\n",
    "    }\n",
    ")"
   ]
  },
  {
   "cell_type": "code",
   "execution_count": 12,
   "metadata": {},
   "outputs": [
    {
     "data": {
      "text/plain": [
       "{'input': 'Describe  Rohit Sharma',\n",
       " 'output': 'Rohit Sharma is an Indian international cricketer who currently captains the India national cricket team in Test and One Day International (ODI) matches. He is a right-handed batsman known for his timing, elegance, six-hitting abilities, and leadership skills. He holds several batting records, including most runs in T20 Internationals, most sixes in international cricket, and most double centuries in ODI cricket. He is the first player to score 5 T20I centuries and holds the world record for the highest individual score (264) in a One Day International (ODI) match.',\n",
       " 'intermediate_steps': [(ToolAgentAction(tool='wikipedia', tool_input={'query': 'Rohit Sharma'}, log=\"\\nInvoking: `wikipedia` with `{'query': 'Rohit Sharma'}`\\n\\n\\n\", message_log=[AIMessageChunk(content='', additional_kwargs={'tool_calls': [{'id': 'call_dpf7', 'function': {'arguments': '{\"query\":\"Rohit Sharma\"}', 'name': 'wikipedia'}, 'type': 'function'}]}, response_metadata={'finish_reason': 'tool_calls', 'logprobs': None}, id='run-5857cfc1-db5a-43a1-9cb1-8415daf5fbf7', tool_calls=[{'name': 'wikipedia', 'args': {'query': 'Rohit Sharma'}, 'id': 'call_dpf7', 'type': 'tool_call'}], usage_metadata={'input_tokens': 1065, 'output_tokens': 46, 'total_tokens': 1111}, tool_call_chunks=[{'name': 'wikipedia', 'args': '{\"query\":\"Rohit Sharma\"}', 'id': 'call_dpf7', 'index': None, 'type': 'tool_call_chunk'}])], tool_call_id='call_dpf7'),\n",
       "   \"Page: Rohit Sharma\\nSummary: Rohit Gurunath Sharma (born 30 April 1987) is an Indian international cricketer who currently plays for and captains the India national cricket team in Test and One Day International (ODI) matches. Previously, he also captained the team in Twenty20 International (T20I) matches and led India's win in 2024 ICC Men's T20 World Cup, subsequent to which he retired from T20s in June, 2024. The right-handed batsman, who is considered one of the best batsmen of his generation and one of the greatest opening batters of all time, is known for his timing, elegance, six-hitting abilities and leadership skills.\\nHe holds several batting records which famously include most runs in T20 Internationals, most sixes in international cricket, most double centuries in ODI cricket (3), most centuries at Cricket World Cups (7) and joint most hundreds in Twenty20 Internationals (5). He is the first player to score 5 T20I centuries. He also holds the world record for the highest individual score (264) in a One Day International (ODI) match and is the only player to have scored three double-centuries in ODIs and also holds the record for scoring most hundreds (five) in a single Cricket World Cup, for which he won the ICC Men's ODI Cricketer of the Year award in 2019. He is the only player to win 50 matches as captain in T20Is.\\nHe plays for Mumbai Indians and Mumbai cricket team in Indian Premier League (IPL) and domestic cricket respectively. He formerly captained Mumbai Indians and the team has won 5 Indian Premier League titles in 2013, 2015, 2017, 2019 and 2020 under him, making him the most successful captain in IPL history, sharing this record with MS Dhoni. With India, Rohit Sharma was a member of the team that won the 2007 T20 World Cup, and the 2013 ICC Champions Trophy, where he played in the finals of both tournaments. He is also one of two players who have played in every edition of the T20 World Cup, from the inaugural edition in 2007 to the latest one in 2024. He is the only Indian player to win two T20 World Cups. He became the second Indian captain to win a T20 World Cup, when he led India to win the 2024 T20 World Cup.\\nHe has received two national honours, the Arjuna Award in 2015 and the prestigious Major Dhyan Chand Khel Ratna Award in 2020 by the Government of India. Under his captaincy, India won the 2018 Asia Cup and the 2023 Asia Cup, the seventh and eighth time the country won the title, both in ODI format as well as the 2018 Nidahas Trophy, their second overall and first in T20I format.\\nOutside cricket, Sharma is an active supporter of animal welfare campaigns. He is the official Rhino Ambassador for WWF-India and is a member of People for the Ethical Treatment of Animals (PETA). He has worked with PETA in its campaign to raise awareness of the plight of homeless cats and dogs in India.\\n\\n\\n\\nPage: List of international cricket centuries by Rohit Sharma\\nSummary: Rohit Sharma is an Indian cricketer who has represented the national team since 2007. He has made 48 centuries in international cricket—31 in One Day Internationals (ODI), 12 in Tests and 5 in Twenty20 Internationals (T20Is)—as of March 2024.\\nSharma made his ODI debut against Ireland in June 2007. His first century came during the 2010 Tri-nation tournament in Zimbabwe when he made 114 against the hosts. In the 2013 bilateral series against Australia at home, he made two centuries, including a double-century. The next year, he scored 264 against Sri Lanka at the Eden Gardens, Kolkata. The score remains the highest individual total by a batsman in the format as of May 2023. In January 2016, he made 171 not out against Australia; it remained the highest score by a visiting batsman against Australia until England's Jason Roy made 180 in 2018. Sharma set the record for most centuries scored in a World Cup when he scored five centuries in the 2019 World Cup. He has scored centuries against nine different opponents and has the joint second-highest numbe\")]}"
      ]
     },
     "execution_count": 12,
     "metadata": {},
     "output_type": "execute_result"
    }
   ],
   "source": [
    "a"
   ]
  },
  {
   "cell_type": "code",
   "execution_count": 13,
   "metadata": {},
   "outputs": [],
   "source": [
    "from langchain.tools import BaseTool, StructuredTool, tool\n",
    "\n",
    "@tool\n",
    "def llm_call(query: str) -> str:\n",
    "    \"\"\"If any complicated ligical reasoning related query comes then use llm_call\"\"\"\n",
    "    prompt = ChatPromptTemplate.from_template(\"{content}\")\n",
    "    output_parser = StrOutputParser()\n",
    "\n",
    "    chain = prompt | model | output_parser\n",
    "\n",
    "    answer=chain.invoke({\"content\": query})\n",
    "    return answer\n",
    "    "
   ]
  },
  {
   "cell_type": "code",
   "execution_count": 15,
   "metadata": {},
   "outputs": [],
   "source": [
    "tools.append(llm_call)"
   ]
  },
  {
   "cell_type": "code",
   "execution_count": 16,
   "metadata": {},
   "outputs": [],
   "source": [
    "# Construct the tool calling agent\n",
    "agent = create_tool_calling_agent(model, tools, prompt)\n",
    "# Create an agent executor by passing in the agent and tools\n",
    "agent_executor = AgentExecutor(agent=agent, tools=tools, verbose=True,return_intermediate_steps=True,handle_parsing_errors=True)"
   ]
  },
  {
   "cell_type": "code",
   "execution_count": 17,
   "metadata": {},
   "outputs": [
    {
     "name": "stdout",
     "output_type": "stream",
     "text": [
      "\n",
      "\n",
      "\u001b[1m> Entering new AgentExecutor chain...\u001b[0m\n",
      "\u001b[32;1m\u001b[1;3m\n",
      "Invoking: `Calculator` with `(4.5*2.1)**2.2`\n",
      "\n",
      "\n",
      "\u001b[0m\u001b[36;1m\u001b[1;3mAnswer: 139.94261298333066\u001b[0m\u001b[32;1m\u001b[1;3mThe answer is 139.94261298333066.\u001b[0m\n",
      "\n",
      "\u001b[1m> Finished chain.\u001b[0m\n"
     ]
    },
    {
     "data": {
      "text/plain": [
       "{'input': 'What is (4.5*2.1)**2.2 ',\n",
       " 'output': 'The answer is 139.94261298333066.',\n",
       " 'intermediate_steps': [(ToolAgentAction(tool='Calculator', tool_input='(4.5*2.1)**2.2', log='\\nInvoking: `Calculator` with `(4.5*2.1)**2.2`\\n\\n\\n', message_log=[AIMessageChunk(content='', additional_kwargs={'tool_calls': [{'id': 'call_v7ev', 'function': {'arguments': '{\"__arg1\":\"(4.5*2.1)**2.2\"}', 'name': 'Calculator'}, 'type': 'function'}]}, response_metadata={'finish_reason': 'tool_calls', 'logprobs': None}, id='run-f79372fd-8970-456f-b710-06a709409708', tool_calls=[{'name': 'Calculator', 'args': {'__arg1': '(4.5*2.1)**2.2'}, 'id': 'call_v7ev', 'type': 'tool_call'}], usage_metadata={'input_tokens': 1179, 'output_tokens': 54, 'total_tokens': 1233}, tool_call_chunks=[{'name': 'Calculator', 'args': '{\"__arg1\":\"(4.5*2.1)**2.2\"}', 'id': 'call_v7ev', 'index': None, 'type': 'tool_call_chunk'}])], tool_call_id='call_v7ev'),\n",
       "   'Answer: 139.94261298333066')]}"
      ]
     },
     "execution_count": 17,
     "metadata": {},
     "output_type": "execute_result"
    }
   ],
   "source": [
    "agent_executor.invoke(\n",
    "    {\n",
    "        \"input\": \"What is (4.5*2.1)**2.2 \"\n",
    "    }\n",
    ")"
   ]
  },
  {
   "cell_type": "code",
   "execution_count": 18,
   "metadata": {},
   "outputs": [
    {
     "name": "stdout",
     "output_type": "stream",
     "text": [
      "\n",
      "\n",
      "\u001b[1m> Entering new AgentExecutor chain...\u001b[0m\n",
      "\u001b[32;1m\u001b[1;3m\n",
      "Invoking: `wikipedia` with `{'query': 'Rohit Sharma'}`\n",
      "\n",
      "\n",
      "\u001b[0m"
     ]
    },
    {
     "name": "stderr",
     "output_type": "stream",
     "text": [
      "/Users/eshantdas/Desktop/Youtube/Youtube_GenAI_Test_code/myenv/lib/python3.12/site-packages/wikipedia/wikipedia.py:389: GuessedAtParserWarning: No parser was explicitly specified, so I'm using the best available HTML parser for this system (\"html.parser\"). This usually isn't a problem, but if you run this code on another system, or in a different virtual environment, it may use a different parser and behave differently.\n",
      "\n",
      "The code that caused this warning is on line 389 of the file /Users/eshantdas/Desktop/Youtube/Youtube_GenAI_Test_code/myenv/lib/python3.12/site-packages/wikipedia/wikipedia.py. To get rid of this warning, pass the additional argument 'features=\"html.parser\"' to the BeautifulSoup constructor.\n",
      "\n",
      "  lis = BeautifulSoup(html).find_all('li')\n"
     ]
    },
    {
     "name": "stdout",
     "output_type": "stream",
     "text": [
      "\u001b[33;1m\u001b[1;3mPage: Rohit Sharma\n",
      "Summary: Rohit Gurunath Sharma (born 30 April 1987) is an Indian international cricketer who currently plays for and captains the India national cricket team in Test and One Day International (ODI) matches. Previously, he also captained the team in Twenty20 International (T20I) matches and led India's win in 2024 ICC Men's T20 World Cup, subsequent to which he retired from T20s in June, 2024. The right-handed batsman, who is considered one of the best batsmen of his generation and one of the greatest opening batters of all time, is known for his timing, elegance, six-hitting abilities and leadership skills.\n",
      "He holds several batting records which famously include most runs in T20 Internationals, most sixes in international cricket, most double centuries in ODI cricket (3), most centuries at Cricket World Cups (7) and joint most hundreds in Twenty20 Internationals (5). He is the first player to score 5 T20I centuries. He also holds the world record for the highest individual score (264) in a One Day International (ODI) match and is the only player to have scored three double-centuries in ODIs and also holds the record for scoring most hundreds (five) in a single Cricket World Cup, for which he won the ICC Men's ODI Cricketer of the Year award in 2019. He is the only player to win 50 matches as captain in T20Is.\n",
      "He plays for Mumbai Indians and Mumbai cricket team in Indian Premier League (IPL) and domestic cricket respectively. He formerly captained Mumbai Indians and the team has won 5 Indian Premier League titles in 2013, 2015, 2017, 2019 and 2020 under him, making him the most successful captain in IPL history, sharing this record with MS Dhoni. With India, Rohit Sharma was a member of the team that won the 2007 T20 World Cup, and the 2013 ICC Champions Trophy, where he played in the finals of both tournaments. He is also one of two players who have played in every edition of the T20 World Cup, from the inaugural edition in 2007 to the latest one in 2024. He is the only Indian player to win two T20 World Cups. He became the second Indian captain to win a T20 World Cup, when he led India to win the 2024 T20 World Cup.\n",
      "He has received two national honours, the Arjuna Award in 2015 and the prestigious Major Dhyan Chand Khel Ratna Award in 2020 by the Government of India. Under his captaincy, India won the 2018 Asia Cup and the 2023 Asia Cup, the seventh and eighth time the country won the title, both in ODI format as well as the 2018 Nidahas Trophy, their second overall and first in T20I format.\n",
      "Outside cricket, Sharma is an active supporter of animal welfare campaigns. He is the official Rhino Ambassador for WWF-India and is a member of People for the Ethical Treatment of Animals (PETA). He has worked with PETA in its campaign to raise awareness of the plight of homeless cats and dogs in India.\n",
      "\n",
      "\n",
      "\n",
      "Page: List of international cricket centuries by Rohit Sharma\n",
      "Summary: Rohit Sharma is an Indian cricketer who has represented the national team since 2007. He has made 48 centuries in international cricket—31 in One Day Internationals (ODI), 12 in Tests and 5 in Twenty20 Internationals (T20Is)—as of March 2024.\n",
      "Sharma made his ODI debut against Ireland in June 2007. His first century came during the 2010 Tri-nation tournament in Zimbabwe when he made 114 against the hosts. In the 2013 bilateral series against Australia at home, he made two centuries, including a double-century. The next year, he scored 264 against Sri Lanka at the Eden Gardens, Kolkata. The score remains the highest individual total by a batsman in the format as of May 2023. In January 2016, he made 171 not out against Australia; it remained the highest score by a visiting batsman against Australia until England's Jason Roy made 180 in 2018. Sharma set the record for most centuries scored in a World Cup when he scored five centuries in the 2019 World Cup. He has scored centuries against nine different opponents and has the joint second-highest numbe\u001b[0m\u001b[32;1m\u001b[1;3mRohit Sharma is an Indian international cricketer who currently plays for and captains the India national cricket team in Test and One Day International (ODI) matches. He is a right-handed batsman known for his timing, elegance, six-hitting abilities, and leadership skills. He holds several batting records, including most runs in T20 Internationals, most sixes in international cricket, most double centuries in ODI cricket, and most centuries at Cricket World Cups.\u001b[0m\n",
      "\n",
      "\u001b[1m> Finished chain.\u001b[0m\n"
     ]
    }
   ],
   "source": [
    "a=agent_executor.invoke(\n",
    "    {\n",
    "        \"input\": \"Describe  Rohit Sharma\"\n",
    "    }\n",
    ")"
   ]
  },
  {
   "cell_type": "code",
   "execution_count": null,
   "metadata": {},
   "outputs": [],
   "source": []
  },
  {
   "cell_type": "code",
   "execution_count": null,
   "metadata": {},
   "outputs": [],
   "source": []
  }
 ],
 "metadata": {
  "kernelspec": {
   "display_name": "myenv",
   "language": "python",
   "name": "python3"
  },
  "language_info": {
   "codemirror_mode": {
    "name": "ipython",
    "version": 3
   },
   "file_extension": ".py",
   "mimetype": "text/x-python",
   "name": "python",
   "nbconvert_exporter": "python",
   "pygments_lexer": "ipython3",
   "version": "3.12.4"
  },
  "orig_nbformat": 4
 },
 "nbformat": 4,
 "nbformat_minor": 2
}
