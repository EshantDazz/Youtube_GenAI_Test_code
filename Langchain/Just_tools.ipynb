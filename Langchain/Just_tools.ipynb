{
 "cells": [
  {
   "cell_type": "code",
   "execution_count": null,
   "metadata": {},
   "outputs": [],
   "source": []
  },
  {
   "cell_type": "code",
   "execution_count": 1,
   "metadata": {},
   "outputs": [],
   "source": [
    "\n",
    "from langchain.agents import load_tools, initialize_agent\n",
    "from langchain.agents import AgentType\n",
    "from operator import itemgetter\n",
    "from dotenv import load_dotenv\n",
    "load_dotenv('/Users/eshantdas/Desktop/YOutube_scripts/myenv/.env')\n",
    "from langchain_core.output_parsers import StrOutputParser\n",
    "from langchain_core.prompts import ChatPromptTemplate\n",
    "from langchain_groq import ChatGroq\n",
    "\n",
    "model = ChatGroq(\n",
    "    temperature=0,\n",
    "    model=\"llama3-groq-70b-8192-tool-use-preview\",\n",
    ")"
   ]
  },
  {
   "cell_type": "code",
   "execution_count": 2,
   "metadata": {},
   "outputs": [
    {
     "data": {
      "text/plain": [
       "'Answer: 139.94261298333066'"
      ]
     },
     "execution_count": 2,
     "metadata": {},
     "output_type": "execute_result"
    }
   ],
   "source": [
    "\n",
    "from langchain.chains import LLMMathChain, LLMChain\n",
    "from langchain.prompts import PromptTemplate\n",
    "from langchain_community.utilities import WikipediaAPIWrapper\n",
    "from langchain.agents.agent_types import AgentType\n",
    "from langchain.agents import Tool, initialize_agent\n",
    "\n",
    "\n",
    "problem_chain = LLMMathChain.from_llm(llm=model)\n",
    "math_tool = Tool.from_function(name=\"Calculator\",\n",
    "                func=problem_chain.run,\n",
    "                 description=\"\"\"Useful for when you need to answer questions \n",
    "about math. This tool is only for math questions and nothing else. Only input\n",
    "math expressions.\"\"\")\n",
    "\n",
    "\n",
    "math_tool.run(\"What is (4.5*2.1)**2.2\")"
   ]
  },
  {
   "cell_type": "code",
   "execution_count": 3,
   "metadata": {},
   "outputs": [],
   "source": [
    "wikipedia = WikipediaAPIWrapper()\n",
    "wikipedia_tool = Tool(name=\"Wikipedia\",\n",
    "                      func=wikipedia.run,\n",
    "\t              description=\"\"\"A useful tool for searching the Internet \n",
    "to    find information on world events, issues, dates, years, etc. Worth \n",
    "using for general topics. Use precise questions.\"\"\")"
   ]
  },
  {
   "cell_type": "code",
   "execution_count": 4,
   "metadata": {},
   "outputs": [
    {
     "name": "stdout",
     "output_type": "stream",
     "text": [
      "Page: Rohit Sharma\n",
      "Summary: Rohit Gurunath Sharma (born 30 April 1987) is an Indian international cricketer who currently plays for and captains the India national cricket team in Test and One Day International (ODI) matches. Previously, he also captained the team in Twenty20 International (T20I) matches and led India's win in 2024 ICC Men's T20 World Cup, subsequent to which he retired from T20s in June 2024. The right-handed batsman, who is considered one of the best batsmen of his generation and one of the greatest opening batters of all time, is known for his timing, elegance, six-hitting abilities and leadership skills.\n",
      "He holds several batting records which famously include most runs in T20 Internationals, most sixes in international cricket, most double centuries in ODI cricket (3), most centuries at Cricket World Cups (7) and joint most hundreds in Twenty20 Internationals (5). He is the first player to score 5 T20I centuries. He also holds the world record for the highest individual score (264) in a One Day International (ODI) match and is the only player to have scored three double-centuries in ODIs and also holds the record for scoring most hundreds (five) in a single Cricket World Cup, for which he won the ICC Men's ODI Cricketer of the Year award in 2019. He is the only player to win 50 matches as captain in T20Is.\n",
      "He plays for Mumbai Indians and Mumbai cricket team in Indian Premier League (IPL) and domestic cricket respectively. He formerly captained Mumbai Indians and the team has won 5 Indian Premier League titles in 2013, 2015, 2017, 2019 and 2020 under him, making him the most successful captain in IPL history, sharing this record with MS Dhoni. With India, Rohit Sharma was a member of the team that won the 2007 T20 World Cup, and the 2013 ICC Champions Trophy, where he played in the finals of both tournaments. He is also one of two players who have played in every edition of the T20 World Cup, from the inaugural edition in 2007 to the latest one in 2024. He is the only Indian player to win two T20 World Cups. He became the second Indian captain to win a T20 World Cup, when he led India to win the 2024 T20 World Cup.\n",
      "He has received two national honours, the Arjuna Award in 2015 and the prestigious Major Dhyan Chand Khel Ratna Award in 2020 by the Government of India. Under his captaincy, India won the 2018 Asia Cup and the 2023 Asia Cup, the seventh and eighth time the country won the title, both in ODI format as well as the 2018 Nidahas Trophy, their second overall and first in T20I format.\n",
      "Outside cricket, Sharma is an active supporter of animal welfare campaigns. He is the official Rhino Ambassador for WWF-India and is a member of People for the Ethical Treatment of Animals (PETA). He has worked with PETA in its campaign to raise awareness of the plight of homeless cats and dogs in India.\n",
      "\n",
      "Page: List of international cricket centuries by Rohit Sharma\n",
      "Summary: Rohit Sharma is an Indian cricketer who has represented the national team since 2007. He has made 48 centuries in international cricket—31 in One Day Internationals (ODI), 12 in Tests and 5 in Twenty20 Internationals (T20Is)—as of March 2024.\n",
      "Sharma made his ODI debut against Ireland in June 2007. His first century came during the 2010 Tri-nation tournament in Zimbabwe when he made 114 against the hosts. In the 2013 bilateral series against Australia at home, he made two centuries, including a double-century. The next year, he scored 264 against Sri Lanka at the Eden Gardens, Kolkata. The score remains the highest individual total by a batsman in the format as of May 2023. In January 2016, he made 171 not out against Australia; it remained the highest score by a visiting batsman against Australia until England's Jason Roy made 180 in 2018. Sharma set the record for most centuries scored in a World Cup when he scored five centuries in the 2019 World Cup. He has scored centuries against nine different opponents and has the joint second-highest number o\n"
     ]
    },
    {
     "name": "stderr",
     "output_type": "stream",
     "text": [
      "/Users/eshantdas/Desktop/YOutube_scripts/myenv/lib/python3.10/site-packages/wikipedia/wikipedia.py:389: GuessedAtParserWarning: No parser was explicitly specified, so I'm using the best available HTML parser for this system (\"lxml\"). This usually isn't a problem, but if you run this code on another system, or in a different virtual environment, it may use a different parser and behave differently.\n",
      "\n",
      "The code that caused this warning is on line 389 of the file /Users/eshantdas/Desktop/YOutube_scripts/myenv/lib/python3.10/site-packages/wikipedia/wikipedia.py. To get rid of this warning, pass the additional argument 'features=\"lxml\"' to the BeautifulSoup constructor.\n",
      "\n",
      "  lis = BeautifulSoup(html).find_all('li')\n"
     ]
    }
   ],
   "source": [
    "print(wikipedia_tool.run(\"Rohit Sharma\"))"
   ]
  },
  {
   "cell_type": "code",
   "execution_count": null,
   "metadata": {},
   "outputs": [],
   "source": []
  }
 ],
 "metadata": {
  "kernelspec": {
   "display_name": "myenv",
   "language": "python",
   "name": "python3"
  },
  "language_info": {
   "codemirror_mode": {
    "name": "ipython",
    "version": 3
   },
   "file_extension": ".py",
   "mimetype": "text/x-python",
   "name": "python",
   "nbconvert_exporter": "python",
   "pygments_lexer": "ipython3",
   "version": "3.10.8"
  },
  "orig_nbformat": 4
 },
 "nbformat": 4,
 "nbformat_minor": 2
}
