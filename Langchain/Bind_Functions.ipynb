{
 "cells": [
  {
   "cell_type": "code",
   "execution_count": 1,
   "metadata": {},
   "outputs": [
    {
     "data": {
      "text/plain": [
       "True"
      ]
     },
     "execution_count": 1,
     "metadata": {},
     "output_type": "execute_result"
    }
   ],
   "source": [
    "from dotenv import load_dotenv\n",
    "load_dotenv('/Users/eshantdas/Desktop/YOutube_scripts/myenv/.env')"
   ]
  },
  {
   "cell_type": "code",
   "execution_count": 2,
   "metadata": {},
   "outputs": [],
   "source": [
    "\n",
    "from langchain_groq import ChatGroq\n",
    "from langchain_core.output_parsers import StrOutputParser\n",
    "from langchain_core.prompts import ChatPromptTemplate\n",
    "from langchain_openai import ChatOpenAI\n",
    "from langchain_core.output_parsers.openai_tools import PydanticToolsParser\n",
    "\n",
    "model=ChatGroq( model=\"llama-3.1-70b-versatile\")\n"
   ]
  },
  {
   "cell_type": "code",
   "execution_count": 3,
   "metadata": {},
   "outputs": [],
   "source": [
    "from langchain_core.pydantic_v1 import BaseModel, Field\n"
   ]
  },
  {
   "cell_type": "code",
   "execution_count": 4,
   "metadata": {},
   "outputs": [],
   "source": [
    "class Tagging(BaseModel):\n",
    "    \"\"\"Put the sentiment and language in the form of a dictionary\"\"\"\n",
    "    sentiment:str=Field(description=\"sentiment of the text which should be 'pos','neg' or 'neutral\")\n",
    "    language:str=Field(description=\"language of the text\")"
   ]
  },
  {
   "cell_type": "code",
   "execution_count": 5,
   "metadata": {},
   "outputs": [],
   "source": [
    "prompt=ChatPromptTemplate.from_messages([\n",
    "    (\"system\",\"Think carefully and then tag the text as instrucred\"),\n",
    "    (\"user\",\"{input}\")\n",
    "]\n",
    ")"
   ]
  },
  {
   "cell_type": "code",
   "execution_count": 6,
   "metadata": {},
   "outputs": [],
   "source": [
    "# chain=(prompt | model.bind_tools(\n",
    "#     tools=[Tagging],tool_choice='Tagging').with_config(run_name='Tagging')\n",
    "#     | PydanticToolsParser(tools=[Tagging])\n",
    "#     )\n",
    "\n",
    "# chain.invoke({\"input\":\"I love Eshant\"})"
   ]
  },
  {
   "cell_type": "code",
   "execution_count": null,
   "metadata": {},
   "outputs": [],
   "source": []
  },
  {
   "cell_type": "code",
   "execution_count": 7,
   "metadata": {},
   "outputs": [],
   "source": [
    "from langchain.utils.openai_functions import convert_pydantic_to_openai_function\n",
    "\n",
    "from langchain_core.utils.function_calling import convert_to_openai_function"
   ]
  },
  {
   "cell_type": "code",
   "execution_count": 8,
   "metadata": {},
   "outputs": [
    {
     "data": {
      "text/plain": [
       "{'name': 'Tagging',\n",
       " 'description': 'Put the sentiment and language in the form of a dictionary',\n",
       " 'parameters': {'type': 'object',\n",
       "  'properties': {'sentiment': {'description': \"sentiment of the text which should be 'pos','neg' or 'neutral\",\n",
       "    'type': 'string'},\n",
       "   'language': {'description': 'language of the text', 'type': 'string'}},\n",
       "  'required': ['sentiment', 'language']}}"
      ]
     },
     "execution_count": 8,
     "metadata": {},
     "output_type": "execute_result"
    }
   ],
   "source": [
    "convert_to_openai_function(Tagging)"
   ]
  },
  {
   "cell_type": "code",
   "execution_count": 9,
   "metadata": {},
   "outputs": [],
   "source": [
    "import json\n",
    "def output_parser_letsgo(data):\n",
    "    a=data\n",
    "    b=a.additional_kwargs['function_call']['arguments']\n",
    "    c=json.loads(b)\n",
    "    return c\n",
    "    \n",
    "    "
   ]
  },
  {
   "cell_type": "code",
   "execution_count": 10,
   "metadata": {},
   "outputs": [],
   "source": [
    "import json\n",
    "def output_parser_letsgo(data):\n",
    "    a=data\n",
    "    b=a.additional_kwargs['function_call']['arguments']\n",
    "    c=json.loads(b)\n",
    "    return c\n",
    "    \n",
    "    \n",
    "\n",
    "\n",
    "from langchain_core.output_parsers import JsonOutputParser\n",
    "from langchain_core.runnables import RunnableLambda\n",
    "parser=JsonOutputParser(pydantic_object=Tagging)\n",
    "\n",
    "tagging_function=[convert_to_openai_function(Tagging)]\n",
    "model_with_function=model.bind(\n",
    "    functions=tagging_function,\n",
    "    function_call={\"name\":\"Tagging\"}\n",
    ")\n",
    "\n",
    "tagging_chain=prompt | model_with_function | RunnableLambda(output_parser_letsgo)"
   ]
  },
  {
   "cell_type": "code",
   "execution_count": 11,
   "metadata": {},
   "outputs": [
    {
     "data": {
      "text/plain": [
       "{'language': 'English', 'sentiment': 'pos'}"
      ]
     },
     "execution_count": 11,
     "metadata": {},
     "output_type": "execute_result"
    }
   ],
   "source": [
    "a=tagging_chain.invoke({\"input\":\"i love langchain\"})\n",
    "a"
   ]
  },
  {
   "cell_type": "code",
   "execution_count": null,
   "metadata": {},
   "outputs": [],
   "source": []
  },
  {
   "cell_type": "code",
   "execution_count": null,
   "metadata": {},
   "outputs": [],
   "source": []
  },
  {
   "cell_type": "code",
   "execution_count": null,
   "metadata": {},
   "outputs": [],
   "source": []
  },
  {
   "cell_type": "markdown",
   "metadata": {},
   "source": [
    "## `Extraction`"
   ]
  },
  {
   "cell_type": "code",
   "execution_count": null,
   "metadata": {},
   "outputs": [],
   "source": []
  },
  {
   "cell_type": "code",
   "execution_count": 12,
   "metadata": {},
   "outputs": [],
   "source": [
    "from typing import Optional,List\n",
    "class Person(BaseModel):\n",
    "    \"\"\"Information about a person\"\"\"\n",
    "    name:str=Field(description=\"persons name\")\n",
    "    age:Optional[int]=Field(description=\"person's age\")\n",
    "    hobby:str=Field(description=\"person hobby\")"
   ]
  },
  {
   "cell_type": "code",
   "execution_count": 13,
   "metadata": {},
   "outputs": [],
   "source": [
    "class Information(BaseModel):\n",
    "    \"\"\"Information to extract\"\"\"\n",
    "    person:List[Person]=Field(description=\"List of info about people\")"
   ]
  },
  {
   "cell_type": "code",
   "execution_count": 14,
   "metadata": {},
   "outputs": [],
   "source": [
    "extraction_function=[convert_to_openai_function(Information)]\n",
    "extraction_model=model.bind(\n",
    "    functions=extraction_function,\n",
    "    function_call={\"name\":\"Information\"}\n",
    ")"
   ]
  },
  {
   "cell_type": "code",
   "execution_count": 15,
   "metadata": {},
   "outputs": [],
   "source": [
    "import json\n",
    "def output_parser_letsgo(data):\n",
    "    a=data\n",
    "    b=a.additional_kwargs['function_call']['arguments']\n",
    "    c=json.loads(b)\n",
    "    return c['person']"
   ]
  },
  {
   "cell_type": "code",
   "execution_count": 16,
   "metadata": {},
   "outputs": [
    {
     "data": {
      "text/plain": [
       "[{'name': 'Eshant', 'hobby': 'Cricket', 'age': 20},\n",
       " {'name': 'Barna', 'hobby': 'cooking chicken'},\n",
       " {'name': 'Riyan', 'hobby': 'football', 'age': 20}]"
      ]
     },
     "execution_count": 16,
     "metadata": {},
     "output_type": "execute_result"
    }
   ],
   "source": [
    "extraction_chain=prompt | extraction_model | RunnableLambda(output_parser_letsgo)\n",
    "\n",
    "extraction_chain.invoke(\"Eshant is 20 years old and he likes to play Cricket and his mom whose name is Barna lobves to cook chicken. He also has a brother named Riyan who is 20 years old but he likes to play football\")"
   ]
  },
  {
   "cell_type": "code",
   "execution_count": null,
   "metadata": {},
   "outputs": [],
   "source": []
  },
  {
   "cell_type": "code",
   "execution_count": null,
   "metadata": {},
   "outputs": [],
   "source": []
  }
 ],
 "metadata": {
  "kernelspec": {
   "display_name": "myenv",
   "language": "python",
   "name": "python3"
  },
  "language_info": {
   "codemirror_mode": {
    "name": "ipython",
    "version": 3
   },
   "file_extension": ".py",
   "mimetype": "text/x-python",
   "name": "python",
   "nbconvert_exporter": "python",
   "pygments_lexer": "ipython3",
   "version": "3.10.8"
  }
 },
 "nbformat": 4,
 "nbformat_minor": 2
}
