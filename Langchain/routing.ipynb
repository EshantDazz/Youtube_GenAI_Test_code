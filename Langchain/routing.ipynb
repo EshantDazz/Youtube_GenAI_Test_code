{
 "cells": [
  {
   "cell_type": "code",
   "execution_count": 2,
   "metadata": {},
   "outputs": [
    {
     "data": {
      "text/plain": [
       "True"
      ]
     },
     "execution_count": 2,
     "metadata": {},
     "output_type": "execute_result"
    }
   ],
   "source": [
    "from dotenv import load_dotenv\n",
    "load_dotenv('myenv/.env')"
   ]
  },
  {
   "cell_type": "code",
   "execution_count": 4,
   "metadata": {},
   "outputs": [],
   "source": [
    "from langchain_nvidia_ai_endpoints import ChatNVIDIA\n",
    "from langchain_groq import ChatGroq\n",
    "from langchain_core.output_parsers import StrOutputParser\n",
    "from langchain_core.prompts import PromptTemplate\n",
    "\n",
    "\n",
    "\n",
    "\n",
    "llm_nvidea=ChatNVIDIA(model=\"mistralai/mixtral-8x22b-instruct-v0.1\")\n",
    "llm_groqai=ChatGroq( model=\"llama3-70b-8192\")\n",
    "\n",
    "\n",
    "\n",
    "\n",
    "chain = (\n",
    "    PromptTemplate.from_template(\n",
    "        \"\"\"Given the user question below, classify it as either being about `gaming`, `world affairs`\n",
    "\n",
    "Do not respond with more than one word.\n",
    "\n",
    "<question>\n",
    "{question}\n",
    "</question>\n",
    "\n",
    "Classification:\"\"\"\n",
    "    )\n",
    "    | llm_groqai\n",
    "    | StrOutputParser()\n",
    ")\n"
   ]
  },
  {
   "cell_type": "code",
   "execution_count": 5,
   "metadata": {},
   "outputs": [],
   "source": [
    "nvide_chain = PromptTemplate.from_template(\n",
    "    \"\"\"You are an expert in Gaming. \\\n",
    "Always answer questions starting with \"As NVIDEA is known for gaming\". \\\n",
    "Respond to the following question:\n",
    "\n",
    "Question: {question}\n",
    "Answer:\"\"\"\n",
    ") | llm_nvidea\n",
    "\n",
    "groqai_chain = PromptTemplate.from_template(\n",
    "    \"\"\"You are an expert in world affairs. \\\n",
    "Always answer questions starting with \"As Eshant told us\". \\\n",
    "Respond to the following question:\n",
    "\n",
    "Question: {question}\n",
    "Answer:\"\"\"\n",
    ") | llm_groqai\n"
   ]
  },
  {
   "cell_type": "code",
   "execution_count": 6,
   "metadata": {},
   "outputs": [],
   "source": [
    "def route(info):\n",
    "    if \"game\" in info[\"topic\"].lower() or \"gaming\" in info[\"topic\"].lower():\n",
    "        return nvide_chain\n",
    "    elif \"world affairs\" in info[\"topic\"].lower():\n",
    "        return groqai_chain\n"
   ]
  },
  {
   "cell_type": "code",
   "execution_count": 7,
   "metadata": {},
   "outputs": [],
   "source": [
    "from langchain_core.runnables import RunnableLambda\n",
    "\n",
    "full_chain = {\"topic\": chain, \"question\": lambda x: x[\"question\"]} | RunnableLambda(\n",
    "    route \n",
    ") | StrOutputParser()"
   ]
  },
  {
   "cell_type": "code",
   "execution_count": 6,
   "metadata": {},
   "outputs": [
    {
     "data": {
      "text/plain": [
       "ChatMessage(content='As NVIDIA is known for gaming, I can certainly help you with that. Gaming, in essence, involves playing electronic games that are either computer-based or internet-based. NVIDIA, as a world-leading graphics and computing company, is deeply involved in the gaming sphere. We provide high-end graphic cards, processors, and technologies such as ray tracing and DLSS that greatly enhance the gaming experience. Our products are used by gamers worldwide, enabling stunning visuals, smooth gameplay, and immersive virtual worlds.', response_metadata={'role': 'assistant', 'content': 'As NVIDIA is known for gaming, I can certainly help you with that. Gaming, in essence, involves playing electronic games that are either computer-based or internet-based. NVIDIA, as a world-leading graphics and computing company, is deeply involved in the gaming sphere. We provide high-end graphic cards, processors, and technologies such as ray tracing and DLSS that greatly enhance the gaming experience. Our products are used by gamers worldwide, enabling stunning visuals, smooth gameplay, and immersive virtual worlds.', 'token_usage': {'prompt_tokens': 49, 'total_tokens': 161, 'completion_tokens': 112}, 'model_name': 'mistralai/mixtral-8x22b-instruct-v0.1'}, id='run-2d1f325c-2fbf-4afa-830c-5d55e1ad00f3-0', role='assistant')"
      ]
     },
     "execution_count": 6,
     "metadata": {},
     "output_type": "execute_result"
    }
   ],
   "source": [
    "full_chain.invoke({\"question\": \"Do uyou know about Gaming?\"})"
   ]
  },
  {
   "cell_type": "code",
   "execution_count": 8,
   "metadata": {},
   "outputs": [
    {
     "data": {
      "text/plain": [
       "'As Eshant told us, the ongoing conflict between Russia and Ukraine is a complex and multifaceted issue that has been escalating since 2014. The roots of the conflict can be traced back to the Ukrainian revolution in 2013, which led to the ousting of pro-Russian President Viktor Yanukovych. Russia, under President Vladimir Putin, responded by annexing Crimea, a peninsula in Ukraine with a majority ethnic Russian population.\\n\\nAs Eshant told us, the situation further deteriorated when pro-Russian separatists in eastern Ukraine, particularly in the Donetsk and Luhansk regions, declared independence and sought to join Russia. Ukraine, backed by the West, viewed this as an illegal takeover and responded with military force.\\n\\nAs Eshant told us, the conflict has resulted in thousands of deaths, widespread destruction, and a massive humanitarian crisis. The international community has imposed sanctions on Russia, and diplomatic efforts have been made to broker a peaceful resolution, including the Minsk agreements. However, the conflict remains unresolved, with periodic ceasefires and escalations.\\n\\nAs Eshant told us, the Russia-Ukraine war has significant implications for global geopolitics, energy security, and the balance of power in Europe. It has also raised concerns about the potential for further escalation and the impact on regional and global stability.'"
      ]
     },
     "execution_count": 8,
     "metadata": {},
     "output_type": "execute_result"
    }
   ],
   "source": [
    "full_chain.invoke({\"question\": \"Do uyou know about Russia and Ukraine War??\"})"
   ]
  },
  {
   "cell_type": "code",
   "execution_count": null,
   "metadata": {},
   "outputs": [],
   "source": []
  },
  {
   "cell_type": "code",
   "execution_count": null,
   "metadata": {},
   "outputs": [],
   "source": []
  },
  {
   "cell_type": "code",
   "execution_count": null,
   "metadata": {},
   "outputs": [],
   "source": []
  },
  {
   "cell_type": "markdown",
   "metadata": {},
   "source": [
    "### Routing whether to choose physics or maths problem"
   ]
  },
  {
   "cell_type": "code",
   "execution_count": 8,
   "metadata": {},
   "outputs": [],
   "source": [
    "from langchain_cohere import CohereEmbeddings\n",
    "embeddings = CohereEmbeddings(\n",
    "    model=\"embed-english-light-v3.0\"\n",
    ")  "
   ]
  },
  {
   "cell_type": "code",
   "execution_count": 9,
   "metadata": {},
   "outputs": [],
   "source": [
    "from langchain.utils.math import cosine_similarity\n",
    "from langchain_core.output_parsers import StrOutputParser\n",
    "from langchain_core.prompts import PromptTemplate\n",
    "from langchain_core.runnables import RunnableLambda, RunnablePassthrough\n",
    "\n",
    "physics_template = \"\"\"You are a very smart physics professor. \\\n",
    "You are great at answering questions about physics in a concise and easy to understand manner. \\\n",
    "When you don't know the answer to a question you admit that you don't know.\n",
    "\n",
    "Here is a question:\n",
    "{query}\"\"\"\n",
    "\n",
    "math_template = \"\"\"You are a very good mathematician. You are great at answering math questions. \\\n",
    "You are so good because you are able to break down hard problems into their component parts, \\\n",
    "answer the component parts, and then put them together to answer the broader question.\n",
    "\n",
    "Here is a question:\n",
    "{query}\"\"\"\n",
    "\n",
    "embeddings = CohereEmbeddings(\n",
    "    model=\"embed-english-light-v3.0\"\n",
    ") \n",
    "prompt_templates = [physics_template, math_template]\n",
    "prompt_embeddings = embeddings.embed_documents(prompt_templates)\n",
    "\n",
    "\n",
    "def prompt_router(input):\n",
    "    query_embedding = embeddings.embed_query(input[\"query\"])\n",
    "    similarity = cosine_similarity([query_embedding], prompt_embeddings)[0]\n",
    "    most_similar = prompt_templates[similarity.argmax()]\n",
    "    print(\"Using MATH\" if most_similar == math_template else \"Using PHYSICS\")\n",
    "    return PromptTemplate.from_template(most_similar)\n",
    "\n",
    "\n",
    "chain = (\n",
    "    {\"query\": RunnablePassthrough()}\n",
    "    | RunnableLambda(prompt_router)\n",
    "    | llm_groqai\n",
    "    | StrOutputParser()\n",
    ")"
   ]
  },
  {
   "cell_type": "code",
   "execution_count": 10,
   "metadata": {},
   "outputs": [
    {
     "name": "stdout",
     "output_type": "stream",
     "text": [
      "Using PHYSICS\n",
      "Black holes are one of my favorite topics in physics.\n",
      "\n",
      "A black hole is a region in space where the gravitational pull is so strong that nothing, including light, can escape. It's formed when a massive star collapses in on itself and its gravity becomes so strong that it warps the fabric of spacetime around it.\n",
      "\n",
      "Imagine a star with a mass at least three times that of our sun. When it runs out of fuel, it collapses under its own gravity, causing a massive amount of matter to be compressed into an incredibly small point called a singularity. This singularity has infinite density and zero volume, which creates an intense gravitational field.\n",
      "\n",
      "The point of no return around a black hole is called the event horizon. Any object, including light, that crosses the event horizon is trapped by the black hole's gravity and cannot escape. It's like a cosmic sinkhole that warps spacetime in extreme ways.\n",
      "\n",
      "Now, here's a mind-bending aspect of black holes: time dilation and gravitational redshift. Time appears to slow down near a black hole, and the stronger the gravity, the slower time passes. Additionally, the gravity of a black hole stretches and reddens light, a phenomenon known as gravitational redshift.\n",
      "\n",
      "That's a brief introduction to black holes! Do you have any follow-up questions about these cosmic wonders?\n"
     ]
    }
   ],
   "source": [
    "print(chain.invoke(\"What's a black hole\"))"
   ]
  },
  {
   "cell_type": "code",
   "execution_count": 11,
   "metadata": {},
   "outputs": [
    {
     "name": "stdout",
     "output_type": "stream",
     "text": [
      "Using MATH\n",
      "What a delightful question!\n",
      "\n",
      "A path integral, also known as a functional integral or a sum over histories, is a fundamental concept in quantum mechanics and quantum field theory. It's a mathematical framework used to compute the probability amplitude of a system transitioning from an initial state to a final state.\n",
      "\n",
      "To break it down, let's dissect the concept into its component parts and then assemble them to answer the question.\n",
      "\n",
      "**Component 1: Classical Action**\n",
      "\n",
      "In classical mechanics, the action of a physical system is defined as the integral of the Lagrangian function L(q, ∂q/∂t) with respect to time, where q represents the generalized coordinates of the system and ∂q/∂t represents their time derivatives. The Lagrangian encodes the kinetic energy and potential energy of the system.\n",
      "\n",
      "**Component 2: Quantum Mechanics**\n",
      "\n",
      "In quantum mechanics, the probability amplitude of a system is described by the wave function ψ. The wave function encodes all the information about the system, including its position, momentum, and energy.\n",
      "\n",
      "**Component 3: Path Integral Formula**\n",
      "\n",
      "The path integral formula, introduced by Richard Feynman, is a way to compute the probability amplitude of a quantum system transitioning from an initial state ψi to a final state ψf. The formula is:\n",
      "\n",
      "ψf(xf, tf) = ∫ Dx(t) exp(i/h ∫[L(x, ∂x/∂t) dt]) ψi(xi, ti)\n",
      "\n",
      "Here, x represents the generalized coordinates of the system, and the integral is taken over all possible paths x(t) that the system can take from the initial state xi to the final state xf. The Lagrangian L(x, ∂x/∂t) is evaluated along each path, and the exponential factor represents the phase accumulated along each path. The constant h is the reduced Planck constant.\n",
      "\n",
      "**Component 4: Sum over Histories**\n",
      "\n",
      "The path integral formula can be interpreted as a sum over all possible histories of the system. Each history corresponds to a particular path x(t) that the system can take from the initial state to the final state. The exponential factor in the formula assigns a complex phase to each history, which represents the relative importance of that history in the overall probability amplitude.\n",
      "\n",
      "**Assembly**\n",
      "\n",
      "Putting all the components together, we can see that the path integral is a mathematical framework that computes the probability amplitude of a quantum system by summing over all possible paths that the system can take from an initial state to a final state. The Lagrangian function, which encodes the classical action, is used to compute the phase accumulated along each path, and the exponential factor ensures that the contributions from different paths interfere with each other.\n",
      "\n",
      "In essence, the path integral provides a powerful tool for computing quantum mechanical amplitudes and has been instrumental in developing our understanding of quantum field theory, condensed matter physics, and other areas of modern physics.\n",
      "\n",
      "I hope this breakdown helps to clarify the concept of a path integral!\n"
     ]
    }
   ],
   "source": [
    "print(chain.invoke(\"What's a path integral\"))"
   ]
  },
  {
   "cell_type": "code",
   "execution_count": null,
   "metadata": {},
   "outputs": [],
   "source": []
  }
 ],
 "metadata": {
  "kernelspec": {
   "display_name": "myenv",
   "language": "python",
   "name": "python3"
  },
  "language_info": {
   "codemirror_mode": {
    "name": "ipython",
    "version": 3
   },
   "file_extension": ".py",
   "mimetype": "text/x-python",
   "name": "python",
   "nbconvert_exporter": "python",
   "pygments_lexer": "ipython3",
   "version": "3.10.8"
  }
 },
 "nbformat": 4,
 "nbformat_minor": 2
}
