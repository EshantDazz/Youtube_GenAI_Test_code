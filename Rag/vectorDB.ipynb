{
 "cells": [
  {
   "cell_type": "code",
   "execution_count": 2,
   "metadata": {},
   "outputs": [],
   "source": [
    "from langchain_community.document_loaders import PyMuPDFLoader\n",
    "from langchain_community.document_loaders import PyPDFLoader\n",
    "from langchain_text_splitters import RecursiveCharacterTextSplitter,TokenTextSplitter,CharacterTextSplitter"
   ]
  },
  {
   "cell_type": "code",
   "execution_count": 3,
   "metadata": {},
   "outputs": [],
   "source": [
    "loader = PyMuPDFLoader(\"/Users/eshantdas/Downloads/field-guide-to-data-science.pdf\")\n",
    "data = loader.load()\n",
    "text_splitter = RecursiveCharacterTextSplitter(chunk_size=10000, chunk_overlap=600)\n",
    "splits_character = text_splitter.split_documents(data)\n"
   ]
  },
  {
   "cell_type": "code",
   "execution_count": null,
   "metadata": {},
   "outputs": [],
   "source": []
  },
  {
   "cell_type": "code",
   "execution_count": 7,
   "metadata": {},
   "outputs": [
    {
     "data": {
      "text/plain": [
       "True"
      ]
     },
     "execution_count": 7,
     "metadata": {},
     "output_type": "execute_result"
    }
   ],
   "source": [
    "from dotenv import load_dotenv\n",
    "load_dotenv('/Users/eshantdas/Desktop/YOutube_scripts/myenv/.env')"
   ]
  },
  {
   "cell_type": "markdown",
   "metadata": {},
   "source": [
    "## ChromaDB"
   ]
  },
  {
   "cell_type": "code",
   "execution_count": 8,
   "metadata": {},
   "outputs": [],
   "source": [
    "# import\n",
    "from langchain_chroma import Chroma\n",
    "from langchain_cohere import CohereEmbeddings"
   ]
  },
  {
   "cell_type": "code",
   "execution_count": 9,
   "metadata": {},
   "outputs": [],
   "source": [
    "# create the open-source embedding function\n",
    "\n",
    "embeddings = CohereEmbeddings(\n",
    "    model=\"embed-english-light-v3.0\"\n",
    ")  "
   ]
  },
  {
   "cell_type": "code",
   "execution_count": 10,
   "metadata": {},
   "outputs": [],
   "source": [
    "# load it into Chroma\n",
    "db = Chroma.from_documents(data, embeddings)"
   ]
  },
  {
   "cell_type": "code",
   "execution_count": 11,
   "metadata": {},
   "outputs": [],
   "source": [
    "# query it\n",
    "query = \"Tell me about Data Science\"\n",
    "docs = db.similarity_search(query=query,k=3)"
   ]
  },
  {
   "cell_type": "code",
   "execution_count": 12,
   "metadata": {},
   "outputs": [
    {
     "data": {
      "text/plain": [
       "[Document(metadata={'author': 'Booz Allen Hamilton', 'creationDate': \"D:20170501173004Z00'00'\", 'creator': 'Adobe InDesign CC 2015 (Macintosh)', 'file_path': '/Users/eshantdas/Downloads/field-guide-to-data-science.pdf', 'format': 'PDF 1.4', 'keywords': 'The Field Guide to Data Science', 'modDate': \"D:20170501173004Z00'00'\", 'page': 21, 'producer': 'Mac OS X 10.12.4 Quartz PDFContext', 'source': '/Users/eshantdas/Downloads/field-guide-to-data-science.pdf', 'subject': 'The Field Guide to Data Science', 'title': 'The Field Guide to Data Science', 'total_pages': 126, 'trapped': ''}, page_content='21\\nStart Here for the Basics\\n21\\nStart Here for the Basics\\nData Science Defined\\nData Science is the art of turning data into actions. This is \\naccomplished through the creation of data products, which provide \\nactionable information without exposing decision makers to the \\nunderlying data or analytics (e.g., buy/sell strategies for financial \\ninstruments, a set of actions to improve product yield, or steps to \\nimprove product marketing).\\nPerforming Data Science requires the extraction of timely, actionable \\ninformation from diverse data sources to drive data products. \\nExamples of data products include answers to questions such as: \\n“Which of my products should I advertise more heavily to increase \\nprofit? How can I improve my compliance program, while reducing \\ncosts? What manufacturing process change will allow me to build a \\nbetter product?” The key to answering these questions is: understand \\nthe data you have and what the data inductively tells you.\\n \\n» Data Product\\nA data product provides actionable \\ninformation without exposing \\ndecision makers to the underlying \\ndata or analytics. Examples include:\\n• Movie Recommendations      \\n• Weather Forecasts\\n• Stock Market Predictions\\n• Production Process \\nImprovements\\n• Health Diagnosis\\n• Flu Trend Predictions\\n• Targeted Advertising\\nRead this for additional background:\\nThe term Data Science appeared \\nin the computer science literature \\nthroughout the 1960s-1980s. \\nIt was not until the late 1990s \\nhowever, that the field as we \\ndescribe it here, began to  \\nemerge from the statistics and \\ndata mining communities  \\n(e.g., [2] and [3]). Data Science \\nwas first introduced as an \\nindependent discipline in 2001.[4] \\nSince that time, there have been \\ncountless articles advancing the \\ndiscipline, culminating with \\nData Scientist being declared the \\nsexiest job of the 21st century.[5] \\nWe established our first Data \\nScience team at Booz Allen \\nin 2010. It began as a natural \\nextension of our Business \\nIntelligence and cloud \\ninfrastructure development  \\nwork. We saw the need for a  \\nnew approach to distill value \\nfrom our clients’ data. We \\napproached the problem \\nwith a multidisciplinary \\nteam of computer scientists, \\nmathematicians and domain \\nexperts. They immediately \\nproduced new insights and \\nanalysis paths, solidifying the \\nvalidity of the approach. Since \\nthat time, our Data Science  \\nteam has grown to 250 staff \\nsupporting dozens of clients \\nacross a variety of domains.  \\nThis breadth of experience \\nprovides a unique perspective  \\non the conceptual models, \\ntradecraft, processes and  \\nculture of Data Science. \\n'),\n",
       " Document(metadata={'author': 'Booz Allen Hamilton', 'creationDate': \"D:20170501173004Z00'00'\", 'creator': 'Adobe InDesign CC 2015 (Macintosh)', 'file_path': '/Users/eshantdas/Downloads/field-guide-to-data-science.pdf', 'format': 'PDF 1.4', 'keywords': 'The Field Guide to Data Science', 'modDate': \"D:20170501173004Z00'00'\", 'page': 12, 'producer': 'Mac OS X 10.12.4 Quartz PDFContext', 'source': '/Users/eshantdas/Downloads/field-guide-to-data-science.pdf', 'subject': 'The Field Guide to Data Science', 'title': 'The Field Guide to Data Science', 'total_pages': 126, 'trapped': ''}, page_content='MEET your G U I D E S\\nFred Blackburn\\n(@boozallen)\\nData Science is a field that is  \\nevolving at a very rapid pace…be  \\npart of the journey. \\nAngela Zutavern\\n(@angelazutavern)\\nData Science is about asking bigger \\nquestions, seeing future possibilities, \\nand creating outcomes you desire. \\nJosh Sullivan \\n(@joshdsullivan)\\nLeading our Data Science team \\nshows me every day the incredible \\npower of discovery and human \\ncuriosity. Don’t be afraid to blend \\nart and science to advance your \\nown view of data analytics – it \\ncan be a powerful mixture.\\nSteve Escaravage\\n(@sescarav)\\nInvest your time and energy \\nin data that is difficult to \\nassemble.  If it doesn’t exist, \\nfind a way to make it exist.\\nPeter Guerra \\n(@petrguerra)\\nData Science is the most fascinating \\nblend of art and math and code \\nand sweat and tears. It can take \\nyou to the highest heights and the \\nlowest depths in an instant, but it \\nis the only way we will be able to \\nunderstand and describe the why.\\nEzmeralda Khalil\\n(@ezmeraldakhalil)\\nThe power of data science \\nlies in the execution.\\n››\\nTHE FIELD GUIDE to  D AT A  S C I E N C E\\n'),\n",
       " Document(metadata={'author': 'Booz Allen Hamilton', 'creationDate': \"D:20170501173004Z00'00'\", 'creator': 'Adobe InDesign CC 2015 (Macintosh)', 'file_path': '/Users/eshantdas/Downloads/field-guide-to-data-science.pdf', 'format': 'PDF 1.4', 'keywords': 'The Field Guide to Data Science', 'modDate': \"D:20170501173004Z00'00'\", 'page': 24, 'producer': 'Mac OS X 10.12.4 Quartz PDFContext', 'source': '/Users/eshantdas/Downloads/field-guide-to-data-science.pdf', 'subject': 'The Field Guide to Data Science', 'title': 'The Field Guide to Data Science', 'total_pages': 126, 'trapped': ''}, page_content='What is the Impact of Data Science?\\nAs we move into the data economy, Data Science is the competitive \\nadvantage for organizations interested in winning – in whatever way \\nwinning is defined. The manner in which the advantage is defined \\nis through improved decision-making. A former colleague liked to \\ndescribe data-informed decision making like this: If you have perfect \\ninformation or zero information then your task is easy – it is in between \\nthose two extremes that the trouble begins. What he was highlighting is \\nthe stark reality that whether or not information is available, decisions \\nmust be made.\\nThe way organizations make decisions has been evolving for half a \\ncentury. Before the introduction of Business Intelligence, the only \\noptions were gut instinct, loudest voice, and best argument. Sadly, this \\nmethod still exists today, and in some pockets it is the predominant \\nmeans by which the organization acts. Take our advice and never, ever \\nwork for such a company! \\nFortunately for our economy, most organizations began to inform \\ntheir decisions with real information through the application of \\nsimple statistics. Those that did it well were rewarded; those that did \\nnot failed. We are outgrowing the ability of simple stats to keep pace \\nwith market demands, however. The rapid expansion of available data \\nand the tools to access and make use of the data at scale are enabling \\nfundamental changes to the way organizations make decisions. \\nData Science is required to maintain competitiveness in the \\nincreasingly data-rich environment. Much like the application of \\nsimple statistics, organizations that embrace Data Science will be \\nrewarded while those that do not will be challenged to keep pace. As \\nmore complex, disparate datasets become available, the chasm between \\nthese groups will only continue to widen. The figure, The Business \\nImpacts of Data Science, highlights the value awaiting organizations \\nthat embrace Data Science.\\nTHE FIELD GUIDE to  D AT A  S C I E N C E\\n')]"
      ]
     },
     "execution_count": 12,
     "metadata": {},
     "output_type": "execute_result"
    }
   ],
   "source": [
    "docs"
   ]
  },
  {
   "cell_type": "code",
   "execution_count": 13,
   "metadata": {},
   "outputs": [
    {
     "name": "stdout",
     "output_type": "stream",
     "text": [
      "21\n",
      "Start Here for the Basics\n",
      "21\n",
      "Start Here for the Basics\n",
      "Data Science Defined\n",
      "Data Science is the art of turning data into actions. This is \n",
      "accomplished through the creation of data products, which provide \n",
      "actionable information without exposing decision makers to the \n",
      "underlying data or analytics (e.g., buy/sell strategies for financial \n",
      "instruments, a set of actions to improve product yield, or steps to \n",
      "improve product marketing).\n",
      "Performing Data Science requires the extraction of timely, actionable \n",
      "information from diverse data sources to drive data products. \n",
      "Examples of data products include answers to questions such as: \n",
      "“Which of my products should I advertise more heavily to increase \n",
      "profit? How can I improve my compliance program, while reducing \n",
      "costs? What manufacturing process change will allow me to build a \n",
      "better product?” The key to answering these questions is: understand \n",
      "the data you have and what the data inductively tells you.\n",
      " \n",
      "» Data Product\n",
      "A data product provides actionable \n",
      "information without exposing \n",
      "decision makers to the underlying \n",
      "data or analytics. Examples include:\n",
      "• Movie Recommendations      \n",
      "• Weather Forecasts\n",
      "• Stock Market Predictions\n",
      "• Production Process \n",
      "Improvements\n",
      "• Health Diagnosis\n",
      "• Flu Trend Predictions\n",
      "• Targeted Advertising\n",
      "Read this for additional background:\n",
      "The term Data Science appeared \n",
      "in the computer science literature \n",
      "throughout the 1960s-1980s. \n",
      "It was not until the late 1990s \n",
      "however, that the field as we \n",
      "describe it here, began to  \n",
      "emerge from the statistics and \n",
      "data mining communities  \n",
      "(e.g., [2] and [3]). Data Science \n",
      "was first introduced as an \n",
      "independent discipline in 2001.[4] \n",
      "Since that time, there have been \n",
      "countless articles advancing the \n",
      "discipline, culminating with \n",
      "Data Scientist being declared the \n",
      "sexiest job of the 21st century.[5] \n",
      "We established our first Data \n",
      "Science team at Booz Allen \n",
      "in 2010. It began as a natural \n",
      "extension of our Business \n",
      "Intelligence and cloud \n",
      "infrastructure development  \n",
      "work. We saw the need for a  \n",
      "new approach to distill value \n",
      "from our clients’ data. We \n",
      "approached the problem \n",
      "with a multidisciplinary \n",
      "team of computer scientists, \n",
      "mathematicians and domain \n",
      "experts. They immediately \n",
      "produced new insights and \n",
      "analysis paths, solidifying the \n",
      "validity of the approach. Since \n",
      "that time, our Data Science  \n",
      "team has grown to 250 staff \n",
      "supporting dozens of clients \n",
      "across a variety of domains.  \n",
      "This breadth of experience \n",
      "provides a unique perspective  \n",
      "on the conceptual models, \n",
      "tradecraft, processes and  \n",
      "culture of Data Science. \n",
      "\n"
     ]
    }
   ],
   "source": [
    "# print results\n",
    "print(docs[0].page_content)"
   ]
  },
  {
   "cell_type": "code",
   "execution_count": null,
   "metadata": {},
   "outputs": [],
   "source": []
  },
  {
   "cell_type": "markdown",
   "metadata": {},
   "source": [
    "## Saving and Laoding"
   ]
  },
  {
   "cell_type": "code",
   "execution_count": 16,
   "metadata": {},
   "outputs": [
    {
     "data": {
      "text/plain": [
       "[Document(metadata={'author': 'Booz Allen Hamilton', 'creationDate': \"D:20170501173004Z00'00'\", 'creator': 'Adobe InDesign CC 2015 (Macintosh)', 'file_path': '/Users/eshantdas/Downloads/field-guide-to-data-science.pdf', 'format': 'PDF 1.4', 'keywords': 'The Field Guide to Data Science', 'modDate': \"D:20170501173004Z00'00'\", 'page': 21, 'producer': 'Mac OS X 10.12.4 Quartz PDFContext', 'source': '/Users/eshantdas/Downloads/field-guide-to-data-science.pdf', 'subject': 'The Field Guide to Data Science', 'title': 'The Field Guide to Data Science', 'total_pages': 126, 'trapped': ''}, page_content='21\\nStart Here for the Basics\\n21\\nStart Here for the Basics\\nData Science Defined\\nData Science is the art of turning data into actions. This is \\naccomplished through the creation of data products, which provide \\nactionable information without exposing decision makers to the \\nunderlying data or analytics (e.g., buy/sell strategies for financial \\ninstruments, a set of actions to improve product yield, or steps to \\nimprove product marketing).\\nPerforming Data Science requires the extraction of timely, actionable \\ninformation from diverse data sources to drive data products. \\nExamples of data products include answers to questions such as: \\n“Which of my products should I advertise more heavily to increase \\nprofit? How can I improve my compliance program, while reducing \\ncosts? What manufacturing process change will allow me to build a \\nbetter product?” The key to answering these questions is: understand \\nthe data you have and what the data inductively tells you.\\n \\n» Data Product\\nA data product provides actionable \\ninformation without exposing \\ndecision makers to the underlying \\ndata or analytics. Examples include:\\n• Movie Recommendations      \\n• Weather Forecasts\\n• Stock Market Predictions\\n• Production Process \\nImprovements\\n• Health Diagnosis\\n• Flu Trend Predictions\\n• Targeted Advertising\\nRead this for additional background:\\nThe term Data Science appeared \\nin the computer science literature \\nthroughout the 1960s-1980s. \\nIt was not until the late 1990s \\nhowever, that the field as we \\ndescribe it here, began to  \\nemerge from the statistics and \\ndata mining communities  \\n(e.g., [2] and [3]). Data Science \\nwas first introduced as an \\nindependent discipline in 2001.[4] \\nSince that time, there have been \\ncountless articles advancing the \\ndiscipline, culminating with \\nData Scientist being declared the \\nsexiest job of the 21st century.[5] \\nWe established our first Data \\nScience team at Booz Allen \\nin 2010. It began as a natural \\nextension of our Business \\nIntelligence and cloud \\ninfrastructure development  \\nwork. We saw the need for a  \\nnew approach to distill value \\nfrom our clients’ data. We \\napproached the problem \\nwith a multidisciplinary \\nteam of computer scientists, \\nmathematicians and domain \\nexperts. They immediately \\nproduced new insights and \\nanalysis paths, solidifying the \\nvalidity of the approach. Since \\nthat time, our Data Science  \\nteam has grown to 250 staff \\nsupporting dozens of clients \\nacross a variety of domains.  \\nThis breadth of experience \\nprovides a unique perspective  \\non the conceptual models, \\ntradecraft, processes and  \\nculture of Data Science. \\n'),\n",
       " Document(metadata={'author': 'Booz Allen Hamilton', 'creationDate': \"D:20170501173004Z00'00'\", 'creator': 'Adobe InDesign CC 2015 (Macintosh)', 'file_path': '/Users/eshantdas/Downloads/field-guide-to-data-science.pdf', 'format': 'PDF 1.4', 'keywords': 'The Field Guide to Data Science', 'modDate': \"D:20170501173004Z00'00'\", 'page': 21, 'producer': 'Mac OS X 10.12.4 Quartz PDFContext', 'source': '/Users/eshantdas/Downloads/field-guide-to-data-science.pdf', 'subject': 'The Field Guide to Data Science', 'title': 'The Field Guide to Data Science', 'total_pages': 126, 'trapped': ''}, page_content='21\\nStart Here for the Basics\\n21\\nStart Here for the Basics\\nData Science Defined\\nData Science is the art of turning data into actions. This is \\naccomplished through the creation of data products, which provide \\nactionable information without exposing decision makers to the \\nunderlying data or analytics (e.g., buy/sell strategies for financial \\ninstruments, a set of actions to improve product yield, or steps to \\nimprove product marketing).\\nPerforming Data Science requires the extraction of timely, actionable \\ninformation from diverse data sources to drive data products. \\nExamples of data products include answers to questions such as: \\n“Which of my products should I advertise more heavily to increase \\nprofit? How can I improve my compliance program, while reducing \\ncosts? What manufacturing process change will allow me to build a \\nbetter product?” The key to answering these questions is: understand \\nthe data you have and what the data inductively tells you.\\n \\n» Data Product\\nA data product provides actionable \\ninformation without exposing \\ndecision makers to the underlying \\ndata or analytics. Examples include:\\n• Movie Recommendations      \\n• Weather Forecasts\\n• Stock Market Predictions\\n• Production Process \\nImprovements\\n• Health Diagnosis\\n• Flu Trend Predictions\\n• Targeted Advertising\\nRead this for additional background:\\nThe term Data Science appeared \\nin the computer science literature \\nthroughout the 1960s-1980s. \\nIt was not until the late 1990s \\nhowever, that the field as we \\ndescribe it here, began to  \\nemerge from the statistics and \\ndata mining communities  \\n(e.g., [2] and [3]). Data Science \\nwas first introduced as an \\nindependent discipline in 2001.[4] \\nSince that time, there have been \\ncountless articles advancing the \\ndiscipline, culminating with \\nData Scientist being declared the \\nsexiest job of the 21st century.[5] \\nWe established our first Data \\nScience team at Booz Allen \\nin 2010. It began as a natural \\nextension of our Business \\nIntelligence and cloud \\ninfrastructure development  \\nwork. We saw the need for a  \\nnew approach to distill value \\nfrom our clients’ data. We \\napproached the problem \\nwith a multidisciplinary \\nteam of computer scientists, \\nmathematicians and domain \\nexperts. They immediately \\nproduced new insights and \\nanalysis paths, solidifying the \\nvalidity of the approach. Since \\nthat time, our Data Science  \\nteam has grown to 250 staff \\nsupporting dozens of clients \\nacross a variety of domains.  \\nThis breadth of experience \\nprovides a unique perspective  \\non the conceptual models, \\ntradecraft, processes and  \\nculture of Data Science. \\n')]"
      ]
     },
     "execution_count": 16,
     "metadata": {},
     "output_type": "execute_result"
    }
   ],
   "source": [
    "# save to disk\n",
    "db2 = Chroma.from_documents(data, embeddings, persist_directory=\"./chroma_db\")\n",
    "docs = db2.similarity_search(query,k=2)\n",
    "docs"
   ]
  },
  {
   "cell_type": "code",
   "execution_count": 18,
   "metadata": {},
   "outputs": [
    {
     "data": {
      "text/plain": [
       "[Document(metadata={'author': 'Booz Allen Hamilton', 'creationDate': \"D:20170501173004Z00'00'\", 'creator': 'Adobe InDesign CC 2015 (Macintosh)', 'file_path': '/Users/eshantdas/Downloads/field-guide-to-data-science.pdf', 'format': 'PDF 1.4', 'keywords': 'The Field Guide to Data Science', 'modDate': \"D:20170501173004Z00'00'\", 'page': 21, 'producer': 'Mac OS X 10.12.4 Quartz PDFContext', 'source': '/Users/eshantdas/Downloads/field-guide-to-data-science.pdf', 'subject': 'The Field Guide to Data Science', 'title': 'The Field Guide to Data Science', 'total_pages': 126, 'trapped': ''}, page_content='21\\nStart Here for the Basics\\n21\\nStart Here for the Basics\\nData Science Defined\\nData Science is the art of turning data into actions. This is \\naccomplished through the creation of data products, which provide \\nactionable information without exposing decision makers to the \\nunderlying data or analytics (e.g., buy/sell strategies for financial \\ninstruments, a set of actions to improve product yield, or steps to \\nimprove product marketing).\\nPerforming Data Science requires the extraction of timely, actionable \\ninformation from diverse data sources to drive data products. \\nExamples of data products include answers to questions such as: \\n“Which of my products should I advertise more heavily to increase \\nprofit? How can I improve my compliance program, while reducing \\ncosts? What manufacturing process change will allow me to build a \\nbetter product?” The key to answering these questions is: understand \\nthe data you have and what the data inductively tells you.\\n \\n» Data Product\\nA data product provides actionable \\ninformation without exposing \\ndecision makers to the underlying \\ndata or analytics. Examples include:\\n• Movie Recommendations      \\n• Weather Forecasts\\n• Stock Market Predictions\\n• Production Process \\nImprovements\\n• Health Diagnosis\\n• Flu Trend Predictions\\n• Targeted Advertising\\nRead this for additional background:\\nThe term Data Science appeared \\nin the computer science literature \\nthroughout the 1960s-1980s. \\nIt was not until the late 1990s \\nhowever, that the field as we \\ndescribe it here, began to  \\nemerge from the statistics and \\ndata mining communities  \\n(e.g., [2] and [3]). Data Science \\nwas first introduced as an \\nindependent discipline in 2001.[4] \\nSince that time, there have been \\ncountless articles advancing the \\ndiscipline, culminating with \\nData Scientist being declared the \\nsexiest job of the 21st century.[5] \\nWe established our first Data \\nScience team at Booz Allen \\nin 2010. It began as a natural \\nextension of our Business \\nIntelligence and cloud \\ninfrastructure development  \\nwork. We saw the need for a  \\nnew approach to distill value \\nfrom our clients’ data. We \\napproached the problem \\nwith a multidisciplinary \\nteam of computer scientists, \\nmathematicians and domain \\nexperts. They immediately \\nproduced new insights and \\nanalysis paths, solidifying the \\nvalidity of the approach. Since \\nthat time, our Data Science  \\nteam has grown to 250 staff \\nsupporting dozens of clients \\nacross a variety of domains.  \\nThis breadth of experience \\nprovides a unique perspective  \\non the conceptual models, \\ntradecraft, processes and  \\nculture of Data Science. \\n'),\n",
       " Document(metadata={'author': 'Booz Allen Hamilton', 'creationDate': \"D:20170501173004Z00'00'\", 'creator': 'Adobe InDesign CC 2015 (Macintosh)', 'file_path': '/Users/eshantdas/Downloads/field-guide-to-data-science.pdf', 'format': 'PDF 1.4', 'keywords': 'The Field Guide to Data Science', 'modDate': \"D:20170501173004Z00'00'\", 'page': 21, 'producer': 'Mac OS X 10.12.4 Quartz PDFContext', 'source': '/Users/eshantdas/Downloads/field-guide-to-data-science.pdf', 'subject': 'The Field Guide to Data Science', 'title': 'The Field Guide to Data Science', 'total_pages': 126, 'trapped': ''}, page_content='21\\nStart Here for the Basics\\n21\\nStart Here for the Basics\\nData Science Defined\\nData Science is the art of turning data into actions. This is \\naccomplished through the creation of data products, which provide \\nactionable information without exposing decision makers to the \\nunderlying data or analytics (e.g., buy/sell strategies for financial \\ninstruments, a set of actions to improve product yield, or steps to \\nimprove product marketing).\\nPerforming Data Science requires the extraction of timely, actionable \\ninformation from diverse data sources to drive data products. \\nExamples of data products include answers to questions such as: \\n“Which of my products should I advertise more heavily to increase \\nprofit? How can I improve my compliance program, while reducing \\ncosts? What manufacturing process change will allow me to build a \\nbetter product?” The key to answering these questions is: understand \\nthe data you have and what the data inductively tells you.\\n \\n» Data Product\\nA data product provides actionable \\ninformation without exposing \\ndecision makers to the underlying \\ndata or analytics. Examples include:\\n• Movie Recommendations      \\n• Weather Forecasts\\n• Stock Market Predictions\\n• Production Process \\nImprovements\\n• Health Diagnosis\\n• Flu Trend Predictions\\n• Targeted Advertising\\nRead this for additional background:\\nThe term Data Science appeared \\nin the computer science literature \\nthroughout the 1960s-1980s. \\nIt was not until the late 1990s \\nhowever, that the field as we \\ndescribe it here, began to  \\nemerge from the statistics and \\ndata mining communities  \\n(e.g., [2] and [3]). Data Science \\nwas first introduced as an \\nindependent discipline in 2001.[4] \\nSince that time, there have been \\ncountless articles advancing the \\ndiscipline, culminating with \\nData Scientist being declared the \\nsexiest job of the 21st century.[5] \\nWe established our first Data \\nScience team at Booz Allen \\nin 2010. It began as a natural \\nextension of our Business \\nIntelligence and cloud \\ninfrastructure development  \\nwork. We saw the need for a  \\nnew approach to distill value \\nfrom our clients’ data. We \\napproached the problem \\nwith a multidisciplinary \\nteam of computer scientists, \\nmathematicians and domain \\nexperts. They immediately \\nproduced new insights and \\nanalysis paths, solidifying the \\nvalidity of the approach. Since \\nthat time, our Data Science  \\nteam has grown to 250 staff \\nsupporting dozens of clients \\nacross a variety of domains.  \\nThis breadth of experience \\nprovides a unique perspective  \\non the conceptual models, \\ntradecraft, processes and  \\nculture of Data Science. \\n'),\n",
       " Document(metadata={'author': 'Booz Allen Hamilton', 'creationDate': \"D:20170501173004Z00'00'\", 'creator': 'Adobe InDesign CC 2015 (Macintosh)', 'file_path': '/Users/eshantdas/Downloads/field-guide-to-data-science.pdf', 'format': 'PDF 1.4', 'keywords': 'The Field Guide to Data Science', 'modDate': \"D:20170501173004Z00'00'\", 'page': 21, 'producer': 'Mac OS X 10.12.4 Quartz PDFContext', 'source': '/Users/eshantdas/Downloads/field-guide-to-data-science.pdf', 'subject': 'The Field Guide to Data Science', 'title': 'The Field Guide to Data Science', 'total_pages': 126, 'trapped': ''}, page_content='21\\nStart Here for the Basics\\n21\\nStart Here for the Basics\\nData Science Defined\\nData Science is the art of turning data into actions. This is \\naccomplished through the creation of data products, which provide \\nactionable information without exposing decision makers to the \\nunderlying data or analytics (e.g., buy/sell strategies for financial \\ninstruments, a set of actions to improve product yield, or steps to \\nimprove product marketing).\\nPerforming Data Science requires the extraction of timely, actionable \\ninformation from diverse data sources to drive data products. \\nExamples of data products include answers to questions such as: \\n“Which of my products should I advertise more heavily to increase \\nprofit? How can I improve my compliance program, while reducing \\ncosts? What manufacturing process change will allow me to build a \\nbetter product?” The key to answering these questions is: understand \\nthe data you have and what the data inductively tells you.\\n \\n» Data Product\\nA data product provides actionable \\ninformation without exposing \\ndecision makers to the underlying \\ndata or analytics. Examples include:\\n• Movie Recommendations      \\n• Weather Forecasts\\n• Stock Market Predictions\\n• Production Process \\nImprovements\\n• Health Diagnosis\\n• Flu Trend Predictions\\n• Targeted Advertising\\nRead this for additional background:\\nThe term Data Science appeared \\nin the computer science literature \\nthroughout the 1960s-1980s. \\nIt was not until the late 1990s \\nhowever, that the field as we \\ndescribe it here, began to  \\nemerge from the statistics and \\ndata mining communities  \\n(e.g., [2] and [3]). Data Science \\nwas first introduced as an \\nindependent discipline in 2001.[4] \\nSince that time, there have been \\ncountless articles advancing the \\ndiscipline, culminating with \\nData Scientist being declared the \\nsexiest job of the 21st century.[5] \\nWe established our first Data \\nScience team at Booz Allen \\nin 2010. It began as a natural \\nextension of our Business \\nIntelligence and cloud \\ninfrastructure development  \\nwork. We saw the need for a  \\nnew approach to distill value \\nfrom our clients’ data. We \\napproached the problem \\nwith a multidisciplinary \\nteam of computer scientists, \\nmathematicians and domain \\nexperts. They immediately \\nproduced new insights and \\nanalysis paths, solidifying the \\nvalidity of the approach. Since \\nthat time, our Data Science  \\nteam has grown to 250 staff \\nsupporting dozens of clients \\nacross a variety of domains.  \\nThis breadth of experience \\nprovides a unique perspective  \\non the conceptual models, \\ntradecraft, processes and  \\nculture of Data Science. \\n')]"
      ]
     },
     "execution_count": 18,
     "metadata": {},
     "output_type": "execute_result"
    }
   ],
   "source": [
    "# load from disk\n",
    "db3 = Chroma(persist_directory=\"./chroma_db\", embedding_function=embeddings)\n",
    "docs = db3.similarity_search(query,k=3)\n",
    "docs"
   ]
  },
  {
   "cell_type": "code",
   "execution_count": null,
   "metadata": {},
   "outputs": [],
   "source": []
  },
  {
   "cell_type": "code",
   "execution_count": null,
   "metadata": {},
   "outputs": [],
   "source": []
  },
  {
   "cell_type": "markdown",
   "metadata": {},
   "source": [
    "## Fiass Vector DB"
   ]
  },
  {
   "cell_type": "code",
   "execution_count": 19,
   "metadata": {},
   "outputs": [],
   "source": [
    "from langchain_community.vectorstores import FAISS"
   ]
  },
  {
   "cell_type": "code",
   "execution_count": 21,
   "metadata": {},
   "outputs": [],
   "source": [
    "db = FAISS.from_documents(data, embeddings)"
   ]
  },
  {
   "cell_type": "code",
   "execution_count": 22,
   "metadata": {},
   "outputs": [],
   "source": [
    "query = \"Tell me about Data Science\"\n",
    "docs = db.similarity_search(query,k=5)"
   ]
  },
  {
   "cell_type": "code",
   "execution_count": 23,
   "metadata": {},
   "outputs": [
    {
     "data": {
      "text/plain": [
       "[Document(metadata={'source': '/Users/eshantdas/Downloads/field-guide-to-data-science.pdf', 'file_path': '/Users/eshantdas/Downloads/field-guide-to-data-science.pdf', 'page': 21, 'total_pages': 126, 'format': 'PDF 1.4', 'title': 'The Field Guide to Data Science', 'author': 'Booz Allen Hamilton', 'subject': 'The Field Guide to Data Science', 'keywords': 'The Field Guide to Data Science', 'creator': 'Adobe InDesign CC 2015 (Macintosh)', 'producer': 'Mac OS X 10.12.4 Quartz PDFContext', 'creationDate': \"D:20170501173004Z00'00'\", 'modDate': \"D:20170501173004Z00'00'\", 'trapped': ''}, page_content='21\\nStart Here for the Basics\\n21\\nStart Here for the Basics\\nData Science Defined\\nData Science is the art of turning data into actions. This is \\naccomplished through the creation of data products, which provide \\nactionable information without exposing decision makers to the \\nunderlying data or analytics (e.g., buy/sell strategies for financial \\ninstruments, a set of actions to improve product yield, or steps to \\nimprove product marketing).\\nPerforming Data Science requires the extraction of timely, actionable \\ninformation from diverse data sources to drive data products. \\nExamples of data products include answers to questions such as: \\n“Which of my products should I advertise more heavily to increase \\nprofit? How can I improve my compliance program, while reducing \\ncosts? What manufacturing process change will allow me to build a \\nbetter product?” The key to answering these questions is: understand \\nthe data you have and what the data inductively tells you.\\n \\n» Data Product\\nA data product provides actionable \\ninformation without exposing \\ndecision makers to the underlying \\ndata or analytics. Examples include:\\n• Movie Recommendations      \\n• Weather Forecasts\\n• Stock Market Predictions\\n• Production Process \\nImprovements\\n• Health Diagnosis\\n• Flu Trend Predictions\\n• Targeted Advertising\\nRead this for additional background:\\nThe term Data Science appeared \\nin the computer science literature \\nthroughout the 1960s-1980s. \\nIt was not until the late 1990s \\nhowever, that the field as we \\ndescribe it here, began to  \\nemerge from the statistics and \\ndata mining communities  \\n(e.g., [2] and [3]). Data Science \\nwas first introduced as an \\nindependent discipline in 2001.[4] \\nSince that time, there have been \\ncountless articles advancing the \\ndiscipline, culminating with \\nData Scientist being declared the \\nsexiest job of the 21st century.[5] \\nWe established our first Data \\nScience team at Booz Allen \\nin 2010. It began as a natural \\nextension of our Business \\nIntelligence and cloud \\ninfrastructure development  \\nwork. We saw the need for a  \\nnew approach to distill value \\nfrom our clients’ data. We \\napproached the problem \\nwith a multidisciplinary \\nteam of computer scientists, \\nmathematicians and domain \\nexperts. They immediately \\nproduced new insights and \\nanalysis paths, solidifying the \\nvalidity of the approach. Since \\nthat time, our Data Science  \\nteam has grown to 250 staff \\nsupporting dozens of clients \\nacross a variety of domains.  \\nThis breadth of experience \\nprovides a unique perspective  \\non the conceptual models, \\ntradecraft, processes and  \\nculture of Data Science. \\n'),\n",
       " Document(metadata={'source': '/Users/eshantdas/Downloads/field-guide-to-data-science.pdf', 'file_path': '/Users/eshantdas/Downloads/field-guide-to-data-science.pdf', 'page': 12, 'total_pages': 126, 'format': 'PDF 1.4', 'title': 'The Field Guide to Data Science', 'author': 'Booz Allen Hamilton', 'subject': 'The Field Guide to Data Science', 'keywords': 'The Field Guide to Data Science', 'creator': 'Adobe InDesign CC 2015 (Macintosh)', 'producer': 'Mac OS X 10.12.4 Quartz PDFContext', 'creationDate': \"D:20170501173004Z00'00'\", 'modDate': \"D:20170501173004Z00'00'\", 'trapped': ''}, page_content='MEET your G U I D E S\\nFred Blackburn\\n(@boozallen)\\nData Science is a field that is  \\nevolving at a very rapid pace…be  \\npart of the journey. \\nAngela Zutavern\\n(@angelazutavern)\\nData Science is about asking bigger \\nquestions, seeing future possibilities, \\nand creating outcomes you desire. \\nJosh Sullivan \\n(@joshdsullivan)\\nLeading our Data Science team \\nshows me every day the incredible \\npower of discovery and human \\ncuriosity. Don’t be afraid to blend \\nart and science to advance your \\nown view of data analytics – it \\ncan be a powerful mixture.\\nSteve Escaravage\\n(@sescarav)\\nInvest your time and energy \\nin data that is difficult to \\nassemble.  If it doesn’t exist, \\nfind a way to make it exist.\\nPeter Guerra \\n(@petrguerra)\\nData Science is the most fascinating \\nblend of art and math and code \\nand sweat and tears. It can take \\nyou to the highest heights and the \\nlowest depths in an instant, but it \\nis the only way we will be able to \\nunderstand and describe the why.\\nEzmeralda Khalil\\n(@ezmeraldakhalil)\\nThe power of data science \\nlies in the execution.\\n››\\nTHE FIELD GUIDE to  D AT A  S C I E N C E\\n'),\n",
       " Document(metadata={'source': '/Users/eshantdas/Downloads/field-guide-to-data-science.pdf', 'file_path': '/Users/eshantdas/Downloads/field-guide-to-data-science.pdf', 'page': 24, 'total_pages': 126, 'format': 'PDF 1.4', 'title': 'The Field Guide to Data Science', 'author': 'Booz Allen Hamilton', 'subject': 'The Field Guide to Data Science', 'keywords': 'The Field Guide to Data Science', 'creator': 'Adobe InDesign CC 2015 (Macintosh)', 'producer': 'Mac OS X 10.12.4 Quartz PDFContext', 'creationDate': \"D:20170501173004Z00'00'\", 'modDate': \"D:20170501173004Z00'00'\", 'trapped': ''}, page_content='What is the Impact of Data Science?\\nAs we move into the data economy, Data Science is the competitive \\nadvantage for organizations interested in winning – in whatever way \\nwinning is defined. The manner in which the advantage is defined \\nis through improved decision-making. A former colleague liked to \\ndescribe data-informed decision making like this: If you have perfect \\ninformation or zero information then your task is easy – it is in between \\nthose two extremes that the trouble begins. What he was highlighting is \\nthe stark reality that whether or not information is available, decisions \\nmust be made.\\nThe way organizations make decisions has been evolving for half a \\ncentury. Before the introduction of Business Intelligence, the only \\noptions were gut instinct, loudest voice, and best argument. Sadly, this \\nmethod still exists today, and in some pockets it is the predominant \\nmeans by which the organization acts. Take our advice and never, ever \\nwork for such a company! \\nFortunately for our economy, most organizations began to inform \\ntheir decisions with real information through the application of \\nsimple statistics. Those that did it well were rewarded; those that did \\nnot failed. We are outgrowing the ability of simple stats to keep pace \\nwith market demands, however. The rapid expansion of available data \\nand the tools to access and make use of the data at scale are enabling \\nfundamental changes to the way organizations make decisions. \\nData Science is required to maintain competitiveness in the \\nincreasingly data-rich environment. Much like the application of \\nsimple statistics, organizations that embrace Data Science will be \\nrewarded while those that do not will be challenged to keep pace. As \\nmore complex, disparate datasets become available, the chasm between \\nthese groups will only continue to widen. The figure, The Business \\nImpacts of Data Science, highlights the value awaiting organizations \\nthat embrace Data Science.\\nTHE FIELD GUIDE to  D AT A  S C I E N C E\\n'),\n",
       " Document(metadata={'source': '/Users/eshantdas/Downloads/field-guide-to-data-science.pdf', 'file_path': '/Users/eshantdas/Downloads/field-guide-to-data-science.pdf', 'page': 41, 'total_pages': 126, 'format': 'PDF 1.4', 'title': 'The Field Guide to Data Science', 'author': 'Booz Allen Hamilton', 'subject': 'The Field Guide to Data Science', 'keywords': 'The Field Guide to Data Science', 'creator': 'Adobe InDesign CC 2015 (Macintosh)', 'producer': 'Mac OS X 10.12.4 Quartz PDFContext', 'creationDate': \"D:20170501173004Z00'00'\", 'modDate': \"D:20170501173004Z00'00'\", 'trapped': ''}, page_content='41\\nStart Here for the Basics\\n41\\nStart Here for the Basics\\nUnderstanding What Makes  \\na Data Scientist \\nData Science often requires a significant investment of time across \\na variety of tasks. Hypotheses must be generated and data must be \\nacquired, prepared, analyzed, and acted upon. Multiple techniques \\nare often applied before one yields interesting results. If that seems \\ndaunting, it is because it is. Data Science is difficult, intellectually \\ntaxing work, which requires lots of talent: both tangible technical \\nskills as well as the intangible “x-factors.”\\nThere are four independent yet comprehensive foundational Data \\nScience competency clusters that, when considered together, convey \\nthe essence of what it means to be a successful Data Scientist. There \\nare also reach back competencies that complement the foundational \\nclusters but do not define the core tradecraft or attributes of the Data \\nScience team. \\nData Science Competency Framework  \\n(see [13] for complete framework) \\nClusters\\nCompetencies\\nDescription\\nTechnical: \\n“Knows How and \\nWhat to do”\\nAdvanced Mathematics; \\nComputer Science; Data \\nMining and Integration; \\nDatabase Science; Research \\nDesign; Statistical Modeling; \\nMachine Learning; \\nOperations Research; \\nProgramming and Scripting\\nThe technical competency \\ncluster depicts the \\nfoundational technical \\nand specialty knowledge \\nand skills needed for \\nsuccessful performance \\nin each job or role.\\nData Science \\nConsulting:  \\n“Can Do in \\na Client and \\nCustomer \\nEnvironment”\\nCollaboration and Teamwork; \\nCommunications; Data \\nScience Consulting; Ethics \\nand Integrity\\nThe characteristics in the \\nconsulting competency \\ncluster can help Data \\nScientists easily integrate \\ninto various market or \\ndomain contexts and partner \\nwith business units to \\nunderstand the environment \\nand solve complex problems.\\nCognitive:  \\n“Able to Do or \\nLearn to Do”\\nCritical Thinking; Inductive \\nand Deductive Reasoning; \\nProblem Solving\\nThe cognitive competency \\ncluster represents the type \\nof critical thinking and \\nreasoning abilities (both \\ninductive and deductive) a \\nData Scientist should have to \\nperform their job.\\nPersonality:  \\n“Willing or \\nMotivated to Do”\\nAdaptability/Flexibility; \\nAmbiguity Tolerance; Detail \\nOrientation; Innovation and \\nCreativity; Inquisitiveness; \\nPerseverance; Resilience \\nand Hardiness; Self-\\nConﬁdence; Work Ethic\\nThe personality competency \\ncluster describes the \\npersonality traits that drive \\nbehaviors that are beneﬁcial \\nto Data Scientists, such as \\ninquisitiveness, creativity, \\nand perseverance.\\nReach Back Competencies for Data Science Teams\\nBusiness Acumen; Data Visualization; Domain Expertise; Program Management\\n \\n» The Triple Threat Unicorn \\nIndividuals who are great at \\nall three of the Data Science \\nfoundational technical skills are \\nlike unicorns – very rare and if \\nyou’re ever lucky enough to find \\none they should be treated carefully. \\nWhen you manage these people:\\n \\n› Encourage them to lead your \\nteam, but not manage it. \\nDon’t bog them down with \\nresponsibilities of management \\nthat could be done by other staff.\\n \\n› Put extra effort into managing \\ntheir careers and interests \\nwithin your organization. Build \\nopportunities for promotion into \\nyour organization that allow \\nthem to focus on mentoring other \\nData Scientists and progressing \\nthe state of the art while also \\nadvancing their careers.\\n \\n› Make sure that they have the \\nopportunity to present and \\nspread their ideas in many \\ndifferent forums, but also be \\nsensitive to their time.\\n Source: Booz Allen Hamilton \\n'),\n",
       " Document(metadata={'source': '/Users/eshantdas/Downloads/field-guide-to-data-science.pdf', 'file_path': '/Users/eshantdas/Downloads/field-guide-to-data-science.pdf', 'page': 42, 'total_pages': 126, 'format': 'PDF 1.4', 'title': 'The Field Guide to Data Science', 'author': 'Booz Allen Hamilton', 'subject': 'The Field Guide to Data Science', 'keywords': 'The Field Guide to Data Science', 'creator': 'Adobe InDesign CC 2015 (Macintosh)', 'producer': 'Mac OS X 10.12.4 Quartz PDFContext', 'creationDate': \"D:20170501173004Z00'00'\", 'modDate': \"D:20170501173004Z00'00'\", 'trapped': ''}, page_content='The most important qualities of Data Scientists tend to be the \\nintangible aspects of their personalities. Data Scientists are by nature \\ncurious, creative, focused, and detail-oriented.\\n›\\n›\\nCuriosity is necessary to peel apart a problem and examine the \\ninterrelationships between data that may appear superficially \\nunrelated.\\n›\\n›\\nCreativity is required to invent and try new approaches to \\nsolving a problem, which often times have never been applied in \\nsuch a context before.\\n›\\n›\\nFocus is required to design and test a technique over days and \\nweeks, find it doesn’t work, learn from the failure, and try again.\\n›\\n›\\nAttention to Detail is needed to maintain rigor, and to detect and \\navoid over-reliance on intuition when examining data.\\nWe have found the single most important attribute is flexibility in \\novercoming setbacks - the willingness to abandon one idea and try \\na new approach. Often, Data Science is a series of dead ends before, \\nat last, the way forward is identified. It requires a unique set of \\npersonality attributes to succeed in such an environment. Technical \\nskills can be developed over time: the ability to be flexible – and \\npatient, and persistent – cannot.\\nFinding the Athletes for Your Team\\nBuilding a Data Science team is complex. Organizations must \\nsimultaneously engage existing internal staff to create an “anchor” who \\ncan be used to recruit and grow the team, while at the same time \\nundergo organizational change and transformation to meaningfully \\nincorporate this new class of employee. Building a team starts with \\nidentifying existing staff within an organization who have a high \\naptitude for Data Science. Good candidates will have a formal \\nbackground in any of the three foundational technical skills we \\nmentioned, and will most importantly have the personality traits \\nnecessary for Data Science. They may often have advanced (masters or \\nhigher) degrees, but not always. The very first staff you identify should \\nalso have good leadership traits and a sense of purpose for the \\norganization, as they will lead subsequent staffing and recruiting \\nefforts. Don’t discount anyone – you will find Data Scientists in the \\nstrangest places with the oddest combinations of backgrounds.\\n \\n» Don’t judge a book by its \\ncover, or a Data Scientist by \\nhis or her degree in this case. \\nAmazing Data Scientists can \\nbe found anywhere. Just look \\nat the diverse and surprising \\nsampling of degrees held by \\nOur Experts:\\n \\n› Bioinformatics\\n \\n› Biomedical Engineering\\n \\n› Biophysics\\n \\n› Business\\n \\n› Computer Graphics\\n \\n› Computer Science\\n \\n› English\\n \\n› Forest Management\\n \\n› History\\n \\n› Industrial Engineering\\n \\n› Information Technology\\n \\n› Mathematics\\n \\n› National Security Studies\\n \\n› Operations Research\\n \\n› Physics\\n \\n› Wildlife & Fisheries \\nManagement\\nTHE FIELD GUIDE to  D AT A  S C I E N C E\\n')]"
      ]
     },
     "execution_count": 23,
     "metadata": {},
     "output_type": "execute_result"
    }
   ],
   "source": [
    "docs"
   ]
  },
  {
   "cell_type": "code",
   "execution_count": 24,
   "metadata": {},
   "outputs": [],
   "source": [
    "docs_and_scores = db.similarity_search_with_score(query)"
   ]
  },
  {
   "cell_type": "code",
   "execution_count": 25,
   "metadata": {},
   "outputs": [
    {
     "data": {
      "text/plain": [
       "(Document(metadata={'source': '/Users/eshantdas/Downloads/field-guide-to-data-science.pdf', 'file_path': '/Users/eshantdas/Downloads/field-guide-to-data-science.pdf', 'page': 21, 'total_pages': 126, 'format': 'PDF 1.4', 'title': 'The Field Guide to Data Science', 'author': 'Booz Allen Hamilton', 'subject': 'The Field Guide to Data Science', 'keywords': 'The Field Guide to Data Science', 'creator': 'Adobe InDesign CC 2015 (Macintosh)', 'producer': 'Mac OS X 10.12.4 Quartz PDFContext', 'creationDate': \"D:20170501173004Z00'00'\", 'modDate': \"D:20170501173004Z00'00'\", 'trapped': ''}, page_content='21\\nStart Here for the Basics\\n21\\nStart Here for the Basics\\nData Science Defined\\nData Science is the art of turning data into actions. This is \\naccomplished through the creation of data products, which provide \\nactionable information without exposing decision makers to the \\nunderlying data or analytics (e.g., buy/sell strategies for financial \\ninstruments, a set of actions to improve product yield, or steps to \\nimprove product marketing).\\nPerforming Data Science requires the extraction of timely, actionable \\ninformation from diverse data sources to drive data products. \\nExamples of data products include answers to questions such as: \\n“Which of my products should I advertise more heavily to increase \\nprofit? How can I improve my compliance program, while reducing \\ncosts? What manufacturing process change will allow me to build a \\nbetter product?” The key to answering these questions is: understand \\nthe data you have and what the data inductively tells you.\\n \\n» Data Product\\nA data product provides actionable \\ninformation without exposing \\ndecision makers to the underlying \\ndata or analytics. Examples include:\\n• Movie Recommendations      \\n• Weather Forecasts\\n• Stock Market Predictions\\n• Production Process \\nImprovements\\n• Health Diagnosis\\n• Flu Trend Predictions\\n• Targeted Advertising\\nRead this for additional background:\\nThe term Data Science appeared \\nin the computer science literature \\nthroughout the 1960s-1980s. \\nIt was not until the late 1990s \\nhowever, that the field as we \\ndescribe it here, began to  \\nemerge from the statistics and \\ndata mining communities  \\n(e.g., [2] and [3]). Data Science \\nwas first introduced as an \\nindependent discipline in 2001.[4] \\nSince that time, there have been \\ncountless articles advancing the \\ndiscipline, culminating with \\nData Scientist being declared the \\nsexiest job of the 21st century.[5] \\nWe established our first Data \\nScience team at Booz Allen \\nin 2010. It began as a natural \\nextension of our Business \\nIntelligence and cloud \\ninfrastructure development  \\nwork. We saw the need for a  \\nnew approach to distill value \\nfrom our clients’ data. We \\napproached the problem \\nwith a multidisciplinary \\nteam of computer scientists, \\nmathematicians and domain \\nexperts. They immediately \\nproduced new insights and \\nanalysis paths, solidifying the \\nvalidity of the approach. Since \\nthat time, our Data Science  \\nteam has grown to 250 staff \\nsupporting dozens of clients \\nacross a variety of domains.  \\nThis breadth of experience \\nprovides a unique perspective  \\non the conceptual models, \\ntradecraft, processes and  \\nculture of Data Science. \\n'),\n",
       " 0.62882864)"
      ]
     },
     "execution_count": 25,
     "metadata": {},
     "output_type": "execute_result"
    }
   ],
   "source": [
    "docs_and_scores[0]"
   ]
  },
  {
   "cell_type": "code",
   "execution_count": null,
   "metadata": {},
   "outputs": [],
   "source": []
  },
  {
   "cell_type": "markdown",
   "metadata": {},
   "source": [
    "## Filter"
   ]
  },
  {
   "cell_type": "code",
   "execution_count": 26,
   "metadata": {},
   "outputs": [],
   "source": [
    "results_with_scores = db.similarity_search_with_score(\"Tell me about Data science\", filter=dict(page=24))\n"
   ]
  },
  {
   "cell_type": "code",
   "execution_count": 27,
   "metadata": {},
   "outputs": [
    {
     "data": {
      "text/plain": [
       "[(Document(metadata={'source': '/Users/eshantdas/Downloads/field-guide-to-data-science.pdf', 'file_path': '/Users/eshantdas/Downloads/field-guide-to-data-science.pdf', 'page': 24, 'total_pages': 126, 'format': 'PDF 1.4', 'title': 'The Field Guide to Data Science', 'author': 'Booz Allen Hamilton', 'subject': 'The Field Guide to Data Science', 'keywords': 'The Field Guide to Data Science', 'creator': 'Adobe InDesign CC 2015 (Macintosh)', 'producer': 'Mac OS X 10.12.4 Quartz PDFContext', 'creationDate': \"D:20170501173004Z00'00'\", 'modDate': \"D:20170501173004Z00'00'\", 'trapped': ''}, page_content='What is the Impact of Data Science?\\nAs we move into the data economy, Data Science is the competitive \\nadvantage for organizations interested in winning – in whatever way \\nwinning is defined. The manner in which the advantage is defined \\nis through improved decision-making. A former colleague liked to \\ndescribe data-informed decision making like this: If you have perfect \\ninformation or zero information then your task is easy – it is in between \\nthose two extremes that the trouble begins. What he was highlighting is \\nthe stark reality that whether or not information is available, decisions \\nmust be made.\\nThe way organizations make decisions has been evolving for half a \\ncentury. Before the introduction of Business Intelligence, the only \\noptions were gut instinct, loudest voice, and best argument. Sadly, this \\nmethod still exists today, and in some pockets it is the predominant \\nmeans by which the organization acts. Take our advice and never, ever \\nwork for such a company! \\nFortunately for our economy, most organizations began to inform \\ntheir decisions with real information through the application of \\nsimple statistics. Those that did it well were rewarded; those that did \\nnot failed. We are outgrowing the ability of simple stats to keep pace \\nwith market demands, however. The rapid expansion of available data \\nand the tools to access and make use of the data at scale are enabling \\nfundamental changes to the way organizations make decisions. \\nData Science is required to maintain competitiveness in the \\nincreasingly data-rich environment. Much like the application of \\nsimple statistics, organizations that embrace Data Science will be \\nrewarded while those that do not will be challenged to keep pace. As \\nmore complex, disparate datasets become available, the chasm between \\nthese groups will only continue to widen. The figure, The Business \\nImpacts of Data Science, highlights the value awaiting organizations \\nthat embrace Data Science.\\nTHE FIELD GUIDE to  D AT A  S C I E N C E\\n'),\n",
       "  0.7932461)]"
      ]
     },
     "execution_count": 27,
     "metadata": {},
     "output_type": "execute_result"
    }
   ],
   "source": [
    "results_with_scores"
   ]
  },
  {
   "cell_type": "code",
   "execution_count": null,
   "metadata": {},
   "outputs": [],
   "source": []
  }
 ],
 "metadata": {
  "kernelspec": {
   "display_name": "myenv",
   "language": "python",
   "name": "python3"
  },
  "language_info": {
   "codemirror_mode": {
    "name": "ipython",
    "version": 3
   },
   "file_extension": ".py",
   "mimetype": "text/x-python",
   "name": "python",
   "nbconvert_exporter": "python",
   "pygments_lexer": "ipython3",
   "version": "3.10.8"
  }
 },
 "nbformat": 4,
 "nbformat_minor": 2
}
