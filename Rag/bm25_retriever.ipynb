{
 "cells": [
  {
   "cell_type": "code",
   "execution_count": 28,
   "metadata": {},
   "outputs": [],
   "source": [
    "# from langchain.retrievers import BM25Retriever\n",
    "from langchain import hub\n",
    "from langchain_community.document_loaders import PyMuPDFLoader\n",
    "from langchain_community.document_loaders import PyPDFLoader\n",
    "from langchain_chroma import Chroma\n",
    "from langchain_text_splitters import RecursiveCharacterTextSplitter,TokenTextSplitter,CharacterTextSplitter\n",
    "from langchain_cohere import CohereEmbeddings\n",
    "from langchain.retrievers import BM25Retriever"
   ]
  },
  {
   "cell_type": "code",
   "execution_count": 3,
   "metadata": {},
   "outputs": [
    {
     "data": {
      "text/plain": [
       "True"
      ]
     },
     "execution_count": 3,
     "metadata": {},
     "output_type": "execute_result"
    }
   ],
   "source": [
    "from dotenv import load_dotenv\n",
    "load_dotenv('/Users/eshantdas/Desktop/YOutube_scripts/myenv/.env')"
   ]
  },
  {
   "cell_type": "code",
   "execution_count": 31,
   "metadata": {},
   "outputs": [],
   "source": [
    "loader = PyMuPDFLoader(\"/Users/eshantdas/Downloads/field-guide-to-data-science.pdf\")\n",
    "data = loader.load()\n",
    "text_splitter = RecursiveCharacterTextSplitter(chunk_size=10000, chunk_overlap=600)\n",
    "splits_character = text_splitter.split_documents(data)\n",
    "\n",
    "\n",
    "\n",
    "retriever=BM25Retriever.from_documents(splits_character)\n",
    "retriever.k=4"
   ]
  },
  {
   "cell_type": "code",
   "execution_count": 32,
   "metadata": {},
   "outputs": [],
   "source": [
    "result = retriever.invoke(\"Tell me about Data Science\")"
   ]
  },
  {
   "cell_type": "code",
   "execution_count": 33,
   "metadata": {},
   "outputs": [
    {
     "data": {
      "text/plain": [
       "[Document(metadata={'source': '/Users/eshantdas/Downloads/field-guide-to-data-science.pdf', 'file_path': '/Users/eshantdas/Downloads/field-guide-to-data-science.pdf', 'page': 12, 'total_pages': 126, 'format': 'PDF 1.4', 'title': 'The Field Guide to Data Science', 'author': 'Booz Allen Hamilton', 'subject': 'The Field Guide to Data Science', 'keywords': 'The Field Guide to Data Science', 'creator': 'Adobe InDesign CC 2015 (Macintosh)', 'producer': 'Mac OS X 10.12.4 Quartz PDFContext', 'creationDate': \"D:20170501173004Z00'00'\", 'modDate': \"D:20170501173004Z00'00'\", 'trapped': ''}, page_content='MEET your G U I D E S\\nFred Blackburn\\n(@boozallen)\\nData Science is a field that is  \\nevolving at a very rapid pace…be  \\npart of the journey. \\nAngela Zutavern\\n(@angelazutavern)\\nData Science is about asking bigger \\nquestions, seeing future possibilities, \\nand creating outcomes you desire. \\nJosh Sullivan \\n(@joshdsullivan)\\nLeading our Data Science team \\nshows me every day the incredible \\npower of discovery and human \\ncuriosity. Don’t be afraid to blend \\nart and science to advance your \\nown view of data analytics – it \\ncan be a powerful mixture.\\nSteve Escaravage\\n(@sescarav)\\nInvest your time and energy \\nin data that is difficult to \\nassemble.  If it doesn’t exist, \\nfind a way to make it exist.\\nPeter Guerra \\n(@petrguerra)\\nData Science is the most fascinating \\nblend of art and math and code \\nand sweat and tears. It can take \\nyou to the highest heights and the \\nlowest depths in an instant, but it \\nis the only way we will be able to \\nunderstand and describe the why.\\nEzmeralda Khalil\\n(@ezmeraldakhalil)\\nThe power of data science \\nlies in the execution.\\n››\\nTHE FIELD GUIDE to  D AT A  S C I E N C E'),\n",
       " Document(metadata={'source': '/Users/eshantdas/Downloads/field-guide-to-data-science.pdf', 'file_path': '/Users/eshantdas/Downloads/field-guide-to-data-science.pdf', 'page': 119, 'total_pages': 126, 'format': 'PDF 1.4', 'title': 'The Field Guide to Data Science', 'author': 'Booz Allen Hamilton', 'subject': 'The Field Guide to Data Science', 'keywords': 'The Field Guide to Data Science', 'creator': 'Adobe InDesign CC 2015 (Macintosh)', 'producer': 'Mac OS X 10.12.4 Quartz PDFContext', 'creationDate': \"D:20170501173004Z00'00'\", 'modDate': \"D:20170501173004Z00'00'\", 'trapped': ''}, page_content='PARTING  \\nT H O U G H T S \\nData Science capabilities are creating data analytics that are \\ntouching every aspect of our lives on a daily basis. From visiting \\nthe doctor, to driving our cars, to shopping for services Data \\nScience is quietly changing the way we interactive with and \\nexplore our world. We hope we have helped you truly understand \\nthe potential of your data and how to become extraordinary \\nthinkers by asking the right questions. We hope we have helped \\ncontinue to drive forward the science and art of Data Science. \\nMost importantly, we hope you are leaving with a newfound \\npassion and excitement for Data Science.  \\nThank you for taking this journey with us. Please join our \\nconversation and let your voice be heard. Email us your ideas \\nand perspectives at data_science@bah.com or submit them \\nvia a pull request on the Github repository.  \\n \\nTell us and the world what you know. Join us. Become an \\nauthor of this story.\\n››\\n119\\nClosing Time'),\n",
       " Document(metadata={'source': '/Users/eshantdas/Downloads/field-guide-to-data-science.pdf', 'file_path': '/Users/eshantdas/Downloads/field-guide-to-data-science.pdf', 'page': 7, 'total_pages': 126, 'format': 'PDF 1.4', 'title': 'The Field Guide to Data Science', 'author': 'Booz Allen Hamilton', 'subject': 'The Field Guide to Data Science', 'keywords': 'The Field Guide to Data Science', 'creator': 'Adobe InDesign CC 2015 (Macintosh)', 'producer': 'Mac OS X 10.12.4 Quartz PDFContext', 'creationDate': \"D:20170501173004Z00'00'\", 'modDate': \"D:20170501173004Z00'00'\", 'trapped': ''}, page_content='WE ARE ALL \\nAUTHORS  of    \\nT H I S  \\nS T O R Y\\nWe recognize that Data Science is a team sport. The Field Guide \\nto Data Science provides Booz Allen Hamilton’s perspective on the \\ncomplex and sometimes mysterious field of Data Science. We cannot \\ncapture all that is Data Science. Nor can we keep up - the pace at \\nwhich this field progresses outdates work as fast as it is produced.  \\nAs a result, we opened this field guide to the world as a living \\ndocument to bend and grow with technology, expertise, and  \\nevolving techniques. \\nThank you to all the people that have emailed us your ideas as \\nwell as the 100+ people who have watched, starred, or forked our \\nGitHub repository. We truly value the input of the community, as \\nwe work together to advance the science and art of Data Science. \\nThis is why we have included authors from outside Booz Allen \\nHamilton on this second edition of The Field Guide to Data Science. \\nIf you find the guide to be useful, neat, or even lacking, then \\nwe encourage you to add your expertise, including:\\n›\\n›\\nCase studies from which you have learned \\n›\\n›\\nCitations from journal articles or papers that inspire you \\n›\\n›\\nAlgorithms and techniques that you love \\n›\\n›\\nYour thoughts and comments on other people’s additions \\n \\nEmail us your ideas and perspectives at data_science@bah.com \\nor submit them via a pull request on the GitHub repository.  \\n \\nJoin our conversation and take the journey with us. Tell us and \\nthe world what you know. Become an author of this story.\\n››'),\n",
       " Document(metadata={'source': '/Users/eshantdas/Downloads/field-guide-to-data-science.pdf', 'file_path': '/Users/eshantdas/Downloads/field-guide-to-data-science.pdf', 'page': 21, 'total_pages': 126, 'format': 'PDF 1.4', 'title': 'The Field Guide to Data Science', 'author': 'Booz Allen Hamilton', 'subject': 'The Field Guide to Data Science', 'keywords': 'The Field Guide to Data Science', 'creator': 'Adobe InDesign CC 2015 (Macintosh)', 'producer': 'Mac OS X 10.12.4 Quartz PDFContext', 'creationDate': \"D:20170501173004Z00'00'\", 'modDate': \"D:20170501173004Z00'00'\", 'trapped': ''}, page_content='21\\nStart Here for the Basics\\n21\\nStart Here for the Basics\\nData Science Defined\\nData Science is the art of turning data into actions. This is \\naccomplished through the creation of data products, which provide \\nactionable information without exposing decision makers to the \\nunderlying data or analytics (e.g., buy/sell strategies for financial \\ninstruments, a set of actions to improve product yield, or steps to \\nimprove product marketing).\\nPerforming Data Science requires the extraction of timely, actionable \\ninformation from diverse data sources to drive data products. \\nExamples of data products include answers to questions such as: \\n“Which of my products should I advertise more heavily to increase \\nprofit? How can I improve my compliance program, while reducing \\ncosts? What manufacturing process change will allow me to build a \\nbetter product?” The key to answering these questions is: understand \\nthe data you have and what the data inductively tells you.\\n \\n» Data Product\\nA data product provides actionable \\ninformation without exposing \\ndecision makers to the underlying \\ndata or analytics. Examples include:\\n• Movie Recommendations      \\n• Weather Forecasts\\n• Stock Market Predictions\\n• Production Process \\nImprovements\\n• Health Diagnosis\\n• Flu Trend Predictions\\n• Targeted Advertising\\nRead this for additional background:\\nThe term Data Science appeared \\nin the computer science literature \\nthroughout the 1960s-1980s. \\nIt was not until the late 1990s \\nhowever, that the field as we \\ndescribe it here, began to  \\nemerge from the statistics and \\ndata mining communities  \\n(e.g., [2] and [3]). Data Science \\nwas first introduced as an \\nindependent discipline in 2001.[4] \\nSince that time, there have been \\ncountless articles advancing the \\ndiscipline, culminating with \\nData Scientist being declared the \\nsexiest job of the 21st century.[5] \\nWe established our first Data \\nScience team at Booz Allen \\nin 2010. It began as a natural \\nextension of our Business \\nIntelligence and cloud \\ninfrastructure development  \\nwork. We saw the need for a  \\nnew approach to distill value \\nfrom our clients’ data. We \\napproached the problem \\nwith a multidisciplinary \\nteam of computer scientists, \\nmathematicians and domain \\nexperts. They immediately \\nproduced new insights and \\nanalysis paths, solidifying the \\nvalidity of the approach. Since \\nthat time, our Data Science  \\nteam has grown to 250 staff \\nsupporting dozens of clients \\nacross a variety of domains.  \\nThis breadth of experience \\nprovides a unique perspective  \\non the conceptual models, \\ntradecraft, processes and  \\nculture of Data Science.')]"
      ]
     },
     "execution_count": 33,
     "metadata": {},
     "output_type": "execute_result"
    }
   ],
   "source": [
    "result"
   ]
  },
  {
   "cell_type": "code",
   "execution_count": null,
   "metadata": {},
   "outputs": [],
   "source": []
  },
  {
   "cell_type": "code",
   "execution_count": null,
   "metadata": {},
   "outputs": [],
   "source": []
  }
 ],
 "metadata": {
  "kernelspec": {
   "display_name": "myenv",
   "language": "python",
   "name": "python3"
  },
  "language_info": {
   "codemirror_mode": {
    "name": "ipython",
    "version": 3
   },
   "file_extension": ".py",
   "mimetype": "text/x-python",
   "name": "python",
   "nbconvert_exporter": "python",
   "pygments_lexer": "ipython3",
   "version": "3.10.8"
  }
 },
 "nbformat": 4,
 "nbformat_minor": 2
}
