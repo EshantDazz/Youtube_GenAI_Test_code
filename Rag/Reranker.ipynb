{
 "cells": [
  {
   "cell_type": "code",
   "execution_count": 1,
   "metadata": {},
   "outputs": [],
   "source": [
    "from langchain import hub\n",
    "from langchain_community.document_loaders import PyMuPDFLoader\n",
    "from langchain_community.document_loaders import PyPDFLoader\n",
    "from langchain_chroma import Chroma\n",
    "from langchain_text_splitters import RecursiveCharacterTextSplitter,TokenTextSplitter,CharacterTextSplitter\n",
    "from langchain_cohere import CohereEmbeddings"
   ]
  },
  {
   "cell_type": "code",
   "execution_count": 2,
   "metadata": {},
   "outputs": [
    {
     "data": {
      "text/plain": [
       "True"
      ]
     },
     "execution_count": 2,
     "metadata": {},
     "output_type": "execute_result"
    }
   ],
   "source": [
    "from dotenv import load_dotenv\n",
    "load_dotenv('/Users/eshantdas/Desktop/YOutube_scripts/myenv/.env')"
   ]
  },
  {
   "cell_type": "code",
   "execution_count": 6,
   "metadata": {},
   "outputs": [],
   "source": [
    "loader = PyMuPDFLoader(\"/Users/eshantdas/Downloads/field-guide-to-data-science.pdf\")\n",
    "data = loader.load()\n",
    "text_splitter = RecursiveCharacterTextSplitter(chunk_size=10000, chunk_overlap=600)\n",
    "splits_character = text_splitter.split_documents(data)\n",
    "\n",
    "embeddings = CohereEmbeddings(\n",
    "    model=\"embed-english-light-v3.0\"\n",
    ")  \n",
    "\n",
    "vectorstore = Chroma.from_documents(documents=splits_character, embedding=embeddings)\n",
    "retriever = vectorstore.as_retriever(k=5)\n",
    "prompt = hub.pull(\"rlm/rag-prompt\")"
   ]
  },
  {
   "cell_type": "code",
   "execution_count": 7,
   "metadata": {},
   "outputs": [],
   "source": [
    "from langchain_core.prompts import ChatPromptTemplate\n",
    "from langchain_groq import ChatGroq\n",
    "from langchain_core.output_parsers import StrOutputParser\n",
    "from langchain_core.prompts import ChatPromptTemplate\n",
    "from langchain_core.runnables import RunnableParallel, RunnablePassthrough\n",
    "\n",
    "llm = ChatGroq(\n",
    "    temperature=0,\n",
    "    model=\"llama3-70b-8192\",\n",
    ")\n",
    "\n",
    "\n",
    "def format_docs(docs):\n",
    "    return \"\\n\\n\".join(doc.page_content for doc in docs)\n",
    "\n",
    "\n",
    "rag_chain = (\n",
    "    {\"context\": retriever | format_docs, \"question\": RunnablePassthrough()}\n",
    "    | prompt\n",
    "    | llm\n",
    "    | StrOutputParser()\n",
    ")"
   ]
  },
  {
   "cell_type": "code",
   "execution_count": 8,
   "metadata": {},
   "outputs": [
    {
     "data": {
      "text/plain": [
       "'Data Science is the art of turning data into actions through the creation of data products, which provide actionable information without exposing decision makers to the underlying data or analytics. It involves extracting timely, actionable information from diverse data sources to drive data products, such as movie recommendations, weather forecasts, and stock market predictions.'"
      ]
     },
     "execution_count": 8,
     "metadata": {},
     "output_type": "execute_result"
    }
   ],
   "source": [
    "rag_chain.invoke(\"Tell me about Data Science?\")"
   ]
  },
  {
   "cell_type": "code",
   "execution_count": null,
   "metadata": {},
   "outputs": [],
   "source": []
  },
  {
   "cell_type": "markdown",
   "metadata": {},
   "source": [
    "## Cohere Reranker"
   ]
  },
  {
   "cell_type": "code",
   "execution_count": 26,
   "metadata": {},
   "outputs": [
    {
     "name": "stderr",
     "output_type": "stream",
     "text": [
      "INFO:httpx:HTTP Request: POST https://api.cohere.com/v1/rerank \"HTTP/1.1 200 OK\"\n"
     ]
    },
    {
     "data": {
      "text/plain": [
       "[Document(metadata={'author': 'Booz Allen Hamilton', 'creationDate': \"D:20170501173004Z00'00'\", 'creator': 'Adobe InDesign CC 2015 (Macintosh)', 'file_path': '/Users/eshantdas/Downloads/field-guide-to-data-science.pdf', 'format': 'PDF 1.4', 'keywords': 'The Field Guide to Data Science', 'modDate': \"D:20170501173004Z00'00'\", 'page': 12, 'producer': 'Mac OS X 10.12.4 Quartz PDFContext', 'source': '/Users/eshantdas/Downloads/field-guide-to-data-science.pdf', 'subject': 'The Field Guide to Data Science', 'title': 'The Field Guide to Data Science', 'total_pages': 126, 'trapped': '', 'relevance_score': 0.9987157}, page_content='MEET your G U I D E S\\nFred Blackburn\\n(@boozallen)\\nData Science is a field that is  \\nevolving at a very rapid pace…be  \\npart of the journey. \\nAngela Zutavern\\n(@angelazutavern)\\nData Science is about asking bigger \\nquestions, seeing future possibilities, \\nand creating outcomes you desire. \\nJosh Sullivan \\n(@joshdsullivan)\\nLeading our Data Science team \\nshows me every day the incredible \\npower of discovery and human \\ncuriosity. Don’t be afraid to blend \\nart and science to advance your \\nown view of data analytics – it \\ncan be a powerful mixture.\\nSteve Escaravage\\n(@sescarav)\\nInvest your time and energy \\nin data that is difficult to \\nassemble.  If it doesn’t exist, \\nfind a way to make it exist.\\nPeter Guerra \\n(@petrguerra)\\nData Science is the most fascinating \\nblend of art and math and code \\nand sweat and tears. It can take \\nyou to the highest heights and the \\nlowest depths in an instant, but it \\nis the only way we will be able to \\nunderstand and describe the why.\\nEzmeralda Khalil\\n(@ezmeraldakhalil)\\nThe power of data science \\nlies in the execution.\\n››\\nTHE FIELD GUIDE to  D AT A  S C I E N C E'),\n",
       " Document(metadata={'author': 'Booz Allen Hamilton', 'creationDate': \"D:20170501173004Z00'00'\", 'creator': 'Adobe InDesign CC 2015 (Macintosh)', 'file_path': '/Users/eshantdas/Downloads/field-guide-to-data-science.pdf', 'format': 'PDF 1.4', 'keywords': 'The Field Guide to Data Science', 'modDate': \"D:20170501173004Z00'00'\", 'page': 12, 'producer': 'Mac OS X 10.12.4 Quartz PDFContext', 'source': '/Users/eshantdas/Downloads/field-guide-to-data-science.pdf', 'subject': 'The Field Guide to Data Science', 'title': 'The Field Guide to Data Science', 'total_pages': 126, 'trapped': '', 'relevance_score': 0.9987157}, page_content='MEET your G U I D E S\\nFred Blackburn\\n(@boozallen)\\nData Science is a field that is  \\nevolving at a very rapid pace…be  \\npart of the journey. \\nAngela Zutavern\\n(@angelazutavern)\\nData Science is about asking bigger \\nquestions, seeing future possibilities, \\nand creating outcomes you desire. \\nJosh Sullivan \\n(@joshdsullivan)\\nLeading our Data Science team \\nshows me every day the incredible \\npower of discovery and human \\ncuriosity. Don’t be afraid to blend \\nart and science to advance your \\nown view of data analytics – it \\ncan be a powerful mixture.\\nSteve Escaravage\\n(@sescarav)\\nInvest your time and energy \\nin data that is difficult to \\nassemble.  If it doesn’t exist, \\nfind a way to make it exist.\\nPeter Guerra \\n(@petrguerra)\\nData Science is the most fascinating \\nblend of art and math and code \\nand sweat and tears. It can take \\nyou to the highest heights and the \\nlowest depths in an instant, but it \\nis the only way we will be able to \\nunderstand and describe the why.\\nEzmeralda Khalil\\n(@ezmeraldakhalil)\\nThe power of data science \\nlies in the execution.\\n››\\nTHE FIELD GUIDE to  D AT A  S C I E N C E'),\n",
       " Document(metadata={'author': 'Booz Allen Hamilton', 'creationDate': \"D:20170501173004Z00'00'\", 'creator': 'Adobe InDesign CC 2015 (Macintosh)', 'file_path': '/Users/eshantdas/Downloads/field-guide-to-data-science.pdf', 'format': 'PDF 1.4', 'keywords': 'The Field Guide to Data Science', 'modDate': \"D:20170501173004Z00'00'\", 'page': 21, 'producer': 'Mac OS X 10.12.4 Quartz PDFContext', 'source': '/Users/eshantdas/Downloads/field-guide-to-data-science.pdf', 'subject': 'The Field Guide to Data Science', 'title': 'The Field Guide to Data Science', 'total_pages': 126, 'trapped': '', 'relevance_score': 0.9981613}, page_content='21\\nStart Here for the Basics\\n21\\nStart Here for the Basics\\nData Science Defined\\nData Science is the art of turning data into actions. This is \\naccomplished through the creation of data products, which provide \\nactionable information without exposing decision makers to the \\nunderlying data or analytics (e.g., buy/sell strategies for financial \\ninstruments, a set of actions to improve product yield, or steps to \\nimprove product marketing).\\nPerforming Data Science requires the extraction of timely, actionable \\ninformation from diverse data sources to drive data products. \\nExamples of data products include answers to questions such as: \\n“Which of my products should I advertise more heavily to increase \\nprofit? How can I improve my compliance program, while reducing \\ncosts? What manufacturing process change will allow me to build a \\nbetter product?” The key to answering these questions is: understand \\nthe data you have and what the data inductively tells you.\\n \\n» Data Product\\nA data product provides actionable \\ninformation without exposing \\ndecision makers to the underlying \\ndata or analytics. Examples include:\\n• Movie Recommendations      \\n• Weather Forecasts\\n• Stock Market Predictions\\n• Production Process \\nImprovements\\n• Health Diagnosis\\n• Flu Trend Predictions\\n• Targeted Advertising\\nRead this for additional background:\\nThe term Data Science appeared \\nin the computer science literature \\nthroughout the 1960s-1980s. \\nIt was not until the late 1990s \\nhowever, that the field as we \\ndescribe it here, began to  \\nemerge from the statistics and \\ndata mining communities  \\n(e.g., [2] and [3]). Data Science \\nwas first introduced as an \\nindependent discipline in 2001.[4] \\nSince that time, there have been \\ncountless articles advancing the \\ndiscipline, culminating with \\nData Scientist being declared the \\nsexiest job of the 21st century.[5] \\nWe established our first Data \\nScience team at Booz Allen \\nin 2010. It began as a natural \\nextension of our Business \\nIntelligence and cloud \\ninfrastructure development  \\nwork. We saw the need for a  \\nnew approach to distill value \\nfrom our clients’ data. We \\napproached the problem \\nwith a multidisciplinary \\nteam of computer scientists, \\nmathematicians and domain \\nexperts. They immediately \\nproduced new insights and \\nanalysis paths, solidifying the \\nvalidity of the approach. Since \\nthat time, our Data Science  \\nteam has grown to 250 staff \\nsupporting dozens of clients \\nacross a variety of domains.  \\nThis breadth of experience \\nprovides a unique perspective  \\non the conceptual models, \\ntradecraft, processes and  \\nculture of Data Science.')]"
      ]
     },
     "execution_count": 26,
     "metadata": {},
     "output_type": "execute_result"
    }
   ],
   "source": [
    "from langchain.retrievers.contextual_compression import ContextualCompressionRetriever\n",
    "from langchain_cohere import CohereRerank\n",
    "from langchain_community.llms import Cohere\n",
    "\n",
    "compressor = CohereRerank(model=\"rerank-english-v3.0\")\n",
    "compression_retriever = ContextualCompressionRetriever(\n",
    "    base_compressor=compressor, base_retriever=retriever\n",
    ")\n",
    "\n",
    "compressed_docs = compression_retriever.invoke(\n",
    "    \"Tell me about Data Science\"\n",
    ")\n",
    "compressed_docs"
   ]
  },
  {
   "cell_type": "code",
   "execution_count": 27,
   "metadata": {},
   "outputs": [],
   "source": [
    "from langchain.chains import RetrievalQA"
   ]
  },
  {
   "cell_type": "code",
   "execution_count": 28,
   "metadata": {},
   "outputs": [],
   "source": [
    "chain = RetrievalQA.from_chain_type(\n",
    "    llm=llm, retriever=compression_retriever\n",
    ")"
   ]
  },
  {
   "cell_type": "code",
   "execution_count": 31,
   "metadata": {},
   "outputs": [
    {
     "name": "stderr",
     "output_type": "stream",
     "text": [
      "INFO:httpx:HTTP Request: POST https://api.cohere.com/v1/rerank \"HTTP/1.1 200 OK\"\n",
      "INFO:httpx:HTTP Request: POST https://api.groq.com/openai/v1/chat/completions \"HTTP/1.1 200 OK\"\n"
     ]
    },
    {
     "data": {
      "text/plain": [
       "{'query': 'tell me about Data Science',\n",
       " 'result': 'Based on the provided context, here\\'s what I can tell you about Data Science:\\n\\n**Definition:** Data Science is the art of turning data into actions. It involves creating data products that provide actionable information without exposing decision makers to the underlying data or analytics.\\n\\n**Goal:** The goal of Data Science is to extract timely, actionable information from diverse data sources to drive data products.\\n\\n**Data Products:** Data products are the outcome of Data Science. They provide actionable information and can take many forms, such as:\\n\\n* Movie recommendations\\n* Weather forecasts\\n* Stock market predictions\\n* Production process improvements\\n* Health diagnosis\\n* Flu trend predictions\\n* Targeted advertising\\n\\n**History:** The term \"Data Science\" has been around since the 1960s-1980s, but it wasn\\'t until the late 1990s that the field as we know it today began to emerge from the statistics and data mining communities. It was first introduced as an independent discipline in 2001.\\n\\n**Importance:** Data Science has been declared the \"sexiest job of the 21st century\" and is a rapidly evolving field that requires a multidisciplinary approach, combining computer science, mathematics, and domain expertise.\\n\\n**Key aspects:** According to the guides, some key aspects of Data Science include:\\n\\n* Asking bigger questions and seeing future possibilities\\n* Blending art and science to advance data analytics\\n* Investing time and energy in difficult-to-assemble data\\n* Executing data science to achieve outcomes\\n* Understanding the data and what it inductively tells you\\n\\nI hope this helps! Let me know if you have any further questions.'}"
      ]
     },
     "execution_count": 31,
     "metadata": {},
     "output_type": "execute_result"
    }
   ],
   "source": [
    "chain.invoke(\"tell me about Data Science\")"
   ]
  },
  {
   "cell_type": "code",
   "execution_count": null,
   "metadata": {},
   "outputs": [],
   "source": []
  }
 ],
 "metadata": {
  "kernelspec": {
   "display_name": "myenv",
   "language": "python",
   "name": "python3"
  },
  "language_info": {
   "codemirror_mode": {
    "name": "ipython",
    "version": 3
   },
   "file_extension": ".py",
   "mimetype": "text/x-python",
   "name": "python",
   "nbconvert_exporter": "python",
   "pygments_lexer": "ipython3",
   "version": "3.10.8"
  }
 },
 "nbformat": 4,
 "nbformat_minor": 2
}
