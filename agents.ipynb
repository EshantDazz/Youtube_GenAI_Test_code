{
 "cells": [
  {
   "cell_type": "code",
   "execution_count": 22,
   "metadata": {},
   "outputs": [],
   "source": [
    "\n",
    "from langchain.agents import load_tools, initialize_agent\n",
    "from langchain.agents import AgentType\n",
    "from operator import itemgetter\n",
    "from dotenv import load_dotenv\n",
    "load_dotenv('myenv/.env')\n",
    "from langchain_core.output_parsers import StrOutputParser\n",
    "from langchain_core.prompts import ChatPromptTemplate\n",
    "from langchain_groq import ChatGroq\n",
    "\n",
    "model = ChatGroq(\n",
    "    temperature=0,\n",
    "    model=\"llama3-70b-8192\",\n",
    ")\n",
    "from langchain_core.messages import HumanMessage\n",
    "from langchain_core.tools import tool\n",
    "\n",
    "\n",
    "@tool\n",
    "def multiply(a: int, b: int) -> int:\n",
    "    \"\"\"Multiply two numbers.\"\"\"\n",
    "    return a * b"
   ]
  },
  {
   "cell_type": "code",
   "execution_count": null,
   "metadata": {},
   "outputs": [],
   "source": [
    "from langchain_community.tools import WikipediaQueryRun"
   ]
  },
  {
   "cell_type": "code",
   "execution_count": 24,
   "metadata": {},
   "outputs": [
    {
     "data": {
      "text/plain": [
       "[Tool(name='Calculator', description='Useful for when you need to answer questions about math.', func=<bound method Chain.run of LLMMathChain(llm_chain=LLMChain(prompt=PromptTemplate(input_variables=['question'], template='Translate a math problem into a expression that can be executed using Python\\'s numexpr library. Use the output of running this code to answer the question.\\n\\nQuestion: ${{Question with math problem.}}\\n```text\\n${{single line mathematical expression that solves the problem}}\\n```\\n...numexpr.evaluate(text)...\\n```output\\n${{Output of running the code}}\\n```\\nAnswer: ${{Answer}}\\n\\nBegin.\\n\\nQuestion: What is 37593 * 67?\\n```text\\n37593 * 67\\n```\\n...numexpr.evaluate(\"37593 * 67\")...\\n```output\\n2518731\\n```\\nAnswer: 2518731\\n\\nQuestion: 37593^(1/5)\\n```text\\n37593**(1/5)\\n```\\n...numexpr.evaluate(\"37593**(1/5)\")...\\n```output\\n8.222831614237718\\n```\\nAnswer: 8.222831614237718\\n\\nQuestion: {question}\\n'), llm=ChatGroq(client=<groq.resources.chat.completions.Completions object at 0x14e9d2300>, async_client=<groq.resources.chat.completions.AsyncCompletions object at 0x14e9d1910>, model_name='llama3-70b-8192', temperature=1e-08, groq_api_key=SecretStr('**********'))))>, coroutine=<bound method Chain.arun of LLMMathChain(llm_chain=LLMChain(prompt=PromptTemplate(input_variables=['question'], template='Translate a math problem into a expression that can be executed using Python\\'s numexpr library. Use the output of running this code to answer the question.\\n\\nQuestion: ${{Question with math problem.}}\\n```text\\n${{single line mathematical expression that solves the problem}}\\n```\\n...numexpr.evaluate(text)...\\n```output\\n${{Output of running the code}}\\n```\\nAnswer: ${{Answer}}\\n\\nBegin.\\n\\nQuestion: What is 37593 * 67?\\n```text\\n37593 * 67\\n```\\n...numexpr.evaluate(\"37593 * 67\")...\\n```output\\n2518731\\n```\\nAnswer: 2518731\\n\\nQuestion: 37593^(1/5)\\n```text\\n37593**(1/5)\\n```\\n...numexpr.evaluate(\"37593**(1/5)\")...\\n```output\\n8.222831614237718\\n```\\nAnswer: 8.222831614237718\\n\\nQuestion: {question}\\n'), llm=ChatGroq(client=<groq.resources.chat.completions.Completions object at 0x14e9d2300>, async_client=<groq.resources.chat.completions.AsyncCompletions object at 0x14e9d1910>, model_name='llama3-70b-8192', temperature=1e-08, groq_api_key=SecretStr('**********'))))>),\n",
       " WikipediaQueryRun(api_wrapper=WikipediaAPIWrapper(wiki_client=<module 'wikipedia' from '/Users/eshantdas/Desktop/Youtube/Youtube_GenAI_Test_code/myenv/lib/python3.12/site-packages/wikipedia/__init__.py'>, top_k_results=3, lang='en', load_all_available_meta=False, doc_content_chars_max=4000))]"
      ]
     },
     "execution_count": 24,
     "metadata": {},
     "output_type": "execute_result"
    }
   ],
   "source": [
    "tools = load_tools([\"llm-math\",\"wikipedia\"], llm=model)\n",
    "tools"
   ]
  },
  {
   "cell_type": "code",
   "execution_count": 25,
   "metadata": {},
   "outputs": [],
   "source": [
    "tools.append(multiply)"
   ]
  },
  {
   "cell_type": "code",
   "execution_count": 26,
   "metadata": {},
   "outputs": [
    {
     "data": {
      "text/plain": [
       "[Tool(name='Calculator', description='Useful for when you need to answer questions about math.', func=<bound method Chain.run of LLMMathChain(llm_chain=LLMChain(prompt=PromptTemplate(input_variables=['question'], template='Translate a math problem into a expression that can be executed using Python\\'s numexpr library. Use the output of running this code to answer the question.\\n\\nQuestion: ${{Question with math problem.}}\\n```text\\n${{single line mathematical expression that solves the problem}}\\n```\\n...numexpr.evaluate(text)...\\n```output\\n${{Output of running the code}}\\n```\\nAnswer: ${{Answer}}\\n\\nBegin.\\n\\nQuestion: What is 37593 * 67?\\n```text\\n37593 * 67\\n```\\n...numexpr.evaluate(\"37593 * 67\")...\\n```output\\n2518731\\n```\\nAnswer: 2518731\\n\\nQuestion: 37593^(1/5)\\n```text\\n37593**(1/5)\\n```\\n...numexpr.evaluate(\"37593**(1/5)\")...\\n```output\\n8.222831614237718\\n```\\nAnswer: 8.222831614237718\\n\\nQuestion: {question}\\n'), llm=ChatGroq(client=<groq.resources.chat.completions.Completions object at 0x14e9d2300>, async_client=<groq.resources.chat.completions.AsyncCompletions object at 0x14e9d1910>, model_name='llama3-70b-8192', temperature=1e-08, groq_api_key=SecretStr('**********'))))>, coroutine=<bound method Chain.arun of LLMMathChain(llm_chain=LLMChain(prompt=PromptTemplate(input_variables=['question'], template='Translate a math problem into a expression that can be executed using Python\\'s numexpr library. Use the output of running this code to answer the question.\\n\\nQuestion: ${{Question with math problem.}}\\n```text\\n${{single line mathematical expression that solves the problem}}\\n```\\n...numexpr.evaluate(text)...\\n```output\\n${{Output of running the code}}\\n```\\nAnswer: ${{Answer}}\\n\\nBegin.\\n\\nQuestion: What is 37593 * 67?\\n```text\\n37593 * 67\\n```\\n...numexpr.evaluate(\"37593 * 67\")...\\n```output\\n2518731\\n```\\nAnswer: 2518731\\n\\nQuestion: 37593^(1/5)\\n```text\\n37593**(1/5)\\n```\\n...numexpr.evaluate(\"37593**(1/5)\")...\\n```output\\n8.222831614237718\\n```\\nAnswer: 8.222831614237718\\n\\nQuestion: {question}\\n'), llm=ChatGroq(client=<groq.resources.chat.completions.Completions object at 0x14e9d2300>, async_client=<groq.resources.chat.completions.AsyncCompletions object at 0x14e9d1910>, model_name='llama3-70b-8192', temperature=1e-08, groq_api_key=SecretStr('**********'))))>),\n",
       " WikipediaQueryRun(api_wrapper=WikipediaAPIWrapper(wiki_client=<module 'wikipedia' from '/Users/eshantdas/Desktop/Youtube/Youtube_GenAI_Test_code/myenv/lib/python3.12/site-packages/wikipedia/__init__.py'>, top_k_results=3, lang='en', load_all_available_meta=False, doc_content_chars_max=4000)),\n",
       " StructuredTool(name='multiply', description='Multiply two numbers.', args_schema=<class 'pydantic.v1.main.multiplySchema'>, func=<function multiply at 0x14ea8ca40>)]"
      ]
     },
     "execution_count": 26,
     "metadata": {},
     "output_type": "execute_result"
    }
   ],
   "source": [
    "tools"
   ]
  },
  {
   "cell_type": "code",
   "execution_count": 27,
   "metadata": {},
   "outputs": [
    {
     "ename": "ValueError",
     "evalue": "ChatAgent does not support multi-input tool multiply.",
     "output_type": "error",
     "traceback": [
      "\u001b[0;31m---------------------------------------------------------------------------\u001b[0m",
      "\u001b[0;31mValueError\u001b[0m                                Traceback (most recent call last)",
      "Cell \u001b[0;32mIn[27], line 1\u001b[0m\n\u001b[0;32m----> 1\u001b[0m agent\u001b[39m=\u001b[39m initialize_agent(\n\u001b[1;32m      2\u001b[0m     tools, \n\u001b[1;32m      3\u001b[0m     model, \n\u001b[1;32m      4\u001b[0m     agent\u001b[39m=\u001b[39;49mAgentType\u001b[39m.\u001b[39;49mCHAT_ZERO_SHOT_REACT_DESCRIPTION,\n\u001b[1;32m      5\u001b[0m     handle_parsing_errors\u001b[39m=\u001b[39;49m\u001b[39mTrue\u001b[39;49;00m,\n\u001b[1;32m      6\u001b[0m     verbose \u001b[39m=\u001b[39;49m \u001b[39mFalse\u001b[39;49;00m)\n",
      "File \u001b[0;32m~/Desktop/Youtube/Youtube_GenAI_Test_code/myenv/lib/python3.12/site-packages/langchain_core/_api/deprecation.py:168\u001b[0m, in \u001b[0;36mdeprecated.<locals>.deprecate.<locals>.warning_emitting_wrapper\u001b[0;34m(*args, **kwargs)\u001b[0m\n\u001b[1;32m    166\u001b[0m     warned \u001b[39m=\u001b[39m \u001b[39mTrue\u001b[39;00m\n\u001b[1;32m    167\u001b[0m     emit_warning()\n\u001b[0;32m--> 168\u001b[0m \u001b[39mreturn\u001b[39;00m wrapped(\u001b[39m*\u001b[39;49margs, \u001b[39m*\u001b[39;49m\u001b[39m*\u001b[39;49mkwargs)\n",
      "File \u001b[0;32m~/Desktop/Youtube/Youtube_GenAI_Test_code/myenv/lib/python3.12/site-packages/langchain/agents/initialize.py:75\u001b[0m, in \u001b[0;36minitialize_agent\u001b[0;34m(tools, llm, agent, callback_manager, agent_path, agent_kwargs, tags, **kwargs)\u001b[0m\n\u001b[1;32m     73\u001b[0m     agent_cls \u001b[39m=\u001b[39m AGENT_TO_CLASS[agent]\n\u001b[1;32m     74\u001b[0m     agent_kwargs \u001b[39m=\u001b[39m agent_kwargs \u001b[39mor\u001b[39;00m {}\n\u001b[0;32m---> 75\u001b[0m     agent_obj \u001b[39m=\u001b[39m agent_cls\u001b[39m.\u001b[39;49mfrom_llm_and_tools(\n\u001b[1;32m     76\u001b[0m         llm, tools, callback_manager\u001b[39m=\u001b[39;49mcallback_manager, \u001b[39m*\u001b[39;49m\u001b[39m*\u001b[39;49magent_kwargs\n\u001b[1;32m     77\u001b[0m     )\n\u001b[1;32m     78\u001b[0m \u001b[39melif\u001b[39;00m agent_path \u001b[39mis\u001b[39;00m \u001b[39mnot\u001b[39;00m \u001b[39mNone\u001b[39;00m:\n\u001b[1;32m     79\u001b[0m     agent_obj \u001b[39m=\u001b[39m load_agent(\n\u001b[1;32m     80\u001b[0m         agent_path, llm\u001b[39m=\u001b[39mllm, tools\u001b[39m=\u001b[39mtools, callback_manager\u001b[39m=\u001b[39mcallback_manager\n\u001b[1;32m     81\u001b[0m     )\n",
      "File \u001b[0;32m~/Desktop/Youtube/Youtube_GenAI_Test_code/myenv/lib/python3.12/site-packages/langchain/agents/chat/base.py:153\u001b[0m, in \u001b[0;36mChatAgent.from_llm_and_tools\u001b[0;34m(cls, llm, tools, callback_manager, output_parser, system_message_prefix, system_message_suffix, human_message, format_instructions, input_variables, **kwargs)\u001b[0m\n\u001b[1;32m    119\u001b[0m \u001b[39m@classmethod\u001b[39m\n\u001b[1;32m    120\u001b[0m \u001b[39mdef\u001b[39;00m \u001b[39mfrom_llm_and_tools\u001b[39m(\n\u001b[1;32m    121\u001b[0m     \u001b[39mcls\u001b[39m,\n\u001b[0;32m   (...)\u001b[0m\n\u001b[1;32m    131\u001b[0m     \u001b[39m*\u001b[39m\u001b[39m*\u001b[39mkwargs: Any,\n\u001b[1;32m    132\u001b[0m ) \u001b[39m-\u001b[39m\u001b[39m>\u001b[39m Agent:\n\u001b[1;32m    133\u001b[0m \u001b[39m    \u001b[39m\u001b[39m\"\"\"Construct an agent from an LLM and tools.\u001b[39;00m\n\u001b[1;32m    134\u001b[0m \n\u001b[1;32m    135\u001b[0m \u001b[39m    Args:\u001b[39;00m\n\u001b[0;32m   (...)\u001b[0m\n\u001b[1;32m    151\u001b[0m \u001b[39m        An agent.\u001b[39;00m\n\u001b[1;32m    152\u001b[0m \u001b[39m    \"\"\"\u001b[39;00m\n\u001b[0;32m--> 153\u001b[0m     \u001b[39mcls\u001b[39;49m\u001b[39m.\u001b[39;49m_validate_tools(tools)\n\u001b[1;32m    154\u001b[0m     prompt \u001b[39m=\u001b[39m \u001b[39mcls\u001b[39m\u001b[39m.\u001b[39mcreate_prompt(\n\u001b[1;32m    155\u001b[0m         tools,\n\u001b[1;32m    156\u001b[0m         system_message_prefix\u001b[39m=\u001b[39msystem_message_prefix,\n\u001b[0;32m   (...)\u001b[0m\n\u001b[1;32m    160\u001b[0m         input_variables\u001b[39m=\u001b[39minput_variables,\n\u001b[1;32m    161\u001b[0m     )\n\u001b[1;32m    162\u001b[0m     llm_chain \u001b[39m=\u001b[39m LLMChain(\n\u001b[1;32m    163\u001b[0m         llm\u001b[39m=\u001b[39mllm,\n\u001b[1;32m    164\u001b[0m         prompt\u001b[39m=\u001b[39mprompt,\n\u001b[1;32m    165\u001b[0m         callback_manager\u001b[39m=\u001b[39mcallback_manager,\n\u001b[1;32m    166\u001b[0m     )\n",
      "File \u001b[0;32m~/Desktop/Youtube/Youtube_GenAI_Test_code/myenv/lib/python3.12/site-packages/langchain/agents/chat/base.py:67\u001b[0m, in \u001b[0;36mChatAgent._validate_tools\u001b[0;34m(cls, tools)\u001b[0m\n\u001b[1;32m     64\u001b[0m \u001b[39m@classmethod\u001b[39m\n\u001b[1;32m     65\u001b[0m \u001b[39mdef\u001b[39;00m \u001b[39m_validate_tools\u001b[39m(\u001b[39mcls\u001b[39m, tools: Sequence[BaseTool]) \u001b[39m-\u001b[39m\u001b[39m>\u001b[39m \u001b[39mNone\u001b[39;00m:\n\u001b[1;32m     66\u001b[0m     \u001b[39msuper\u001b[39m()\u001b[39m.\u001b[39m_validate_tools(tools)\n\u001b[0;32m---> 67\u001b[0m     validate_tools_single_input(class_name\u001b[39m=\u001b[39;49m\u001b[39mcls\u001b[39;49m\u001b[39m.\u001b[39;49m\u001b[39m__name__\u001b[39;49m, tools\u001b[39m=\u001b[39;49mtools)\n",
      "File \u001b[0;32m~/Desktop/Youtube/Youtube_GenAI_Test_code/myenv/lib/python3.12/site-packages/langchain/agents/utils.py:18\u001b[0m, in \u001b[0;36mvalidate_tools_single_input\u001b[0;34m(class_name, tools)\u001b[0m\n\u001b[1;32m     16\u001b[0m \u001b[39mfor\u001b[39;00m tool \u001b[39min\u001b[39;00m tools:\n\u001b[1;32m     17\u001b[0m     \u001b[39mif\u001b[39;00m \u001b[39mnot\u001b[39;00m tool\u001b[39m.\u001b[39mis_single_input:\n\u001b[0;32m---> 18\u001b[0m         \u001b[39mraise\u001b[39;00m \u001b[39mValueError\u001b[39;00m(\n\u001b[1;32m     19\u001b[0m             \u001b[39mf\u001b[39m\u001b[39m\"\u001b[39m\u001b[39m{\u001b[39;00mclass_name\u001b[39m}\u001b[39;00m\u001b[39m does not support multi-input tool \u001b[39m\u001b[39m{\u001b[39;00mtool\u001b[39m.\u001b[39mname\u001b[39m}\u001b[39;00m\u001b[39m.\u001b[39m\u001b[39m\"\u001b[39m\n\u001b[1;32m     20\u001b[0m         )\n",
      "\u001b[0;31mValueError\u001b[0m: ChatAgent does not support multi-input tool multiply."
     ]
    }
   ],
   "source": [
    "agent= initialize_agent(\n",
    "    tools, \n",
    "    model, \n",
    "    agent=AgentType.CHAT_ZERO_SHOT_REACT_DESCRIPTION,\n",
    "    handle_parsing_errors=True,\n",
    "    verbose = False)"
   ]
  },
  {
   "cell_type": "code",
   "execution_count": 28,
   "metadata": {},
   "outputs": [],
   "source": [
    "from langgraph.prebuilt import create_react_agent\n",
    "\n",
    "agent_executor = create_react_agent(model, tools)"
   ]
  },
  {
   "cell_type": "code",
   "execution_count": 29,
   "metadata": {},
   "outputs": [
    {
     "data": {
      "text/plain": [
       "[HumanMessage(content='What is 54*34!', id='69447617-a452-4278-8e09-46324fd3e2b3'),\n",
       " AIMessage(content='', additional_kwargs={'tool_calls': [{'id': 'call_wsh3', 'function': {'arguments': '{\"a\":54,\"b\":34}', 'name': 'multiply'}, 'type': 'function'}]}, response_metadata={'token_usage': {'completion_tokens': 48, 'prompt_tokens': 1169, 'total_tokens': 1217, 'completion_time': 0.139731506, 'prompt_time': 0.200163612, 'queue_time': None, 'total_time': 0.339895118}, 'model_name': 'llama3-70b-8192', 'system_fingerprint': 'fp_2f30b0b571', 'finish_reason': 'tool_calls', 'logprobs': None}, id='run-44a17e25-6609-4805-af26-a053a4256234-0', tool_calls=[{'name': 'multiply', 'args': {'a': 54, 'b': 34}, 'id': 'call_wsh3', 'type': 'tool_call'}], usage_metadata={'input_tokens': 1169, 'output_tokens': 48, 'total_tokens': 1217}),\n",
       " ToolMessage(content='1836', name='multiply', id='a8842a3b-562b-4a94-bc53-a21f8439b4e3', tool_call_id='call_wsh3'),\n",
       " AIMessage(content='The answer is 1836.', response_metadata={'token_usage': {'completion_tokens': 8, 'prompt_tokens': 1237, 'total_tokens': 1245, 'completion_time': 0.022857143, 'prompt_time': 0.155461104, 'queue_time': None, 'total_time': 0.17831824699999999}, 'model_name': 'llama3-70b-8192', 'system_fingerprint': 'fp_2f30b0b571', 'finish_reason': 'stop', 'logprobs': None}, id='run-3c7b97a4-e9f2-4a17-8bf4-16b003c18fd6-0', usage_metadata={'input_tokens': 1237, 'output_tokens': 8, 'total_tokens': 1245})]"
      ]
     },
     "execution_count": 29,
     "metadata": {},
     "output_type": "execute_result"
    }
   ],
   "source": [
    "response = agent_executor.invoke({\"messages\": [HumanMessage(content=\"What is 54*34!\")]})\n",
    "\n",
    "response[\"messages\"]"
   ]
  },
  {
   "cell_type": "code",
   "execution_count": 16,
   "metadata": {},
   "outputs": [
    {
     "name": "stderr",
     "output_type": "stream",
     "text": [
      "/Users/eshantdas/Desktop/Youtube/Youtube_GenAI_Test_code/myenv/lib/python3.12/site-packages/wikipedia/wikipedia.py:389: GuessedAtParserWarning: No parser was explicitly specified, so I'm using the best available HTML parser for this system (\"html.parser\"). This usually isn't a problem, but if you run this code on another system, or in a different virtual environment, it may use a different parser and behave differently.\n",
      "\n",
      "The code that caused this warning is on line 389 of the file /Users/eshantdas/Desktop/Youtube/Youtube_GenAI_Test_code/myenv/lib/python3.12/site-packages/wikipedia/wikipedia.py. To get rid of this warning, pass the additional argument 'features=\"html.parser\"' to the BeautifulSoup constructor.\n",
      "\n",
      "  lis = BeautifulSoup(html).find_all('li')\n"
     ]
    },
    {
     "data": {
      "text/plain": [
       "[HumanMessage(content='Tell me about Rohit Sharma?', id='ac53553d-91a4-4d07-b57d-50d7b66a76cb'),\n",
       " AIMessage(content='', additional_kwargs={'tool_calls': [{'id': 'call_vqmw', 'function': {'arguments': '{\"query\":\"Rohit Sharma\"}', 'name': 'wikipedia'}, 'type': 'function'}]}, response_metadata={'token_usage': {'completion_tokens': 46, 'prompt_tokens': 1059, 'total_tokens': 1105, 'completion_time': 0.134374184, 'prompt_time': 0.142483697, 'queue_time': None, 'total_time': 0.276857881}, 'model_name': 'llama3-70b-8192', 'system_fingerprint': 'fp_87cbfbbc4d', 'finish_reason': 'tool_calls', 'logprobs': None}, id='run-bbff9d88-7382-4d62-a2f3-23dd716e8830-0', tool_calls=[{'name': 'wikipedia', 'args': {'query': 'Rohit Sharma'}, 'id': 'call_vqmw', 'type': 'tool_call'}], usage_metadata={'input_tokens': 1059, 'output_tokens': 46, 'total_tokens': 1105}),\n",
       " ToolMessage(content=\"Page: Rohit Sharma\\nSummary: Rohit Gurunath Sharma (born 30 April 1987) is an Indian international cricketer who currently plays for and captains the India national cricket team in Test and One Day International (ODI) matches. Previously, he also captained the team in Twenty20 International (T20I) matches and led India's win in 2024 ICC Men's T20 World Cup, subsequent to which he retired from T20s in June, 2024. The right-handed batsman, who is considered one of the best batsmen of his generation and one of the greatest opening batters of all time, is known for his timing, elegance, six-hitting abilities and leadership skills.\\nHe holds several batting records which famously include most runs in T20 Internationals, most sixes in international cricket, most double centuries in ODI cricket (3), most centuries at Cricket World Cups (7) and joint most hundreds in Twenty20 Internationals (5). He is the first player to score 5 T20I centuries. He also holds the world record for the highest individual score (264) in a One Day International (ODI) match and is the only player to have scored three double-centuries in ODIs and also holds the record for scoring most hundreds (five) in a single Cricket World Cup, for which he won the ICC Men's ODI Cricketer of the Year award in 2019. He is the only player to win 50 matches as captain in T20Is.\\nHe plays for Mumbai Indians and Mumbai cricket team in Indian Premier League (IPL) and domestic cricket respectively. He formerly captained Mumbai Indians and the team has won 5 Indian Premier League titles in 2013, 2015, 2017, 2019 and 2020 under him, making him the most successful captain in IPL history, sharing this record with MS Dhoni. With India, Rohit Sharma was a member of the team that won the 2007 T20 World Cup, and the 2013 ICC Champions Trophy, where he played in the finals of both tournaments. He is also one of two players who have played in every edition of the T20 World Cup, from the inaugural edition in 2007 to the latest one in 2024. He is the only Indian player to win two T20 World Cups. He became the second Indian captain to win a T20 World Cup, when he led India to win the 2024 T20 World Cup.\\nHe has received two national honours, the Arjuna Award in 2015 and the prestigious Major Dhyan Chand Khel Ratna Award in 2020 by the Government of India. Under his captaincy, India won the 2018 Asia Cup and the 2023 Asia Cup, the seventh and eighth time the country won the title, both in ODI format as well as the 2018 Nidahas Trophy, their second overall and first in T20I format.\\nOutside cricket, Sharma is an active supporter of animal welfare campaigns. He is the official Rhino Ambassador for WWF-India and is a member of People for the Ethical Treatment of Animals (PETA). He has worked with PETA in its campaign to raise awareness of the plight of homeless cats and dogs in India.\\n\\n\\n\\nPage: List of international cricket centuries by Rohit Sharma\\nSummary: Rohit Sharma is an Indian cricketer who has represented the national team since 2007. He has made 48 centuries in international cricket—31 in One Day Internationals (ODI), 12 in Tests and 5 in Twenty20 Internationals (T20Is)—as of March 2024.\\nSharma made his ODI debut against Ireland in June 2007. His first century came during the 2010 Tri-nation tournament in Zimbabwe when he made 114 against the hosts. In the 2013 bilateral series against Australia at home, he made two centuries, including a double-century. The next year, he scored 264 against Sri Lanka at the Eden Gardens, Kolkata. The score remains the highest individual total by a batsman in the format as of May 2023. In January 2016, he made 171 not out against Australia; it remained the highest score by a visiting batsman against Australia until England's Jason Roy made 180 in 2018. Sharma set the record for most centuries scored in a World Cup when he scored five centuries in the 2019 World Cup. He has scored centuries against nine different opponents and has the joint second-highest numbe\", name='wikipedia', id='35e1a15a-415f-4097-9c4b-79f1ec31ec10', tool_call_id='call_vqmw'),\n",
       " AIMessage(content='', additional_kwargs={'tool_calls': [{'id': 'call_x9gy', 'function': {'arguments': '{\"__arg1\":\"Rohit Sharma\\'s cricket career\"}', 'name': 'Calculator'}, 'type': 'function'}]}, response_metadata={'token_usage': {'completion_tokens': 40, 'prompt_tokens': 2068, 'total_tokens': 2108, 'completion_time': 0.117157142, 'prompt_time': 0.283153179, 'queue_time': None, 'total_time': 0.40031032099999997}, 'model_name': 'llama3-70b-8192', 'system_fingerprint': 'fp_87cbfbbc4d', 'finish_reason': 'tool_calls', 'logprobs': None}, id='run-c2114cb9-12a6-4750-9450-bddb1373aace-0', tool_calls=[{'name': 'Calculator', 'args': {'__arg1': \"Rohit Sharma's cricket career\"}, 'id': 'call_x9gy', 'type': 'tool_call'}], usage_metadata={'input_tokens': 2068, 'output_tokens': 40, 'total_tokens': 2108}),\n",
       " ToolMessage(content='Error: ValueError(\\'unknown format from LLM: I\\\\\\'m happy to help! However, I don\\\\\\'t see a math problem in the question \"Rohit Sharma\\\\\\'s cricket career\". Could you please provide a specific math problem related to Rohit Sharma\\\\\\'s cricket career, such as calculating his batting average or something else?\\\\n\\\\nIf you provide a math problem, I can help you translate it into a Python numexpr expression and run it to get the answer.\\')\\n Please fix your mistakes.', name='Calculator', id='94028907-3f3a-427c-a990-a7e64eb921e7', tool_call_id='call_x9gy'),\n",
       " AIMessage(content=\"I apologize for the mistake. Since the Calculator tool is not suitable for this task, I will respond directly without using a tool.\\n\\nRohit Sharma is an Indian international cricketer who has achieved numerous records and accolades throughout his career. He is known for his exceptional batting skills, leadership, and timing. He has scored many centuries in international cricket, including the highest individual score in an ODI match. He has also led the Indian team to several victories, including the 2024 ICC Men's T20 World Cup.\", response_metadata={'token_usage': {'completion_tokens': 108, 'prompt_tokens': 2239, 'total_tokens': 2347, 'completion_time': 0.326648848, 'prompt_time': 0.623310425, 'queue_time': None, 'total_time': 0.9499592729999999}, 'model_name': 'llama3-70b-8192', 'system_fingerprint': 'fp_f128cfcd6c', 'finish_reason': 'stop', 'logprobs': None}, id='run-f1694e84-e9ae-4246-bc5d-95e7a8c97dcb-0', usage_metadata={'input_tokens': 2239, 'output_tokens': 108, 'total_tokens': 2347})]"
      ]
     },
     "execution_count": 16,
     "metadata": {},
     "output_type": "execute_result"
    }
   ],
   "source": [
    "response = agent_executor.invoke(\n",
    "    {\"messages\": [HumanMessage(content=\"Tell me about Rohit Sharma?\")]}\n",
    ")\n",
    "response[\"messages\"]"
   ]
  },
  {
   "cell_type": "code",
   "execution_count": 19,
   "metadata": {},
   "outputs": [
    {
     "data": {
      "text/plain": [
       "[SystemMessagePromptTemplate(prompt=PromptTemplate(input_variables=[], template='You are a helpful assistant')),\n",
       " MessagesPlaceholder(variable_name='chat_history', optional=True),\n",
       " HumanMessagePromptTemplate(prompt=PromptTemplate(input_variables=['input'], template='{input}')),\n",
       " MessagesPlaceholder(variable_name='agent_scratchpad')]"
      ]
     },
     "execution_count": 19,
     "metadata": {},
     "output_type": "execute_result"
    }
   ],
   "source": [
    "from langchain import hub\n",
    "\n",
    "# Get the prompt to use - you can modify this!\n",
    "prompt = hub.pull(\"hwchase17/openai-functions-agent\")\n",
    "prompt.messages"
   ]
  },
  {
   "cell_type": "code",
   "execution_count": null,
   "metadata": {},
   "outputs": [],
   "source": []
  }
 ],
 "metadata": {
  "kernelspec": {
   "display_name": "myenv",
   "language": "python",
   "name": "python3"
  },
  "language_info": {
   "codemirror_mode": {
    "name": "ipython",
    "version": 3
   },
   "file_extension": ".py",
   "mimetype": "text/x-python",
   "name": "python",
   "nbconvert_exporter": "python",
   "pygments_lexer": "ipython3",
   "version": "3.12.4"
  },
  "orig_nbformat": 4
 },
 "nbformat": 4,
 "nbformat_minor": 2
}
