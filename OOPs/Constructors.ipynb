{
 "cells": [
  {
   "cell_type": "code",
   "execution_count": null,
   "metadata": {},
   "outputs": [],
   "source": []
  },
  {
   "attachments": {},
   "cell_type": "markdown",
   "metadata": {},
   "source": [
    "The field(init=False) indicates that this attribute should not be included as a parameter in the automatically generated __init__ method. Therefore, you need to set this attribute manually within the class, often in the __post_init__ method or some other method."
   ]
  },
  {
   "cell_type": "code",
   "execution_count": 1,
   "metadata": {},
   "outputs": [
    {
     "name": "stdout",
     "output_type": "stream",
     "text": [
      "Post init called. The age is set to the length of the name: 7\n",
      "Name: Example, Age: 7\n"
     ]
    }
   ],
   "source": [
    "from dataclasses import dataclass, field\n",
    "\n",
    "@dataclass\n",
    "class DataClassExample:\n",
    "    name: str\n",
    "    age: int = field(init=False)\n",
    "    \n",
    "    def __post_init__(self):\n",
    "        self.age = len(self.name)\n",
    "        print(f'Post init called. The age is set to the length of the name: {self.age}')\n",
    "\n",
    "# Creating an instance of DataClassExample\n",
    "data_obj = DataClassExample(name='Example')\n",
    "print(f'Name: {data_obj.name}, Age: {data_obj.age}')\n"
   ]
  },
  {
   "cell_type": "code",
   "execution_count": 2,
   "metadata": {},
   "outputs": [
    {
     "name": "stdout",
     "output_type": "stream",
     "text": [
      "Constructor called. An object with name ExampleObject is created.\n",
      "Destructor called. An object with name ExampleObject is destroyed.\n"
     ]
    }
   ],
   "source": [
    "class MyClass:\n",
    "    def __init__(self, name):\n",
    "        self.name = name\n",
    "        print(f'Constructor called. An object with name {self.name} is created.')\n",
    "\n",
    "    def __del__(self):\n",
    "        print(f'Destructor called. An object with name {self.name} is destroyed.')\n",
    "\n",
    "# Creating an instance of MyClass\n",
    "obj = MyClass('ExampleObject')\n",
    "\n",
    "# Deleting the instance explicitly\n",
    "del obj\n"
   ]
  },
  {
   "cell_type": "code",
   "execution_count": null,
   "metadata": {},
   "outputs": [],
   "source": []
  }
 ],
 "metadata": {
  "kernelspec": {
   "display_name": "myenv",
   "language": "python",
   "name": "python3"
  },
  "language_info": {
   "codemirror_mode": {
    "name": "ipython",
    "version": 3
   },
   "file_extension": ".py",
   "mimetype": "text/x-python",
   "name": "python",
   "nbconvert_exporter": "python",
   "pygments_lexer": "ipython3",
   "version": "3.12.4"
  },
  "orig_nbformat": 4
 },
 "nbformat": 4,
 "nbformat_minor": 2
}
