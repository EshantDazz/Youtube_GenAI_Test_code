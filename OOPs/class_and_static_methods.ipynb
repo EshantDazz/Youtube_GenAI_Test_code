{
 "cells": [
  {
   "cell_type": "code",
   "execution_count": 1,
   "metadata": {},
   "outputs": [
    {
     "name": "stdout",
     "output_type": "stream",
     "text": [
      "8\n",
      "15\n"
     ]
    }
   ],
   "source": [
    "class MathOperations:\n",
    "    @staticmethod\n",
    "    def add(a, b):\n",
    "        return a + b\n",
    "\n",
    "    @staticmethod\n",
    "    def multiply(a, b):\n",
    "        return a * b\n",
    "\n",
    "# Using the static methods\n",
    "print(MathOperations.add(5, 3))      # Output: 8\n",
    "print(MathOperations.multiply(5, 3)) # Output: 15\n"
   ]
  },
  {
   "cell_type": "code",
   "execution_count": 2,
   "metadata": {},
   "outputs": [
    {
     "name": "stdout",
     "output_type": "stream",
     "text": [
      "8\n",
      "15\n"
     ]
    }
   ],
   "source": [
    "class MathOperations:\n",
    "    def add(self, a, b):\n",
    "        return a + b\n",
    "\n",
    "    def multiply(self, a, b):\n",
    "        return a * b\n",
    "\n",
    "# Creating an instance of MathOperations\n",
    "math_ops = MathOperations()\n",
    "\n",
    "# Using the instance methods\n",
    "print(math_ops.add(5, 3))      # Output: 8\n",
    "print(math_ops.multiply(5, 3)) # Output: 15\n"
   ]
  },
  {
   "cell_type": "code",
   "execution_count": null,
   "metadata": {},
   "outputs": [],
   "source": []
  },
  {
   "cell_type": "code",
   "execution_count": null,
   "metadata": {},
   "outputs": [],
   "source": []
  },
  {
   "cell_type": "code",
   "execution_count": 4,
   "metadata": {},
   "outputs": [
    {
     "name": "stdout",
     "output_type": "stream",
     "text": [
      "3\n"
     ]
    }
   ],
   "source": [
    "class MyClass:\n",
    "    count = 0\n",
    "\n",
    "    def __init__(self):\n",
    "        MyClass.count += 1\n",
    "\n",
    "    @classmethod\n",
    "    def get_instance_count(cls):\n",
    "        return cls.count\n",
    "\n",
    "# Creating instances of MyClass\n",
    "obj1 = MyClass()\n",
    "obj2 = MyClass()\n",
    "obj3 = MyClass()\n",
    "\n",
    "# Using the class method\n",
    "print(MyClass.get_instance_count())  # Output: 3\n"
   ]
  },
  {
   "cell_type": "code",
   "execution_count": null,
   "metadata": {},
   "outputs": [],
   "source": [
    "class Circle:\n",
    "    def __init__(self, radius):\n",
    "        self.radius = radius\n",
    "\n",
    "    @classmethod\n",
    "    def from_diameter(cls, diameter):\n",
    "        radius = diameter / 2\n",
    "        return cls(radius)\n",
    "\n",
    "    def area(self):\n",
    "        return 3.14159 * (self.radius ** 2)\n",
    "\n",
    "# Creating an instance of Circle using the factory method\n",
    "circle = Circle.from_diameter(10)\n",
    "\n",
    "# Using an instance method to get the area\n",
    "print(circle.area())  # Output: 78.53975\n"
   ]
  },
  {
   "attachments": {},
   "cell_type": "markdown",
   "metadata": {},
   "source": [
    "The from_diameter class method provides an alternative way to create a Circle instance using a diameter instead of a radius."
   ]
  },
  {
   "cell_type": "code",
   "execution_count": 5,
   "metadata": {},
   "outputs": [
    {
     "name": "stdout",
     "output_type": "stream",
     "text": [
      "01:01:01\n",
      "10:15:30\n"
     ]
    }
   ],
   "source": [
    "class Time:\n",
    "    def __init__(self, hours, minutes, seconds):\n",
    "        self.hours = hours\n",
    "        self.minutes = minutes\n",
    "        self.seconds = seconds\n",
    "\n",
    "    @classmethod\n",
    "    def from_seconds(cls, total_seconds):\n",
    "        hours = total_seconds // 3600\n",
    "        minutes = (total_seconds % 3600) // 60\n",
    "        seconds = total_seconds % 60\n",
    "        return cls(hours, minutes, seconds)\n",
    "\n",
    "    @classmethod\n",
    "    def from_string(cls, time_str):\n",
    "        hours, minutes, seconds = map(int, time_str.split(':'))\n",
    "        return cls(hours, minutes, seconds)\n",
    "\n",
    "    def __repr__(self):\n",
    "        return f\"{self.hours:02}:{self.minutes:02}:{self.seconds:02}\"\n",
    "\n",
    "# Creating instances of Time using the factory methods\n",
    "time_sec = Time.from_seconds(3661)\n",
    "time_str = Time.from_string(\"10:15:30\")\n",
    "\n",
    "# Using the __repr__ method to display the time\n",
    "print(time_sec)  # Output: 01:01:01\n",
    "print(time_str)  # Output: 10:15:30\n"
   ]
  },
  {
   "cell_type": "code",
   "execution_count": 6,
   "metadata": {},
   "outputs": [
    {
     "name": "stdout",
     "output_type": "stream",
     "text": [
      "37.0\n",
      "26.850000000000023\n"
     ]
    }
   ],
   "source": [
    "class Temperature:\n",
    "    def __init__(self, celsius):\n",
    "        self.celsius = celsius\n",
    "\n",
    "    @classmethod\n",
    "    def from_fahrenheit(cls, fahrenheit):\n",
    "        celsius = (fahrenheit - 32) * 5.0 / 9.0\n",
    "        return cls(celsius)\n",
    "\n",
    "    @classmethod\n",
    "    def from_kelvin(cls, kelvin):\n",
    "        celsius = kelvin - 273.15\n",
    "        return cls(celsius)\n",
    "\n",
    "    def in_celsius(self):\n",
    "        return self.celsius\n",
    "\n",
    "# Creating instances of Temperature using the factory methods\n",
    "temp_f = Temperature.from_fahrenheit(98.6)\n",
    "temp_k = Temperature.from_kelvin(300)\n",
    "\n",
    "# Using an instance method to get the temperature in Celsius\n",
    "print(temp_f.in_celsius())  # Output: 37.0\n",
    "print(temp_k.in_celsius())  # Output: 26.850000000000023\n"
   ]
  },
  {
   "cell_type": "code",
   "execution_count": null,
   "metadata": {},
   "outputs": [],
   "source": []
  }
 ],
 "metadata": {
  "kernelspec": {
   "display_name": "myenv",
   "language": "python",
   "name": "python3"
  },
  "language_info": {
   "codemirror_mode": {
    "name": "ipython",
    "version": 3
   },
   "file_extension": ".py",
   "mimetype": "text/x-python",
   "name": "python",
   "nbconvert_exporter": "python",
   "pygments_lexer": "ipython3",
   "version": "3.12.4"
  },
  "orig_nbformat": 4
 },
 "nbformat": 4,
 "nbformat_minor": 2
}
