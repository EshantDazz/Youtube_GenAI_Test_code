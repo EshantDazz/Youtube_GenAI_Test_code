{
 "cells": [
  {
   "cell_type": "code",
   "execution_count": 1,
   "metadata": {},
   "outputs": [
    {
     "name": "stdout",
     "output_type": "stream",
     "text": [
      "The result is 5.0\n",
      "Execution completed.\n",
      "Error: division by zero\n",
      "Execution completed.\n",
      "Error: unsupported operand type(s) for /: 'int' and 'str'\n",
      "Execution completed.\n"
     ]
    }
   ],
   "source": [
    "def divide(a, b):\n",
    "    try:\n",
    "        result = a / b\n",
    "    except ZeroDivisionError as e:\n",
    "        print(f\"Error: {e}\")\n",
    "    except TypeError as e:\n",
    "        print(f\"Error: {e}\")\n",
    "    else:\n",
    "        print(f\"The result is {result}\")\n",
    "    finally:\n",
    "        print(\"Execution completed.\")\n",
    "\n",
    "# Testing the function\n",
    "divide(10, 2)  # Output: The result is 5.0 \\n Execution completed.\n",
    "divide(10, 0)  # Output: Error: division by zero \\n Execution completed.\n",
    "divide(10, 'a')  # Output: Error: unsupported operand type(s) for /: 'int' and 'str' \\n Execution completed.\n"
   ]
  },
  {
   "cell_type": "code",
   "execution_count": 3,
   "metadata": {},
   "outputs": [
    {
     "name": "stdout",
     "output_type": "stream",
     "text": [
      "The value is less than 10.\n",
      "The value is greater than 100.\n",
      "The value is within the acceptable range.\n"
     ]
    }
   ],
   "source": [
    "class CustomError(Exception):\n",
    "    \"\"\"Base class for other exceptions\"\"\"\n",
    "    pass\n",
    "\n",
    "class ValueTooSmallError(CustomError):\n",
    "    \"\"\"Raised when the input value is too small\"\"\"\n",
    "    pass\n",
    "\n",
    "class ValueTooLargeError(CustomError):\n",
    "    \"\"\"Raised when the input value is too large\"\"\"\n",
    "    pass\n",
    "\n",
    "def check_value(value):\n",
    "    if value < 10:\n",
    "        raise ValueTooSmallError(\"The value is less than 10.\")\n",
    "    elif value > 100:\n",
    "        raise ValueTooLargeError(\"The value is greater than 100.\")\n",
    "    else:\n",
    "        print(\"The value is within the acceptable range.\")\n",
    "\n",
    "# Testing the function\n",
    "try:\n",
    "    check_value(5)\n",
    "except ValueTooSmallError as e:\n",
    "    print(e)  # Output: The value is less than 10.\n",
    "except ValueTooLargeError as e:\n",
    "    print(e)  # This block will not be executed for this case\n",
    "\n",
    "try:\n",
    "    check_value(150)\n",
    "except ValueTooSmallError as e:\n",
    "    print(e)  # This block will not be executed for this case\n",
    "except ValueTooLargeError as e:\n",
    "    print(e)  # Output: The value is greater than 100.\n",
    "\n",
    "try:\n",
    "    check_value(50)\n",
    "except CustomError as e:\n",
    "    print(e)  # No output, as the value is within the acceptable range.\n"
   ]
  },
  {
   "cell_type": "code",
   "execution_count": null,
   "metadata": {},
   "outputs": [],
   "source": []
  },
  {
   "cell_type": "code",
   "execution_count": 5,
   "metadata": {},
   "outputs": [
    {
     "name": "stdout",
     "output_type": "stream",
     "text": [
      "Caught general error: '<' not supported between instances of 'str' and 'int'\n"
     ]
    }
   ],
   "source": [
    "class CustomError(Exception):\n",
    "    \"\"\"Base class for other exceptions\"\"\"\n",
    "    pass\n",
    "\n",
    "class ValueTooSmallError(CustomError):\n",
    "    \"\"\"Raised when the input value is too small\"\"\"\n",
    "    pass\n",
    "\n",
    "class ValueTooLargeError(CustomError):\n",
    "    \"\"\"Raised when the input value is too large\"\"\"\n",
    "    pass\n",
    "\n",
    "def check_value(value):\n",
    "    if value < 10:\n",
    "        raise ValueTooSmallError(\"The value is less than 10.\")\n",
    "    elif value > 100:\n",
    "        raise ValueTooLargeError(\"The value is greater than 100.\")\n",
    "    else:\n",
    "        print(\"The value is within the acceptable range.\")\n",
    "\n",
    "# Testing the function with comprehensive error handling\n",
    "try:\n",
    "    check_value('fdgh')  # Change the value here to test different scenarios\n",
    "except ValueTooSmallError as e:\n",
    "    print(f\"Caught specific error: {e}\")  # Output: The value is less than 10.\n",
    "except ValueTooLargeError as e:\n",
    "    print(f\"Caught specific error: {e}\")  # Output: The value is greater than 100. (if input was > 100)\n",
    "except CustomError as e:\n",
    "    print(f\"Caught general custom error: {e}\")  # Catch any other CustomError\n",
    "except Exception as e:\n",
    "    print(f\"Caught general error: {e}\")  # Catch any other exception\n",
    "else:\n",
    "    print(\"No errors occurred, proceeding with the process.\")\n"
   ]
  },
  {
   "cell_type": "code",
   "execution_count": null,
   "metadata": {},
   "outputs": [],
   "source": []
  }
 ],
 "metadata": {
  "kernelspec": {
   "display_name": "myenv",
   "language": "python",
   "name": "python3"
  },
  "language_info": {
   "codemirror_mode": {
    "name": "ipython",
    "version": 3
   },
   "file_extension": ".py",
   "mimetype": "text/x-python",
   "name": "python",
   "nbconvert_exporter": "python",
   "pygments_lexer": "ipython3",
   "version": "3.12.4"
  },
  "orig_nbformat": 4
 },
 "nbformat": 4,
 "nbformat_minor": 2
}
