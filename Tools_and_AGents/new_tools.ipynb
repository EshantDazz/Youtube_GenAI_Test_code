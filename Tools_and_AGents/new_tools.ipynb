{
 "cells": [
  {
   "cell_type": "code",
   "execution_count": 58,
   "metadata": {},
   "outputs": [],
   "source": [
    "from langchain_community.tools import DuckDuckGoSearchRun\n",
    "search = DuckDuckGoSearchRun()"
   ]
  },
  {
   "cell_type": "code",
   "execution_count": 59,
   "metadata": {},
   "outputs": [
    {
     "data": {
      "text/plain": [
       "DuckDuckGoSearchRun()"
      ]
     },
     "execution_count": 59,
     "metadata": {},
     "output_type": "execute_result"
    }
   ],
   "source": [
    "search"
   ]
  },
  {
   "cell_type": "code",
   "execution_count": 60,
   "metadata": {},
   "outputs": [],
   "source": [
    "\n",
    "from langchain.agents import load_tools, initialize_agent\n",
    "from langchain.agents import AgentType\n",
    "from operator import itemgetter\n",
    "from dotenv import load_dotenv\n",
    "load_dotenv('/Users/eshantdas/Desktop/Youtube/Youtube_GenAI_Test_code/myenv/.env')\n",
    "from langchain_core.output_parsers import StrOutputParser\n",
    "from langchain_core.prompts import ChatPromptTemplate\n",
    "from langchain_groq import ChatGroq\n",
    "\n",
    "model = ChatGroq(\n",
    "    temperature=0,\n",
    "    model=\"llama3-70b-8192\",\n",
    ")"
   ]
  },
  {
   "cell_type": "code",
   "execution_count": 61,
   "metadata": {},
   "outputs": [],
   "source": [
    "from langchain_community.tools import YouTubeSearchTool\n",
    "youtube = YouTubeSearchTool()\n"
   ]
  },
  {
   "cell_type": "code",
   "execution_count": 62,
   "metadata": {},
   "outputs": [
    {
     "data": {
      "text/plain": [
       "YouTubeSearchTool()"
      ]
     },
     "execution_count": 62,
     "metadata": {},
     "output_type": "execute_result"
    }
   ],
   "source": [
    "youtube"
   ]
  },
  {
   "cell_type": "code",
   "execution_count": 63,
   "metadata": {},
   "outputs": [
    {
     "name": "stdout",
     "output_type": "stream",
     "text": [
      "================================\u001b[1m System Message \u001b[0m================================\n",
      "\n",
      "You are a helpful assistant\n",
      "\n",
      "=============================\u001b[1m Messages Placeholder \u001b[0m=============================\n",
      "\n",
      "\u001b[33;1m\u001b[1;3m{chat_history}\u001b[0m\n",
      "\n",
      "================================\u001b[1m Human Message \u001b[0m=================================\n",
      "\n",
      "\u001b[33;1m\u001b[1;3m{input}\u001b[0m\n",
      "\n",
      "=============================\u001b[1m Messages Placeholder \u001b[0m=============================\n",
      "\n",
      "\u001b[33;1m\u001b[1;3m{agent_scratchpad}\u001b[0m\n"
     ]
    }
   ],
   "source": [
    "from langchain import hub\n",
    "from langchain.agents import AgentExecutor, create_tool_calling_agent\n",
    "\n",
    "prompt = hub.pull(\"hwchase17/openai-tools-agent\")\n",
    "prompt.pretty_print()"
   ]
  },
  {
   "cell_type": "code",
   "execution_count": 64,
   "metadata": {},
   "outputs": [],
   "source": [
    "tools=[search,youtube]"
   ]
  },
  {
   "cell_type": "code",
   "execution_count": 65,
   "metadata": {},
   "outputs": [],
   "source": [
    "# Construct the tool calling agent\n",
    "agent = create_tool_calling_agent(model, tools, prompt)\n",
    "# Create an agent executor by passing in the agent and tools\n",
    "agent_executor = AgentExecutor(agent=agent, tools=tools, verbose=True,return_intermediate_steps=True,handle_parsing_errors=True)\n"
   ]
  },
  {
   "cell_type": "code",
   "execution_count": 66,
   "metadata": {},
   "outputs": [
    {
     "name": "stdout",
     "output_type": "stream",
     "text": [
      "\n",
      "\n",
      "\u001b[1m> Entering new AgentExecutor chain...\u001b[0m\n",
      "\u001b[32;1m\u001b[1;3m\n",
      "Invoking: `youtube_search` with `Krish Naik`\n",
      "\n",
      "\n",
      "\u001b[0m\u001b[33;1m\u001b[1;3m['https://www.youtube.com/watch?v=HEHUpBO8UVc&pp=ygUKS3Jpc2ggTmFpaw%3D%3D', 'https://www.youtube.com/watch?v=3SRh2nzN2DM&pp=ygUKS3Jpc2ggTmFpaw%3D%3D']\u001b[0m\u001b[32;1m\u001b[1;3mIt seems like the tool call yielded some YouTube video links related to Krish Naik's channel. Would you like me to provide more information about Krish Naik or his YouTube channel?\u001b[0m\n",
      "\n",
      "\u001b[1m> Finished chain.\u001b[0m\n"
     ]
    }
   ],
   "source": [
    "a=agent_executor.invoke(\n",
    "    {\n",
    "        \"input\": \"Do you know about Krish naik youtube channel\"\n",
    "    }\n",
    ")"
   ]
  },
  {
   "cell_type": "code",
   "execution_count": 67,
   "metadata": {},
   "outputs": [
    {
     "data": {
      "text/plain": [
       "{'input': 'Do you know about Krish naik youtube channel',\n",
       " 'output': \"It seems like the tool call yielded some YouTube video links related to Krish Naik's channel. Would you like me to provide more information about Krish Naik or his YouTube channel?\",\n",
       " 'intermediate_steps': [(ToolAgentAction(tool='youtube_search', tool_input='Krish Naik', log='\\nInvoking: `youtube_search` with `Krish Naik`\\n\\n\\n', message_log=[AIMessageChunk(content='', additional_kwargs={'tool_calls': [{'id': 'call_5vxd', 'function': {'arguments': '{\"__arg1\":\"Krish Naik\"}', 'name': 'youtube_search'}, 'type': 'function'}]}, response_metadata={'finish_reason': 'tool_calls', 'logprobs': None}, id='run-4e9811e2-6d18-4a54-9ff7-c9bcb13736ca', tool_calls=[{'name': 'youtube_search', 'args': {'__arg1': 'Krish Naik'}, 'id': 'call_5vxd', 'type': 'tool_call'}], usage_metadata={'input_tokens': 1103, 'output_tokens': 48, 'total_tokens': 1151}, tool_call_chunks=[{'name': 'youtube_search', 'args': '{\"__arg1\":\"Krish Naik\"}', 'id': 'call_5vxd', 'index': None, 'type': 'tool_call_chunk'}])], tool_call_id='call_5vxd'),\n",
       "   \"['https://www.youtube.com/watch?v=HEHUpBO8UVc&pp=ygUKS3Jpc2ggTmFpaw%3D%3D', 'https://www.youtube.com/watch?v=3SRh2nzN2DM&pp=ygUKS3Jpc2ggTmFpaw%3D%3D']\")]}"
      ]
     },
     "execution_count": 67,
     "metadata": {},
     "output_type": "execute_result"
    }
   ],
   "source": [
    "a"
   ]
  },
  {
   "cell_type": "code",
   "execution_count": 68,
   "metadata": {},
   "outputs": [
    {
     "name": "stdout",
     "output_type": "stream",
     "text": [
      "\n",
      "\n",
      "\u001b[1m> Entering new AgentExecutor chain...\u001b[0m\n",
      "\u001b[32;1m\u001b[1;3m\n",
      "Invoking: `duckduckgo_search` with `{'query': 'Krish naik'}`\n",
      "\n",
      "\n",
      "\u001b[0m\u001b[36;1m\u001b[1;3mKrish Naik is a data science educator and creator who offers free videos and materials to learn generative AI (LLM's) and other topics. Watch his roadmap, playlists, projects and live sessions on his YouTube channel. Langchain Complete Playlist: https://www.youtube.com/playlist?list=PLZoTAELRMXVORE4VF7WQ_fAl0L1Gljtar-----... Krish naik teaches surface level stuff. I didn't know him. He is a copy paste person, doesn't know the tech behind , only trying to make videos. I've been watching his videos for a while now and being a beginner, I assumed he was pretty good. However, I've seen a few people criticise him for…. Complete Python Guide: https://github.com/krishnaik06/The-Grand-Complete-Data-Science-Materials/tree/main-----... Krish C Naik is a cofounder of iNeuron and a machine learning educator and mentor. He has a YouTube channel where he explains various topics on ML, AI, and data science with real-world examples and a GitHub profile where he shares his open source projects and blog posts.\u001b[0m\u001b[32;1m\u001b[1;3m\n",
      "Invoking: `youtube_search` with `Krish Naik`\n",
      "\n",
      "\n",
      "\u001b[0m\u001b[33;1m\u001b[1;3m['https://www.youtube.com/watch?v=HEHUpBO8UVc&pp=ygUKS3Jpc2ggTmFpaw%3D%3D', 'https://www.youtube.com/watch?v=3SRh2nzN2DM&pp=ygUKS3Jpc2ggTmFpaw%3D%3D']\u001b[0m\u001b[32;1m\u001b[1;3mIt seems like the tool has provided some YouTube video links related to Krish Naik. Would you like me to provide a summary of what Krish Naik is about, based on the previous tool call results?\u001b[0m\n",
      "\n",
      "\u001b[1m> Finished chain.\u001b[0m\n"
     ]
    }
   ],
   "source": [
    "a=agent_executor.invoke(\n",
    "    {\n",
    "        \"input\": \"SEarch about Krish naik in duckduck go website\"\n",
    "    }\n",
    ")"
   ]
  },
  {
   "cell_type": "code",
   "execution_count": 69,
   "metadata": {},
   "outputs": [
    {
     "data": {
      "text/plain": [
       "{'input': 'SEarch about Krish naik in duckduck go website',\n",
       " 'output': 'It seems like the tool has provided some YouTube video links related to Krish Naik. Would you like me to provide a summary of what Krish Naik is about, based on the previous tool call results?',\n",
       " 'intermediate_steps': [(ToolAgentAction(tool='duckduckgo_search', tool_input={'query': 'Krish naik'}, log=\"\\nInvoking: `duckduckgo_search` with `{'query': 'Krish naik'}`\\n\\n\\n\", message_log=[AIMessageChunk(content='', additional_kwargs={'tool_calls': [{'id': 'call_8a4h', 'function': {'arguments': '{\"query\":\"Krish naik\"}', 'name': 'duckduckgo_search'}, 'type': 'function'}]}, response_metadata={'finish_reason': 'tool_calls', 'logprobs': None}, id='run-6dcc8dae-956c-456c-a815-ee0f99d82ec8', tool_calls=[{'name': 'duckduckgo_search', 'args': {'query': 'Krish naik'}, 'id': 'call_8a4h', 'type': 'tool_call'}], usage_metadata={'input_tokens': 1105, 'output_tokens': 48, 'total_tokens': 1153}, tool_call_chunks=[{'name': 'duckduckgo_search', 'args': '{\"query\":\"Krish naik\"}', 'id': 'call_8a4h', 'index': None, 'type': 'tool_call_chunk'}])], tool_call_id='call_8a4h'),\n",
       "   \"Krish Naik is a data science educator and creator who offers free videos and materials to learn generative AI (LLM's) and other topics. Watch his roadmap, playlists, projects and live sessions on his YouTube channel. Langchain Complete Playlist: https://www.youtube.com/playlist?list=PLZoTAELRMXVORE4VF7WQ_fAl0L1Gljtar-----... Krish naik teaches surface level stuff. I didn't know him. He is a copy paste person, doesn't know the tech behind , only trying to make videos. I've been watching his videos for a while now and being a beginner, I assumed he was pretty good. However, I've seen a few people criticise him for…. Complete Python Guide: https://github.com/krishnaik06/The-Grand-Complete-Data-Science-Materials/tree/main-----... Krish C Naik is a cofounder of iNeuron and a machine learning educator and mentor. He has a YouTube channel where he explains various topics on ML, AI, and data science with real-world examples and a GitHub profile where he shares his open source projects and blog posts.\"),\n",
       "  (ToolAgentAction(tool='youtube_search', tool_input='Krish Naik', log='\\nInvoking: `youtube_search` with `Krish Naik`\\n\\n\\n', message_log=[AIMessageChunk(content='', additional_kwargs={'tool_calls': [{'id': 'call_3q99', 'function': {'arguments': '{\"__arg1\":\"Krish Naik\"}', 'name': 'youtube_search'}, 'type': 'function'}]}, response_metadata={'finish_reason': 'tool_calls', 'logprobs': None}, id='run-1713caf1-473b-47dc-89b6-51af2976713c', tool_calls=[{'name': 'youtube_search', 'args': {'__arg1': 'Krish Naik'}, 'id': 'call_3q99', 'type': 'tool_call'}], usage_metadata={'input_tokens': 1416, 'output_tokens': 38, 'total_tokens': 1454}, tool_call_chunks=[{'name': 'youtube_search', 'args': '{\"__arg1\":\"Krish Naik\"}', 'id': 'call_3q99', 'index': None, 'type': 'tool_call_chunk'}])], tool_call_id='call_3q99'),\n",
       "   \"['https://www.youtube.com/watch?v=HEHUpBO8UVc&pp=ygUKS3Jpc2ggTmFpaw%3D%3D', 'https://www.youtube.com/watch?v=3SRh2nzN2DM&pp=ygUKS3Jpc2ggTmFpaw%3D%3D']\")]}"
      ]
     },
     "execution_count": 69,
     "metadata": {},
     "output_type": "execute_result"
    }
   ],
   "source": [
    "a"
   ]
  },
  {
   "cell_type": "code",
   "execution_count": 70,
   "metadata": {},
   "outputs": [],
   "source": [
    "from langchain.tools import BaseTool, StructuredTool, tool\n",
    "\n",
    "@tool\n",
    "def llm_call(query: str) -> str:\n",
    "    \"\"\"If any complicated ligical reasoning related query comes then use llm_call\"\"\"\n",
    "    prompt = ChatPromptTemplate.from_template(\"{content}\")\n",
    "    output_parser = StrOutputParser()\n",
    "\n",
    "    chain = prompt | model | output_parser\n",
    "\n",
    "    answer=chain.invoke({\"content\": query})\n",
    "    return answer\n",
    "\n",
    "tools.append(llm_call)\n",
    "    "
   ]
  },
  {
   "cell_type": "code",
   "execution_count": 71,
   "metadata": {},
   "outputs": [
    {
     "data": {
      "text/plain": [
       "[DuckDuckGoSearchRun(),\n",
       " YouTubeSearchTool(),\n",
       " StructuredTool(name='llm_call', description='If any complicated ligical reasoning related query comes then use llm_call', args_schema=<class 'pydantic.v1.main.llm_callSchema'>, func=<function llm_call at 0x167056660>)]"
      ]
     },
     "execution_count": 71,
     "metadata": {},
     "output_type": "execute_result"
    }
   ],
   "source": [
    "tools"
   ]
  },
  {
   "cell_type": "code",
   "execution_count": 72,
   "metadata": {},
   "outputs": [],
   "source": [
    "# Construct the tool calling agent\n",
    "agent = create_tool_calling_agent(model, tools, prompt)\n",
    "# Create an agent executor by passing in the agent and tools\n",
    "agent_executor = AgentExecutor(agent=agent, tools=tools, verbose=True,return_intermediate_steps=True,handle_parsing_errors=True)\n"
   ]
  },
  {
   "cell_type": "code",
   "execution_count": 73,
   "metadata": {},
   "outputs": [
    {
     "name": "stdout",
     "output_type": "stream",
     "text": [
      "\n",
      "\n",
      "\u001b[1m> Entering new AgentExecutor chain...\u001b[0m\n",
      "\u001b[32;1m\u001b[1;3m<tool-use>{\"tool_calls\": []}</tool-use>\u001b[0m\n",
      "\n",
      "\u001b[1m> Finished chain.\u001b[0m\n"
     ]
    }
   ],
   "source": [
    "a=agent_executor.invoke(\n",
    "    {\n",
    "        \"input\": \"What is 30 + 40\"\n",
    "    }\n",
    ")"
   ]
  },
  {
   "cell_type": "code",
   "execution_count": 74,
   "metadata": {},
   "outputs": [
    {
     "data": {
      "text/plain": [
       "{'input': 'What is 30 + 40',\n",
       " 'output': '<tool-use>{\"tool_calls\": []}</tool-use>',\n",
       " 'intermediate_steps': []}"
      ]
     },
     "execution_count": 74,
     "metadata": {},
     "output_type": "execute_result"
    }
   ],
   "source": [
    "a"
   ]
  },
  {
   "cell_type": "code",
   "execution_count": 75,
   "metadata": {},
   "outputs": [
    {
     "name": "stdout",
     "output_type": "stream",
     "text": [
      "\n",
      "\n",
      "\u001b[1m> Entering new AgentExecutor chain...\u001b[0m\n",
      "\u001b[32;1m\u001b[1;3m\n",
      "Invoking: `youtube_search` with `Rohit Sharma`\n",
      "\n",
      "\n",
      "\u001b[0m\u001b[33;1m\u001b[1;3m['https://www.youtube.com/watch?v=TENNdaKXmP4&pp=ygUMUm9oaXQgU2hhcm1h', 'https://www.youtube.com/watch?v=S3cY5HM0d_8&pp=ygUMUm9oaXQgU2hhcm1h']\u001b[0m\u001b[32;1m\u001b[1;3mYou can watch those videos to find content about Rohit Sharma.\u001b[0m\n",
      "\n",
      "\u001b[1m> Finished chain.\u001b[0m\n"
     ]
    }
   ],
   "source": [
    "a=agent_executor.invoke(\n",
    "    {\n",
    "        \"input\": \"Tell me some youtube channels to find content about Rohit Sharma\"\n",
    "    }\n",
    ")"
   ]
  },
  {
   "cell_type": "code",
   "execution_count": 79,
   "metadata": {},
   "outputs": [
    {
     "data": {
      "text/plain": [
       "{'input': 'Tell me some youtube channels to find content about Rohit Sharma',\n",
       " 'output': 'You can watch those videos to find content about Rohit Sharma.',\n",
       " 'intermediate_steps': [(ToolAgentAction(tool='youtube_search', tool_input='Rohit Sharma', log='\\nInvoking: `youtube_search` with `Rohit Sharma`\\n\\n\\n', message_log=[AIMessageChunk(content='', additional_kwargs={'tool_calls': [{'id': 'call_rh8m', 'function': {'arguments': '{\"__arg1\":\"Rohit Sharma\"}', 'name': 'youtube_search'}, 'type': 'function'}]}, response_metadata={'finish_reason': 'tool_calls', 'logprobs': None}, id='run-1907aac6-5913-4202-8a94-58a4766956e2', tool_calls=[{'name': 'youtube_search', 'args': {'__arg1': 'Rohit Sharma'}, 'id': 'call_rh8m', 'type': 'tool_call'}], usage_metadata={'input_tokens': 1210, 'output_tokens': 48, 'total_tokens': 1258}, tool_call_chunks=[{'name': 'youtube_search', 'args': '{\"__arg1\":\"Rohit Sharma\"}', 'id': 'call_rh8m', 'index': None, 'type': 'tool_call_chunk'}])], tool_call_id='call_rh8m'),\n",
       "   \"['https://www.youtube.com/watch?v=TENNdaKXmP4&pp=ygUMUm9oaXQgU2hhcm1h', 'https://www.youtube.com/watch?v=S3cY5HM0d_8&pp=ygUMUm9oaXQgU2hhcm1h']\")]}"
      ]
     },
     "execution_count": 79,
     "metadata": {},
     "output_type": "execute_result"
    }
   ],
   "source": [
    "a"
   ]
  },
  {
   "cell_type": "code",
   "execution_count": null,
   "metadata": {},
   "outputs": [],
   "source": []
  },
  {
   "cell_type": "code",
   "execution_count": 90,
   "metadata": {},
   "outputs": [],
   "source": [
    "@tool\n",
    "def history_management(query: str) -> str:\n",
    "    \"\"\"This tool looks into the history and answers the question\"\"\"\n",
    "    prompt = ChatPromptTemplate.from_template(\"{content}\")\n",
    "    output_parser = StrOutputParser()\n",
    "\n",
    "    chain = prompt | model | output_parser\n",
    "\n",
    "    answer=chain.invoke({\"content\": f\"This is the query : {query}. Look into the history and give the answer\"})\n",
    "    return answer "
   ]
  },
  {
   "cell_type": "code",
   "execution_count": 91,
   "metadata": {},
   "outputs": [],
   "source": [
    "tools.append(history_management)"
   ]
  },
  {
   "cell_type": "code",
   "execution_count": 92,
   "metadata": {},
   "outputs": [
    {
     "data": {
      "text/plain": [
       "[DuckDuckGoSearchRun(),\n",
       " YouTubeSearchTool(),\n",
       " StructuredTool(name='llm_call', description='If any complicated ligical reasoning related query comes then use llm_call', args_schema=<class 'pydantic.v1.main.llm_callSchema'>, func=<function llm_call at 0x167056660>),\n",
       " StructuredTool(name='history_management', description='This tool looks into the history and answers the question', args_schema=<class 'pydantic.v1.main.history_managementSchema'>, func=<function history_management at 0x167056b60>)]"
      ]
     },
     "execution_count": 92,
     "metadata": {},
     "output_type": "execute_result"
    }
   ],
   "source": [
    "tools"
   ]
  },
  {
   "cell_type": "code",
   "execution_count": 93,
   "metadata": {},
   "outputs": [],
   "source": [
    "from langchain.memory import ConversationBufferWindowMemory\n",
    "memory = ConversationBufferWindowMemory( k=3)"
   ]
  },
  {
   "cell_type": "code",
   "execution_count": 94,
   "metadata": {},
   "outputs": [],
   "source": [
    "# Construct the tool calling agent\n",
    "agent = create_tool_calling_agent(model, tools, prompt)\n",
    "# Create an agent executor by passing in the agent and tools\n",
    "agent_executor = AgentExecutor(agent=agent, tools=tools, verbose=True,handle_parsing_errors=True,memory=memory)\n"
   ]
  },
  {
   "cell_type": "code",
   "execution_count": 95,
   "metadata": {},
   "outputs": [
    {
     "name": "stdout",
     "output_type": "stream",
     "text": [
      "\n",
      "\n",
      "\u001b[1m> Entering new AgentExecutor chain...\u001b[0m\n",
      "\u001b[32;1m\u001b[1;3m\n",
      "Invoking: `history_management` with `{'query': 'My pet name is Theo'}`\n",
      "\n",
      "\n",
      "\u001b[0m\u001b[36;1m\u001b[1;3mNice to meet you, Theo!\n",
      "\n",
      "The origin and history of the name Theo are fascinating. Theo is a shortened form of Theodoros, a Greek name that means \"gift of God\" or \"divine gift.\" Theodoros is derived from the Greek words \"theos,\" meaning \"god,\" and \"doron,\" meaning \"gift.\"\n",
      "\n",
      "In ancient Greece, Theodoros was a common name, and it was often given to children born into families of high social status. The name was also associated with several notable figures in Greek mythology and history, including Theodoros of Samos, a 6th-century BC engineer and inventor.\n",
      "\n",
      "During the Middle Ages, the name Theodoros was adopted by early Christians, who saw it as a way to express their devotion to God. The name became popular in Europe during the 17th and 18th centuries, particularly in Germany and England.\n",
      "\n",
      "In modern times, the shortened form Theo has become increasingly popular as a given name. It's a trendy and stylish name that's often associated with qualities like creativity, intelligence, and charm.\n",
      "\n",
      "As a pet name, Theo is often used as a nickname for Theodoros, Theodore, or even other names that start with \"The.\" It's a cute and affectionate name that's perfect for a beloved pet.\n",
      "\n",
      "So, there you have it, Theo! Your name has a rich history and a strong meaning behind it. You must be a very special pet indeed!\u001b[0m\u001b[32;1m\u001b[1;3m\n",
      "Invoking: `llm_call` with `{'query': 'What are some interesting facts about Theo as a pet name?'}`\n",
      "\n",
      "\n",
      "\u001b[0m\u001b[38;5;200m\u001b[1;3mTheo as a pet name! Here are some interesting facts about this charming and endearing nickname:\n",
      "\n",
      "1. **Origin**: Theo is a shortened form of Theodore, which comes from the Greek name Theodoros (Θεόδωρος), meaning \"gift of God\" or \"divine gift.\"\n",
      "2. **Popularity**: Theo has become a popular given name in its own right, especially in the UK and Australia. In the US, it's often used as a nickname for Theodore, but it's gaining traction as a standalone name.\n",
      "3. **Variations**: Theo is also used as a nickname for other names starting with \"The,\" such as Theobald, Theophilus, or Theodoric.\n",
      "4. **Celebrity connections**: Theo is the nickname of several famous individuals, including Theodore Roosevelt (the 26th President of the United States), Theo Epstein (former Chicago Cubs president), and Theo James (British actor).\n",
      "5. **Cultural significance**: In literature, Theo is the nickname of Theodore Decker, the protagonist in Donna Tartt's Pulitzer Prize-winning novel \"The Goldfinch.\"\n",
      "6. **Meaningful symbolism**: As a given name or nickname, Theo is often associated with qualities like wisdom, courage, and faith, reflecting its origins in the Greek word for \"gift of God.\"\n",
      "7. **Unisex appeal**: While traditionally more common as a masculine nickname, Theo is increasingly used for girls and non-binary individuals, adding to its charm and versatility.\n",
      "8. **International flair**: Theo is a popular nickname in many languages, including French (Théo), German (Theo), and Dutch (Teo or Theo).\n",
      "9. **Nicknames within nicknames**: In some cases, Theo can be further shortened to Teo, Teddy, or even Ted, making it a nickname with multiple layers of affection.\n",
      "10. **Endearing qualities**: Theo is often seen as a warm, affectionate, and playful nickname, conveying a sense of closeness and familiarity with the person bearing the name.\n",
      "\n",
      "Overall, Theo as a pet name is a delightful and meaningful choice, rich in history, cultural significance, and emotional resonance.\u001b[0m\u001b[32;1m\u001b[1;3mNice to meet you, Theo! It seems like your name has a lot of interesting facts and meanings behind it. I'm glad I could help you learn more about your name.\u001b[0m\n",
      "\n",
      "\u001b[1m> Finished chain.\u001b[0m\n"
     ]
    }
   ],
   "source": [
    "a=agent_executor.invoke(\n",
    "    {\n",
    "        \"input\": \"My pet name is Theo\"\n",
    "    }\n",
    ")"
   ]
  },
  {
   "cell_type": "code",
   "execution_count": 96,
   "metadata": {},
   "outputs": [
    {
     "data": {
      "text/plain": [
       "{'input': 'My pet name is Theo',\n",
       " 'history': '',\n",
       " 'output': \"Nice to meet you, Theo! It seems like your name has a lot of interesting facts and meanings behind it. I'm glad I could help you learn more about your name.\"}"
      ]
     },
     "execution_count": 96,
     "metadata": {},
     "output_type": "execute_result"
    }
   ],
   "source": [
    "a"
   ]
  },
  {
   "cell_type": "code",
   "execution_count": 97,
   "metadata": {},
   "outputs": [
    {
     "data": {
      "text/plain": [
       "\"Nice to meet you, Theo! It seems like your name has a lot of interesting facts and meanings behind it. I'm glad I could help you learn more about your name.\""
      ]
     },
     "execution_count": 97,
     "metadata": {},
     "output_type": "execute_result"
    }
   ],
   "source": [
    "a['output']"
   ]
  },
  {
   "cell_type": "code",
   "execution_count": 98,
   "metadata": {},
   "outputs": [
    {
     "name": "stdout",
     "output_type": "stream",
     "text": [
      "\n",
      "\n",
      "\u001b[1m> Entering new AgentExecutor chain...\u001b[0m\n",
      "\u001b[32;1m\u001b[1;3m\n",
      "Invoking: `llm_call` with `{'query': 'What is my pet name'}`\n",
      "\n",
      "\n",
      "\u001b[0m\u001b[38;5;200m\u001b[1;3mI'm happy to help! However, I don't have any information about you or your personal relationships, so I don't know what your pet name might be.\n",
      "\n",
      "A pet name is a special nickname that is often given to someone by a loved one, such as a partner, family member, or close friend. It's usually a term of endearment that is unique to that person and is used to express affection or closeness.\n",
      "\n",
      "If you're wondering what your pet name might be, you might consider asking the person who gave you the nickname!\u001b[0m\u001b[32;1m\u001b[1;3mI see that the tool didn't provide a direct answer. In that case, I'll respond directly without using a tool. It seems that you don't have a pet name that I'm aware of, and as the tool suggested, you might want to ask someone close to you if they have given you a special nickname.\u001b[0m\n",
      "\n",
      "\u001b[1m> Finished chain.\u001b[0m\n"
     ]
    }
   ],
   "source": [
    "a=agent_executor.invoke(\n",
    "    {\n",
    "        \"input\": \"What is my pet name\"\n",
    "    }\n",
    ")"
   ]
  },
  {
   "cell_type": "code",
   "execution_count": null,
   "metadata": {},
   "outputs": [],
   "source": []
  },
  {
   "cell_type": "code",
   "execution_count": 99,
   "metadata": {},
   "outputs": [
    {
     "data": {
      "text/plain": [
       "{'input': 'What is my pet name',\n",
       " 'history': \"Human: My pet name is Theo\\nAI: Nice to meet you, Theo! It seems like your name has a lot of interesting facts and meanings behind it. I'm glad I could help you learn more about your name.\",\n",
       " 'output': \"I see that the tool didn't provide a direct answer. In that case, I'll respond directly without using a tool. It seems that you don't have a pet name that I'm aware of, and as the tool suggested, you might want to ask someone close to you if they have given you a special nickname.\"}"
      ]
     },
     "execution_count": 99,
     "metadata": {},
     "output_type": "execute_result"
    }
   ],
   "source": [
    "a"
   ]
  },
  {
   "cell_type": "code",
   "execution_count": null,
   "metadata": {},
   "outputs": [],
   "source": []
  },
  {
   "cell_type": "code",
   "execution_count": null,
   "metadata": {},
   "outputs": [],
   "source": []
  },
  {
   "cell_type": "code",
   "execution_count": null,
   "metadata": {},
   "outputs": [],
   "source": []
  },
  {
   "cell_type": "code",
   "execution_count": null,
   "metadata": {},
   "outputs": [],
   "source": []
  },
  {
   "cell_type": "code",
   "execution_count": 43,
   "metadata": {},
   "outputs": [],
   "source": [
    "from langchain import hub\n",
    "from langchain.agents import AgentExecutor, create_react_agent\n",
    "from langchain.memory import ChatMessageHistory\n",
    "\n",
    "prompt = hub.pull(\"hwchase17/react\")\n",
    "\n",
    "memory = ChatMessageHistory(session_id=\"test-session\")"
   ]
  },
  {
   "cell_type": "code",
   "execution_count": 44,
   "metadata": {},
   "outputs": [],
   "source": [
    "from langchain_core.runnables.history import RunnableWithMessageHistory\n",
    "\n",
    "\n",
    "llm = model\n",
    "agent = create_react_agent(llm, tools, prompt)\n",
    "agent_executor = AgentExecutor(agent=agent, tools=tools)\n",
    "\n",
    "agent_with_chat_history = RunnableWithMessageHistory(\n",
    "    agent_executor,\n",
    "    # This is needed because in most real world scenarios, a session id is needed\n",
    "    # It isn't really used here because we are using a simple in memory ChatMessageHistory\n",
    "    lambda session_id: memory,\n",
    "    input_messages_key=\"input\",\n",
    "    history_messages_key=\"chat_history\",\n",
    ")"
   ]
  },
  {
   "cell_type": "code",
   "execution_count": 49,
   "metadata": {},
   "outputs": [
    {
     "data": {
      "text/plain": [
       "{'input': 'What is my pets name',\n",
       " 'chat_history': [HumanMessage(content='How many people live in canada?'),\n",
       "  AIMessage(content='As of April 1, 2024, the population of Canada is approximately 41,012,563.'),\n",
       "  HumanMessage(content='My name is Eshant?'),\n",
       "  AIMessage(content='The question \"My name is Eshant?\" is likely a playful reference to the famous movie quote from \"Taken\" and is not a serious inquiry about the person\\'s name.'),\n",
       "  HumanMessage(content='What is my name'),\n",
       "  AIMessage(content=\"I'm sorry, but I don't have enough information to determine your name.\"),\n",
       "  HumanMessage(content='My pets mame is Theo'),\n",
       "  AIMessage(content='The name \"Theo\" is of Greek origin and means \"Gift Of God\" or \"Divine Gift\".')],\n",
       " 'output': \"I'm sorry, but I don't have enough information to answer this question. Please provide more context or details about your pet, and I'll do my best to help!\"}"
      ]
     },
     "execution_count": 49,
     "metadata": {},
     "output_type": "execute_result"
    }
   ],
   "source": [
    "agent_with_chat_history.invoke(\n",
    "    {\"input\": \"What is my pets name\"},\n",
    "    config={\"configurable\": {\"session_id\": \"123\"}},\n",
    ")"
   ]
  },
  {
   "cell_type": "code",
   "execution_count": null,
   "metadata": {},
   "outputs": [],
   "source": []
  }
 ],
 "metadata": {
  "kernelspec": {
   "display_name": "myenv",
   "language": "python",
   "name": "python3"
  },
  "language_info": {
   "codemirror_mode": {
    "name": "ipython",
    "version": 3
   },
   "file_extension": ".py",
   "mimetype": "text/x-python",
   "name": "python",
   "nbconvert_exporter": "python",
   "pygments_lexer": "ipython3",
   "version": "3.12.4"
  },
  "orig_nbformat": 4
 },
 "nbformat": 4,
 "nbformat_minor": 2
}
