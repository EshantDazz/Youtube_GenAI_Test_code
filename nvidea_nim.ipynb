{
 "cells": [
  {
   "cell_type": "code",
   "execution_count": 2,
   "metadata": {},
   "outputs": [
    {
     "name": "stdout",
     "output_type": "stream",
     "text": [
      "Langchain is a decentralized platform that aims to provide translation services for various languages using blockchain technology and artificial intelligence. The platform operates on the principle of connecting a community of language experts, translators, and enthusiasts to collaborate on translation projects.\n",
      "\n",
      "Users can submit translation jobs, and the platform matches these tasks with suitable translators based on their language skills, expertise, and reputation within the community. The blockchain technology ensures transparency, security, and efficient handling of payments.\n",
      "\n",
      "Langchain utilizes AI and machine learning algorithms to improve the translation process, such as using natural language processing (NLP) to understand the context and meaning of the text. This enables the platform to provide high-quality translation services at a lower cost than traditional translation agencies.\n",
      "\n",
      "Moreover, Langchain is designed to be an open-source and decentralized platform, allowing developers and contributors to build and improve upon its core functionality. This encourages innovation, collaboration, and continuous growth within the community.\n",
      "\n",
      "In summary, Langchain is a blockchain-based platform that leverages artificial intelligence to offer translation services, while connecting a community of language experts and enthusiasts.\n"
     ]
    }
   ],
   "source": [
    "from dotenv import load_dotenv\n",
    "load_dotenv('myenv/.env')\n",
    "\n",
    "from langchain_nvidia_ai_endpoints import ChatNVIDIA\n",
    "\n",
    "llm = ChatNVIDIA(model=\"mistralai/mixtral-8x22b-instruct-v0.1\")\n",
    "result = llm.invoke(\"Write a short note on langchain\")\n",
    "print(result.content)"
   ]
  }
 ],
 "metadata": {
  "kernelspec": {
   "display_name": "myenv",
   "language": "python",
   "name": "python3"
  },
  "language_info": {
   "codemirror_mode": {
    "name": "ipython",
    "version": 3
   },
   "file_extension": ".py",
   "mimetype": "text/x-python",
   "name": "python",
   "nbconvert_exporter": "python",
   "pygments_lexer": "ipython3",
   "version": "3.10.8"
  }
 },
 "nbformat": 4,
 "nbformat_minor": 2
}
