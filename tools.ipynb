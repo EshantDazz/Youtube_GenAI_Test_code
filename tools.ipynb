{
 "cells": [
  {
   "cell_type": "code",
   "execution_count": 5,
   "metadata": {},
   "outputs": [],
   "source": [
    "\n",
    "from langchain.agents import load_tools, initialize_agent\n",
    "from langchain.agents import AgentType\n",
    "from operator import itemgetter\n",
    "from dotenv import load_dotenv\n",
    "load_dotenv('myenv/.env')\n",
    "from langchain_core.output_parsers import StrOutputParser\n",
    "from langchain_core.prompts import ChatPromptTemplate\n",
    "from langchain_groq import ChatGroq\n",
    "\n",
    "model = ChatGroq(\n",
    "    temperature=0,\n",
    "    model=\"llama3-70b-8192\",\n",
    ")\n",
    "from langchain_core.messages import HumanMessage\n",
    "from langchain_core.tools import tool\n",
    "\n",
    "\n",
    "tools = load_tools([\"llm-math\",\"wikipedia\"], llm=model)"
   ]
  },
  {
   "cell_type": "code",
   "execution_count": 7,
   "metadata": {},
   "outputs": [
    {
     "data": {
      "text/plain": [
       "139.94261298333066"
      ]
     },
     "execution_count": 7,
     "metadata": {},
     "output_type": "execute_result"
    }
   ],
   "source": [
    "(4.5*2.1)**2.2"
   ]
  },
  {
   "cell_type": "code",
   "execution_count": 6,
   "metadata": {},
   "outputs": [
    {
     "data": {
      "text/plain": [
       "'To evaluate this expression, we need to follow the order of operations (PEMDAS):\\n\\n1. Multiply 4.5 and 2.1: 4.5*2.1 = 9.45\\n2. Raise 9.45 to the power of 2.2: 9.45**2.2 ≈ 94.39\\n\\nSo, (4.5*2.1)**2.2 ≈ 94.39.'"
      ]
     },
     "execution_count": 6,
     "metadata": {},
     "output_type": "execute_result"
    }
   ],
   "source": [
    "prompt = ChatPromptTemplate.from_template(\"what is {topic}\")\n",
    "output_parser = StrOutputParser()\n",
    "\n",
    "chain = prompt | model | output_parser\n",
    "chain.invoke({\"topic\": \"(4.5*2.1)**2.2\"})"
   ]
  },
  {
   "cell_type": "code",
   "execution_count": 9,
   "metadata": {},
   "outputs": [],
   "source": [
    "from langgraph.prebuilt import create_react_agent\n",
    "\n",
    "agent_executor = create_react_agent(model, tools)"
   ]
  },
  {
   "cell_type": "code",
   "execution_count": 10,
   "metadata": {},
   "outputs": [
    {
     "data": {
      "text/plain": [
       "[HumanMessage(content='What is (4.5*2.1)**2.2', id='f7680c4b-a7c2-4bf0-b72d-9c15c06f7927'),\n",
       " AIMessage(content='', additional_kwargs={'tool_calls': [{'id': 'call_0zmm', 'function': {'arguments': '{\"__arg1\":\"(4.5*2.1)**2.2\"}', 'name': 'Calculator'}, 'type': 'function'}]}, response_metadata={'token_usage': {'completion_tokens': 54, 'prompt_tokens': 1066, 'total_tokens': 1120, 'completion_time': 0.158321788, 'prompt_time': 0.111029491, 'queue_time': None, 'total_time': 0.269351279}, 'model_name': 'llama3-70b-8192', 'system_fingerprint': 'fp_2f30b0b571', 'finish_reason': 'tool_calls', 'logprobs': None}, id='run-8190c534-9511-4f17-b6c0-da64d5923e2f-0', tool_calls=[{'name': 'Calculator', 'args': {'__arg1': '(4.5*2.1)**2.2'}, 'id': 'call_0zmm', 'type': 'tool_call'}], usage_metadata={'input_tokens': 1066, 'output_tokens': 54, 'total_tokens': 1120}),\n",
       " ToolMessage(content='Answer: 139.94261298333066', name='Calculator', id='6655af4b-7e0f-49fb-b096-5c0ab8f7d3a9', tool_call_id='call_0zmm'),\n",
       " AIMessage(content='The answer is 139.94261298333066.', response_metadata={'token_usage': {'completion_tokens': 13, 'prompt_tokens': 1152, 'total_tokens': 1165, 'completion_time': 0.037142857, 'prompt_time': 0.109733933, 'queue_time': None, 'total_time': 0.14687679}, 'model_name': 'llama3-70b-8192', 'system_fingerprint': 'fp_87cbfbbc4d', 'finish_reason': 'stop', 'logprobs': None}, id='run-1ffc056f-c6b4-4de2-8b54-1bfe7d77ea0e-0', usage_metadata={'input_tokens': 1152, 'output_tokens': 13, 'total_tokens': 1165})]"
      ]
     },
     "execution_count": 10,
     "metadata": {},
     "output_type": "execute_result"
    }
   ],
   "source": [
    "response = agent_executor.invoke({\"messages\": [HumanMessage(content=\"What is (4.5*2.1)**2.2\")]})\n",
    "\n",
    "response[\"messages\"]"
   ]
  },
  {
   "cell_type": "code",
   "execution_count": null,
   "metadata": {},
   "outputs": [],
   "source": []
  },
  {
   "cell_type": "code",
   "execution_count": 12,
   "metadata": {},
   "outputs": [],
   "source": [
    "# Import things that are needed generically\n",
    "from langchain.pydantic_v1 import BaseModel, Field\n",
    "from langchain.tools import BaseTool, StructuredTool, tool"
   ]
  },
  {
   "cell_type": "code",
   "execution_count": null,
   "metadata": {},
   "outputs": [],
   "source": []
  }
 ],
 "metadata": {
  "kernelspec": {
   "display_name": "myenv",
   "language": "python",
   "name": "python3"
  },
  "language_info": {
   "codemirror_mode": {
    "name": "ipython",
    "version": 3
   },
   "file_extension": ".py",
   "mimetype": "text/x-python",
   "name": "python",
   "nbconvert_exporter": "python",
   "pygments_lexer": "ipython3",
   "version": "3.12.4"
  },
  "orig_nbformat": 4
 },
 "nbformat": 4,
 "nbformat_minor": 2
}
