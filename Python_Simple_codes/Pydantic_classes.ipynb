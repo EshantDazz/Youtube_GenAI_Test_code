{
 "cells": [
  {
   "cell_type": "code",
   "execution_count": 3,
   "metadata": {},
   "outputs": [
    {
     "name": "stdout",
     "output_type": "stream",
     "text": [
      "name='Alice' age=30\n",
      "Alice\n",
      "{'name': 'Alice', 'age': 30}\n",
      "Error: 1 validation error for Person\n",
      "age\n",
      "  Input should be a valid integer, unable to parse string as an integer [type=int_parsing, input_value='not a number', input_type=str]\n",
      "    For further information visit https://errors.pydantic.dev/2.8/v/int_parsing\n"
     ]
    }
   ],
   "source": [
    "from pydantic import BaseModel\n",
    "\n",
    "class Person(BaseModel):\n",
    "    name: str\n",
    "    age: int\n",
    "\n",
    "# Creating a person\n",
    "person = Person(name=\"Alice\", age=30)\n",
    "print(person)\n",
    "print(person.name)\n",
    "print(vars(person))\n",
    "\n",
    "# This will raise an error\n",
    "try:\n",
    "    invalid_person = Person(name=\"Bob\", age=\"not a number\")\n",
    "except ValueError as e:\n",
    "    print(f\"Error: {e}\")"
   ]
  },
  {
   "cell_type": "markdown",
   "metadata": {},
   "source": [
    "### WIthout Pydantic"
   ]
  },
  {
   "cell_type": "code",
   "execution_count": 2,
   "metadata": {},
   "outputs": [
    {
     "name": "stdout",
     "output_type": "stream",
     "text": [
      "{'name': 'Alice', 'age': 30}\n",
      "Alice\n",
      "{'name': 'Bob', 'age': 'not a number'}\n"
     ]
    }
   ],
   "source": [
    "class PersonWithoutPydantic:\n",
    "    def __init__(self, name, age):\n",
    "        self.name = name\n",
    "        self.age = age\n",
    "\n",
    "# Creating a person\n",
    "person = PersonWithoutPydantic(\"Alice\", 30)\n",
    "print(vars(person))\n",
    "print(person.name)\n",
    "\n",
    "# This will not raise an error, but might cause issues later\n",
    "invalid_person = PersonWithoutPydantic(\"Bob\", \"not a number\")\n",
    "print(vars(invalid_person))"
   ]
  },
  {
   "cell_type": "code",
   "execution_count": null,
   "metadata": {},
   "outputs": [],
   "source": []
  },
  {
   "cell_type": "code",
   "execution_count": null,
   "metadata": {},
   "outputs": [],
   "source": []
  },
  {
   "cell_type": "code",
   "execution_count": 4,
   "metadata": {},
   "outputs": [
    {
     "name": "stdout",
     "output_type": "stream",
     "text": [
      "name='Alice Smith' age=28 email='alice@example.com' is_student=True addresses=[Address(street='123 Main St', city='New York', zip_code='10001'), Address(street='456 Elm St', city='Boston', zip_code='02101')]\n",
      "Name: Alice Smith\n",
      "First address city: New York\n",
      "Error: 1 validation error for Person\n",
      "age\n",
      "  Input should be less than 120 [type=less_than, input_value=150, input_type=int]\n",
      "    For further information visit https://errors.pydantic.dev/2.8/v/less_than\n"
     ]
    }
   ],
   "source": [
    "from pydantic import BaseModel, Field\n",
    "from typing import List, Optional\n",
    "\n",
    "class Address(BaseModel):\n",
    "    street: str\n",
    "    city: str\n",
    "    zip_code: str\n",
    "\n",
    "class Person(BaseModel):\n",
    "    name: str\n",
    "    age: int = Field(ge=0, lt=120)  # age must be between 0 and 119\n",
    "    email: Optional[str] = None\n",
    "    is_student: bool = False\n",
    "    addresses: List[Address] = []\n",
    "\n",
    "# Creating a person with multiple addresses\n",
    "person = Person(\n",
    "    name=\"Alice Smith\",\n",
    "    age=28,\n",
    "    email=\"alice@example.com\",\n",
    "    is_student=True,\n",
    "    addresses=[\n",
    "        Address(street=\"123 Main St\", city=\"New York\", zip_code=\"10001\"),\n",
    "        Address(street=\"456 Elm St\", city=\"Boston\", zip_code=\"02101\")\n",
    "    ]\n",
    ")\n",
    "\n",
    "print(person)\n",
    "print(f\"Name: {person.name}\")\n",
    "print(f\"First address city: {person.addresses[0].city}\")\n",
    "\n",
    "# Trying to create a person with invalid age\n",
    "try:\n",
    "    invalid_person = Person(name=\"Bob\", age=150)\n",
    "except ValueError as e:\n",
    "    print(f\"Error: {e}\")"
   ]
  },
  {
   "cell_type": "code",
   "execution_count": null,
   "metadata": {},
   "outputs": [],
   "source": []
  }
 ],
 "metadata": {
  "kernelspec": {
   "display_name": "myenv",
   "language": "python",
   "name": "python3"
  },
  "language_info": {
   "codemirror_mode": {
    "name": "ipython",
    "version": 3
   },
   "file_extension": ".py",
   "mimetype": "text/x-python",
   "name": "python",
   "nbconvert_exporter": "python",
   "pygments_lexer": "ipython3",
   "version": "3.10.8"
  }
 },
 "nbformat": 4,
 "nbformat_minor": 2
}
