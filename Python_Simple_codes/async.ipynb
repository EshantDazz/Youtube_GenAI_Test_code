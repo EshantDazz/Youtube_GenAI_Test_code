{
 "cells": [
  {
   "cell_type": "code",
   "execution_count": 4,
   "metadata": {},
   "outputs": [
    {
     "name": "stdout",
     "output_type": "stream",
     "text": [
      "Running normal tasks:\n",
      "Normal tasks completed in 4.01 seconds\n",
      "Normal task 1 complete\n",
      "Normal task 2 complete\n",
      "\n",
      "Running async tasks:\n",
      "Async tasks completed in 2.00 seconds\n",
      "Async task 1 complete\n",
      "Async task 2 complete\n"
     ]
    }
   ],
   "source": []
  },
  {
   "cell_type": "markdown",
   "metadata": {},
   "source": [
    "## Asyncio"
   ]
  },
  {
   "cell_type": "code",
   "execution_count": 5,
   "metadata": {},
   "outputs": [
    {
     "name": "stdout",
     "output_type": "stream",
     "text": [
      "Running normal tasks:\n",
      "Normal tasks completed in 4.01 seconds\n",
      "Normal task 1 complete\n",
      "Normal task 2 complete\n",
      "\n",
      "Running async tasks:\n",
      "Async tasks completed in 2.00 seconds\n",
      "Async task 1 complete\n",
      "Async task 2 complete\n"
     ]
    }
   ],
   "source": [
    "import asyncio\n",
    "import time\n",
    "\n",
    "# Normal functions\n",
    "def normal_task1():\n",
    "    time.sleep(2)\n",
    "    return \"Normal task 1 complete\"\n",
    "\n",
    "def normal_task2():\n",
    "    time.sleep(2)\n",
    "    return \"Normal task 2 complete\"\n",
    "\n",
    "# Async functions\n",
    "async def async_task1():\n",
    "    await asyncio.sleep(2)\n",
    "    return \"Async task 1 complete\"\n",
    "\n",
    "async def async_task2():\n",
    "    await asyncio.sleep(2)\n",
    "    return \"Async task 2 complete\"\n",
    "\n",
    "\n",
    "\n",
    "\n",
    "# Run normal functions\n",
    "def run_normal_tasks():\n",
    "    start_time = time.time()\n",
    "    result1 = normal_task1()\n",
    "    result2 = normal_task2()\n",
    "    end_time = time.time()\n",
    "    print(f\"Normal tasks completed in {end_time - start_time:.2f} seconds\")\n",
    "    print(result1)\n",
    "    print(result2)\n",
    "\n",
    "\n",
    "\n",
    "# Run async functions\n",
    "async def run_async_tasks():\n",
    "    start_time = time.time()\n",
    "    result1, result2 = await asyncio.gather(async_task1(), async_task2())\n",
    "    end_time = time.time()\n",
    "    print(f\"Async tasks completed in {end_time - start_time:.2f} seconds\")\n",
    "    print(result1)\n",
    "    print(result2)\n",
    "\n",
    "# Main function to run both\n",
    "async def main():\n",
    "    print(\"Running normal tasks:\")\n",
    "    run_normal_tasks()\n",
    "    print(\"\\nRunning async tasks:\")\n",
    "    await run_async_tasks()\n",
    "\n",
    "# Run the main function\n",
    "# Instead of asyncio.run(main()), use this:\n",
    "import nest_asyncio\n",
    "nest_asyncio.apply()\n",
    "asyncio.run(main())"
   ]
  },
  {
   "cell_type": "code",
   "execution_count": null,
   "metadata": {},
   "outputs": [],
   "source": []
  },
  {
   "cell_type": "markdown",
   "metadata": {},
   "source": [
    "## Multithreading"
   ]
  },
  {
   "cell_type": "code",
   "execution_count": 7,
   "metadata": {},
   "outputs": [
    {
     "name": "stdout",
     "output_type": "stream",
     "text": [
      "Running normal tasks:\n",
      "Normal tasks completed in 2.01 seconds\n",
      "Normal task 1 complete\n",
      "Normal task 2 complete\n",
      "\n",
      "Running threaded tasks:\n",
      "Threaded tasks completed in 1.01 seconds\n",
      "Threaded task 1 complete\n",
      "Threaded task 2 complete\n"
     ]
    }
   ],
   "source": [
    "import threading\n",
    "import time\n",
    "\n",
    "# Normal functions\n",
    "def normal_task1():\n",
    "    time.sleep(1)\n",
    "    return \"Normal task 1 complete\"\n",
    "\n",
    "def normal_task2():\n",
    "    time.sleep(1)\n",
    "    return \"Normal task 2 complete\"\n",
    "\n",
    "# Threaded functions\n",
    "def threaded_task1():\n",
    "    time.sleep(1)\n",
    "    return \"Threaded task 1 complete\"\n",
    "\n",
    "def threaded_task2():\n",
    "    time.sleep(1)\n",
    "    return \"Threaded task 2 complete\"\n",
    "\n",
    "# Run normal functions\n",
    "def run_normal_tasks():\n",
    "    start_time = time.time()\n",
    "    result1 = normal_task1()\n",
    "    result2 = normal_task2()\n",
    "    end_time = time.time()\n",
    "    print(f\"Normal tasks completed in {end_time - start_time:.2f} seconds\")\n",
    "    print(result1)\n",
    "    print(result2)\n",
    "\n",
    "# Run threaded functions\n",
    "def run_threaded_tasks():\n",
    "    start_time = time.time()\n",
    "    \n",
    "    # Create thread objects\n",
    "    thread1 = threading.Thread(target=threaded_task1)\n",
    "    thread2 = threading.Thread(target=threaded_task2)\n",
    "    \n",
    "    # Start threads\n",
    "    thread1.start()\n",
    "    thread2.start()\n",
    "    \n",
    "    # Wait for threads to complete\n",
    "    thread1.join()\n",
    "    thread2.join()\n",
    "    \n",
    "    end_time = time.time()\n",
    "    print(f\"Threaded tasks completed in {end_time - start_time:.2f} seconds\")\n",
    "    print(\"Threaded task 1 complete\")\n",
    "    print(\"Threaded task 2 complete\")\n",
    "\n",
    "# Main function to run both\n",
    "def main():\n",
    "    print(\"Running normal tasks:\")\n",
    "    run_normal_tasks()\n",
    "    print(\"\\nRunning threaded tasks:\")\n",
    "    run_threaded_tasks()\n",
    "\n",
    "# Run the main function\n",
    "if __name__ == \"__main__\":\n",
    "    main()"
   ]
  }
 ],
 "metadata": {
  "kernelspec": {
   "display_name": "myenv",
   "language": "python",
   "name": "python3"
  },
  "language_info": {
   "codemirror_mode": {
    "name": "ipython",
    "version": 3
   },
   "file_extension": ".py",
   "mimetype": "text/x-python",
   "name": "python",
   "nbconvert_exporter": "python",
   "pygments_lexer": "ipython3",
   "version": "3.10.8"
  }
 },
 "nbformat": 4,
 "nbformat_minor": 2
}
