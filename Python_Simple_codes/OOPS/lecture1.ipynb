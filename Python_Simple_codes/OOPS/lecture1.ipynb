{
 "cells": [
  {
   "cell_type": "code",
   "execution_count": 1,
   "metadata": {},
   "outputs": [
    {
     "data": {
      "text/plain": [
       "'eshantdas4@gmail.com   ---> https://chatgpt.com/c/d4f75937-d1ab-4a76-b848-22a6ba8c8ebc'"
      ]
     },
     "execution_count": 1,
     "metadata": {},
     "output_type": "execute_result"
    }
   ],
   "source": [
    "\"\"\"eshantdas4@gmail.com   ---> https://chatgpt.com/c/d4f75937-d1ab-4a76-b848-22a6ba8c8ebc\"\"\"\n"
   ]
  },
  {
   "cell_type": "markdown",
   "metadata": {},
   "source": [
    "### Classes and Objects"
   ]
  },
  {
   "cell_type": "code",
   "execution_count": 2,
   "metadata": {},
   "outputs": [
    {
     "name": "stdout",
     "output_type": "stream",
     "text": [
      "Toyota\n",
      "Corolla\n",
      "2020\n"
     ]
    }
   ],
   "source": [
    "class Car:\n",
    "    def __init__(self, brand, model, year):\n",
    "        self.brand = brand\n",
    "        self.model = model\n",
    "        self.year = year\n",
    "my_car = Car('Toyota', 'Corolla', 2020)\n",
    "print(my_car.brand)  # Output: Toyota\n",
    "print(my_car.model)  # Output: Corolla\n",
    "print(my_car.year)   # Output: 2020\n"
   ]
  },
  {
   "cell_type": "code",
   "execution_count": null,
   "metadata": {},
   "outputs": [],
   "source": []
  },
  {
   "cell_type": "markdown",
   "metadata": {},
   "source": [
    "## Encapsulation"
   ]
  },
  {
   "cell_type": "code",
   "execution_count": 3,
   "metadata": {},
   "outputs": [
    {
     "data": {
      "text/plain": [
       "'https://chatgpt.com/c/ef125408-a3bb-4f7c-8220-99b9663df91e'"
      ]
     },
     "execution_count": 3,
     "metadata": {},
     "output_type": "execute_result"
    }
   ],
   "source": [
    "'https://chatgpt.com/c/ef125408-a3bb-4f7c-8220-99b9663df91e'"
   ]
  },
  {
   "cell_type": "code",
   "execution_count": 4,
   "metadata": {},
   "outputs": [
    {
     "name": "stdout",
     "output_type": "stream",
     "text": [
      "John\n",
      "Doe\n"
     ]
    }
   ],
   "source": [
    "class Person:\n",
    "    def __init__(self, name):\n",
    "        self._name = name\n",
    "\n",
    "# Usage\n",
    "p = Person(\"John\")\n",
    "print(p._name)  # John\n",
    "p._name = \"Doe\"\n",
    "print(p._name)  # Doe\n"
   ]
  },
  {
   "cell_type": "code",
   "execution_count": 5,
   "metadata": {},
   "outputs": [
    {
     "name": "stdout",
     "output_type": "stream",
     "text": [
      "John\n",
      "Doe\n"
     ]
    }
   ],
   "source": [
    "class Person:\n",
    "    def __init__(self, name):\n",
    "        self.__name = name\n",
    "\n",
    "# Usage\n",
    "p = Person(\"John\")\n",
    "print(p._Person__name)  # John\n",
    "p._Person__name = \"Doe\"\n",
    "print(p._Person__name)  # Doe\n"
   ]
  },
  {
   "cell_type": "markdown",
   "metadata": {},
   "source": [
    "Why Use Properties?\n",
    "Using properties is a more robust and clean way to manage access to private variables because it:\n",
    "\n",
    "- Encapsulates Logic: Allows you to add logic (e.g., validation) when getting or setting an attribute.\n",
    "- Maintains Compatibility: Provides a consistent interface even if the internal implementation changes.\n",
    "- Improves Readability: Makes the code easier to understand and follow by clearly indicating the intended use of the attribute."
   ]
  },
  {
   "cell_type": "code",
   "execution_count": 6,
   "metadata": {},
   "outputs": [
    {
     "name": "stdout",
     "output_type": "stream",
     "text": [
      "John\n",
      "Doe\n"
     ]
    }
   ],
   "source": [
    "class Person:\n",
    "    def __init__(self, name):\n",
    "        self._name = name\n",
    "\n",
    "# Usage\n",
    "p = Person(\"John\")\n",
    "print(p._name)  # John\n",
    "p._name = \"Doe\"\n",
    "print(p._name)  # Doe\n"
   ]
  },
  {
   "cell_type": "code",
   "execution_count": 7,
   "metadata": {},
   "outputs": [
    {
     "name": "stdout",
     "output_type": "stream",
     "text": [
      "John\n",
      "Doe\n"
     ]
    }
   ],
   "source": [
    "class Person:\n",
    "    def __init__(self, name):\n",
    "        self._name = name\n",
    "\n",
    "    @property\n",
    "    def name(self):\n",
    "        return self._name\n",
    "\n",
    "    @name.setter\n",
    "    def name(self, value):\n",
    "        if not isinstance(value, str):\n",
    "            raise ValueError(\"Name must be a string\")\n",
    "        self._name = value\n",
    "\n",
    "# Usage\n",
    "p = Person(\"John\")\n",
    "print(p.name)  # John\n",
    "p.name = \"Doe\"  # Setting name\n",
    "print(p.name)  # Doe\n",
    "# p.name = 123  # ValueError: Name must be a string\n"
   ]
  },
  {
   "cell_type": "code",
   "execution_count": null,
   "metadata": {},
   "outputs": [],
   "source": []
  },
  {
   "cell_type": "markdown",
   "metadata": {},
   "source": [
    "## Inheritence"
   ]
  },
  {
   "cell_type": "markdown",
   "metadata": {},
   "source": [
    "In Python, there are several types of inheritance:\n",
    "\n",
    "- Single Inheritance\n",
    "- Multiple Inheritance\n",
    "- Multilevel Inheritance\n",
    "- Hierarchical Inheritance\n",
    "- Hybrid Inheritance\n"
   ]
  },
  {
   "cell_type": "code",
   "execution_count": 8,
   "metadata": {},
   "outputs": [
    {
     "name": "stdout",
     "output_type": "stream",
     "text": [
      "Animal speaks\n",
      "Dog barks\n"
     ]
    }
   ],
   "source": [
    "# Single\n",
    "\n",
    "class Animal:\n",
    "    def speak(self):\n",
    "        print(\"Animal speaks\")\n",
    "\n",
    "class Dog(Animal):\n",
    "    def bark(self):\n",
    "        print(\"Dog barks\")\n",
    "\n",
    "dog = Dog()\n",
    "dog.speak()  # Inherited method from Animal\n",
    "dog.bark()   # Method from Dog\n"
   ]
  },
  {
   "cell_type": "code",
   "execution_count": 9,
   "metadata": {},
   "outputs": [
    {
     "name": "stdout",
     "output_type": "stream",
     "text": [
      "Engine starts\n",
      "Wheels roll\n",
      "Car drives\n"
     ]
    }
   ],
   "source": [
    "## Multiple\n",
    "\n",
    "class Engine:\n",
    "    def start(self):\n",
    "        print(\"Engine starts\")\n",
    "\n",
    "class Wheels:\n",
    "    def roll(self):\n",
    "        print(\"Wheels roll\")\n",
    "\n",
    "class Car(Engine, Wheels):\n",
    "    def drive(self):\n",
    "        print(\"Car drives\")\n",
    "\n",
    "car = Car()\n",
    "car.start()  # Inherited method from Engine\n",
    "car.roll()   # Inherited method from Wheels\n",
    "car.drive()  # Method from Car\n"
   ]
  },
  {
   "cell_type": "code",
   "execution_count": 11,
   "metadata": {},
   "outputs": [
    {
     "name": "stdout",
     "output_type": "stream",
     "text": [
      "Animal speaks\n",
      "Mammal walks\n",
      "Dog barks\n"
     ]
    }
   ],
   "source": [
    "#Multilevel\n",
    "class Animal:\n",
    "    def speak(self):\n",
    "        print(\"Animal speaks\")\n",
    "\n",
    "class Mammal(Animal):\n",
    "    def walk(self):\n",
    "        print(\"Mammal walks\")\n",
    "\n",
    "class Dog(Mammal):\n",
    "    def bark(self):\n",
    "        print(\"Dog barks\")\n",
    "\n",
    "dog = Dog()\n",
    "dog.speak()  # Inherited method from Animal\n",
    "dog.walk()   # Inherited method from Mammal\n",
    "dog.bark()   # Method from Dog\n"
   ]
  },
  {
   "cell_type": "code",
   "execution_count": 13,
   "metadata": {},
   "outputs": [
    {
     "name": "stdout",
     "output_type": "stream",
     "text": [
      "Animal speaks\n",
      "Dog barks\n",
      "Animal speaks\n",
      "Cat meows\n"
     ]
    }
   ],
   "source": [
    "#Hierachichal Inheritence\n",
    "class Animal:\n",
    "    def speak(self):\n",
    "        print(\"Animal speaks\")\n",
    "\n",
    "class Dog(Animal):\n",
    "    def bark(self):\n",
    "        print(\"Dog barks\")\n",
    "\n",
    "class Cat(Animal):\n",
    "    def meow(self):\n",
    "        print(\"Cat meows\")\n",
    "\n",
    "dog = Dog()\n",
    "cat = Cat()\n",
    "dog.speak()  # Inherited method from Animal\n",
    "dog.bark()   # Method from Dog\n",
    "cat.speak()  # Inherited method from Animal\n",
    "cat.meow()   # Method from Cat\n"
   ]
  },
  {
   "cell_type": "code",
   "execution_count": 12,
   "metadata": {},
   "outputs": [
    {
     "name": "stdout",
     "output_type": "stream",
     "text": [
      "Engine starts\n",
      "Vehicle accelerates\n",
      "Car drives\n",
      "SportsCar turbo mode\n"
     ]
    }
   ],
   "source": [
    "#hybrid\n",
    "class Engine:\n",
    "    def start(self):\n",
    "        print(\"Engine starts\")\n",
    "\n",
    "class Vehicle:\n",
    "    def accelerate(self):\n",
    "        print(\"Vehicle accelerates\")\n",
    "\n",
    "class Car(Vehicle, Engine):\n",
    "    def drive(self):\n",
    "        print(\"Car drives\")\n",
    "\n",
    "class SportsCar(Car):\n",
    "    def turbo(self):\n",
    "        print(\"SportsCar turbo mode\")\n",
    "\n",
    "sports_car = SportsCar()\n",
    "sports_car.start()      # Inherited method from Engine\n",
    "sports_car.accelerate() # Inherited method from Vehicle\n",
    "sports_car.drive()      # Inherited method from Car\n",
    "sports_car.turbo()      # Method from SportsCar\n"
   ]
  },
  {
   "cell_type": "markdown",
   "metadata": {},
   "source": [
    "Summary\n",
    "- Single Inheritance: One derived class inherits from one base class.\n",
    "- Multiple Inheritance: One derived class inherits from multiple base classes.\n",
    "- Multilevel Inheritance: A derived class inherits from another derived class, forming a chain.\n",
    "- Hierarchical Inheritance: Multiple derived classes inherit from a single base class.\n",
    "- Hybrid Inheritance: A combination of two or more types of inheritance."
   ]
  },
  {
   "cell_type": "code",
   "execution_count": 14,
   "metadata": {},
   "outputs": [
    {
     "name": "stdout",
     "output_type": "stream",
     "text": [
      "Buddy makes a sound\n",
      "Buddy barks\n"
     ]
    }
   ],
   "source": [
    "class Animal:\n",
    "    def __init__(self, name):\n",
    "        self.name = name\n",
    "\n",
    "    def speak(self):\n",
    "        print(f\"{self.name} makes a sound\")\n",
    "\n",
    "class Dog(Animal):\n",
    "    def __init__(self, name, breed):\n",
    "        super().__init__(name)  # Calls the __init__ method of the Animal class\n",
    "        self.breed = breed\n",
    "\n",
    "    def speak(self):\n",
    "        super().speak()  # Calls the speak method of the Animal class\n",
    "        print(f\"{self.name} barks\")\n",
    "\n",
    "dog = Dog(\"Buddy\", \"Golden Retriever\")\n",
    "dog.speak()\n"
   ]
  },
  {
   "cell_type": "markdown",
   "metadata": {},
   "source": [
    "## Method overiding"
   ]
  },
  {
   "cell_type": "code",
   "execution_count": 15,
   "metadata": {},
   "outputs": [
    {
     "name": "stdout",
     "output_type": "stream",
     "text": [
      "Dog barks\n"
     ]
    }
   ],
   "source": [
    "class Animal:\n",
    "    def speak(self):\n",
    "        print(\"Animal speaks\")\n",
    "\n",
    "class Dog(Animal):\n",
    "    def speak(self):\n",
    "        print(\"Dog barks\")\n",
    "\n",
    "dog = Dog()\n",
    "dog.speak()  # Calls the overridden method in Dog class\n"
   ]
  },
  {
   "cell_type": "code",
   "execution_count": 16,
   "metadata": {},
   "outputs": [
    {
     "name": "stdout",
     "output_type": "stream",
     "text": [
      "Animal speaks\n",
      "Dog barks\n"
     ]
    }
   ],
   "source": [
    "class Animal:\n",
    "    def speak(self):\n",
    "        print(\"Animal speaks\")\n",
    "\n",
    "class Dog(Animal):\n",
    "    def speak(self):\n",
    "        super().speak()  # Call the speak method of the Animal class\n",
    "        print(\"Dog barks\")\n",
    "\n",
    "dog = Dog()\n",
    "dog.speak()  # Calls the speak method in Dog class, which also calls the speak method in Animal class\n"
   ]
  },
  {
   "cell_type": "markdown",
   "metadata": {},
   "source": [
    "# Polymorphism"
   ]
  },
  {
   "cell_type": "markdown",
   "metadata": {},
   "source": [
    "## Method Overloading\n",
    "Python does not support traditional method overloading (having multiple methods with the same name but different parameters). However, you can achieve similar functionality using default arguments or variable-length arguments.\n",
    "\n"
   ]
  },
  {
   "cell_type": "code",
   "execution_count": 17,
   "metadata": {},
   "outputs": [
    {
     "name": "stdout",
     "output_type": "stream",
     "text": [
      "5\n",
      "8\n",
      "10\n"
     ]
    }
   ],
   "source": [
    "class MathOperations:\n",
    "    def add(self, a, b=0, c=0):\n",
    "        return a + b + c\n",
    "\n",
    "math_ops = MathOperations()\n",
    "print(math_ops.add(5))          # Output: 5 (a=5, b=0, c=0)\n",
    "print(math_ops.add(5, 3))       # Output: 8 (a=5, b=3, c=0)\n",
    "print(math_ops.add(5, 3, 2))    # Output: 10 (a=5, b=3, c=2)\n"
   ]
  },
  {
   "cell_type": "code",
   "execution_count": 18,
   "metadata": {},
   "outputs": [
    {
     "name": "stdout",
     "output_type": "stream",
     "text": [
      "5\n",
      "8\n",
      "10\n"
     ]
    }
   ],
   "source": [
    "class MathOperations:\n",
    "    def add(self, *args):\n",
    "        return sum(args)\n",
    "\n",
    "math_ops = MathOperations()\n",
    "print(math_ops.add(5))          # Output: 5\n",
    "print(math_ops.add(5, 3))       # Output: 8\n",
    "print(math_ops.add(5, 3, 2))    # Output: 10\n"
   ]
  },
  {
   "cell_type": "markdown",
   "metadata": {},
   "source": [
    "## 3. Duck Typing\n",
    "Duck typing is a feature of Python's dynamic typing that allows you to use an object if it has the required methods and properties, regardless of its type. This is based on the principle: \"If it looks like a duck and quacks like a duck, it must be a duck.\""
   ]
  },
  {
   "cell_type": "code",
   "execution_count": 19,
   "metadata": {},
   "outputs": [
    {
     "name": "stdout",
     "output_type": "stream",
     "text": [
      "Bird flies\n",
      "Airplane flies\n"
     ]
    }
   ],
   "source": [
    "class Bird:\n",
    "    def fly(self):\n",
    "        print(\"Bird flies\")\n",
    "\n",
    "class Airplane:\n",
    "    def fly(self):\n",
    "        print(\"Airplane flies\")\n",
    "\n",
    "def let_it_fly(flying_object):\n",
    "    flying_object.fly()\n",
    "\n",
    "bird = Bird()\n",
    "airplane = Airplane()\n",
    "\n",
    "let_it_fly(bird)      # Output: Bird flies\n",
    "let_it_fly(airplane)  # Output: Airplane flies\n"
   ]
  },
  {
   "cell_type": "code",
   "execution_count": null,
   "metadata": {},
   "outputs": [],
   "source": []
  }
 ],
 "metadata": {
  "kernelspec": {
   "display_name": "myenv",
   "language": "python",
   "name": "python3"
  },
  "language_info": {
   "codemirror_mode": {
    "name": "ipython",
    "version": 3
   },
   "file_extension": ".py",
   "mimetype": "text/x-python",
   "name": "python",
   "nbconvert_exporter": "python",
   "pygments_lexer": "ipython3",
   "version": "3.10.8"
  }
 },
 "nbformat": 4,
 "nbformat_minor": 2
}
