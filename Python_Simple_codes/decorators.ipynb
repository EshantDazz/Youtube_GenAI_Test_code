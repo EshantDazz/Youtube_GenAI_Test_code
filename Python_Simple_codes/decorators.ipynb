{
 "cells": [
  {
   "cell_type": "code",
   "execution_count": null,
   "metadata": {},
   "outputs": [],
   "source": []
  },
  {
   "cell_type": "markdown",
   "metadata": {},
   "source": [
    "#### Example 1"
   ]
  },
  {
   "cell_type": "code",
   "execution_count": 1,
   "metadata": {},
   "outputs": [
    {
     "name": "stdout",
     "output_type": "stream",
     "text": [
      "Hello!\n",
      "How are you?\n",
      "Goodbye!\n"
     ]
    }
   ],
   "source": [
    "def say_hello(func):\n",
    "    def wrapper():\n",
    "        print(\"Hello!\")\n",
    "        func()\n",
    "        print(\"Goodbye!\")\n",
    "    return wrapper\n",
    "\n",
    "@say_hello\n",
    "def greet():\n",
    "    print(\"How are you?\")\n",
    "\n",
    "# Using the decorator\n",
    "greet()"
   ]
  },
  {
   "cell_type": "code",
   "execution_count": 2,
   "metadata": {},
   "outputs": [
    {
     "name": "stdout",
     "output_type": "stream",
     "text": [
      "Hello!\n",
      "How are you?\n",
      "Goodbye!\n"
     ]
    }
   ],
   "source": [
    "def greet():\n",
    "    print(\"How are you?\")\n",
    "\n",
    "# Without using the decorator\n",
    "decorated_greet = say_hello(greet)\n",
    "decorated_greet()"
   ]
  },
  {
   "cell_type": "code",
   "execution_count": null,
   "metadata": {},
   "outputs": [],
   "source": []
  },
  {
   "cell_type": "markdown",
   "metadata": {},
   "source": [
    "## 2"
   ]
  },
  {
   "cell_type": "code",
   "execution_count": 4,
   "metadata": {},
   "outputs": [
    {
     "name": "stdout",
     "output_type": "stream",
     "text": [
      "HELLO, WORLD!\n",
      "HELLO, WORLD!\n"
     ]
    }
   ],
   "source": [
    "def uppercase_decorator(func):\n",
    "    def wrapper():\n",
    "        result = func() #step 2\n",
    "        return result.upper()\n",
    "    return wrapper\n",
    "\n",
    "@uppercase_decorator #step 1\n",
    "def greet():\n",
    "    return \"hello, world!\"\n",
    "\n",
    "# Using the decorator\n",
    "print(greet())  # Output: HELLO, WORLD!\n",
    "\n",
    "# Without the decorator\n",
    "normal_greet = greet\n",
    "uppercase_greet = uppercase_decorator(normal_greet)\n",
    "print(uppercase_greet())  # Output: HELLO, WORLD!"
   ]
  },
  {
   "cell_type": "code",
   "execution_count": null,
   "metadata": {},
   "outputs": [],
   "source": []
  },
  {
   "cell_type": "markdown",
   "metadata": {},
   "source": [
    "## 3"
   ]
  },
  {
   "cell_type": "code",
   "execution_count": 8,
   "metadata": {},
   "outputs": [
    {
     "name": "stdout",
     "output_type": "stream",
     "text": [
      "Hi!\n",
      "Hi!\n",
      "Hi!\n",
      "Hi!\n"
     ]
    }
   ],
   "source": [
    "def repeat_twice(func):\n",
    "    def wrapper():\n",
    "        func()\n",
    "        func()\n",
    "    return wrapper\n",
    "\n",
    "def say_hi():\n",
    "    print(\"Hi!\")\n",
    "\n",
    "# Using the decorator\n",
    "@repeat_twice\n",
    "def decorated_say_hi():\n",
    "    print(\"Hi!\")\n",
    "\n",
    "decorated_say_hi()  \n",
    "# Output:\n",
    "# Hi!\n",
    "# Hi!\n",
    "\n",
    "# Without the decorator\n",
    "repeat_say_hi = repeat_twice(say_hi)\n",
    "repeat_say_hi()\n",
    "# Output:\n",
    "# Hi!\n",
    "# Hi!"
   ]
  },
  {
   "cell_type": "code",
   "execution_count": null,
   "metadata": {},
   "outputs": [],
   "source": []
  }
 ],
 "metadata": {
  "kernelspec": {
   "display_name": "myenv",
   "language": "python",
   "name": "python3"
  },
  "language_info": {
   "codemirror_mode": {
    "name": "ipython",
    "version": 3
   },
   "file_extension": ".py",
   "mimetype": "text/x-python",
   "name": "python",
   "nbconvert_exporter": "python",
   "pygments_lexer": "ipython3",
   "version": "3.10.8"
  }
 },
 "nbformat": 4,
 "nbformat_minor": 2
}
