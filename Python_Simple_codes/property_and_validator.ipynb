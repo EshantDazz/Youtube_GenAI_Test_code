{
 "cells": [
  {
   "cell_type": "code",
   "execution_count": 1,
   "metadata": {},
   "outputs": [
    {
     "name": "stdout",
     "output_type": "stream",
     "text": [
      "Getting name\n",
      "John\n",
      "Setting name\n",
      "Getting name\n",
      "Doe\n",
      "Deleting name\n"
     ]
    }
   ],
   "source": [
    "class Person:\n",
    "    def __init__(self, name):\n",
    "        self._name = name  # the underscore indicates a private attribute\n",
    "\n",
    "    @property\n",
    "    def name(self):\n",
    "        print(\"Getting name\")\n",
    "        return self._name\n",
    "\n",
    "    @name.setter\n",
    "    def name(self, value):\n",
    "        print(\"Setting name\")\n",
    "        if not isinstance(value, str):\n",
    "            raise ValueError(\"Name must be a string\")\n",
    "        self._name = value\n",
    "\n",
    "    @name.deleter\n",
    "    def name(self):\n",
    "        print(\"Deleting name\")\n",
    "        del self._name\n",
    "\n",
    "# Usage\n",
    "p = Person(\"John\")\n",
    "print(p.name)   # Getting name, John\n",
    "p.name = \"Doe\"  # Setting name\n",
    "print(p.name)   # Getting name, Doe\n",
    "del p.name      # Deleting name\n"
   ]
  },
  {
   "cell_type": "code",
   "execution_count": null,
   "metadata": {},
   "outputs": [],
   "source": []
  },
  {
   "cell_type": "markdown",
   "metadata": {},
   "source": [
    "Why Use Properties?\n",
    "Using properties is a more robust and clean way to manage access to private variables because it:\n",
    "\n",
    "- Encapsulates Logic: Allows you to add logic (e.g., validation) when getting or setting an attribute.\n",
    "- Maintains Compatibility: Provides a consistent interface even if the internal implementation changes.\n",
    "- Improves Readability: Makes the code easier to understand and follow by clearly indicating the intended use of the attribute."
   ]
  },
  {
   "cell_type": "code",
   "execution_count": 5,
   "metadata": {},
   "outputs": [
    {
     "name": "stdout",
     "output_type": "stream",
     "text": [
      "John\n",
      "Doe\n",
      "John\n",
      "Doe\n"
     ]
    }
   ],
   "source": [
    "class Person:\n",
    "    def __init__(self, name):\n",
    "        self._name = name\n",
    "\n",
    "# Usage\n",
    "p = Person(\"John\")\n",
    "print(p._name)  # John\n",
    "p._name = \"Doe\"\n",
    "print(p._name)  # Doe\n",
    "\n",
    "\n",
    "\n",
    "class Person:\n",
    "    def __init__(self, name):\n",
    "        self.__name = name\n",
    "\n",
    "# Usage\n",
    "p = Person(\"John\")\n",
    "print(p._Person__name)  # John\n",
    "p._Person__name = \"Doe\"\n",
    "print(p._Person__name)  # Doe\n",
    "\n",
    "\n",
    "\n"
   ]
  },
  {
   "cell_type": "code",
   "execution_count": null,
   "metadata": {},
   "outputs": [],
   "source": []
  },
  {
   "cell_type": "code",
   "execution_count": null,
   "metadata": {},
   "outputs": [],
   "source": []
  },
  {
   "cell_type": "code",
   "execution_count": null,
   "metadata": {},
   "outputs": [],
   "source": []
  },
  {
   "cell_type": "code",
   "execution_count": 4,
   "metadata": {},
   "outputs": [
    {
     "name": "stdout",
     "output_type": "stream",
     "text": [
      "78.53975\n",
      "314.159\n"
     ]
    }
   ],
   "source": [
    "#Computation\n",
    "#You can use a property to return a computed value:\n",
    "\n",
    "class Circle:\n",
    "    def __init__(self, radius):\n",
    "        self._radius = radius\n",
    "\n",
    "    @property\n",
    "    def radius(self):\n",
    "        return self._radius\n",
    "\n",
    "    @radius.setter\n",
    "    def radius(self, value):\n",
    "        if value <= 0:\n",
    "            raise ValueError(\"Radius must be positive\")\n",
    "        self._radius = value\n",
    "\n",
    "    @property\n",
    "    def area(self):\n",
    "        return 3.14159 * self._radius ** 2\n",
    "\n",
    "# Usage\n",
    "c = Circle(5)\n",
    "print(c.area)  # 78.53975\n",
    "c.radius = 10\n",
    "print(c.area)  # 314.159\n"
   ]
  },
  {
   "cell_type": "code",
   "execution_count": null,
   "metadata": {},
   "outputs": [],
   "source": []
  },
  {
   "cell_type": "code",
   "execution_count": 3,
   "metadata": {},
   "outputs": [
    {
     "name": "stdout",
     "output_type": "stream",
     "text": [
      "Alice\n",
      "E12345\n"
     ]
    },
    {
     "ename": "AttributeError",
     "evalue": "can't set attribute 'id_number'",
     "output_type": "error",
     "traceback": [
      "\u001b[0;31m---------------------------------------------------------------------------\u001b[0m",
      "\u001b[0;31mAttributeError\u001b[0m                            Traceback (most recent call last)",
      "Cell \u001b[0;32mIn[3], line 18\u001b[0m\n\u001b[1;32m     16\u001b[0m \u001b[38;5;28mprint\u001b[39m(e\u001b[38;5;241m.\u001b[39mname)      \u001b[38;5;66;03m# Alice\u001b[39;00m\n\u001b[1;32m     17\u001b[0m \u001b[38;5;28mprint\u001b[39m(e\u001b[38;5;241m.\u001b[39mid_number) \u001b[38;5;66;03m# E12345\u001b[39;00m\n\u001b[0;32m---> 18\u001b[0m \u001b[43me\u001b[49m\u001b[38;5;241;43m.\u001b[39;49m\u001b[43mid_number\u001b[49m \u001b[38;5;241m=\u001b[39m \u001b[38;5;124m\"\u001b[39m\u001b[38;5;124mE67890\u001b[39m\u001b[38;5;124m\"\u001b[39m  \u001b[38;5;66;03m# AttributeError: can't set attribute\u001b[39;00m\n",
      "\u001b[0;31mAttributeError\u001b[0m: can't set attribute 'id_number'"
     ]
    }
   ],
   "source": [
    "#You can create a read-only attribute by defining only a getter:\n",
    "\n",
    "class Employee:\n",
    "    def __init__(self, name, id_number):\n",
    "        self._name = name\n",
    "        self._id_number = id_number\n",
    "\n",
    "    @property\n",
    "    def name(self):\n",
    "        return self._name\n",
    "\n",
    "    @property\n",
    "    def id_number(self):\n",
    "        return self._id_number\n",
    "\n",
    "# Usage\n",
    "e = Employee(\"Alice\", \"E12345\")\n",
    "print(e.name)      # Alice\n",
    "print(e.id_number) # E12345\n",
    "e.id_number = \"E67890\"  # AttributeError: can't set attribute\n"
   ]
  },
  {
   "cell_type": "code",
   "execution_count": null,
   "metadata": {},
   "outputs": [],
   "source": []
  },
  {
   "cell_type": "code",
   "execution_count": null,
   "metadata": {},
   "outputs": [],
   "source": []
  },
  {
   "cell_type": "code",
   "execution_count": null,
   "metadata": {},
   "outputs": [],
   "source": []
  },
  {
   "cell_type": "code",
   "execution_count": 2,
   "metadata": {},
   "outputs": [
    {
     "name": "stdout",
     "output_type": "stream",
     "text": [
      "Hello, Alice!\n"
     ]
    },
    {
     "ename": "ValueError",
     "evalue": "Argument must be a non-empty string",
     "output_type": "error",
     "traceback": [
      "\u001b[0;31m---------------------------------------------------------------------------\u001b[0m",
      "\u001b[0;31mValueError\u001b[0m                                Traceback (most recent call last)",
      "Cell \u001b[0;32mIn[2], line 14\u001b[0m\n\u001b[1;32m     12\u001b[0m \u001b[38;5;66;03m# Usage\u001b[39;00m\n\u001b[1;32m     13\u001b[0m \u001b[38;5;28mprint\u001b[39m(greet(\u001b[38;5;124m\"\u001b[39m\u001b[38;5;124mAlice\u001b[39m\u001b[38;5;124m\"\u001b[39m))  \u001b[38;5;66;03m# Hello, Alice!\u001b[39;00m\n\u001b[0;32m---> 14\u001b[0m \u001b[38;5;28mprint\u001b[39m(\u001b[43mgreet\u001b[49m\u001b[43m(\u001b[49m\u001b[38;5;124;43m\"\u001b[39;49m\u001b[38;5;124;43m\"\u001b[39;49m\u001b[43m)\u001b[49m)       \u001b[38;5;66;03m# ValueError: Argument must be a non-empty string\u001b[39;00m\n\u001b[1;32m     15\u001b[0m \u001b[38;5;28mprint\u001b[39m(greet(\u001b[38;5;124m\"\u001b[39m\u001b[38;5;124m   \u001b[39m\u001b[38;5;124m\"\u001b[39m))    \u001b[38;5;66;03m# ValueError: Argument must be a non-empty string\u001b[39;00m\n\u001b[1;32m     16\u001b[0m \u001b[38;5;28mprint\u001b[39m(greet(\u001b[38;5;241m123\u001b[39m))      \u001b[38;5;66;03m# ValueError: Argument must be a non-empty string\u001b[39;00m\n",
      "Cell \u001b[0;32mIn[2], line 4\u001b[0m, in \u001b[0;36mnon_empty_string.<locals>.wrapper\u001b[0;34m(s)\u001b[0m\n\u001b[1;32m      2\u001b[0m \u001b[38;5;28;01mdef\u001b[39;00m \u001b[38;5;21mwrapper\u001b[39m(s):\n\u001b[1;32m      3\u001b[0m     \u001b[38;5;28;01mif\u001b[39;00m \u001b[38;5;129;01mnot\u001b[39;00m \u001b[38;5;28misinstance\u001b[39m(s, \u001b[38;5;28mstr\u001b[39m) \u001b[38;5;129;01mor\u001b[39;00m \u001b[38;5;129;01mnot\u001b[39;00m s\u001b[38;5;241m.\u001b[39mstrip():\n\u001b[0;32m----> 4\u001b[0m         \u001b[38;5;28;01mraise\u001b[39;00m \u001b[38;5;167;01mValueError\u001b[39;00m(\u001b[38;5;124m\"\u001b[39m\u001b[38;5;124mArgument must be a non-empty string\u001b[39m\u001b[38;5;124m\"\u001b[39m)\n\u001b[1;32m      5\u001b[0m     \u001b[38;5;28;01mreturn\u001b[39;00m func(s)\n",
      "\u001b[0;31mValueError\u001b[0m: Argument must be a non-empty string"
     ]
    }
   ],
   "source": [
    "def non_empty_string(func):\n",
    "    def wrapper(s):\n",
    "        if not isinstance(s, str) or not s.strip():\n",
    "            raise ValueError(\"Argument must be a non-empty string\")\n",
    "        return func(s)\n",
    "    return wrapper\n",
    "\n",
    "@non_empty_string\n",
    "def greet(name):\n",
    "    return f\"Hello, {name}!\"\n",
    "\n",
    "# Usage\n",
    "print(greet(\"Alice\"))  # Hello, Alice!\n",
    "print(greet(\"\"))       # ValueError: Argument must be a non-empty string\n",
    "print(greet(\"   \"))    # ValueError: Argument must be a non-empty string\n",
    "print(greet(123))      # ValueError: Argument must be a non-empty string\n"
   ]
  },
  {
   "cell_type": "code",
   "execution_count": null,
   "metadata": {},
   "outputs": [],
   "source": []
  }
 ],
 "metadata": {
  "kernelspec": {
   "display_name": "myenv",
   "language": "python",
   "name": "python3"
  },
  "language_info": {
   "codemirror_mode": {
    "name": "ipython",
    "version": 3
   },
   "file_extension": ".py",
   "mimetype": "text/x-python",
   "name": "python",
   "nbconvert_exporter": "python",
   "pygments_lexer": "ipython3",
   "version": "3.10.8"
  }
 },
 "nbformat": 4,
 "nbformat_minor": 2
}
