{
 "cells": [
  {
   "cell_type": "code",
   "execution_count": 18,
   "metadata": {},
   "outputs": [],
   "source": [
    "from dotenv import load_dotenv\n",
    "load_dotenv('myenv/.env')\n",
    "\n",
    "from groq import Groq\n",
    "\n",
    "client = Groq()\n",
    "completion = client.chat.completions.create(\n",
    "    model=\"gemma-7b-it\",\n",
    "    messages=[\n",
    "        {\n",
    "            \"role\": \"user\",\n",
    "            \"content\": \"Tell me. about life.\"\n",
    "        }\n",
    "    ],\n",
    "    temperature=1,\n",
    "    max_tokens=1024,\n",
    "\n",
    ")"
   ]
  },
  {
   "cell_type": "code",
   "execution_count": 19,
   "metadata": {},
   "outputs": [
    {
     "name": "stdout",
     "output_type": "stream",
     "text": [
      "## Life: An Endless Tapestry of Experiences\n",
      "\n",
      "Life is a complex and intricate tapestry woven with countless threads of experiences, emotions, and choices. It is an ongoing journey filled with joys and sorrows, triumphs and failures, love and loss.\n",
      "\n",
      "**The Nature of Existence:**\n",
      "\n",
      "* Life is the continuous process of growth, change, and development. \n",
      "* It is the sum total of all our moments, both big and small.\n",
      "* It is a gift, an opportunity to learn, grow, and make a difference in the world.\n",
      "\n",
      "**The Fundamental Elements:**\n",
      "\n",
      "Life comprises essential elements like:\n",
      "\n",
      "* **Biology:** The physical framework that allows us to exist.\n",
      "* **Consciousness:** The ability to think, feel, and experience the world.\n",
      "* **Emotions:** The range of feelings that enrich our lives and shape our experiences.\n",
      "* **Relationships:** The connections we form with others that profoundly impact our lives. \n",
      "* **Purpose:** The driving force behind our actions, the reason we wake up every day.\n",
      "\n",
      "**The Stages of Life:**\n",
      "\n",
      "Life can be understood in different stages:\n",
      "\n",
      "* **Infancy:** A period of rapid development and learning.\n",
      "* **Childhood:** A time of forming foundational memories and establishing values.\n",
      "* **Adolescence:** A period of rapid physical and emotional growth.\n",
      "* **Adulthood:** A time for establishing careers, building relationships, and forming adult identities.\n",
      "* **Elderhood:** A phase characterized by physical and cognitive changes, often filled with reflection and wisdom.\n",
      "\n",
      "**The Meaning of Life:**\n",
      "\n",
      "The meaning of life is a profound and personal question. Some possible perspectives include:\n",
      "\n",
      "* **Biological Perspective:** Life's purpose may be to ensure the continuation of the species.\n",
      "* **Existential Perspective:** Life is an open-ended journey without a predetermined goal.\n",
      "* **Humanistic Perspective:** Meaning can be found in personal growth, creation, and contributing to society.\n",
      "* **Spiritual Perspective:** Many believe life has a spiritual dimension, with a connection to a greater power.\n",
      "\n",
      "**Ultimately, the meaning of life is something each individual must discover for themselves.**\n"
     ]
    }
   ],
   "source": [
    "print(completion.choices[0].message.content)"
   ]
  },
  {
   "cell_type": "code",
   "execution_count": null,
   "metadata": {},
   "outputs": [],
   "source": []
  },
  {
   "cell_type": "code",
   "execution_count": null,
   "metadata": {},
   "outputs": [],
   "source": []
  },
  {
   "cell_type": "code",
   "execution_count": 20,
   "metadata": {},
   "outputs": [],
   "source": [
    "\n",
    "from dotenv import load_dotenv\n",
    "load_dotenv('myenv/.env')\n",
    "from groq import Groq\n",
    "client = Groq()\n",
    "\n",
    "def call_groq(prompt:str)->str:\n",
    "    completion = client.chat.completions.create(\n",
    "    model=\"gemma-7b-it\",\n",
    "    messages=[\n",
    "        {\n",
    "            \"role\": \"user\",\n",
    "            \"content\": prompt\n",
    "        }\n",
    "    ],\n",
    "    temperature=1,\n",
    "    max_tokens=1024,\n",
    "    )\n",
    "    return completion.choices[0].message.content\n",
    "    \n"
   ]
  },
  {
   "cell_type": "markdown",
   "metadata": {},
   "source": [
    "## <font color='clue'>Using Delimeters</font>\n",
    "\n",
    "**Why Use Delimiters?** <br>\n",
    "Delimiters serve multiple important purposes:<br>\n",
    "\n",
    "- Separate instructions from examples/context\n",
    "- Distinguish multiple examples\n",
    "- Mark the start and end of the desired output\n",
    "- Highlight key sections for the model"
   ]
  },
  {
   "cell_type": "code",
   "execution_count": null,
   "metadata": {},
   "outputs": [],
   "source": []
  },
  {
   "cell_type": "markdown",
   "metadata": {},
   "source": [
    "### Example 1"
   ]
  },
  {
   "cell_type": "code",
   "execution_count": 21,
   "metadata": {},
   "outputs": [],
   "source": [
    "prompt1=\"\"\"List the ingredients and steps for making a cake Ingredients: \n",
    "flour, sugar, eggs, butter, milk Steps: mix ingredients, bake at 350 degrees for 30 minutes.  \n",
    " \"\"\""
   ]
  },
  {
   "cell_type": "code",
   "execution_count": 22,
   "metadata": {},
   "outputs": [],
   "source": [
    "prompt2=\"\"\" List the ingredients and steps for making a cake.\n",
    "Ingredients: [flour, sugar, eggs, butter, milk]\n",
    "Steps: (1) Mix ingredients, (2) Bake at 350 degrees for 30 minutes. \"\"\""
   ]
  },
  {
   "cell_type": "code",
   "execution_count": 23,
   "metadata": {},
   "outputs": [
    {
     "name": "stdout",
     "output_type": "stream",
     "text": [
      "**Ingredients:**\n",
      "\n",
      "- Flour\n",
      "- Sugar\n",
      "- Eggs\n",
      "- Butter\n",
      "- Milk\n",
      "\n",
      "**Steps:**\n",
      "\n",
      "1. Mix all ingredients together.\n",
      "2. Bake at 350 degrees Fahrenheit for approximately 30 minutes.\n"
     ]
    }
   ],
   "source": [
    "print(call_groq(prompt1))"
   ]
  },
  {
   "cell_type": "code",
   "execution_count": 24,
   "metadata": {},
   "outputs": [
    {
     "name": "stdout",
     "output_type": "stream",
     "text": [
      "**Ingredients:**\n",
      "- Flour\n",
      "- Sugar\n",
      "- Eggs\n",
      "- Butter\n",
      "- Milk\n",
      "\n",
      "**Steps:**\n",
      "\n",
      "1. Mix all ingredients together until well combined.\n",
      "2. Bake in a preheated oven at 350 degrees Fahrenheit for approximately 30 minutes, or until a toothpick inserted into the center comes out clean.\n",
      "3. Cool cake before serving.\n"
     ]
    }
   ],
   "source": [
    "print(call_groq(prompt2))"
   ]
  },
  {
   "cell_type": "code",
   "execution_count": null,
   "metadata": {},
   "outputs": [],
   "source": []
  },
  {
   "cell_type": "code",
   "execution_count": null,
   "metadata": {},
   "outputs": [],
   "source": []
  },
  {
   "cell_type": "markdown",
   "metadata": {},
   "source": [
    "### Example 2"
   ]
  },
  {
   "cell_type": "code",
   "execution_count": 25,
   "metadata": {},
   "outputs": [],
   "source": [
    "prompt1=\"\"\" \n",
    "Translate the following sentence to French and then summarize it The quick brown fox jumps over the lazy dog.\n",
    " \"\"\"\n",
    "\n",
    "prompt2=\"\"\" \n",
    "Translate the following sentence to French: \"The quick brown fox jumps over the lazy dog.\" Then summarize it.\n",
    " \"\"\""
   ]
  },
  {
   "cell_type": "code",
   "execution_count": 26,
   "metadata": {},
   "outputs": [
    {
     "name": "stdout",
     "output_type": "stream",
     "text": [
      "**French translation:** Le renard brun rapide saute sur le chien indolent.\n",
      "\n",
      "**Summary:** A swift brown fox leaps over a sleepy dog.\n"
     ]
    }
   ],
   "source": [
    "print(call_groq(prompt1))"
   ]
  },
  {
   "cell_type": "code",
   "execution_count": 27,
   "metadata": {},
   "outputs": [
    {
     "name": "stdout",
     "output_type": "stream",
     "text": [
      "**Translation:** \"Le renard brun rapide passe sur le chien lent.\"\n",
      "\n",
      "**Summary:** A swift brown fox leaps over a lazy dog.\n"
     ]
    }
   ],
   "source": [
    "print(call_groq(prompt2))"
   ]
  },
  {
   "cell_type": "code",
   "execution_count": null,
   "metadata": {},
   "outputs": [],
   "source": []
  },
  {
   "cell_type": "markdown",
   "metadata": {},
   "source": [
    "### Example 3"
   ]
  },
  {
   "cell_type": "code",
   "execution_count": 42,
   "metadata": {},
   "outputs": [],
   "source": [
    "prompt1=\"\"\" \n",
    "Generate a summary on the topic of cricket in the language German\n",
    " \"\"\"\n",
    "\n",
    "prompt2=\"\"\"\n",
    "Generate me a summary on the following topic:\n",
    "<topic> Cricket </topic>\n",
    "in the following language :\n",
    "<language> German </language>\n",
    " \"\"\""
   ]
  },
  {
   "cell_type": "code",
   "execution_count": 43,
   "metadata": {},
   "outputs": [
    {
     "name": "stdout",
     "output_type": "stream",
     "text": [
      "**Cricket - Ein Sport auf dem Feld**\n",
      "\n",
      "Cricket ist ein Teamspiel, das auf einem ovalen Spielfeld mit drei Wickets und zwei Pitchs aus Grass gespielt wird. Das Ziel des Spieles ist es, durch Schwung des Schlagzeps die meisten Runs zu machen, während die andere Mannschaft versucht, Runs zu reduzieren.\n",
      "\n",
      "**Regeln des Spiels:**\n",
      "\n",
      "* Das Spiel wird in Innings von zwei Teams gespielt.\n",
      "* Ein Inning besteht aus 10 Overs, wobei jedes Over aus sechs Bowlen besteht.\n",
      "* Die Bowler versuchen, die Schlagmänner der gegnerischen Mannschaft aus dem Spiel zu werfen.\n",
      "* Die Schlagmänner versuchen, die Bowler zu schlagen und Runs zu machen.\n",
      "\n",
      "**Spielelemente:**\n",
      "\n",
      "* **Runs:** Die Anzahl der Punkte, die eine Mannschaft in einem Inning erreicht.\n",
      "* **Wickets:** Die Anzahl der Spieler der gegnerischen Mannschaft, die aus dem Spiel geworfen werden.\n",
      "* **Overs:** Ein Over ist eine Reihe von sechs Bowlen.\n",
      "* **Bowler:** Spieler, die das Ball werfen.\n",
      "* **Schlagmänner:** Spieler, die den Ball schlagen.\n",
      "\n",
      "**Geschichte und Kultur:**\n",
      "\n",
      "Cricket ist in England im 18. Jahrhundert entstanden und wurde zu einer der beliebtesten Sportarten der Welt. Es ist eine wichtige Kulturtradition und eine soziale Passsage in vielen Ländern.\n",
      "\n",
      "**Heute:**\n",
      "\n",
      "Cricket ist in vielen Ländern, darunter England, Australien, Neuseeland und Südafrika, die beliebteste Sportart. Es ist auch in anderen Teilen der Welt beliebt, wie z. B. in Indien, Pakistan und Sri Lanka.\n"
     ]
    }
   ],
   "source": [
    "print(call_groq(prompt1))"
   ]
  },
  {
   "cell_type": "code",
   "execution_count": 44,
   "metadata": {},
   "outputs": [
    {
     "name": "stdout",
     "output_type": "stream",
     "text": [
      "**Cricket**\n",
      "\n",
      "Cricket ist ein bat- und paddelsportliches Spiel, das in England und vielen anderen Ländern der Welt gespielt wird. Es ist eines der beliebtesten Sportarten der Welt und wird sowohl als Berufssport als auch als Hobbysport gespielt.\n",
      "\n",
      "**Regeln des Spiels:**\n",
      "\n",
      "* Das Spiel wird auf einem ovalen Cricketfeld gespielt, das in ein Spielfeld und eine Schutzzone unterteilt ist.\n",
      "* Das Ziel des Spiels ist es, mehr Runs (Punkte) zu machen als die andere Mannschaft.\n",
      "* Runs werden erzielt, indem ein Batter mit dem Ball auf dem Spielfeld ausläuft.\n",
      "* Das Spiel wird von einem Bowler ausgeführt, der den Ball mit der Hand aus der Handchette schickt.\n",
      "\n",
      "**Die Spieler:**\n",
      "\n",
      "* In einer Cricketmannschaft gibt es 11 Spieler: Batsmen, Bowler und Feldeigner.\n",
      "* Batsmen versuchten, Runs zu machen, während Bowler die Batsmen aus dem Spielfeld zu entfernen versuchten.\n",
      "* Feldeigner versuchten, die Bälle zu fangen, um Runs zu verhindern.\n",
      "\n",
      "**Das Spielablauf:**\n",
      "\n",
      "* Das Spiel beginnt mit dem Bowler, der den Ball zur ersteninning des Batsmanns zuwirft.\n",
      "* Der Batsman versucht, den Ball zu treffen, um Runs zu machen.\n",
      "* Sobald der Batsman den Ball aus dem Spielfeld ausläuft, endet seine Inning.\n",
      "* Die Bowler der anderen Mannschaft sind dann an der Reihe, um Runs zu gewinnen.\n",
      "\n",
      "**Wichtige Ereignisse:**\n",
      "\n",
      "* Cricket ist eine der vier Sportarten der Olympischen Spiele.\n",
      "* Die Cricket-Weltmeisterschaft ist das wichtigste Turnier des Sports.\n",
      "* Die Ashes ist eine traditionelle Rivalität zwischen England und Australien.\n"
     ]
    }
   ],
   "source": [
    "print(call_groq(prompt2))"
   ]
  },
  {
   "cell_type": "code",
   "execution_count": null,
   "metadata": {},
   "outputs": [],
   "source": []
  },
  {
   "cell_type": "code",
   "execution_count": 7,
   "metadata": {},
   "outputs": [],
   "source": []
  },
  {
   "cell_type": "code",
   "execution_count": 10,
   "metadata": {},
   "outputs": [
    {
     "ename": "NameError",
     "evalue": "name 'kds' is not defined",
     "output_type": "error",
     "traceback": [
      "\u001b[0;31m---------------------------------------------------------------------------\u001b[0m",
      "\u001b[0;31mNameError\u001b[0m                                 Traceback (most recent call last)",
      "Cell \u001b[0;32mIn[10], line 1\u001b[0m\n\u001b[0;32m----> 1\u001b[0m f\u001b[38;5;241m=\u001b[39m\u001b[38;5;124mf\u001b[39m\u001b[38;5;124m\"\u001b[39m\u001b[38;5;124mksdfm \u001b[39m\u001b[38;5;132;01m{\u001b[39;00m\u001b[43mkds\u001b[49m\u001b[38;5;132;01m}\u001b[39;00m\u001b[38;5;124m\"\u001b[39m\n\u001b[1;32m      2\u001b[0m f\n",
      "\u001b[0;31mNameError\u001b[0m: name 'kds' is not defined"
     ]
    }
   ],
   "source": [
    "f=f\"ksdfm {kds}\"\n",
    "f"
   ]
  },
  {
   "cell_type": "code",
   "execution_count": 11,
   "metadata": {},
   "outputs": [],
   "source": [
    "from langchain_core.prompts import PromptTemplate\n",
    "\n",
    "prompt_template = PromptTemplate.from_template(\n",
    "    \"Tell me a {kds} \"\n",
    ")\n",
    "\n"
   ]
  },
  {
   "cell_type": "code",
   "execution_count": null,
   "metadata": {},
   "outputs": [],
   "source": []
  }
 ],
 "metadata": {
  "kernelspec": {
   "display_name": "myenv",
   "language": "python",
   "name": "python3"
  },
  "language_info": {
   "codemirror_mode": {
    "name": "ipython",
    "version": 3
   },
   "file_extension": ".py",
   "mimetype": "text/x-python",
   "name": "python",
   "nbconvert_exporter": "python",
   "pygments_lexer": "ipython3",
   "version": "3.10.8"
  }
 },
 "nbformat": 4,
 "nbformat_minor": 2
}
